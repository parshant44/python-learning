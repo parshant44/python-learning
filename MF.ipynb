{
 "cells": [
  {
   "cell_type": "code",
   "execution_count": 15,
   "id": "d88366bc-edd9-42e5-83f0-c3b5937f20b7",
   "metadata": {},
   "outputs": [
    {
     "ename": "NameError",
     "evalue": "name 'PreetyTable' is not defined",
     "output_type": "error",
     "traceback": [
      "\u001b[1;31m---------------------------------------------------------------------------\u001b[0m",
      "\u001b[1;31mNameError\u001b[0m                                 Traceback (most recent call last)",
      "Cell \u001b[1;32mIn[15], line 13\u001b[0m\n\u001b[0;32m      6\u001b[0m headers \u001b[38;5;241m=\u001b[39m {\n\u001b[0;32m      7\u001b[0m \t\u001b[38;5;124m\"\u001b[39m\u001b[38;5;124mx-rapidapi-key\u001b[39m\u001b[38;5;124m\"\u001b[39m: \u001b[38;5;124m\"\u001b[39m\u001b[38;5;124m4789ba070bmshc1612d6bb2fa65dp1a298cjsn56c33621fc0e\u001b[39m\u001b[38;5;124m\"\u001b[39m,\n\u001b[0;32m      8\u001b[0m \t\u001b[38;5;124m\"\u001b[39m\u001b[38;5;124mx-rapidapi-host\u001b[39m\u001b[38;5;124m\"\u001b[39m: \u001b[38;5;124m\"\u001b[39m\u001b[38;5;124myahoo-finance15.p.rapidapi.com\u001b[39m\u001b[38;5;124m\"\u001b[39m\n\u001b[0;32m      9\u001b[0m }\n\u001b[0;32m     11\u001b[0m response \u001b[38;5;241m=\u001b[39m requests\u001b[38;5;241m.\u001b[39mget(url, headers\u001b[38;5;241m=\u001b[39mheaders)\n\u001b[1;32m---> 13\u001b[0m obj\u001b[38;5;241m=\u001b[39mPreetyTable()\n\u001b[0;32m     14\u001b[0m obj\u001b[38;5;241m.\u001b[39mfield_names\u001b[38;5;241m=\u001b[39m[\u001b[38;5;124m\"\u001b[39m\u001b[38;5;124mSno\u001b[39m\u001b[38;5;124m\"\u001b[39m,\u001b[38;5;124m\"\u001b[39m\u001b[38;5;124mFund Name\u001b[39m\u001b[38;5;124m\"\u001b[39m, \u001b[38;5;124m\"\u001b[39m\u001b[38;5;124mAsset Size\u001b[39m\u001b[38;5;124m\"\u001b[39m]\n\u001b[0;32m     15\u001b[0m \u001b[38;5;28mprint\u001b[39m(data\u001b[38;5;241m.\u001b[39mkeys())\n",
      "\u001b[1;31mNameError\u001b[0m: name 'PreetyTable' is not defined"
     ]
    }
   ],
   "source": [
    "from prettytable import PrettyTable\n",
    "import requests\n",
    "\n",
    "url = \"https://yahoo-finance15.p.rapidapi.com/api/v1/markets/insider-trades\"\n",
    "\n",
    "headers = {\n",
    "\t\"x-rapidapi-key\": \"4789ba070bmshc1612d6bb2fa65dp1a298cjsn56c33621fc0e\",\n",
    "\t\"x-rapidapi-host\": \"yahoo-finance15.p.rapidapi.com\"\n",
    "}\n",
    "\n",
    "response = requests.get(url, headers=headers)\n",
    "\n",
    "obj=PreetyTable()\n",
    "obj.field_names=[\"Sno\",\"Fund Name\", \"Asset Size\"]\n",
    "print(data.keys())\n",
    "count=0\n",
    "for mykey  in  data['Debt'].keys():\n",
    "    record=data['Debt'] [mykey]\n",
    "for item in record:\n",
    "    count=count+1\n",
    "    fn=item['fund_name']\n",
    "    assize=item['asset_size']\n",
    "    obj.add_row([count,fn,assize])\n",
    "data=(response.json())\n",
    "print(\"data\")"
   ]
  },
  {
   "cell_type": "code",
   "execution_count": null,
   "id": "53bc0455-add0-4e74-a403-2d7f3524f58f",
   "metadata": {},
   "outputs": [],
   "source": []
  },
  {
   "cell_type": "code",
   "execution_count": null,
   "id": "fd001e5f-30d6-4fa3-b011-d8fbdbcc3bb8",
   "metadata": {},
   "outputs": [],
   "source": []
  }
 ],
 "metadata": {
  "kernelspec": {
   "display_name": "Python 3 (ipykernel)",
   "language": "python",
   "name": "python3"
  },
  "language_info": {
   "codemirror_mode": {
    "name": "ipython",
    "version": 3
   },
   "file_extension": ".py",
   "mimetype": "text/x-python",
   "name": "python",
   "nbconvert_exporter": "python",
   "pygments_lexer": "ipython3",
   "version": "3.12.7"
  }
 },
 "nbformat": 4,
 "nbformat_minor": 5
}
