{
 "cells": [
  {
   "cell_type": "markdown",
   "id": "66bccaf5-3806-4f83-9cb0-1d7a82ced02b",
   "metadata": {},
   "source": [
    "# pandas"
   ]
  },
  {
   "cell_type": "code",
   "execution_count": 6,
   "id": "08e38a8f-9897-4799-b6c8-65093d1390f2",
   "metadata": {},
   "outputs": [
    {
     "name": "stdout",
     "output_type": "stream",
     "text": [
      "      Name  Age      city\n",
      "0    Alice   25  Ney York\n",
      "1      Bob   30    London\n",
      "2  Charlie   35     Paris\n"
     ]
    }
   ],
   "source": [
    "import  pandas as pd \n",
    "\n",
    "data={\n",
    "    \"Name\":[\"Alice\",\"Bob\",\"Charlie\"],\n",
    "    \"Age\":[25,30,35],\n",
    "    \"city\":[\"Ney York\",\"London\",\"Paris\"]\n",
    "}\n",
    "df=pd.DataFrame(data)\n",
    "print(df)"
   ]
  },
  {
   "cell_type": "code",
   "execution_count": 7,
   "id": "6d09b130-2c83-4d63-92ad-2df5b9de0ac0",
   "metadata": {},
   "outputs": [
    {
     "name": "stdout",
     "output_type": "stream",
     "text": [
      "    name  age  marks\n",
      "0   john   18     85\n",
      "1  alice   19     92\n",
      "2    bob   17     78\n",
      "3   emma   20     65\n",
      "4   liam   18     88\n"
     ]
    }
   ],
   "source": [
    "data={\n",
    "    \"name\":[\"john\",\"alice\",\"bob\",\"emma\",\"liam\"],\n",
    "    \"age\": [18,19,17,20,18],\n",
    "    \"marks\":[85,92,78,65,88]\n",
    "}\n",
    "gh=pd.DataFrame(data)\n",
    "print(gh)"
   ]
  },
  {
   "cell_type": "code",
   "execution_count": null,
   "id": "966f1282-e2d7-4a77-af92-cba40f12afc6",
   "metadata": {},
   "outputs": [],
   "source": [
    "import pandas as pd\n",
    "record= \"name\":{\"alice\",\"age\":25,\"city\":\"new york\"}\n"
   ]
  }
 ],
 "metadata": {
  "kernelspec": {
   "display_name": "Python 3 (ipykernel)",
   "language": "python",
   "name": "python3"
  },
  "language_info": {
   "codemirror_mode": {
    "name": "ipython",
    "version": 3
   },
   "file_extension": ".py",
   "mimetype": "text/x-python",
   "name": "python",
   "nbconvert_exporter": "python",
   "pygments_lexer": "ipython3",
   "version": "3.12.7"
  }
 },
 "nbformat": 4,
 "nbformat_minor": 5
}
