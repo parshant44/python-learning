{
 "cells": [
  {
   "cell_type": "markdown",
   "id": "ba27efaa-9273-4fac-b2df-ad454224e561",
   "metadata": {},
   "source": [
    "learn python with basic\n"
   ]
  },
  {
   "cell_type": "markdown",
   "id": "0eff2cd2-4c5a-403e-935f-512d872a1e50",
   "metadata": {},
   "source": [
    "print(\"hello\")"
   ]
  },
  {
   "cell_type": "code",
   "execution_count": 5,
   "id": "cbdd591b-d0d6-4a92-9d55-ac80f9dc884d",
   "metadata": {},
   "outputs": [
    {
     "name": "stdout",
     "output_type": "stream",
     "text": [
      "pankaj ram "
     ]
    }
   ],
   "source": [
    "print(\"pankaj\",end =\" \")\n",
    "print(\"ram\",end=\" \")\n"
   ]
  },
  {
   "cell_type": "raw",
   "id": "0b1373a0-c021-4e1a-a34d-85c621f1c561",
   "metadata": {},
   "source": [
    "print('how\"are\" you')"
   ]
  },
  {
   "cell_type": "code",
   "execution_count": 6,
   "id": "7fee0f24-94a6-4392-bca2-2a4bfb3b2073",
   "metadata": {},
   "outputs": [
    {
     "name": "stdout",
     "output_type": "stream",
     "text": [
      "how\"are\"ypu\n"
     ]
    }
   ],
   "source": [
    "print(\"how\\\"are\\\"ypu\")"
   ]
  },
  {
   "cell_type": "code",
   "execution_count": 7,
   "id": "1ab81e51-963b-4d92-bb6d-e9c552373bfb",
   "metadata": {},
   "outputs": [
    {
     "name": "stdout",
     "output_type": "stream",
     "text": [
      "welcome to netmax\n"
     ]
    }
   ],
   "source": [
    "print(\"welcome to netmax\")"
   ]
  },
  {
   "cell_type": "code",
   "execution_count": 9,
   "id": "7781cf73-8769-44ec-9125-55a6352b1f83",
   "metadata": {},
   "outputs": [
    {
     "name": "stdout",
     "output_type": "stream",
     "text": [
      "my name is pankaj\n"
     ]
    }
   ],
   "source": [
    "a=\"pankaj\"\n",
    "print(\"my name is\",a)"
   ]
  },
  {
   "cell_type": "code",
   "execution_count": 11,
   "id": "62a14839-e707-4ee7-abb1-a77989121bcd",
   "metadata": {},
   "outputs": [
    {
     "name": "stdout",
     "output_type": "stream",
     "text": [
      "my name pankaj  is\n"
     ]
    }
   ],
   "source": [
    "print(\"my name\" ,a,\" is\")"
   ]
  },
  {
   "cell_type": "code",
   "execution_count": 12,
   "id": "06d629d4-0e6a-47ad-a06c-17f4b8fe368d",
   "metadata": {},
   "outputs": [
    {
     "name": "stdout",
     "output_type": "stream",
     "text": [
      "<class 'str'>\n"
     ]
    }
   ],
   "source": [
    "print(type(a))"
   ]
  },
  {
   "cell_type": "code",
   "execution_count": 13,
   "id": "e4b24d9b-1a29-4aba-8b21-ebacb800b58a",
   "metadata": {},
   "outputs": [
    {
     "name": "stdout",
     "output_type": "stream",
     "text": [
      "my name is pankaj\n"
     ]
    }
   ],
   "source": [
    "print(f\"my name is {a}\")"
   ]
  },
  {
   "cell_type": "code",
   "execution_count": 14,
   "id": "2beb23ba-b64c-4ce9-8cc7-99587968e279",
   "metadata": {},
   "outputs": [
    {
     "name": "stdout",
     "output_type": "stream",
     "text": [
      "<class 'int'>\n"
     ]
    }
   ],
   "source": [
    "w=12\n",
    "print(type(w))"
   ]
  },
  {
   "cell_type": "code",
   "execution_count": 15,
   "id": "7519c5e4-b5f8-401f-b878-82d8d86d799d",
   "metadata": {},
   "outputs": [
    {
     "name": "stdout",
     "output_type": "stream",
     "text": [
      "your value is 12\n"
     ]
    }
   ],
   "source": [
    "w=12\n",
    "print(\"your value is\",w)"
   ]
  },
  {
   "cell_type": "code",
   "execution_count": 16,
   "id": "9be502d4-995e-4602-a422-424b17134b52",
   "metadata": {},
   "outputs": [
    {
     "name": "stdout",
     "output_type": "stream",
     "text": [
      "your value is 12\n"
     ]
    }
   ],
   "source": [
    "print(f\"your value is {w}\")"
   ]
  },
  {
   "cell_type": "code",
   "execution_count": 17,
   "id": "292a235b-c3a9-43ec-9b1e-fb1ee156d9fa",
   "metadata": {},
   "outputs": [
    {
     "name": "stdout",
     "output_type": "stream",
     "text": [
      "welcome to \\n netmax\n"
     ]
    }
   ],
   "source": [
    "print(\"welcome to \\\\n netmax\")"
   ]
  },
  {
   "cell_type": "code",
   "execution_count": 18,
   "id": "166087e3-e4fb-4101-8c54-a82622b0212f",
   "metadata": {},
   "outputs": [
    {
     "name": "stdout",
     "output_type": "stream",
     "text": [
      "njndjnj njjnndv nknjn nioonnnononv jfjilkjnjnjn jnjldnslon\n",
      "jnndkskjnknn\n",
      "mlksmdklmklm kmlm kvld k \n",
      "njlknvkl\n",
      " kmldsmk\n",
      " \n"
     ]
    }
   ],
   "source": [
    "print(\"\"\"njndjnj njjnndv nknjn nioonnnononv jfjilkjnjnjn jnjldnslon\n",
    "jnndkskjnknn\n",
    "mlksmdklmklm kmlm kvld k \n",
    "njlknvkl\n",
    " kmldsmk\n",
    " \"\"\")"
   ]
  },
  {
   "cell_type": "code",
   "execution_count": 23,
   "id": "0f24b504-ed72-406f-9f80-bc672ef7aec3",
   "metadata": {},
   "outputs": [
    {
     "ename": "NameError",
     "evalue": "name 'W' is not defined",
     "output_type": "error",
     "traceback": [
      "\u001b[1;31m---------------------------------------------------------------------------\u001b[0m",
      "\u001b[1;31mNameError\u001b[0m                                 Traceback (most recent call last)",
      "Cell \u001b[1;32mIn[23], line 3\u001b[0m\n\u001b[0;32m      1\u001b[0m w \u001b[38;5;241m=\u001b[39m \u001b[38;5;124m\"\u001b[39m\u001b[38;5;124mpankaj\u001b[39m\u001b[38;5;124m\"\u001b[39m\n\u001b[0;32m      2\u001b[0m w\u001b[38;5;241m=\u001b[39m\u001b[38;5;124m\"\u001b[39m\u001b[38;5;124mwelcome to netmax\u001b[39m\u001b[38;5;124m\"\u001b[39m\u001b[38;5;241m+\u001b[39m\u001b[38;5;28mchr\u001b[39m(\u001b[38;5;241m9771\u001b[39m)\n\u001b[1;32m----> 3\u001b[0m \u001b[38;5;28mprint\u001b[39m (W)\n",
      "\u001b[1;31mNameError\u001b[0m: name 'W' is not defined"
     ]
    }
   ],
   "source": [
    "\n",
    "w=\"welcome to netmax\"+chr(9771)\n",
    "print (W)"
   ]
  },
  {
   "cell_type": "code",
   "execution_count": null,
   "id": "0750633b-7d2e-467b-93d7-ee70cd4302d5",
   "metadata": {},
   "outputs": [],
   "source": [
    "car=input(\"parshant\")\n",
    "print(\"prince\",car)"
   ]
  },
  {
   "cell_type": "code",
   "execution_count": null,
   "id": "1aaaf7cc-3ab8-481f-8c1b-60024f6df703",
   "metadata": {},
   "outputs": [],
   "source": [
    "name=input(\"enter your name\")\n",
    "age=inpuut(\"enter your age\")\n",
    "college=input(\"enter your college name\")\n",
    "\n",
    "message=\"my name is (0) my age is (1), my college name is (2)\",format(name,age,college)\n",
    "print(message)"
   ]
  },
  {
   "cell_type": "code",
   "execution_count": null,
   "id": "b3a5f236-6016-4b42-b259-efb6cb2b0126",
   "metadata": {},
   "outputs": [],
   "source": [
    "w=\"pankaj\"\n",
    "print(w)\n",
    "print(W[3])"
   ]
  },
  {
   "cell_type": "code",
   "execution_count": null,
   "id": "febb217c-6922-45f9-b373-666cc0a3ba07",
   "metadata": {},
   "outputs": [],
   "source": []
  }
 ],
 "metadata": {
  "kernelspec": {
   "display_name": "Python 3 (ipykernel)",
   "language": "python",
   "name": "python3"
  },
  "language_info": {
   "codemirror_mode": {
    "name": "ipython",
    "version": 3
   },
   "file_extension": ".py",
   "mimetype": "text/x-python",
   "name": "python",
   "nbconvert_exporter": "python",
   "pygments_lexer": "ipython3",
   "version": "3.12.7"
  }
 },
 "nbformat": 4,
 "nbformat_minor": 5
}
