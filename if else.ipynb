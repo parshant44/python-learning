{
 "cells": [
  {
   "cell_type": "markdown",
   "id": "568ddc05-b743-41f5-a1a9-4273304c5d59",
   "metadata": {},
   "source": [
    "# BOOLEANS ARE TWO TYPES\n",
    "#TRUE\n",
    "#FALSE"
   ]
  },
  {
   "cell_type": "code",
   "execution_count": 6,
   "id": "c2609e89-b13f-4fe8-98e7-4e66fb5c324b",
   "metadata": {},
   "outputs": [
    {
     "data": {
      "text/plain": [
       "1"
      ]
     },
     "execution_count": 6,
     "metadata": {},
     "output_type": "execute_result"
    }
   ],
   "source": [
    "0 or 1"
   ]
  },
  {
   "cell_type": "code",
   "execution_count": 8,
   "id": "c63e32bc-0368-48d9-b8d4-6c5d24cd9f38",
   "metadata": {},
   "outputs": [
    {
     "data": {
      "text/plain": [
       "True"
      ]
     },
     "execution_count": 8,
     "metadata": {},
     "output_type": "execute_result"
    }
   ],
   "source": [
    "True"
   ]
  },
  {
   "cell_type": "code",
   "execution_count": 9,
   "id": "8e8fa66c-2f05-4c2e-93f7-8f2dce9bae10",
   "metadata": {},
   "outputs": [
    {
     "data": {
      "text/plain": [
       "False"
      ]
     },
     "execution_count": 9,
     "metadata": {},
     "output_type": "execute_result"
    }
   ],
   "source": [
    "False"
   ]
  },
  {
   "cell_type": "code",
   "execution_count": 10,
   "id": "dc401ba5-39c4-4eb5-9fce-b7c198327971",
   "metadata": {},
   "outputs": [
    {
     "data": {
      "text/plain": [
       "1"
      ]
     },
     "execution_count": 10,
     "metadata": {},
     "output_type": "execute_result"
    }
   ],
   "source": [
    "int(True)"
   ]
  },
  {
   "cell_type": "code",
   "execution_count": 13,
   "id": "915d6267-095d-4c03-93a1-ad918e57637a",
   "metadata": {},
   "outputs": [
    {
     "data": {
      "text/plain": [
       "0"
      ]
     },
     "execution_count": 13,
     "metadata": {},
     "output_type": "execute_result"
    }
   ],
   "source": [
    "int(False)           # -----ONLY 0 VALUE IS FALSE  & BLANK TEXT ALSO FALSE--------"
   ]
  },
  {
   "cell_type": "code",
   "execution_count": 14,
   "id": "47e93c47-3f6b-4934-b1d5-ad69e220b7a8",
   "metadata": {},
   "outputs": [
    {
     "data": {
      "text/plain": [
       "True"
      ]
     },
     "execution_count": 14,
     "metadata": {},
     "output_type": "execute_result"
    }
   ],
   "source": [
    "bool(-10)"
   ]
  },
  {
   "cell_type": "code",
   "execution_count": 15,
   "id": "97117900-de2d-43e6-b163-46435fc37306",
   "metadata": {},
   "outputs": [
    {
     "data": {
      "text/plain": [
       "bool"
      ]
     },
     "execution_count": 15,
     "metadata": {},
     "output_type": "execute_result"
    }
   ],
   "source": [
    "type(True)"
   ]
  },
  {
   "cell_type": "code",
   "execution_count": 21,
   "id": "f8921164-ddf1-4f19-86f4-cb760187e624",
   "metadata": {},
   "outputs": [
    {
     "data": {
      "text/plain": [
       "False"
      ]
     },
     "execution_count": 21,
     "metadata": {},
     "output_type": "execute_result"
    }
   ],
   "source": [
    "bool(\"\")"
   ]
  },
  {
   "cell_type": "code",
   "execution_count": 22,
   "id": "588366c4-831b-4717-8711-2c1f2ce22973",
   "metadata": {},
   "outputs": [
    {
     "data": {
      "text/plain": [
       "True"
      ]
     },
     "execution_count": 22,
     "metadata": {},
     "output_type": "execute_result"
    }
   ],
   "source": [
    "bool(\" \")"
   ]
  },
  {
   "cell_type": "code",
   "execution_count": 23,
   "id": "b50fb929-8347-4ad5-8ea9-4ded97ec0695",
   "metadata": {},
   "outputs": [
    {
     "data": {
      "text/plain": [
       "True"
      ]
     },
     "execution_count": 23,
     "metadata": {},
     "output_type": "execute_result"
    }
   ],
   "source": [
    "bool(\"p\")"
   ]
  },
  {
   "cell_type": "code",
   "execution_count": 24,
   "id": "bc6166c9-3d08-47da-906b-7a2159abeff0",
   "metadata": {},
   "outputs": [
    {
     "data": {
      "text/plain": [
       "False"
      ]
     },
     "execution_count": 24,
     "metadata": {},
     "output_type": "execute_result"
    }
   ],
   "source": [
    "bool([])   # -----BLANK LIST ARE FALSE------"
   ]
  },
  {
   "cell_type": "code",
   "execution_count": 25,
   "id": "5db2d6d3-b525-4206-a022-88a76185d8a7",
   "metadata": {},
   "outputs": [
    {
     "data": {
      "text/plain": [
       "False"
      ]
     },
     "execution_count": 25,
     "metadata": {},
     "output_type": "execute_result"
    }
   ],
   "source": [
    "bool(())    #-----BLANK TUPLE ARE FALSE----"
   ]
  },
  {
   "cell_type": "code",
   "execution_count": 28,
   "id": "4fa71d27-1511-4c0a-b0ac-1f4378a2e8c9",
   "metadata": {},
   "outputs": [
    {
     "data": {
      "text/plain": [
       "False"
      ]
     },
     "execution_count": 28,
     "metadata": {},
     "output_type": "execute_result"
    }
   ],
   "source": [
    "bool({})       #------BLANK DICTIONARY ARE FALSE------"
   ]
  },
  {
   "cell_type": "markdown",
   "id": "05a9e77c-bed0-4526-aee6-ddb21a4f349a",
   "metadata": {},
   "source": [
    "if elif else"
   ]
  },
  {
   "cell_type": "code",
   "execution_count": 32,
   "id": "bb7bd696-daad-47ae-8e11-98475c9c251e",
   "metadata": {},
   "outputs": [],
   "source": [
    "age = 22"
   ]
  },
  {
   "cell_type": "code",
   "execution_count": 34,
   "id": "52be185f-6ec7-4e14-a6bd-01432d958e7a",
   "metadata": {},
   "outputs": [
    {
     "name": "stdout",
     "output_type": "stream",
     "text": [
      "Hello\n"
     ]
    }
   ],
   "source": [
    "if age  > 20:\n",
    "    print(\"Hello\")"
   ]
  },
  {
   "cell_type": "code",
   "execution_count": 36,
   "id": "54f005e0-203d-49b7-baba-47f3faae6a78",
   "metadata": {},
   "outputs": [
    {
     "name": "stdout",
     "output_type": "stream",
     "text": [
      "pm|\n"
     ]
    }
   ],
   "source": [
    "age = 18\n",
    "if age > 16:\n",
    "    print(\"pm|\")"
   ]
  },
  {
   "cell_type": "code",
   "execution_count": 26,
   "id": "591d71a6-23fc-4be3-ae0a-d6a03bed2b67",
   "metadata": {},
   "outputs": [],
   "source": [
    "marks = 98"
   ]
  },
  {
   "cell_type": "code",
   "execution_count": 28,
   "id": "ec90389d-a995-40ed-82fc-1f7dd9ab6255",
   "metadata": {},
   "outputs": [
    {
     "name": "stdout",
     "output_type": "stream",
     "text": [
      "A\n"
     ]
    }
   ],
   "source": [
    "if marks >=92:\n",
    "    print(\"A\")\n",
    "elif marks >=80:\n",
    "    print(\"B\")\n",
    "elif marks >=60:\n",
    "    print(\"C\")\n",
    "elif marks >=45:\n",
    "    print(\"D\")\n",
    "else:\n",
    "    print(\"F\")\n",
    "    "
   ]
  },
  {
   "cell_type": "code",
   "execution_count": 6,
   "id": "4016944b-f657-4db1-955d-da281a0a1dc7",
   "metadata": {},
   "outputs": [],
   "source": [
    "# positive number or negative"
   ]
  },
  {
   "cell_type": "code",
   "execution_count": 19,
   "id": "8ac52feb-62c8-4dbf-860b-20d06e841d62",
   "metadata": {},
   "outputs": [
    {
     "name": "stdout",
     "output_type": "stream",
     "text": [
      "positive\n"
     ]
    }
   ],
   "source": [
    "n = 5\n",
    "\n",
    "if n>=0:\n",
    "    print(\"positive\")\n",
    "elif n<=0:\n",
    "    print(\"negative\")\n",
    "else:\n",
    "    print(\"zero\")"
   ]
  },
  {
   "cell_type": "code",
   "execution_count": 17,
   "id": "9dd33e09-c6fb-48a8-9578-78d405a0da67",
   "metadata": {},
   "outputs": [
    {
     "name": "stdout",
     "output_type": "stream",
     "text": [
      "hello\n",
      "hi\n"
     ]
    }
   ],
   "source": [
    "n=10\n",
    "m=15\n",
    "\n",
    "if m>n:\n",
    "    print(\"hello\")\n",
    "    print(\"hi\")"
   ]
  },
  {
   "cell_type": "code",
   "execution_count": 20,
   "id": "5fc01f61-d368-4637-9a32-8107b6f48491",
   "metadata": {},
   "outputs": [
    {
     "name": "stdout",
     "output_type": "stream",
     "text": [
      "hii\n"
     ]
    }
   ],
   "source": [
    "n=10\n",
    "m=5\n",
    "\n",
    "if m>n:\n",
    "    print(\"hello\")       # only under indent will  be printed\n",
    "print(\"hii\")"
   ]
  },
  {
   "cell_type": "code",
   "execution_count": 23,
   "id": "ff6d6bc4-e703-419f-81d4-93020cbdaf13",
   "metadata": {},
   "outputs": [
    {
     "name": "stdout",
     "output_type": "stream",
     "text": [
      "hello\n"
     ]
    }
   ],
   "source": [
    "m=10\n",
    "n=20\n",
    "o=15\n",
    "\n",
    "if o>n:\n",
    "    print(\"hii\")\n",
    "elif o>m:\n",
    "    print(\"hello\")"
   ]
  },
  {
   "cell_type": "code",
   "execution_count": 25,
   "id": "7a48ba1b-7f18-4092-aa61-ad79be39b445",
   "metadata": {},
   "outputs": [
    {
     "name": "stdout",
     "output_type": "stream",
     "text": [
      "hii\n",
      "hello\n"
     ]
    }
   ],
   "source": [
    "m=10\n",
    "n=20\n",
    "o=30\n",
    "\n",
    "if o>n:\n",
    "    print(\"hii\")\n",
    "if o>m:\n",
    "    print(\"hello\")"
   ]
  },
  {
   "cell_type": "code",
   "execution_count": 31,
   "id": "5eec3558-9232-47d0-8120-6a8892ee1f73",
   "metadata": {},
   "outputs": [
    {
     "data": {
      "text/plain": [
       "0"
      ]
     },
     "execution_count": 31,
     "metadata": {},
     "output_type": "execute_result"
    }
   ],
   "source": [
    "25%5"
   ]
  },
  {
   "cell_type": "code",
   "execution_count": 32,
   "id": "5bde4b2a-dcc8-48c0-b36a-7ddfbdae5d98",
   "metadata": {},
   "outputs": [
    {
     "data": {
      "text/plain": [
       "1"
      ]
     },
     "execution_count": 32,
     "metadata": {},
     "output_type": "execute_result"
    }
   ],
   "source": [
    "21%5       # -------------% use to find remainder--------------"
   ]
  },
  {
   "cell_type": "code",
   "execution_count": 33,
   "id": "0f2393df-e3f9-408b-830b-889946cdee96",
   "metadata": {},
   "outputs": [],
   "source": [
    "if 25%7==0:\n",
    "    print(\"divison\")"
   ]
  },
  {
   "cell_type": "code",
   "execution_count": 34,
   "id": "6c10dc95-4365-4795-92dd-ce6818c2e273",
   "metadata": {},
   "outputs": [
    {
     "name": "stdout",
     "output_type": "stream",
     "text": [
      "hello\n"
     ]
    }
   ],
   "source": [
    "if 22%2==0:\n",
    "    print(\"hello\")"
   ]
  },
  {
   "cell_type": "code",
   "execution_count": 37,
   "id": "7f116562-a9d4-48f7-86e3-ad4dbd23aa3e",
   "metadata": {},
   "outputs": [
    {
     "name": "stdout",
     "output_type": "stream",
     "text": [
      "even\n"
     ]
    }
   ],
   "source": [
    "n=20\n",
    "\n",
    "if n%2==0:\n",
    "    print(\"even\")\n",
    "\n",
    "else:\n",
    "    print(\"odd\")"
   ]
  },
  {
   "cell_type": "code",
   "execution_count": 41,
   "id": "6a6eb9cd-81dc-44fe-9b17-b02de2c7fef6",
   "metadata": {},
   "outputs": [
    {
     "name": "stdin",
     "output_type": "stream",
     "text": [
      " 20\n"
     ]
    },
    {
     "name": "stdout",
     "output_type": "stream",
     "text": [
      "even\n"
     ]
    }
   ],
   "source": [
    "n=int(input())\n",
    "\n",
    "if n%2==0:\n",
    "    print(\"even\")\n",
    "\n",
    "else:\n",
    "    print(\"odd\")"
   ]
  },
  {
   "cell_type": "code",
   "execution_count": 42,
   "id": "87dad690-cb3a-42e1-9c8c-6b29314c18ac",
   "metadata": {},
   "outputs": [
    {
     "name": "stdout",
     "output_type": "stream",
     "text": [
      "hyy\n"
     ]
    }
   ],
   "source": [
    "if 0:\n",
    "    print(\"hi\")\n",
    "\n",
    "else:\n",
    "    print(\"hyy\")"
   ]
  },
  {
   "cell_type": "code",
   "execution_count": 47,
   "id": "f3382788-de93-46ea-b69f-70497dc76442",
   "metadata": {},
   "outputs": [
    {
     "name": "stdout",
     "output_type": "stream",
     "text": [
      "odd\n"
     ]
    }
   ],
   "source": [
    "n=21\n",
    "if n%2:     #   ------remainder is 1--------\n",
    "    print(\"odd\")\n",
    "\n",
    "else:\n",
    "    print(\"even\")"
   ]
  },
  {
   "cell_type": "code",
   "execution_count": 48,
   "id": "2e4bd109-943f-4f5e-ab40-53020d52a195",
   "metadata": {},
   "outputs": [],
   "source": [
    "n=19"
   ]
  },
  {
   "cell_type": "code",
   "execution_count": 49,
   "id": "04e40d58-1096-4c02-b6f2-449e61c1940d",
   "metadata": {},
   "outputs": [],
   "source": [
    "m=20"
   ]
  },
  {
   "cell_type": "code",
   "execution_count": 50,
   "id": "7706f9ac-7ca6-4ae2-a0b7-eebd084d9c78",
   "metadata": {},
   "outputs": [],
   "source": [
    "o=21"
   ]
  },
  {
   "cell_type": "code",
   "execution_count": 51,
   "id": "c2ea0d26-a102-4f83-80bc-16aa4f44e6c9",
   "metadata": {},
   "outputs": [
    {
     "data": {
      "text/plain": [
       "1"
      ]
     },
     "execution_count": 51,
     "metadata": {},
     "output_type": "execute_result"
    }
   ],
   "source": [
    "n%3"
   ]
  },
  {
   "cell_type": "code",
   "execution_count": 52,
   "id": "11facc06-7e6d-4c26-ab3d-52081d5228d8",
   "metadata": {},
   "outputs": [
    {
     "data": {
      "text/plain": [
       "2"
      ]
     },
     "execution_count": 52,
     "metadata": {},
     "output_type": "execute_result"
    }
   ],
   "source": [
    "m%3"
   ]
  },
  {
   "cell_type": "code",
   "execution_count": 53,
   "id": "f7d8c284-7d13-4634-8919-1889555a5116",
   "metadata": {},
   "outputs": [
    {
     "data": {
      "text/plain": [
       "0"
      ]
     },
     "execution_count": 53,
     "metadata": {},
     "output_type": "execute_result"
    }
   ],
   "source": [
    "o%3"
   ]
  },
  {
   "cell_type": "code",
   "execution_count": 60,
   "id": "ff3b9506-e918-45c8-bd17-c33626f6a870",
   "metadata": {},
   "outputs": [],
   "source": [
    "n=21"
   ]
  },
  {
   "cell_type": "code",
   "execution_count": 57,
   "id": "efdc1d39-7b8d-4fe9-a063-32c6e2ef1532",
   "metadata": {},
   "outputs": [
    {
     "name": "stdout",
     "output_type": "stream",
     "text": [
      "not divisible by 2\n"
     ]
    }
   ],
   "source": [
    "if n%2==0:\n",
    "    print(\"divisible by 2\")\n",
    "else:\n",
    "    print(\"not divisible by 2\")"
   ]
  },
  {
   "cell_type": "code",
   "execution_count": 2,
   "id": "19da6bfe-2ac8-4370-a409-ca0431dcd5c7",
   "metadata": {},
   "outputs": [],
   "source": [
    "n=21\n",
    "if n%2==0:\n",
    "    #divisible by 2\n",
    "    if n%3==0:\n",
    "        #divisible by 3\n",
    "        print(\"divisible by 2 and 3\")\n",
    "    else:\n",
    "        print(\"divisible by 2 and 3\")"
   ]
  },
  {
   "cell_type": "code",
   "execution_count": null,
   "id": "015cf910-3973-4e42-ba07-9cb63bc519a7",
   "metadata": {},
   "outputs": [],
   "source": []
  },
  {
   "cell_type": "code",
   "execution_count": 7,
   "id": "8381bc0b-2bc3-46af-ba3f-8e151c8834ad",
   "metadata": {},
   "outputs": [],
   "source": [
    "n=5"
   ]
  },
  {
   "cell_type": "code",
   "execution_count": 8,
   "id": "b7c20a41-0e14-4067-b131-f3719619db6a",
   "metadata": {},
   "outputs": [
    {
     "name": "stdout",
     "output_type": "stream",
     "text": [
      "divisible by 3 but not 2\n"
     ]
    }
   ],
   "source": [
    "if n%2==0:\n",
    "    if n%3==0:\n",
    "        print(\"divisible by 2 and 3\")\n",
    "    else:\n",
    "          print(\"divisible by 2 but not 3\")\n",
    "elif n%3:\n",
    "    print(\"divisible by 3 but not 2\")\n",
    "\n",
    "else:\n",
    "    print(\"not divisible by 2 and 3\")"
   ]
  },
  {
   "cell_type": "code",
   "execution_count": 9,
   "id": "d2109214-5858-4534-bcfe-c4563be6cf87",
   "metadata": {},
   "outputs": [
    {
     "name": "stdout",
     "output_type": "stream",
     "text": [
      "divisible by 5\n"
     ]
    }
   ],
   "source": [
    "if n%2==0:\n",
    "    if n%3==0:\n",
    "        if n%5==0:\n",
    "            print('divisible by 2,3,5')\n",
    "        else:\n",
    "            print('divisible by 2 and 3 not 5')\n",
    "    elif n%5==0:\n",
    "        print('divisible by 2 and 5 not 3')\n",
    "    else:\n",
    "        print('divisible by 2 not 3 and 5')\n",
    "\n",
    "elif n%3==0:\n",
    "    if n%5==0:\n",
    "        print('divisible by 3 and 5')\n",
    "    else:\n",
    "        print('divisible by 3')\n",
    "elif n%5==0:\n",
    "    print('divisible by 5')\n",
    "\n",
    "else:\n",
    "    print('not divisible by 2 or 3 or 5')\n",
    "        \n"
   ]
  },
  {
   "cell_type": "code",
   "execution_count": 10,
   "id": "7cb07606-2be0-4a67-bc4e-777004d58b05",
   "metadata": {},
   "outputs": [],
   "source": [
    "city=\"Chandigarh\""
   ]
  },
  {
   "cell_type": "code",
   "execution_count": 15,
   "id": "109ca8e5-9fd4-40ff-bf54-b34057c8d6bd",
   "metadata": {},
   "outputs": [],
   "source": [
    "age=28"
   ]
  },
  {
   "cell_type": "code",
   "execution_count": 16,
   "id": "6dd3b5ec-ba0a-4dff-983e-7f19eb2e1433",
   "metadata": {},
   "outputs": [
    {
     "name": "stdout",
     "output_type": "stream",
     "text": [
      "welcome to Chandiagarh\n"
     ]
    }
   ],
   "source": [
    "if city == \"Chandigarh\":\n",
    "    if age >25:\n",
    "        print(\"welcome to Chandiagarh\")\n",
    "    else:\n",
    "        print(\"thanks\")\n",
    "\n",
    "elif city == \"Goa\":\n",
    "    if age > 60:\n",
    "        print(\"Retirement\")\n",
    "    else:\n",
    "        print(\"Goa\")\n",
    "\n",
    "else:\n",
    "    print(\"Where Are You\")"
   ]
  },
  {
   "cell_type": "markdown",
   "id": "9841b123-651d-4b3e-9aac-80e9b36873e1",
   "metadata": {},
   "source": [
    "logical operations"
   ]
  },
  {
   "cell_type": "markdown",
   "id": "b60d6646-1615-4c97-b44d-3897c7a3d4dd",
   "metadata": {},
   "source": [
    "NOT\n"
   ]
  },
  {
   "cell_type": "code",
   "execution_count": 5,
   "id": "73584e65-865f-4362-8f6f-74b5976f6c43",
   "metadata": {},
   "outputs": [
    {
     "data": {
      "text/plain": [
       "False"
      ]
     },
     "execution_count": 5,
     "metadata": {},
     "output_type": "execute_result"
    }
   ],
   "source": [
    "not True"
   ]
  },
  {
   "cell_type": "code",
   "execution_count": 6,
   "id": "a91ff6dd-e5ba-448e-b9df-9d33f6852897",
   "metadata": {},
   "outputs": [
    {
     "data": {
      "text/plain": [
       "True"
      ]
     },
     "execution_count": 6,
     "metadata": {},
     "output_type": "execute_result"
    }
   ],
   "source": [
    "not False"
   ]
  },
  {
   "cell_type": "code",
   "execution_count": 4,
   "id": "b91070ad-0c9a-4606-999b-4c5ee73523cd",
   "metadata": {},
   "outputs": [],
   "source": [
    "if not True:\n",
    "    print(\"hello\")"
   ]
  },
  {
   "cell_type": "code",
   "execution_count": 6,
   "id": "6fe5aac2-bca8-491c-8269-e8072beecef9",
   "metadata": {},
   "outputs": [
    {
     "name": "stdout",
     "output_type": "stream",
     "text": [
      "hii\n"
     ]
    }
   ],
   "source": [
    "if not False:\n",
    "    print(\"hii\")"
   ]
  },
  {
   "cell_type": "code",
   "execution_count": 14,
   "id": "340f52e1-9774-47af-9963-043ca381f3cd",
   "metadata": {},
   "outputs": [],
   "source": [
    "first=True"
   ]
  },
  {
   "cell_type": "code",
   "execution_count": 17,
   "id": "7fdb254c-e9dd-437e-bee6-7e0708dd01ed",
   "metadata": {},
   "outputs": [
    {
     "name": "stdout",
     "output_type": "stream",
     "text": [
      "hii parshant\n"
     ]
    }
   ],
   "source": [
    "if first:\n",
    "    print(\"Hii user nice to meet you\")\n",
    "    name=input(\"enter your name\")\n",
    "    first=False\n",
    "else:\n",
    "    print(\"hii\",name)"
   ]
  },
  {
   "cell_type": "code",
   "execution_count": 19,
   "id": "46724db7-fa2b-48fa-91d8-d2be307d58b4",
   "metadata": {},
   "outputs": [],
   "source": [
    "count=0\n"
   ]
  },
  {
   "cell_type": "code",
   "execution_count": 20,
   "id": "4116a313-1b87-49ea-ae81-9727e5e53935",
   "metadata": {},
   "outputs": [
    {
     "name": "stdout",
     "output_type": "stream",
     "text": [
      "you are out of game\n"
     ]
    }
   ],
   "source": [
    "if not count:\n",
    "    print(\"you are out of game\")"
   ]
  },
  {
   "cell_type": "markdown",
   "id": "c3722450-118b-4166-9775-f802a6d7de84",
   "metadata": {},
   "source": [
    "AND"
   ]
  },
  {
   "cell_type": "code",
   "execution_count": 23,
   "id": "614df316-d5ca-4486-ac9e-e9734dc37e1f",
   "metadata": {},
   "outputs": [],
   "source": [
    "attendance=80"
   ]
  },
  {
   "cell_type": "code",
   "execution_count": 24,
   "id": "2184aeff-1f51-4619-8637-2b0ee13c87c9",
   "metadata": {},
   "outputs": [],
   "source": [
    "marks=50"
   ]
  },
  {
   "cell_type": "code",
   "execution_count": 26,
   "id": "8e7593ec-e8bd-4d35-ae46-9368547a6991",
   "metadata": {},
   "outputs": [
    {
     "name": "stdout",
     "output_type": "stream",
     "text": [
      "PASS\n"
     ]
    }
   ],
   "source": [
    "if attendance >75:\n",
    "    print(\"PASS\")"
   ]
  },
  {
   "cell_type": "code",
   "execution_count": 27,
   "id": "1e7fec27-6dff-4ea2-b12e-8f75891718c1",
   "metadata": {},
   "outputs": [
    {
     "name": "stdout",
     "output_type": "stream",
     "text": [
      "PASS\n"
     ]
    }
   ],
   "source": [
    "if marks >35:\n",
    "    print(\"PASS\")"
   ]
  },
  {
   "cell_type": "code",
   "execution_count": 30,
   "id": "d49c5713-a38c-4865-a029-1644aec4b5c5",
   "metadata": {},
   "outputs": [
    {
     "name": "stdout",
     "output_type": "stream",
     "text": [
      "PASS\n"
     ]
    }
   ],
   "source": [
    "if attendance > 75 and marks > 35:\n",
    "    print(\"PASS\")\n",
    "else:                                    # BOTH CONDITIONS SHOULD BE FULLFILLED IN AND\n",
    "    print(\"FAIL\")"
   ]
  },
  {
   "cell_type": "code",
   "execution_count": 37,
   "id": "e7ada3ca-9c4e-4154-b909-ebe0a14282b2",
   "metadata": {},
   "outputs": [],
   "source": [
    "ticket = True\n",
    "age = 20"
   ]
  },
  {
   "cell_type": "code",
   "execution_count": 38,
   "id": "793c9e18-1dc9-4e17-9ce0-9cb5f558fccb",
   "metadata": {},
   "outputs": [
    {
     "name": "stdout",
     "output_type": "stream",
     "text": [
      "welcome\n"
     ]
    }
   ],
   "source": [
    "if age >= 18 and ticket:\n",
    "    print(\"welcome\")\n",
    "else:\n",
    "    print(\"BYE\")"
   ]
  },
  {
   "cell_type": "code",
   "execution_count": 39,
   "id": "c3100ebc-ea7f-4af2-b6f8-a5a4d9ddc1e7",
   "metadata": {},
   "outputs": [],
   "source": [
    "ticket = False\n",
    "age = 20"
   ]
  },
  {
   "cell_type": "code",
   "execution_count": 40,
   "id": "956027b7-bdbd-4ac0-a892-22aca1387c12",
   "metadata": {},
   "outputs": [
    {
     "name": "stdout",
     "output_type": "stream",
     "text": [
      "BYE\n"
     ]
    }
   ],
   "source": [
    "if age >= 18 and ticket:\n",
    "    print(\"welcome\")\n",
    "else:\n",
    "    print(\"BYE\")"
   ]
  },
  {
   "cell_type": "code",
   "execution_count": 41,
   "id": "50a1794f-f024-4240-8908-d807b0d337d5",
   "metadata": {},
   "outputs": [],
   "source": [
    "ticket = True\n",
    "age = 20"
   ]
  },
  {
   "cell_type": "code",
   "execution_count": 45,
   "id": "c240273d-f50a-4e24-8446-1b3f0b414f2c",
   "metadata": {},
   "outputs": [
    {
     "name": "stdout",
     "output_type": "stream",
     "text": [
      "BYE\n"
     ]
    }
   ],
   "source": [
    "if age >= 18 and (not ticket):\n",
    "    print(\"welcome\")\n",
    "else:\n",
    "    print(\"BYE\")                     "
   ]
  },
  {
   "cell_type": "code",
   "execution_count": 47,
   "id": "4191b173-4b0c-4382-84f7-6e59c0eae729",
   "metadata": {},
   "outputs": [
    {
     "data": {
      "text/plain": [
       "True"
      ]
     },
     "execution_count": 47,
     "metadata": {},
     "output_type": "execute_result"
    }
   ],
   "source": [
    "True and True"
   ]
  },
  {
   "cell_type": "code",
   "execution_count": 49,
   "id": "c305c5f1-76a8-44c8-b88b-7710561d61e8",
   "metadata": {},
   "outputs": [
    {
     "data": {
      "text/plain": [
       "False"
      ]
     },
     "execution_count": 49,
     "metadata": {},
     "output_type": "execute_result"
    }
   ],
   "source": [
    "True and False"
   ]
  },
  {
   "cell_type": "markdown",
   "id": "7a79a381-4355-45f1-8b9c-5f4d097ebed7",
   "metadata": {},
   "source": [
    "OR"
   ]
  },
  {
   "cell_type": "code",
   "execution_count": 53,
   "id": "bce3686b-b419-403b-a5a1-5e0b9fd737d9",
   "metadata": {},
   "outputs": [
    {
     "data": {
      "text/plain": [
       "True"
      ]
     },
     "execution_count": 53,
     "metadata": {},
     "output_type": "execute_result"
    }
   ],
   "source": [
    "True or True             "
   ]
  },
  {
   "cell_type": "code",
   "execution_count": 57,
   "id": "ed644cb2-efc4-4522-a2c4-3bac14c51e6f",
   "metadata": {},
   "outputs": [
    {
     "data": {
      "text/plain": [
       "True"
      ]
     },
     "execution_count": 57,
     "metadata": {},
     "output_type": "execute_result"
    }
   ],
   "source": [
    "True or False            #---------IN OR 1 CONDITION MUST HAVE TO BE FULLFILLED"
   ]
  },
  {
   "cell_type": "code",
   "execution_count": 54,
   "id": "3a23f230-0992-4551-8d43-53e8515d3c17",
   "metadata": {},
   "outputs": [],
   "source": [
    " marks=90"
   ]
  },
  {
   "cell_type": "code",
   "execution_count": 55,
   "id": "ce7ba9ae-c7aa-48dc-bbb3-b8510ab881b2",
   "metadata": {},
   "outputs": [],
   "source": [
    "donation=90000"
   ]
  },
  {
   "cell_type": "code",
   "execution_count": 56,
   "id": "0b7aa6d0-bedf-44bb-a123-c3fe6fc591b4",
   "metadata": {},
   "outputs": [
    {
     "name": "stdout",
     "output_type": "stream",
     "text": [
      "welcome\n"
     ]
    }
   ],
   "source": [
    "if marks >80 or donation >80000:\n",
    "    print(\"welcome\")\n",
    "else:\n",
    "    print(\"leave\")"
   ]
  },
  {
   "cell_type": "code",
   "execution_count": 65,
   "id": "3a6461a4-e9d0-4bf1-9336-7d8009d41f3f",
   "metadata": {},
   "outputs": [],
   "source": [
    "email=False\n",
    "number=False"
   ]
  },
  {
   "cell_type": "code",
   "execution_count": 63,
   "id": "4b87f210-f1d4-4486-98a8-5d822923d4fa",
   "metadata": {},
   "outputs": [
    {
     "name": "stdout",
     "output_type": "stream",
     "text": [
      "leave\n"
     ]
    }
   ],
   "source": [
    "if email or number:\n",
    "    print(\"welcome\")\n",
    "else:\n",
    "    print(\"leave\")"
   ]
  },
  {
   "cell_type": "code",
   "execution_count": 69,
   "id": "a83bf6d1-b53d-43a2-9eb5-2d46e15de318",
   "metadata": {},
   "outputs": [],
   "source": [
    "email=False\n",
    "number=False"
   ]
  },
  {
   "cell_type": "code",
   "execution_count": 70,
   "id": "9fd6315b-880c-46f4-a7d5-65547b280e34",
   "metadata": {},
   "outputs": [],
   "source": [
    "password=True"
   ]
  },
  {
   "cell_type": "code",
   "execution_count": 71,
   "id": "d3d82d05-5ee7-41d5-a435-067acad19655",
   "metadata": {},
   "outputs": [
    {
     "name": "stdout",
     "output_type": "stream",
     "text": [
      "leave\n"
     ]
    }
   ],
   "source": [
    "if email or number and password:\n",
    "      print(\"welcome\")\n",
    "else:\n",
    "    print(\"leave\")\n",
    "    "
   ]
  },
  {
   "cell_type": "markdown",
   "id": "b3e3b615-ec4d-4c37-aeea-98258500d335",
   "metadata": {
    "scrolled": true
   },
   "source": [
    "Grade Evaluation: Given a student’s marks in 5 subjects, write a program to determine:\n",
    "\n",
    "\"Distinction\" if the average is over 75 and no subject has marks below 40.\n",
    "\n",
    "\"Pass\" if average is over 40 but at most 2 subjects are below 40.\n",
    "\n",
    "\"Fail\" otherwise."
   ]
  },
  {
   "cell_type": "code",
   "execution_count": 94,
   "id": "0f874a3f-0cf1-4cd7-953b-2ab6444c1b1b",
   "metadata": {},
   "outputs": [],
   "source": [
    "hindi = 90\n",
    "english = 70\n",
    "math = 90\n",
    "science = 80\n"
   ]
  },
  {
   "cell_type": "code",
   "execution_count": 97,
   "id": "647d2aa0-ad45-4b76-8a01-b70aaee5ccc1",
   "metadata": {},
   "outputs": [],
   "source": [
    "average = (hindi+english+math+science) // 4"
   ]
  },
  {
   "cell_type": "code",
   "execution_count": 98,
   "id": "b3060972-39b0-4dd1-8f37-3c35cbbab3ac",
   "metadata": {},
   "outputs": [
    {
     "name": "stdout",
     "output_type": "stream",
     "text": [
      "pass\n",
      "DISTINCTION\n"
     ]
    }
   ],
   "source": [
    "if (hindi>35) and  (english>35) and (math>35) and (science>35):\n",
    "    print(\"pass\")\n",
    "    \n",
    "    if average >=75 and (hindi>40) and  (english>40) and (math>40) and (science>40):\n",
    "        print(\"DISTINCTION\")\n",
    "    else:\n",
    "        print(\"vishesh\")\n",
    "        \n",
    "\n",
    "    if  hindi>90 and  english>90 and math>90 and science>90:\n",
    "        print(\"Topper\")\n",
    "else:\n",
    "    (\"fail\")"
   ]
  },
  {
   "cell_type": "code",
   "execution_count": 101,
   "id": "b237e3bd-65c6-482b-ab0b-9775d239c070",
   "metadata": {},
   "outputs": [],
   "source": [
    "username = \"PARSHANT\"\n",
    "password = 12345"
   ]
  },
  {
   "cell_type": "code",
   "execution_count": 102,
   "id": "b8834cd0-2b04-4959-aa2a-8eb2d399bae5",
   "metadata": {},
   "outputs": [
    {
     "name": "stdout",
     "output_type": "stream",
     "text": [
      "login\n"
     ]
    }
   ],
   "source": [
    "if username and password:\n",
    "    if not username == \"PARSHANT\" or not password == 12345:\n",
    "        print(\"incorrect input\")\n",
    "    else:\n",
    "        print(\"login\")\n",
    "else:\n",
    "    print(\"incomplete input\")"
   ]
  },
  {
   "cell_type": "code",
   "execution_count": 103,
   "id": "a457eb90-f2fa-4f7e-b62b-39488af53256",
   "metadata": {},
   "outputs": [
    {
     "data": {
      "text/plain": [
       "True"
      ]
     },
     "execution_count": 103,
     "metadata": {},
     "output_type": "execute_result"
    }
   ],
   "source": [
    "'p' in \"parshant\"            #-------USE OF IN--------"
   ]
  },
  {
   "cell_type": "code",
   "execution_count": 104,
   "id": "5b5accd8-4812-4f74-b1bc-c9c9f15cbc56",
   "metadata": {},
   "outputs": [
    {
     "data": {
      "text/plain": [
       "'full-timepart-timeunemployeed'"
      ]
     },
     "execution_count": 104,
     "metadata": {},
     "output_type": "execute_result"
    }
   ],
   "source": [
    "\"full-time\" \"part-time\" \"unemployeed\""
   ]
  },
  {
   "cell_type": "code",
   "execution_count": 105,
   "id": "47cb82f4-4803-49c8-90f0-f1d7fd34a812",
   "metadata": {},
   "outputs": [],
   "source": [
    "age=20\n",
    "income=50000\n",
    "credit_score=350\n",
    "debts=5000\n",
    "employment=\"full-time\""
   ]
  },
  {
   "cell_type": "code",
   "execution_count": null,
   "id": "f3ef30e9-4113-4333-a652-e421b7240b0b",
   "metadata": {},
   "outputs": [],
   "source": [
    "+"
   ]
  }
 ],
 "metadata": {
  "kernelspec": {
   "display_name": "Python 3 (ipykernel)",
   "language": "python",
   "name": "python3"
  },
  "language_info": {
   "codemirror_mode": {
    "name": "ipython",
    "version": 3
   },
   "file_extension": ".py",
   "mimetype": "text/x-python",
   "name": "python",
   "nbconvert_exporter": "python",
   "pygments_lexer": "ipython3",
   "version": "3.12.7"
  }
 },
 "nbformat": 4,
 "nbformat_minor": 5
}
