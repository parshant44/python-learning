{
 "cells": [
  {
   "cell_type": "code",
   "execution_count": 2,
   "id": "7e500f97-e0ee-4784-8c62-39192c069a2d",
   "metadata": {},
   "outputs": [
    {
     "name": "stdin",
     "output_type": "stream",
     "text": [
      "decide the loop size 12\n"
     ]
    },
    {
     "name": "stdout",
     "output_type": "stream",
     "text": [
      "value is 2\n",
      "value is 4\n",
      "value is 6\n",
      "value is 8\n",
      "value is 10\n"
     ]
    }
   ],
   "source": [
    "n=int(input(\"decide the loop size\"))\n",
    "i=2\n",
    "while i<n:\n",
    "    if i==7:\n",
    "        continue\n",
    "    print(\"value is\",i)\n",
    "    i+=2\n",
    "    "
   ]
  },
  {
   "cell_type": "code",
   "execution_count": 12,
   "id": "d7a50154-d81f-4c9d-85b1-0dd3bc2f3758",
   "metadata": {},
   "outputs": [
    {
     "name": "stdin",
     "output_type": "stream",
     "text": [
      "decide the loop size 20\n"
     ]
    },
    {
     "name": "stdout",
     "output_type": "stream",
     "text": [
      "value is 9\n",
      "value is 14\n",
      "value is 19\n",
      "value is 24\n"
     ]
    }
   ],
   "source": [
    "n=int(input(\"decide the loop size\"))\n",
    "i=4\n",
    "while i<n:\n",
    "    i+=5\n",
    "    if i==8: \n",
    "        continue\n",
    "    print(\"value is\",i)\n",
    "    "
   ]
  },
  {
   "cell_type": "code",
   "execution_count": 16,
   "id": "af8b50e3-2d96-421d-8c01-5c7ed2cc2c37",
   "metadata": {},
   "outputs": [
    {
     "name": "stdin",
     "output_type": "stream",
     "text": [
      "decide the loop size 10\n"
     ]
    },
    {
     "name": "stdout",
     "output_type": "stream",
     "text": [
      "value is 9\n",
      "value is 14\n"
     ]
    }
   ],
   "source": [
    "n=int(input(\"decide the loop size\"))\n",
    "i=4\n",
    "while i<n:\n",
    "    i+=5\n",
    "    if i==8 or i==8: \n",
    "        continue\n",
    "    print(\"value is\",i)"
   ]
  },
  {
   "cell_type": "code",
   "execution_count": 1,
   "id": "d5ee29e8-f4ef-4568-9caf-a07142c96390",
   "metadata": {},
   "outputs": [
    {
     "name": "stdout",
     "output_type": "stream",
     "text": [
      "Hello\n"
     ]
    }
   ],
   "source": [
    "print(\"Hello\")"
   ]
  },
  {
   "cell_type": "code",
   "execution_count": 2,
   "id": "1e02b66e-a68e-45c9-a659-d3b5b3ddd9fe",
   "metadata": {},
   "outputs": [
    {
     "name": "stdout",
     "output_type": "stream",
     "text": [
      "Parshant Mishra\n"
     ]
    }
   ],
   "source": [
    "print(\"Parshant Mishra\")"
   ]
  },
  {
   "cell_type": "code",
   "execution_count": 4,
   "id": "210f72e3-b007-4ae5-8b38-f3d9926f9b9b",
   "metadata": {},
   "outputs": [
    {
     "name": "stdout",
     "output_type": "stream",
     "text": [
      "Parshant Mishra\n"
     ]
    }
   ],
   "source": [
    "print(\"Parshant\",end=\" \")\n",
    "print(\"Mishra\")"
   ]
  },
  {
   "cell_type": "code",
   "execution_count": 5,
   "id": "1f0e8b5a-9f64-4a55-a720-3e99244b4dea",
   "metadata": {},
   "outputs": [
    {
     "name": "stdout",
     "output_type": "stream",
     "text": [
      "Piyush Mishra\n"
     ]
    }
   ],
   "source": [
    "print(\"Piyush\",end=\" \")\n",
    "print(\"Mishra\")"
   ]
  },
  {
   "cell_type": "code",
   "execution_count": 9,
   "id": "030a67c0-54a2-42af-a6be-e37665d2eff1",
   "metadata": {},
   "outputs": [
    {
     "name": "stdout",
     "output_type": "stream",
     "text": [
      "Parshant\n",
      "\n",
      "Mishra\n"
     ]
    }
   ],
   "source": [
    "print(\"Parshant\",end=\"\\n\\n\")\n",
    "print(\"Mishra\")"
   ]
  },
  {
   "cell_type": "code",
   "execution_count": 10,
   "id": "f4874892-7bc9-4d52-b58b-bb455a8ab191",
   "metadata": {},
   "outputs": [
    {
     "name": "stdout",
     "output_type": "stream",
     "text": [
      "Hello\n",
      "\n",
      "\n",
      "\n",
      "parshant\n"
     ]
    }
   ],
   "source": [
    "print(\"Hello\",end=\"\\n\\n\\n\\n\")\n",
    "print(\"parshant\")"
   ]
  },
  {
   "cell_type": "code",
   "execution_count": 11,
   "id": "f1c3bfda-f2a6-43f4-8311-c7e70bc3d533",
   "metadata": {},
   "outputs": [
    {
     "name": "stdout",
     "output_type": "stream",
     "text": [
      "Parshant\t\t\t\tMishra\n"
     ]
    }
   ],
   "source": [
    "print(\"Parshant\",end=\"\\t\\t\\t\\t\")\n",
    "print(\"Mishra\")"
   ]
  },
  {
   "cell_type": "code",
   "execution_count": 13,
   "id": "5d42bba3-ac6a-4bdb-9d92-84e6164376aa",
   "metadata": {},
   "outputs": [
    {
     "name": "stdout",
     "output_type": "stream",
     "text": [
      "Package\t\t\t\t\tWorld\n"
     ]
    }
   ],
   "source": [
    "print(\"Package\",end=\"\\t\\t\\t\\t\\t\")\n",
    "print(\"World\")"
   ]
  },
  {
   "cell_type": "code",
   "execution_count": 15,
   "id": "0da4c56e-9205-4eda-92b4-b4f32fbb8bdb",
   "metadata": {},
   "outputs": [
    {
     "name": "stdout",
     "output_type": "stream",
     "text": [
      "Parshant \"Mishra\"\n"
     ]
    }
   ],
   "source": [
    "print('Parshant \"Mishra\"') "
   ]
  },
  {
   "cell_type": "code",
   "execution_count": 16,
   "id": "f8dc9b23-81fe-4570-84f5-caffaf968bca",
   "metadata": {},
   "outputs": [
    {
     "name": "stdout",
     "output_type": "stream",
     "text": [
      "\"Parshant\" Mishra\n"
     ]
    }
   ],
   "source": [
    "print('\"Parshant\" Mishra')"
   ]
  },
  {
   "cell_type": "code",
   "execution_count": 17,
   "id": "0862e665-81ef-4010-83c4-579259a2e5b6",
   "metadata": {},
   "outputs": [
    {
     "name": "stdout",
     "output_type": "stream",
     "text": [
      "Parshant 44\n"
     ]
    }
   ],
   "source": [
    "print(\"Parshant\",44)"
   ]
  },
  {
   "cell_type": "code",
   "execution_count": 24,
   "id": "27a5f8a0-4dce-4fc9-bf88-dceceefa0e66",
   "metadata": {},
   "outputs": [
    {
     "name": "stdout",
     "output_type": "stream",
     "text": [
      "Parshant 44\n"
     ]
    }
   ],
   "source": [
    "print(\"Parshant\" +\" 44\")"
   ]
  },
  {
   "cell_type": "code",
   "execution_count": 30,
   "id": "e34f7309-2029-46d5-934e-2afea7bf2c7d",
   "metadata": {},
   "outputs": [
    {
     "name": "stdout",
     "output_type": "stream",
     "text": [
      "Parshant44\n"
     ]
    }
   ],
   "source": [
    "print(\"Parshant\"+ str(44))"
   ]
  },
  {
   "cell_type": "code",
   "execution_count": 33,
   "id": "3dcb5850-99f9-4978-a445-d031bd4ab928",
   "metadata": {},
   "outputs": [
    {
     "name": "stdout",
     "output_type": "stream",
     "text": [
      "Piyush 56\n"
     ]
    }
   ],
   "source": [
    "print(\"Piyush\",56)"
   ]
  },
  {
   "cell_type": "code",
   "execution_count": 34,
   "id": "b89f41f7-86d3-47a7-a1ab-937200b5d77a",
   "metadata": {},
   "outputs": [
    {
     "name": "stdout",
     "output_type": "stream",
     "text": [
      "<class 'int'>\n"
     ]
    }
   ],
   "source": [
    "a=80\n",
    "print(type(a))"
   ]
  },
  {
   "cell_type": "code",
   "execution_count": 36,
   "id": "828c1885-c8a3-44f8-8579-42254423bc77",
   "metadata": {},
   "outputs": [
    {
     "name": "stdout",
     "output_type": "stream",
     "text": [
      "<class 'str'>\n"
     ]
    }
   ],
   "source": [
    "a=\"Parshant\"\n",
    "print(type(a))"
   ]
  },
  {
   "cell_type": "code",
   "execution_count": 37,
   "id": "74afab43-e99b-464e-b6c8-820983f5d703",
   "metadata": {},
   "outputs": [
    {
     "name": "stdout",
     "output_type": "stream",
     "text": [
      "<class 'float'>\n"
     ]
    }
   ],
   "source": [
    "a=14.2\n",
    "print(type(a))"
   ]
  },
  {
   "cell_type": "code",
   "execution_count": 39,
   "id": "84d3304f-3e19-4742-a1b0-dcb6db1fbdae",
   "metadata": {},
   "outputs": [
    {
     "name": "stdout",
     "output_type": "stream",
     "text": [
      "<class 'bool'>\n"
     ]
    }
   ],
   "source": [
    "a=True\n",
    "print(type(a))"
   ]
  },
  {
   "cell_type": "code",
   "execution_count": 40,
   "id": "351ab8ba-587f-47f7-8d15-27c76ad1b730",
   "metadata": {},
   "outputs": [
    {
     "name": "stdout",
     "output_type": "stream",
     "text": [
      "12\n"
     ]
    }
   ],
   "source": [
    "a_12=12\n",
    "print(a_12)"
   ]
  },
  {
   "cell_type": "code",
   "execution_count": 41,
   "id": "2ba3f831-8c06-470b-a109-4ab77de65c83",
   "metadata": {},
   "outputs": [
    {
     "name": "stdout",
     "output_type": "stream",
     "text": [
      "54\n"
     ]
    }
   ],
   "source": [
    "_2=54\n",
    "print(_2)"
   ]
  },
  {
   "cell_type": "code",
   "execution_count": 43,
   "id": "b91a6df6-5123-4195-b0eb-02b917043105",
   "metadata": {},
   "outputs": [
    {
     "name": "stdout",
     "output_type": "stream",
     "text": [
      "Hello\n",
      "Parshant\n"
     ]
    }
   ],
   "source": [
    "print(\"Hello\")\n",
    "print(\"Parshant\")\n",
    "      "
   ]
  },
  {
   "cell_type": "code",
   "execution_count": 47,
   "id": "0b592f7d-a992-436d-a729-b6fc62229364",
   "metadata": {},
   "outputs": [
    {
     "name": "stdout",
     "output_type": "stream",
     "text": [
      "Hii\n"
     ]
    }
   ],
   "source": [
    "\"\"\"print(\"Parshant\")\n",
    "print(\"Mishra\")\"\"\"         #to comment down use \"\"\"     \"\"\"\"\n",
    "print(\"Hii\")"
   ]
  },
  {
   "cell_type": "code",
   "execution_count": 53,
   "id": "7ac9f9e6-4a31-4f40-8ca0-549e775aa74d",
   "metadata": {},
   "outputs": [
    {
     "name": "stdout",
     "output_type": "stream",
     "text": [
      "Mishra\n"
     ]
    }
   ],
   "source": [
    "a=14\n",
    "a=\"Parshant\"\n",
    "a=\"Mishra\"          \n",
    "print(a)          # a print latest variable value"
   ]
  },
  {
   "cell_type": "code",
   "execution_count": 54,
   "id": "18aabf41-35a0-447c-a01f-0eb69a1b4433",
   "metadata": {},
   "outputs": [
    {
     "name": "stdout",
     "output_type": "stream",
     "text": [
      "14 18 20\n"
     ]
    }
   ],
   "source": [
    "a,b,c=14,18,20\n",
    "print(a,b,c)"
   ]
  },
  {
   "cell_type": "code",
   "execution_count": 55,
   "id": "52e86c82-bcd4-49f3-98c2-fa589344ae35",
   "metadata": {},
   "outputs": [
    {
     "name": "stdout",
     "output_type": "stream",
     "text": [
      "20 20 20\n"
     ]
    }
   ],
   "source": [
    "a=b=c=20\n",
    "print(a,b,c)"
   ]
  },
  {
   "cell_type": "code",
   "execution_count": 56,
   "id": "c33139a5-a79d-4147-a9e3-a20b592cb388",
   "metadata": {},
   "outputs": [
    {
     "name": "stdout",
     "output_type": "stream",
     "text": [
      "26\n"
     ]
    }
   ],
   "source": [
    "a=12+14\n",
    "print(a)"
   ]
  },
  {
   "cell_type": "code",
   "execution_count": 59,
   "id": "0047a74b-d290-4998-8e01-6b34cdd5fb19",
   "metadata": {},
   "outputs": [
    {
     "name": "stdout",
     "output_type": "stream",
     "text": [
      "<class 'str'>\n",
      "your result is1214\n"
     ]
    }
   ],
   "source": [
    "a=\"12\"\n",
    "b=\"14\"\n",
    "c=a+b\n",
    "print(type(c))\n",
    "print(\"your result is\"+c)"
   ]
  },
  {
   "cell_type": "code",
   "execution_count": 60,
   "id": "c7ddd36e-1f59-4852-ac7b-30d97282fc90",
   "metadata": {},
   "outputs": [
    {
     "name": "stdout",
     "output_type": "stream",
     "text": [
      "<class 'str'>\n",
      "ypur result is 5644\n"
     ]
    }
   ],
   "source": [
    "w=\"56\"\n",
    "p=\"44\"\n",
    "k=w+p\n",
    "print(type(k))\n",
    "print(\"ypur result is\",k)"
   ]
  },
  {
   "cell_type": "code",
   "execution_count": 66,
   "id": "696bb2f0-f115-4f14-8027-bc8ccdaadfbd",
   "metadata": {},
   "outputs": [
    {
     "name": "stdout",
     "output_type": "stream",
     "text": [
      "100\n"
     ]
    }
   ],
   "source": [
    "w=\"56\"\n",
    "p=\"44\"\n",
    "k=int(w)+int(p)\n",
    "print(k)"
   ]
  },
  {
   "cell_type": "code",
   "execution_count": 70,
   "id": "ee70ea2d-3a8c-4957-90cd-19f64062c898",
   "metadata": {},
   "outputs": [
    {
     "name": "stdout",
     "output_type": "stream",
     "text": [
      "650\n"
     ]
    }
   ],
   "source": [
    "w=\"90\"\n",
    "p=\"560\"\n",
    "k=int(w)+int(p)\n",
    "print(k)"
   ]
  },
  {
   "cell_type": "code",
   "execution_count": 2,
   "id": "001556d6-14ff-41b7-83c1-d6b97d82217e",
   "metadata": {},
   "outputs": [
    {
     "name": "stdout",
     "output_type": "stream",
     "text": [
      "my Age 23 and my NameParshant\n",
      "my 23and my Parshant\n"
     ]
    }
   ],
   "source": [
    "age=23\n",
    "name=\"Parshant\"\n",
    "message=\"my Age {} and my Name{}\"\n",
    "print(message.format(age,name))\n",
    "print(f\"my {age}and my {name}\")"
   ]
  },
  {
   "cell_type": "code",
   "execution_count": 16,
   "id": "71f8233d-6366-4d3e-9c34-a39f11746f08",
   "metadata": {},
   "outputs": [
    {
     "name": "stdin",
     "output_type": "stream",
     "text": [
      "enter your ist value 56\n",
      "enter your iind value 5\n"
     ]
    },
    {
     "ename": "TypeError",
     "evalue": "'str' object is not callable",
     "output_type": "error",
     "traceback": [
      "\u001b[1;31m---------------------------------------------------------------------------\u001b[0m",
      "\u001b[1;31mTypeError\u001b[0m                                 Traceback (most recent call last)",
      "Cell \u001b[1;32mIn[16], line 4\u001b[0m\n\u001b[0;32m      2\u001b[0m b\u001b[38;5;241m=\u001b[39m\u001b[38;5;28minput\u001b[39m(\u001b[38;5;124m\"\u001b[39m\u001b[38;5;124menter your iind value\u001b[39m\u001b[38;5;124m\"\u001b[39m)\n\u001b[0;32m      3\u001b[0m c\u001b[38;5;241m=\u001b[39ma\u001b[38;5;241m+\u001b[39mb\n\u001b[1;32m----> 4\u001b[0m \u001b[38;5;28mprint\u001b[39m(\u001b[38;5;124m\"\u001b[39m\u001b[38;5;124mSum is \u001b[39m\u001b[38;5;124m\"\u001b[39m,c)\n",
      "\u001b[1;31mTypeError\u001b[0m: 'str' object is not callable"
     ]
    }
   ],
   "source": [
    "a=input(\"enter your ist value\")\n",
    "b=input(\"enter your iind value\")\n",
    "c=a+b\n",
    "print(\"Sum is \",c)"
   ]
  },
  {
   "cell_type": "code",
   "execution_count": 3,
   "id": "e78e5823-cac9-443e-ae10-6bef5c83373e",
   "metadata": {},
   "outputs": [
    {
     "name": "stdout",
     "output_type": "stream",
     "text": [
      "☎\n"
     ]
    }
   ],
   "source": [
    "w=chr(9742)\n",
    "print(w)"
   ]
  },
  {
   "cell_type": "code",
   "execution_count": 4,
   "id": "0b71d9c7-3706-475d-b9ad-960838cce69f",
   "metadata": {},
   "outputs": [
    {
     "name": "stdout",
     "output_type": "stream",
     "text": [
      "🏎\n"
     ]
    }
   ],
   "source": [
    "p=chr(127950)\n",
    "print(p)"
   ]
  },
  {
   "cell_type": "code",
   "execution_count": 5,
   "id": "43ffde45-a336-4604-b0fb-03ba1a213754",
   "metadata": {},
   "outputs": [
    {
     "name": "stdout",
     "output_type": "stream",
     "text": [
      "9742\n"
     ]
    }
   ],
   "source": [
    "r=ord(\"☎\")\n",
    "print(r)"
   ]
  },
  {
   "cell_type": "code",
   "execution_count": 9,
   "id": "43441c26-9d6f-4099-8c4d-943e32b9fe6f",
   "metadata": {},
   "outputs": [
    {
     "name": "stdout",
     "output_type": "stream",
     "text": [
      "128757\n"
     ]
    }
   ],
   "source": [
    "k=ord(\"🛵\")\n",
    "print(k)"
   ]
  },
  {
   "cell_type": "code",
   "execution_count": 10,
   "id": "2eeff0ab-999a-452e-886b-2c0fcf1a3e8a",
   "metadata": {},
   "outputs": [
    {
     "name": "stdout",
     "output_type": "stream",
     "text": [
      "<class 'list'>\n"
     ]
    }
   ],
   "source": [
    "p=[12, \"Parshant\",16.56, \"Rohan\"]\n",
    "print(type(p))"
   ]
  },
  {
   "cell_type": "code",
   "execution_count": 1,
   "id": "bea3d55a-c1d5-41e1-8649-370e1b83263c",
   "metadata": {},
   "outputs": [
    {
     "name": "stdout",
     "output_type": "stream",
     "text": [
      "Parshant\n"
     ]
    }
   ],
   "source": [
    "p=[12, \"Parshant\",16.56, \"Rohan\",45666]\n",
    "print(p[1])\n"
   ]
  },
  {
   "cell_type": "code",
   "execution_count": 2,
   "id": "e254b62f-cbaa-4d39-aa46-62fafb7bf0d4",
   "metadata": {},
   "outputs": [
    {
     "name": "stdout",
     "output_type": "stream",
     "text": [
      "Parshant\n",
      "45666\n"
     ]
    }
   ],
   "source": [
    "p=[12, \"Parshant\",16.56, \"Rohan\",45666]\n",
    "print(p[1])\n",
    "print(p[-1])\n"
   ]
  },
  {
   "cell_type": "code",
   "execution_count": 3,
   "id": "d81b49af-0b20-413b-b37e-569cb93d1fc7",
   "metadata": {},
   "outputs": [
    {
     "name": "stdout",
     "output_type": "stream",
     "text": [
      "12\n",
      "Parshant\n",
      "16.56\n",
      "Rohan\n",
      "45666\n"
     ]
    }
   ],
   "source": [
    "p=[12, \"Parshant\",16.56, \"Rohan\",45666]\n",
    "for aditi in p:\n",
    "    print(aditi)"
   ]
  },
  {
   "cell_type": "code",
   "execution_count": 10,
   "id": "2c3d5352-60af-482e-87d0-ca1efffc6714",
   "metadata": {},
   "outputs": [
    {
     "name": "stdout",
     "output_type": "stream",
     "text": [
      "12\n",
      "Parshant\n",
      "45666\n",
      "56\n",
      "54\n"
     ]
    }
   ],
   "source": [
    "p=[12, \"Parshant\",16.56, \"Rohan\",45666,56,54]\n",
    "for piyush in  p:\n",
    "    if piyush==16.56 or piyush=='Rohan':\n",
    "        continue\n",
    "    print(piyush)"
   ]
  },
  {
   "cell_type": "code",
   "execution_count": 14,
   "id": "b8ae0d76-d028-41ef-b9ea-65cad35382bc",
   "metadata": {},
   "outputs": [
    {
     "name": "stdout",
     "output_type": "stream",
     "text": [
      "456\n",
      "Prince\n",
      "84\n"
     ]
    }
   ],
   "source": [
    "k=[456, \"Prince\", 96, 'piyush', 84]\n",
    "for ishaan in k:\n",
    "    if ishaan==96 or ishaan=='piyush':\n",
    "        continue\n",
    "    print(ishaan)\n",
    "        \n",
    "        \n",
    "   \n",
    "    "
   ]
  },
  {
   "cell_type": "code",
   "execution_count": 15,
   "id": "33481468-f616-48b9-b35d-3705ad68564b",
   "metadata": {},
   "outputs": [
    {
     "name": "stdout",
     "output_type": "stream",
     "text": [
      "456\n",
      "Prince\n",
      "84\n"
     ]
    }
   ],
   "source": [
    "k=[456, \"Prince\", 96, 'piyush', 84]\n",
    "for i in k:\n",
    "    if i==96 or i=='piyush':\n",
    "        continue\n",
    "    print(i)"
   ]
  },
  {
   "cell_type": "code",
   "execution_count": 1,
   "id": "b4a4d238-9d4f-4dc3-8e9c-d185c8a5f596",
   "metadata": {},
   "outputs": [
    {
     "name": "stdout",
     "output_type": "stream",
     "text": [
      "1022\n"
     ]
    }
   ],
   "source": [
    "# to find max value in list\n",
    "w=[12,56,1022,65,256]\n",
    "n=max(w)\n",
    "print(n)"
   ]
  },
  {
   "cell_type": "code",
   "execution_count": 2,
   "id": "0dab6479-5a67-4b0d-ad0f-3296bbb51c75",
   "metadata": {},
   "outputs": [
    {
     "name": "stdout",
     "output_type": "stream",
     "text": [
      "56\n"
     ]
    }
   ],
   "source": [
    "# to find smallest value in list\n",
    "w=[56,58,6546,8564,2354]\n",
    "n=min(w)\n",
    "print(n)"
   ]
  },
  {
   "cell_type": "code",
   "execution_count": 6,
   "id": "787e8a0a-1eeb-4e2f-8197-d01b18d12776",
   "metadata": {},
   "outputs": [
    {
     "name": "stdin",
     "output_type": "stream",
     "text": [
      "enter your a value 45\n",
      "enter your b value 56\n"
     ]
    },
    {
     "name": "stdout",
     "output_type": "stream",
     "text": [
      "before swapping your a value is 45\n",
      "before swapping your b value is 56\n",
      "after swapping your a value is 45\n",
      "after swapping your b value is 56\n"
     ]
    }
   ],
   "source": [
    "a=int(input(\"enter your a value\"))\n",
    "b=int(input(\"enter your b value\"))\n",
    "print(\"before swapping your a value is\",a)\n",
    "print(\"before swapping your b value is\",b)\n",
    "\n",
    "print(\"after swapping your a value is\",a)\n",
    "print(\"after swapping your b value is\",b)\n"
   ]
  },
  {
   "cell_type": "code",
   "execution_count": 11,
   "id": "5788bada-07d7-48b7-a081-832904b3f55c",
   "metadata": {},
   "outputs": [
    {
     "name": "stdin",
     "output_type": "stream",
     "text": [
      "enter your a value 45\n",
      "enter your b value 25\n"
     ]
    },
    {
     "name": "stdout",
     "output_type": "stream",
     "text": [
      "a is greater than b\n",
      "hello\n",
      "by\n"
     ]
    }
   ],
   "source": [
    "#    LOOPING      ---------     Use of loop     ----------\n",
    "\n",
    "a=int(input(\"enter your a value\"))\n",
    "b=int(input(\"enter your b value\"))\n",
    "\n",
    "if a>b:\n",
    "    print(\"a is greater than b\")\n",
    "    print(\"hello\")\n",
    "    print(\"by\")"
   ]
  },
  {
   "cell_type": "code",
   "execution_count": 14,
   "id": "2adbeecb-a5e3-48c4-a13a-f16b6cfff56f",
   "metadata": {},
   "outputs": [
    {
     "name": "stdin",
     "output_type": "stream",
     "text": [
      "enter your a value 45\n",
      "enter your b value 56\n"
     ]
    },
    {
     "name": "stdout",
     "output_type": "stream",
     "text": [
      "b is greaterb than a or may both are equal\n"
     ]
    }
   ],
   "source": [
    "#     use of else  \n",
    "\n",
    "a=int(input(\"enter your a value\"))\n",
    "b=int(input(\"enter your b value\"))\n",
    "\n",
    "if a>b:\n",
    "    print(\"a is greater than b\")\n",
    "\n",
    "else:\n",
    "    print(\"b is greaterb than a or may both are equal\")\n",
    "    "
   ]
  },
  {
   "cell_type": "code",
   "execution_count": 3,
   "id": "a8399c65-5d1d-4a80-b764-14e0834762d5",
   "metadata": {},
   "outputs": [
    {
     "name": "stdout",
     "output_type": "stream",
     "text": [
      "5\n",
      "6\n",
      "7\n",
      "8\n",
      "9\n"
     ]
    }
   ],
   "source": [
    "for i in range (5,10):\n",
    "    print(i)"
   ]
  },
  {
   "cell_type": "code",
   "execution_count": 7,
   "id": "e14d0ea2-0e84-4371-9973-686e94d2aa31",
   "metadata": {},
   "outputs": [
    {
     "name": "stdout",
     "output_type": "stream",
     "text": [
      "2\n",
      "4\n",
      "6\n",
      "8\n"
     ]
    }
   ],
   "source": [
    "for i in range (2,10,2):\n",
    "    print(i)"
   ]
  },
  {
   "cell_type": "code",
   "execution_count": 17,
   "id": "ea3a8d66-598e-418d-9356-c4af1ef1d99f",
   "metadata": {},
   "outputs": [
    {
     "name": "stdout",
     "output_type": "stream",
     "text": [
      "Parshant\n",
      "Parshant\n",
      "Parshant\n",
      "Parshant\n",
      "Parshant\n"
     ]
    }
   ],
   "source": [
    "for k in range(5):\n",
    "    print(\"Parshant\")"
   ]
  },
  {
   "cell_type": "code",
   "execution_count": 21,
   "id": "3b083b70-115c-42b3-b5bf-0f75b98fcac0",
   "metadata": {},
   "outputs": [
    {
     "name": "stdout",
     "output_type": "stream",
     "text": [
      "10\n",
      "9\n",
      "8\n",
      "7\n",
      "6\n",
      "5\n"
     ]
    }
   ],
   "source": [
    "for i in range (10,4,-1):\n",
    "    print(i)"
   ]
  },
  {
   "cell_type": "code",
   "execution_count": 22,
   "id": "1b13dff9-1320-4f41-afce-04090de66a7f",
   "metadata": {},
   "outputs": [
    {
     "name": "stdin",
     "output_type": "stream",
     "text": [
      "enter loop size 6\n"
     ]
    },
    {
     "name": "stdout",
     "output_type": "stream",
     "text": [
      "0\n",
      "1\n",
      "2\n",
      "3\n",
      "4\n",
      "5\n"
     ]
    }
   ],
   "source": [
    "n=int(input(\"enter loop size\"))\n",
    "for i in range (n):\n",
    "    print(i)"
   ]
  },
  {
   "cell_type": "code",
   "execution_count": 1,
   "id": "dfeb9cd0-a2b7-4f57-96ba-0cc87f5a4f8e",
   "metadata": {},
   "outputs": [
    {
     "name": "stdin",
     "output_type": "stream",
     "text": [
      "enter loop size 10\n"
     ]
    },
    {
     "name": "stdout",
     "output_type": "stream",
     "text": [
      "0\n",
      "1\n",
      "2\n",
      "3\n",
      "4\n",
      "5\n",
      "6\n",
      "7\n",
      "8\n",
      "9\n"
     ]
    }
   ],
   "source": [
    "k=int(input(\"enter loop size\"))\n",
    "for i in range (k):\n",
    "    print(i)"
   ]
  },
  {
   "cell_type": "code",
   "execution_count": 4,
   "id": "d0f5596f-1a4d-43f9-a141-8f7fd56cb718",
   "metadata": {},
   "outputs": [
    {
     "name": "stdin",
     "output_type": "stream",
     "text": [
      "enter loop size 8\n"
     ]
    },
    {
     "name": "stdout",
     "output_type": "stream",
     "text": [
      "0\n",
      "1\n",
      "2\n",
      "3\n",
      "4\n",
      "5\n",
      "6\n",
      "7\n",
      "8\n"
     ]
    }
   ],
   "source": [
    "n=int(input(\"enter loop size\"))\n",
    "for i in range (n+1):\n",
    "    print(i)"
   ]
  },
  {
   "cell_type": "code",
   "execution_count": 7,
   "id": "f413b0e6-4499-4ad3-a65d-705fa2a9950e",
   "metadata": {},
   "outputs": [
    {
     "name": "stdin",
     "output_type": "stream",
     "text": [
      "enter loop size 8\n"
     ]
    },
    {
     "name": "stdout",
     "output_type": "stream",
     "text": [
      "0\n",
      "1\n",
      "2\n",
      "3\n",
      "4\n",
      "5\n",
      "6\n",
      "7\n",
      "8\n"
     ]
    }
   ],
   "source": [
    "n=int(input(\"enter loop size\"))\n",
    "for i in range (n+1):\n",
    "    print(i)"
   ]
  },
  {
   "cell_type": "code",
   "execution_count": 2,
   "id": "57eeddac-45dd-4640-ba66-e3e7553c96fd",
   "metadata": {},
   "outputs": [
    {
     "name": "stdin",
     "output_type": "stream",
     "text": [
      "enter loop size 10\n"
     ]
    }
   ],
   "source": [
    "n=int(input(\"enter loop size\"))\n",
    "for i in range (n+1):\n",
    "    if i==5 or i==7:\n",
    "        break\n",
    "        print(i)"
   ]
  },
  {
   "cell_type": "code",
   "execution_count": 3,
   "id": "408992a9-db33-424f-9f48-593ce9f16d59",
   "metadata": {},
   "outputs": [
    {
     "name": "stdin",
     "output_type": "stream",
     "text": [
      "enter loop size 12\n"
     ]
    }
   ],
   "source": [
    "n=int(input(\"enter loop size\"))\n",
    "for i in range (n+1):\n",
    "    if i==5 or i==7:\n",
    "        continue\n",
    "        print(i)"
   ]
  },
  {
   "cell_type": "code",
   "execution_count": null,
   "id": "7086bbee-a7f0-4458-aa2b-b2bf3358e30c",
   "metadata": {},
   "outputs": [],
   "source": [
    "n=int(input(\"decide the loop size\"))\n",
    "for i in range(1,n):\n",
    "    if i==5:\n",
    "        break\n",
    "        print(\"your value is\",i)"
   ]
  },
  {
   "cell_type": "code",
   "execution_count": null,
   "id": "5f92ef87-c270-4154-a918-b0aa3079ee7a",
   "metadata": {},
   "outputs": [],
   "source": [
    "n=int(input(\"decide the loop size\"))\n",
    "i=0\n",
    "while i<n:\n",
    "    print(\"value is\",4)\n"
   ]
  },
  {
   "cell_type": "code",
   "execution_count": null,
   "id": "7b9aeb94-ade1-4ade-9fca-e11786b05515",
   "metadata": {},
   "outputs": [],
   "source": []
  }
 ],
 "metadata": {
  "kernelspec": {
   "display_name": "Python 3 (ipykernel)",
   "language": "python",
   "name": "python3"
  },
  "language_info": {
   "codemirror_mode": {
    "name": "ipython",
    "version": 3
   },
   "file_extension": ".py",
   "mimetype": "text/x-python",
   "name": "python",
   "nbconvert_exporter": "python",
   "pygments_lexer": "ipython3",
   "version": "3.12.7"
  }
 },
 "nbformat": 4,
 "nbformat_minor": 5
}
