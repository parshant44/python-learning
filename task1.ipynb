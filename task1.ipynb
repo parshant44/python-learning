{
 "cells": [
  {
   "cell_type": "code",
   "execution_count": 1,
   "id": "5fdf1d03-0969-478d-bd5a-aa7996969df1",
   "metadata": {},
   "outputs": [
    {
     "name": "stdout",
     "output_type": "stream",
     "text": [
      "before swapping your a value is a 75\n",
      "before swapping your b value is b 3\n",
      "after swapping your a value is 3\n",
      "after swapping your b value is 75\n"
     ]
    }
   ],
   "source": [
    "a=75\n",
    "b=3\n",
    "print('before swapping your a value is a',a)\n",
    "print('before swapping your b value is b',b)\n",
    "a=a+b\n",
    "b=a-b\n",
    "a=a-b\n",
    "print(\"after swapping your a value is\",a)\n",
    "print(\"after swapping your b value is\",b)"
   ]
  },
  {
   "cell_type": "code",
   "execution_count": 2,
   "id": "f04dcfd7-57c5-4d0e-bfbf-9bbf8081d617",
   "metadata": {},
   "outputs": [
    {
     "name": "stdout",
     "output_type": "stream",
     "text": [
      "After swapping:\n",
      "a = 3\n",
      "b = 75\n"
     ]
    }
   ],
   "source": [
    "a=75\n",
    "b=3\n",
    "a,b = b,a\n",
    "print(\"After swapping:\")\n",
    "print(\"a =\", a)\n",
    "print(\"b =\", b)\n"
   ]
  },
  {
   "cell_type": "code",
   "execution_count": 1,
   "id": "232fe779-da75-4507-b579-56da20223681",
   "metadata": {},
   "outputs": [
    {
     "name": "stdin",
     "output_type": "stream",
     "text": [
      "enter a number: 6\n"
     ]
    },
    {
     "name": "stdout",
     "output_type": "stream",
     "text": [
      "even number\n"
     ]
    }
   ],
   "source": [
    "n=int(input(\"enter a number:\"))\n",
    "if n%2 == 0:\n",
    "    print(\"even number\")\n",
    "else:\n",
    "    print(\"odd number\")\n"
   ]
  },
  {
   "cell_type": "code",
   "execution_count": 7,
   "id": "fc721f34-75dd-45cd-9d46-1ba494d873a3",
   "metadata": {},
   "outputs": [
    {
     "name": "stdin",
     "output_type": "stream",
     "text": [
      "enter a number: 3\n"
     ]
    },
    {
     "name": "stdout",
     "output_type": "stream",
     "text": [
      "odd number\n"
     ]
    }
   ],
   "source": [
    "n=int(input(\"enter a number:\"))\n",
    "if n%2 == 0:\n",
    "    print(\"even number\")\n",
    "else:\n",
    "    print(\"odd number\")"
   ]
  },
  {
   "cell_type": "code",
   "execution_count": 10,
   "id": "7a11ca21-94a2-468f-b1a0-b2529a90971d",
   "metadata": {},
   "outputs": [
    {
     "name": "stdout",
     "output_type": "stream",
     "text": [
      "2002 is not a leap year\n"
     ]
    }
   ],
   "source": [
    "if (year % 400==0) and (year % 100 ==0):\n",
    "    print(year, \"is a leap year\")\n",
    "    \n",
    "elif (year % 400==0) and (year % 100 !=0):\n",
    "    print(year, \"is a leap year\")\n",
    "\n",
    "else:\n",
    "    print(year, \"is not a leap year\")\n",
    "    "
   ]
  },
  {
   "cell_type": "code",
   "execution_count": 12,
   "id": "0479987f-8df3-47d0-b8d1-4a27f33cb19b",
   "metadata": {},
   "outputs": [
    {
     "name": "stdin",
     "output_type": "stream",
     "text": [
      "enter the height in cm:  172.72\n"
     ]
    },
    {
     "name": "stdout",
     "output_type": "stream",
     "text": [
      "the height in inches:  68.05168\n",
      "the height in feet:  5.665216\n"
     ]
    }
   ],
   "source": [
    "cm=float(input(\"enter the height in cm: \"))\n",
    "inches=cm*0.394\n",
    "feet=cm*0.0328\n",
    "print(\"the height in inches: \",inches)\n",
    "print(\"the height in feet: \",feet)\n"
   ]
  },
  {
   "cell_type": "code",
   "execution_count": 9,
   "id": "f504b109-2a12-4f77-8b7c-f0072e0c478f",
   "metadata": {},
   "outputs": [
    {
     "name": "stdin",
     "output_type": "stream",
     "text": [
      "please enter your age:  23\n"
     ]
    },
    {
     "name": "stdout",
     "output_type": "stream",
     "text": [
      "you are young.\n"
     ]
    }
   ],
   "source": [
    "age = int(input(\"please enter your age: \"))\n",
    "\n",
    "if age<18:\n",
    "    print(\"you are a child.\")\n",
    "elif 18<= age <=40:\n",
    "    print(\"you are young.\")\n",
    "elif 41<= age <=100:\n",
    "    print(\"you are in old age.\")\n",
    "else:\n",
    "    print(\"invalid age.\")\n",
    "\n",
    "\n",
    "\n"
   ]
  },
  {
   "cell_type": "code",
   "execution_count": null,
   "id": "547f1f4a-4ca8-4616-b6df-0da90c24f68d",
   "metadata": {},
   "outputs": [
    {
     "name": "stdin",
     "output_type": "stream",
     "text": [
      "math:  76\n",
      "social sience:  84\n",
      "english:  88\n",
      "hindi:  98\n",
      "accounts:  56\n"
     ]
    },
    {
     "name": "stdout",
     "output_type": "stream",
     "text": [
      "\n",
      "total score:  402\n",
      "percentage=  80.4 %\n"
     ]
    }
   ],
   "source": [
    "#### sub1 = int(input(\"math: \"))\n",
    "sub2 = int(input(\"social sience: \"))\n",
    "sub3 = int(input(\"english: \"))\n",
    "sub4 = int(input(\"hindi: \"))\n",
    "sub5 = int(input(\"accounts: \"))\n",
    "print()\n",
    "total = sub1+sub2+sub3+sub4+sub5\n",
    "print(\"total score: \",total)\n",
    "percentage = (total/500)*100\n",
    "print(\"percentage= \",percentage,\"%\")\n",
    "\n",
    "marks = int(input(\"enter your marks: \"))\n",
    "\n",
    "if marks<33:\n",
    "    print(\"fail\")\n",
    "elif 33<= marks<=60:\n",
    "    print(\"pass\")\n",
    "elif marks>60:\n",
    "    print(\"merit\")\n",
    "else:\n",
    "    print(\"invalid input\")\n",
    "      "
   ]
  },
  {
   "cell_type": "code",
   "execution_count": null,
   "id": "4cafcb40-4a88-4617-8688-92994f3d8b39",
   "metadata": {},
   "outputs": [],
   "source": []
  }
 ],
 "metadata": {
  "kernelspec": {
   "display_name": "Python 3 (ipykernel)",
   "language": "python",
   "name": "python3"
  },
  "language_info": {
   "codemirror_mode": {
    "name": "ipython",
    "version": 3
   },
   "file_extension": ".py",
   "mimetype": "text/x-python",
   "name": "python",
   "nbconvert_exporter": "python",
   "pygments_lexer": "ipython3",
   "version": "3.12.7"
  }
 },
 "nbformat": 4,
 "nbformat_minor": 5
}
