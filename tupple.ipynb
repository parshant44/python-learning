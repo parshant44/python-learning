{
 "cells": [
  {
   "cell_type": "code",
   "execution_count": 1,
   "id": "8e1ef862-7568-4bb5-87d1-1c0623e1e106",
   "metadata": {},
   "outputs": [
    {
     "name": "stdout",
     "output_type": "stream",
     "text": [
      "<class 'tuple'>\n"
     ]
    }
   ],
   "source": [
    "w=(12,434,33,222)\n",
    "print(type(w))"
   ]
  },
  {
   "cell_type": "code",
   "execution_count": 2,
   "id": "79443059-ada5-46ef-a465-42e3dcf55c9a",
   "metadata": {},
   "outputs": [
    {
     "name": "stdout",
     "output_type": "stream",
     "text": [
      "<class 'tuple'>\n"
     ]
    }
   ],
   "source": [
    "w=12,434,33,222\n",
    "print(type(w))"
   ]
  },
  {
   "cell_type": "code",
   "execution_count": 5,
   "id": "f3c9d698-47dd-451f-93df-ac484db0abf8",
   "metadata": {},
   "outputs": [
    {
     "name": "stdout",
     "output_type": "stream",
     "text": [
      "<class 'tuple'>\n"
     ]
    }
   ],
   "source": [
    "w=tuple((12,434,33,222))\n",
    "print(type(w))"
   ]
  },
  {
   "cell_type": "code",
   "execution_count": 6,
   "id": "5297f63a-e3ba-49e3-bfeb-37b6aa3fea27",
   "metadata": {},
   "outputs": [
    {
     "name": "stdout",
     "output_type": "stream",
     "text": [
      "<class 'tuple'>\n"
     ]
    }
   ],
   "source": [
    "w=(12,434,33,222)\n",
    "print(type(w))"
   ]
  },
  {
   "cell_type": "code",
   "execution_count": null,
   "id": "6d1b353c-48a3-495a-a64f-bf8f4162e937",
   "metadata": {},
   "outputs": [],
   "source": [
    "w=(12,434,33,223,222)\n",
    "k=list(w)\n",
    "k=[1]=1111\n",
    "w=tuple("
   ]
  },
  {
   "cell_type": "code",
   "execution_count": null,
   "id": "3f785895-1f04-41ee-b937-05d41106c3f6",
   "metadata": {},
   "outputs": [],
   "source": [
    "DICTIONARY"
   ]
  }
 ],
 "metadata": {
  "kernelspec": {
   "display_name": "Python 3 (ipykernel)",
   "language": "python",
   "name": "python3"
  },
  "language_info": {
   "codemirror_mode": {
    "name": "ipython",
    "version": 3
   },
   "file_extension": ".py",
   "mimetype": "text/x-python",
   "name": "python",
   "nbconvert_exporter": "python",
   "pygments_lexer": "ipython3",
   "version": "3.12.7"
  }
 },
 "nbformat": 4,
 "nbformat_minor": 5
}
