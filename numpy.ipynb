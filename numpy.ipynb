{
 "cells": [
  {
   "cell_type": "markdown",
   "id": "e0e2005a-f147-4f32-ac56-19cd59ef4788",
   "metadata": {},
   "source": [
    "# ARRAY"
   ]
  },
  {
   "cell_type": "code",
   "execution_count": 5,
   "id": "62effb10-b168-4c1b-977c-221079cb0b34",
   "metadata": {},
   "outputs": [],
   "source": [
    "# 1D \n",
    "import numpy as np\n"
   ]
  },
  {
   "cell_type": "code",
   "execution_count": 6,
   "id": "f441c559-9d9e-4317-a6ae-e52c8b427a76",
   "metadata": {},
   "outputs": [
    {
     "name": "stdout",
     "output_type": "stream",
     "text": [
      "1D array:\n",
      "[1 2 3 4]\n"
     ]
    }
   ],
   "source": [
    "array_id = np.array([1,2,3,4])\n",
    "print(\"1D array:\")\n",
    "print(array_id)"
   ]
  },
  {
   "cell_type": "code",
   "execution_count": 10,
   "id": "49b01c65-0b43-4ab4-bb82-b911841c6f1c",
   "metadata": {},
   "outputs": [
    {
     "name": "stdout",
     "output_type": "stream",
     "text": [
      "1D array:\n",
      "[[[1 2 3 4 5 6]]]\n"
     ]
    },
    {
     "data": {
      "text/plain": [
       "3"
      ]
     },
     "execution_count": 10,
     "metadata": {},
     "output_type": "execute_result"
    }
   ],
   "source": [
    "array_id = np.array([[[1,2,3,4,5,6]]])\n",
    "print(\"1D array:\")\n",
    "print(array_id)\n",
    "array_id.ndim    # used to find dimension of an array"
   ]
  },
  {
   "cell_type": "code",
   "execution_count": 26,
   "id": "7a6c0e12-ba6d-4765-a3f4-ba8a33c0438f",
   "metadata": {},
   "outputs": [
    {
     "name": "stdout",
     "output_type": "stream",
     "text": [
      "\n",
      "2D array:\n",
      "[[1 2 3]\n",
      " [4 5 6]]\n"
     ]
    },
    {
     "data": {
      "text/plain": [
       "(1, 3, 2)"
      ]
     },
     "execution_count": 26,
     "metadata": {},
     "output_type": "execute_result"
    }
   ],
   "source": [
    "# 2 D\n",
    "array_2d = np.array([[1,2,3],[4,5,6]])\n",
    "\n",
    "print(\"\\n2D array:\")\n",
    "print(array_2d)   \n",
    "array_2d.ndim\n",
    "array_3d.shape"
   ]
  },
  {
   "cell_type": "code",
   "execution_count": 16,
   "id": "b57062d0-0ead-47dc-a8d3-af11cc52d387",
   "metadata": {},
   "outputs": [
    {
     "name": "stdout",
     "output_type": "stream",
     "text": [
      "\n",
      "3D array:\n",
      "[[[1 2 3]\n",
      "  [4 5 6]\n",
      "  [8 9 1]]]\n"
     ]
    },
    {
     "data": {
      "text/plain": [
       "3"
      ]
     },
     "execution_count": 16,
     "metadata": {},
     "output_type": "execute_result"
    }
   ],
   "source": [
    "# 3 D  ----collection of 2D\n",
    "\n",
    "array_3d = np.array([[[1,2,3],[4,5,6],[8,9,1]]])\n",
    "\n",
    "print(\"\\n3D array:\")\n",
    "print(array_3d)   \n",
    "array_3d.ndim\n",
    "array_3d.shape"
   ]
  },
  {
   "cell_type": "code",
   "execution_count": 44,
   "id": "584cd83a-031d-4fb6-a3c8-612c855ba950",
   "metadata": {},
   "outputs": [
    {
     "name": "stdout",
     "output_type": "stream",
     "text": [
      "\n",
      "3D array:\n",
      "[[[1 2]\n",
      "  [3 4]\n",
      "  [5 6]]\n",
      "\n",
      " [[1 2]\n",
      "  [3 4]\n",
      "  [5 6]]\n",
      "\n",
      " [[1 2]\n",
      "  [3 4]\n",
      "  [5 6]]\n",
      "\n",
      " [[1 2]\n",
      "  [3 4]\n",
      "  [5 6]]]\n"
     ]
    },
    {
     "data": {
      "text/plain": [
       "(4, 3, 2)"
      ]
     },
     "execution_count": 44,
     "metadata": {},
     "output_type": "execute_result"
    }
   ],
   "source": [
    "# create a 3d array of a shape [4,3,2]\n",
    "\n",
    "array_3d = np.array([[[1,2],[3,4],[5,6]],\n",
    "                     [[1,2],[3,4],[5,6]],\n",
    "                     [[1,2],[3,4],[5,6]],\n",
    "                     [[1,2],[3,4],[5,6]]])\n",
    "\n",
    "print(\"\\n3D array:\")\n",
    "print(array_3d)   \n",
    "array_3d.ndim\n",
    "array_3d.shape"
   ]
  },
  {
   "cell_type": "code",
   "execution_count": 42,
   "id": "61089c28-2c2c-4968-856a-80aeba2a945b",
   "metadata": {},
   "outputs": [
    {
     "name": "stdout",
     "output_type": "stream",
     "text": [
      "addition: [[16 10 14]]\n",
      "substraction: [[ 4  0 -2]]\n",
      "multiplication: [[60 25 48]]\n",
      "division: [[1.66666667 1.         0.75      ]]\n"
     ]
    }
   ],
   "source": [
    "# creating two numpy arrays\n",
    "arr1 = np.array([[10,5,6]])\n",
    "arr2 = np.array([[6,5,8]])\n",
    "\n",
    "# Addition\n",
    "add_result= arr1+arr2\n",
    "print(\"addition:\", add_result)\n",
    "\n",
    "# Substraction\n",
    "s_result= arr1-arr2\n",
    "print(\"substraction:\", s_result)\n",
    "\n",
    "# Multiplication\n",
    "m_result= arr1*arr2\n",
    "print(\"multiplication:\", m_result)\n",
    "\n",
    "# division\n",
    "d_result= arr1/arr2\n",
    "print(\"division:\", d_result)"
   ]
  },
  {
   "cell_type": "markdown",
   "id": "1c2e7228-e7d5-4f94-ad12-f93e67330246",
   "metadata": {},
   "source": [
    "# HOMEWORK"
   ]
  },
  {
   "cell_type": "code",
   "execution_count": 3,
   "id": "d111ccb8-674e-40ed-a515-0357a9af3e31",
   "metadata": {},
   "outputs": [
    {
     "name": "stdout",
     "output_type": "stream",
     "text": [
      "[0. 0. 0. 0. 0.]\n"
     ]
    }
   ],
   "source": [
    "#  1- How do you create a one-dimensional array in Python using NumPy with 5 elements, all set to zero?\n",
    "import numpy as np\n",
    "v = np.zeros(5)\n",
    "print(v)"
   ]
  },
  {
   "cell_type": "code",
   "execution_count": 5,
   "id": "494aa409-67df-449e-a402-e114a88c5c41",
   "metadata": {},
   "outputs": [
    {
     "name": "stdout",
     "output_type": "stream",
     "text": [
      "[1 2 3 4 5]\n"
     ]
    }
   ],
   "source": [
    "# 2- Write a simple Python code to create a one-dimensional array with the numbers 1, 2, 3, 4, 5 using NumPy.\n",
    "\n",
    "t= np.array([1,2,3,4,5])\n",
    "print(t)"
   ]
  },
  {
   "cell_type": "code",
   "execution_count": 10,
   "id": "d1afbc46-d4b6-46e7-85d1-a76195641a1d",
   "metadata": {},
   "outputs": [
    {
     "name": "stdout",
     "output_type": "stream",
     "text": [
      "[[1. 1. 1.]\n",
      " [1. 1. 1.]]\n"
     ]
    }
   ],
   "source": [
    "# 3- what is the code to create a 2x3 two-dimensional array in NumPy, filled with ones?\n",
    "\n",
    "p=np.ones((2,3))\n",
    "print(p)"
   ]
  },
  {
   "cell_type": "code",
   "execution_count": 15,
   "id": "2f1a3114-cba5-4618-9877-ea8639cd185b",
   "metadata": {},
   "outputs": [
    {
     "name": "stdout",
     "output_type": "stream",
     "text": [
      "[[[10 10]\n",
      "  [10 10]]\n",
      "\n",
      " [[10 10]\n",
      "  [10 10]]]\n"
     ]
    }
   ],
   "source": [
    "# 4- Explain how to create a 2x2x2 three-dimensional array in NumPy with all elements set to 10.\n",
    "\n",
    "s=np.full((2,2,2),10)          # np.full is used for constant value\n",
    "print(s)"
   ]
  },
  {
   "cell_type": "code",
   "execution_count": 13,
   "id": "d00bd4fc-7f48-4aa4-9423-1cfcb78b4367",
   "metadata": {},
   "outputs": [
    {
     "name": "stdout",
     "output_type": "stream",
     "text": [
      "[3 4 5 6]\n"
     ]
    }
   ],
   "source": [
    "# 5- How can you add 2 to every element in a one-dimensional NumPy array with values [1, 2, 3, 4]? Show the code.\n",
    "import numpy as np\n",
    "\n",
    "t=np.array([1,2,3,4])\n",
    "k=t+2                 # variable + no.\n",
    "print(k)"
   ]
  },
  {
   "cell_type": "code",
   "execution_count": 14,
   "id": "0a1b6dec-2008-46ac-9a2e-8906708d8ecf",
   "metadata": {},
   "outputs": [
    {
     "name": "stdout",
     "output_type": "stream",
     "text": [
      "[12 18 24  6]\n"
     ]
    }
   ],
   "source": [
    "#  6-  Write a Python code to multiply each element in a one-dimensional NumPy array [2, 4, 6] by 3.\n",
    "import numpy as np\n",
    "\n",
    "c=np.array([4,6,8,2])\n",
    "k=c*3\n",
    "print(k)"
   ]
  },
  {
   "cell_type": "code",
   "execution_count": 20,
   "id": "39cab226-8d65-4b06-a45b-5e7ae8c25f98",
   "metadata": {},
   "outputs": [
    {
     "name": "stdout",
     "output_type": "stream",
     "text": [
      "[[2 4]\n",
      " [6 8]]\n"
     ]
    }
   ],
   "source": [
    "# 7- How do you create a 2x2 two-dimensional array and add it to another 2x2 array with the same values in NumPy? Provide an example.\n",
    "\n",
    "c=np.array([[1,2],\n",
    "            [3,4]])\n",
    "t=np.array([[1,2],\n",
    "            [3,4]])\n",
    "p=c+t\n",
    "print(p)"
   ]
  },
  {
   "cell_type": "code",
   "execution_count": 24,
   "id": "66139e58-ca57-4b6a-8f39-52ae29eba158",
   "metadata": {},
   "outputs": [
    {
     "name": "stdout",
     "output_type": "stream",
     "text": [
      "[[1 2 3]\n",
      " [4 5 6]]\n"
     ]
    }
   ],
   "source": [
    "# 8- Show how to reshape a one-dimensional NumPy array with 6 elements [1, 2, 3, 4, 5, 6] into a 2x3 two-dimensional array.\n",
    "\n",
    "v=np.array([1, 2, 3, 4, 5, 6])\n",
    "\n",
    "\n",
    "reshaped_v=v.reshape(2, 3)\n",
    "print(reshaped_v)"
   ]
  },
  {
   "cell_type": "code",
   "execution_count": 12,
   "id": "bd492982-aec4-4a1e-af1f-6a634188dc36",
   "metadata": {},
   "outputs": [
    {
     "name": "stdout",
     "output_type": "stream",
     "text": [
      "[[3 2 1]\n",
      " [1 1 4]\n",
      " [3 9 8]]\n",
      "[[1 2 3]\n",
      " [1 1 4]\n",
      " [3 8 9]]\n"
     ]
    }
   ],
   "source": [
    "# sorting of 2d row wise\n",
    "arr2d=np.array([[3,2,1],[1,1,4],[3,9,8]])\n",
    "sorted_arr2d=np.sort(arr2d,axis=1)\n",
    "print(arr2d)\n",
    "print(sorted_arr2d)"
   ]
  },
  {
   "cell_type": "code",
   "execution_count": 4,
   "id": "32955227-e74e-4449-a82f-758489210cdf",
   "metadata": {},
   "outputs": [
    {
     "name": "stdout",
     "output_type": "stream",
     "text": [
      "[1 2 5 8 9]\n"
     ]
    }
   ],
   "source": [
    "#  1- How do you create a 1D NumPy array with the values [5, 2, 8, 1, 9] and sort it in ascending order\n",
    "import numpy as np\n",
    "p=np.array([5,2,8,1,9])\n",
    "sorted_p=np.sort(p)       # this function is used to sort array in asec.\n",
    "print(sorted_p)"
   ]
  },
  {
   "cell_type": "code",
   "execution_count": 6,
   "id": "8eae195f-5631-490e-a736-c5361b378f38",
   "metadata": {},
   "outputs": [
    {
     "name": "stdout",
     "output_type": "stream",
     "text": [
      "[9 8 5 2 1]\n"
     ]
    }
   ],
   "source": [
    "#  2- Write code to sort a 1D NumPy array containing the values [10, 3, 7, 4, 6] in descending order\n",
    "\n",
    "\n",
    "import numpy as np\n",
    "p=np.array([5,2,8,1,9])\n",
    "sorted_p=np.sort(p)[::-1]     # this function is used to sort array in descending order.\n",
    "print(sorted_p)"
   ]
  },
  {
   "cell_type": "code",
   "execution_count": 3,
   "id": "9edd3eae-2daf-4550-950b-1ea515a096cb",
   "metadata": {},
   "outputs": [
    {
     "name": "stdout",
     "output_type": "stream",
     "text": [
      "[[ 2  5  8 54]\n",
      " [ 1  1  3  4]\n",
      " [ 2  4  6  8]]\n"
     ]
    }
   ],
   "source": [
    "#  3- Given a 2D NumPy array [[4, 1, 3], [9, 5, 2]], how do you sort each row in ascending order\n",
    "import numpy as np\n",
    "c=np.array([[5,8,54,2],\n",
    "            [1,1,4,3],\n",
    "            [8,6,2,4]])\n",
    "sorted_c=np.sort(c)\n",
    "print (sorted_c)"
   ]
  },
  {
   "cell_type": "code",
   "execution_count": 16,
   "id": "a8f54bf2-f5a1-4359-bfbc-139b35835cdc",
   "metadata": {},
   "outputs": [
    {
     "name": "stdout",
     "output_type": "stream",
     "text": [
      "[[1 2 3]\n",
      " [7 8 6]]\n"
     ]
    }
   ],
   "source": [
    "#  4- How can you sort a 2D NumPy array [[7, 2, 6], [1, 8, 3]] along the columns (axis=0)\n",
    "t=np.array([[7,2,6],\n",
    "           [1,8,3]])\n",
    "sorted_t=np.sort(t,axis=0)          \n",
    "print(sorted_t)"
   ]
  },
  {
   "cell_type": "code",
   "execution_count": 17,
   "id": "c9860726-a8d6-47ed-8331-c47cbc892646",
   "metadata": {},
   "outputs": [
    {
     "name": "stdout",
     "output_type": "stream",
     "text": [
      "[1 2 3 4 5]\n"
     ]
    }
   ],
   "source": [
    "# 5- Create a 1D NumPy array with values [1, 2, 3, 4, 5] and delete the element at indexweek3. How would you do this using NumPy\n",
    "r=np.array([1,2,3,4,5])\n",
    "np.delete(r,3)          # this function is used to delete value in the array\n",
    "print(r)"
   ]
  },
  {
   "cell_type": "code",
   "execution_count": 25,
   "id": "abf52fc2-b024-45de-90ca-8c1f963f1ba6",
   "metadata": {},
   "outputs": [
    {
     "name": "stdout",
     "output_type": "stream",
     "text": [
      "[[4 5 6]]\n"
     ]
    }
   ],
   "source": [
    "#  6- Given a 2D NumPy array [[1, 2, 3], [4, 5, 6]], how do you delete the first row\n",
    "y=np.array([[1,2,3],[4,5,6]])\n",
    "k=np.delete(y,0,axis=0)\n",
    "print(k)"
   ]
  },
  {
   "cell_type": "code",
   "execution_count": 27,
   "id": "bb0b047d-2f45-43c6-92bb-c64fde1c9a54",
   "metadata": {},
   "outputs": [
    {
     "name": "stdout",
     "output_type": "stream",
     "text": [
      "[[10 30]\n",
      " [40 60]]\n"
     ]
    }
   ],
   "source": [
    "#  7 - How do you delete the second column from a 2D NumPy array [[10, 20, 30], [40, 50, 60]]\n",
    "o=np.array([[10,20,30],[40,50,60]])\n",
    "h=np.delete(o,1,axis=1)\n",
    "print(h)"
   ]
  },
  {
   "cell_type": "code",
   "execution_count": 28,
   "id": "816a77b1-fac0-4a99-ad5b-4623ec47074c",
   "metadata": {},
   "outputs": [
    {
     "name": "stdout",
     "output_type": "stream",
     "text": [
      "[100 100  70]\n"
     ]
    }
   ],
   "source": [
    "# 8 - Write code to add two 1D NumPy arrays [1, 2, 3] and [4, 5, 6] element-wise.\n",
    "import numpy as np\n",
    "\n",
    "f=np.array([50,20,30])\n",
    "j=np.array([50,80,40])\n",
    "t=f+j\n",
    "print(t)"
   ]
  },
  {
   "cell_type": "code",
   "execution_count": 29,
   "id": "df3c68ab-1405-47c9-8586-4ee6d67c41a0",
   "metadata": {},
   "outputs": [
    {
     "name": "stdout",
     "output_type": "stream",
     "text": [
      "[[ 6  8]\n",
      " [10 12]]\n"
     ]
    }
   ],
   "source": [
    "# 9- How do you perform element-wise addition of two 2D NumPy arrays [[1, 2], [3, 4]] and [[5, 6], [7, 8]]\n",
    "import numpy as np\n",
    "a=np.array([[1,2],[3,4]])\n",
    "b=np.array([[5,6],[7,8]])\n",
    "h=a+b\n",
    "print(h)"
   ]
  },
  {
   "cell_type": "code",
   "execution_count": 6,
   "id": "2a26f59c-ba62-4f6d-afa8-3c8c0da2437c",
   "metadata": {},
   "outputs": [
    {
     "name": "stdout",
     "output_type": "stream",
     "text": [
      "[0]\n",
      "[2]\n",
      "[-1]\n"
     ]
    }
   ],
   "source": [
    "# indexing of numpy\n",
    "arr = np.array([10,20,30,40,50])\n",
    "print([0])\n",
    "print([2])\n",
    "print([-1])"
   ]
  },
  {
   "cell_type": "code",
   "execution_count": 7,
   "id": "db878823-1e93-41b6-8489-b058a4241042",
   "metadata": {},
   "outputs": [
    {
     "name": "stdout",
     "output_type": "stream",
     "text": [
      "[[3 4]\n",
      " [7 8]]\n"
     ]
    }
   ],
   "source": [
    "arr2d=np.array([[1,2,3,4],\n",
    "                [5,6,7,8],\n",
    "                [9,10,11,12]])\n",
    "print(arr2d[:2,2:4])    # output [[7 8]\n",
    "                        #         [11 12]"
   ]
  },
  {
   "cell_type": "code",
   "execution_count": 9,
   "id": "96837c36-c56c-4e25-a15e-46b2babf3f24",
   "metadata": {},
   "outputs": [
    {
     "name": "stdout",
     "output_type": "stream",
     "text": [
      "[ 9 10 11 12]\n"
     ]
    }
   ],
   "source": [
    "import numpy as np\n",
    "arr2d=np.array([[1,2,3,4],\n",
    "                [5,6,7,8],\n",
    "                [9,10,11,12]])\n",
    "print(arr2d[2,:])"
   ]
  },
  {
   "cell_type": "code",
   "execution_count": 2,
   "id": "732652a6-d7bb-4130-a33b-e03da63a5721",
   "metadata": {},
   "outputs": [
    {
     "name": "stdout",
     "output_type": "stream",
     "text": [
      "[[[ 1  2  3]\n",
      "  [ 4  5  6]]\n",
      "\n",
      " [[ 7  8  9]\n",
      "  [10 11 12]]]\n",
      "[5 6]\n"
     ]
    }
   ],
   "source": [
    "\n",
    "\n",
    "\n",
    "\n",
    "\n",
    "import numpy as np\n",
    "arr3d=np.array([[[1,2,3],[4,5,6]],\n",
    "               [[7,8,9],[10,11,12]]])\n",
    "print(arr3d)\n",
    "print(arr3d[0,1,1:])"
   ]
  },
  {
   "cell_type": "code",
   "execution_count": 6,
   "id": "1991eb9f-8bc2-465e-b78c-bcd4686605cd",
   "metadata": {},
   "outputs": [
    {
     "name": "stdout",
     "output_type": "stream",
     "text": [
      "[[1 2]\n",
      " [1 2]]\n",
      "\n",
      "[[1 2]\n",
      " [1 2]]\n",
      "[[3 6]\n",
      " [3 6]]\n",
      "[[3 6]\n",
      " [3 6]]\n"
     ]
    }
   ],
   "source": [
    "import numpy as np\n",
    "var=np.matrix([[1,2],[1,2]])\n",
    "var1=np.matrix([[1,2],[1,2]])\n",
    "print(var)\n",
    "print()\n",
    "print(var1)\n",
    "print(var*var1)\n",
    "print(var.dot(var1))"
   ]
  },
  {
   "cell_type": "code",
   "execution_count": 11,
   "id": "8ff89979-70fb-423e-b430-95e35ccecc32",
   "metadata": {},
   "outputs": [
    {
     "name": "stdout",
     "output_type": "stream",
     "text": [
      "[[1 2 3]\n",
      " [4 5 6]]\n",
      "\n",
      "[[1 4]\n",
      " [2 5]\n",
      " [3 6]]\n",
      "[[1 1]\n",
      " [2 2]]\n"
     ]
    }
   ],
   "source": [
    "import numpy as np\n",
    "p=np.matrix([[1,2,3],[4,5,6]])\n",
    "print(p)\n",
    "print()\n",
    "print(np.transpose(p))\n",
    "print(np.swapaxes(var,0,1))"
   ]
  },
  {
   "cell_type": "markdown",
   "id": "94ea69d6-dded-4fc1-bfd2-ac46607ce0ee",
   "metadata": {},
   "source": []
  },
  {
   "cell_type": "code",
   "execution_count": null,
   "id": "621066b2-6660-4ae7-9e67-e3ca6c568e2d",
   "metadata": {},
   "outputs": [],
   "source": []
  }
 ],
 "metadata": {
  "kernelspec": {
   "display_name": "Python 3 (ipykernel)",
   "language": "python",
   "name": "python3"
  },
  "language_info": {
   "codemirror_mode": {
    "name": "ipython",
    "version": 3
   },
   "file_extension": ".py",
   "mimetype": "text/x-python",
   "name": "python",
   "nbconvert_exporter": "python",
   "pygments_lexer": "ipython3",
   "version": "3.12.7"
  }
 },
 "nbformat": 4,
 "nbformat_minor": 5
}
