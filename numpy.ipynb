{
 "cells": [
  {
   "cell_type": "markdown",
   "id": "e0e2005a-f147-4f32-ac56-19cd59ef4788",
   "metadata": {},
   "source": [
    "# ARRAY"
   ]
  },
  {
   "cell_type": "code",
   "execution_count": 5,
   "id": "62effb10-b168-4c1b-977c-221079cb0b34",
   "metadata": {},
   "outputs": [],
   "source": [
    "# 1D \n",
    "import numpy as np\n"
   ]
  },
  {
   "cell_type": "code",
   "execution_count": 6,
   "id": "f441c559-9d9e-4317-a6ae-e52c8b427a76",
   "metadata": {},
   "outputs": [
    {
     "name": "stdout",
     "output_type": "stream",
     "text": [
      "1D array:\n",
      "[1 2 3 4]\n"
     ]
    }
   ],
   "source": [
    "array_id = np.array([1,2,3,4])\n",
    "print(\"1D array:\")\n",
    "print(array_id)"
   ]
  },
  {
   "cell_type": "code",
   "execution_count": 10,
   "id": "49b01c65-0b43-4ab4-bb82-b911841c6f1c",
   "metadata": {},
   "outputs": [
    {
     "name": "stdout",
     "output_type": "stream",
     "text": [
      "1D array:\n",
      "[[[1 2 3 4 5 6]]]\n"
     ]
    },
    {
     "data": {
      "text/plain": [
       "3"
      ]
     },
     "execution_count": 10,
     "metadata": {},
     "output_type": "execute_result"
    }
   ],
   "source": [
    "array_id = np.array([[[1,2,3,4,5,6]]])\n",
    "print(\"1D array:\")\n",
    "print(array_id)\n",
    "array_id.ndim    # used to find dimension of an array"
   ]
  },
  {
   "cell_type": "code",
   "execution_count": 26,
   "id": "7a6c0e12-ba6d-4765-a3f4-ba8a33c0438f",
   "metadata": {},
   "outputs": [
    {
     "name": "stdout",
     "output_type": "stream",
     "text": [
      "\n",
      "2D array:\n",
      "[[1 2 3]\n",
      " [4 5 6]]\n"
     ]
    },
    {
     "data": {
      "text/plain": [
       "(1, 3, 2)"
      ]
     },
     "execution_count": 26,
     "metadata": {},
     "output_type": "execute_result"
    }
   ],
   "source": [
    "# 2 D\n",
    "array_2d = np.array([[1,2,3],[4,5,6]])\n",
    "\n",
    "print(\"\\n2D array:\")\n",
    "print(array_2d)   \n",
    "array_2d.ndim\n",
    "array_3d.shape"
   ]
  },
  {
   "cell_type": "code",
   "execution_count": 16,
   "id": "b57062d0-0ead-47dc-a8d3-af11cc52d387",
   "metadata": {},
   "outputs": [
    {
     "name": "stdout",
     "output_type": "stream",
     "text": [
      "\n",
      "3D array:\n",
      "[[[1 2 3]\n",
      "  [4 5 6]\n",
      "  [8 9 1]]]\n"
     ]
    },
    {
     "data": {
      "text/plain": [
       "3"
      ]
     },
     "execution_count": 16,
     "metadata": {},
     "output_type": "execute_result"
    }
   ],
   "source": [
    "# 3 D  ----collection of 2D\n",
    "\n",
    "array_3d = np.array([[[1,2,3],[4,5,6],[8,9,1]]])\n",
    "\n",
    "print(\"\\n3D array:\")\n",
    "print(array_3d)   \n",
    "array_3d.ndim\n",
    "array_3d.shape"
   ]
  },
  {
   "cell_type": "code",
   "execution_count": 44,
   "id": "584cd83a-031d-4fb6-a3c8-612c855ba950",
   "metadata": {},
   "outputs": [
    {
     "name": "stdout",
     "output_type": "stream",
     "text": [
      "\n",
      "3D array:\n",
      "[[[1 2]\n",
      "  [3 4]\n",
      "  [5 6]]\n",
      "\n",
      " [[1 2]\n",
      "  [3 4]\n",
      "  [5 6]]\n",
      "\n",
      " [[1 2]\n",
      "  [3 4]\n",
      "  [5 6]]\n",
      "\n",
      " [[1 2]\n",
      "  [3 4]\n",
      "  [5 6]]]\n"
     ]
    },
    {
     "data": {
      "text/plain": [
       "(4, 3, 2)"
      ]
     },
     "execution_count": 44,
     "metadata": {},
     "output_type": "execute_result"
    }
   ],
   "source": [
    "# create a 3d array of a shape [4,3,2]\n",
    "\n",
    "array_3d = np.array([[[1,2],[3,4],[5,6]],\n",
    "                     [[1,2],[3,4],[5,6]],\n",
    "                     [[1,2],[3,4],[5,6]],\n",
    "                     [[1,2],[3,4],[5,6]]])\n",
    "\n",
    "print(\"\\n3D array:\")\n",
    "print(array_3d)   \n",
    "array_3d.ndim\n",
    "array_3d.shape"
   ]
  },
  {
   "cell_type": "code",
   "execution_count": 42,
   "id": "61089c28-2c2c-4968-856a-80aeba2a945b",
   "metadata": {},
   "outputs": [
    {
     "name": "stdout",
     "output_type": "stream",
     "text": [
      "addition: [[16 10 14]]\n",
      "substraction: [[ 4  0 -2]]\n",
      "multiplication: [[60 25 48]]\n",
      "division: [[1.66666667 1.         0.75      ]]\n"
     ]
    }
   ],
   "source": [
    "# creating two numpy arrays\n",
    "arr1 = np.array([[10,5,6]])\n",
    "arr2 = np.array([[6,5,8]])\n",
    "\n",
    "# Addition\n",
    "add_result= arr1+arr2\n",
    "print(\"addition:\", add_result)\n",
    "\n",
    "# Substraction\n",
    "s_result= arr1-arr2\n",
    "print(\"substraction:\", s_result)\n",
    "\n",
    "# Multiplication\n",
    "m_result= arr1*arr2\n",
    "print(\"multiplication:\", m_result)\n",
    "\n",
    "# division\n",
    "d_result= arr1/arr2\n",
    "print(\"division:\", d_result)"
   ]
  },
  {
   "cell_type": "markdown",
   "id": "1c2e7228-e7d5-4f94-ad12-f93e67330246",
   "metadata": {},
   "source": [
    "# HOMEWORK"
   ]
  },
  {
   "cell_type": "code",
   "execution_count": 3,
   "id": "d111ccb8-674e-40ed-a515-0357a9af3e31",
   "metadata": {},
   "outputs": [
    {
     "name": "stdout",
     "output_type": "stream",
     "text": [
      "[0. 0. 0. 0. 0.]\n"
     ]
    }
   ],
   "source": [
    "#   How do you create a one-dimensional array in Python using NumPy with 5 elements, all set to zero?\n",
    "import numpy as np\n",
    "v = np.zeros(5)\n",
    "print(v)"
   ]
  },
  {
   "cell_type": "code",
   "execution_count": 5,
   "id": "494aa409-67df-449e-a402-e114a88c5c41",
   "metadata": {},
   "outputs": [
    {
     "name": "stdout",
     "output_type": "stream",
     "text": [
      "[1 2 3 4 5]\n"
     ]
    }
   ],
   "source": [
    "#  Write a simple Python code to create a one-dimensional array with the numbers 1, 2, 3, 4, 5 using NumPy.\n",
    "\n",
    "t= np.array([1,2,3,4,5])\n",
    "print(t)"
   ]
  },
  {
   "cell_type": "code",
   "execution_count": 10,
   "id": "d1afbc46-d4b6-46e7-85d1-a76195641a1d",
   "metadata": {},
   "outputs": [
    {
     "name": "stdout",
     "output_type": "stream",
     "text": [
      "[[1. 1. 1.]\n",
      " [1. 1. 1.]]\n"
     ]
    }
   ],
   "source": [
    "#  what is the code to create a 2x3 two-dimensional array in NumPy, filled with ones?\n",
    "\n",
    "p=np.ones((2,3))\n",
    "print(p)"
   ]
  },
  {
   "cell_type": "code",
   "execution_count": 15,
   "id": "2f1a3114-cba5-4618-9877-ea8639cd185b",
   "metadata": {},
   "outputs": [
    {
     "name": "stdout",
     "output_type": "stream",
     "text": [
      "[[[10 10]\n",
      "  [10 10]]\n",
      "\n",
      " [[10 10]\n",
      "  [10 10]]]\n"
     ]
    }
   ],
   "source": [
    "#  Explain how to create a 2x2x2 three-dimensional array in NumPy with all elements set to 10.\n",
    "\n",
    "s=np.full((2,2,2),10)          # np.full is used for constant value\n",
    "print(s)"
   ]
  },
  {
   "cell_type": "code",
   "execution_count": 13,
   "id": "d00bd4fc-7f48-4aa4-9423-1cfcb78b4367",
   "metadata": {},
   "outputs": [
    {
     "name": "stdout",
     "output_type": "stream",
     "text": [
      "[3 4 5 6]\n"
     ]
    }
   ],
   "source": [
    "#  How can you add 2 to every element in a one-dimensional NumPy array with values [1, 2, 3, 4]? Show the code.\n",
    "import numpy as np\n",
    "\n",
    "t=np.array([1,2,3,4])\n",
    "k=t+2                 # variable + no.\n",
    "print(k)"
   ]
  },
  {
   "cell_type": "code",
   "execution_count": 14,
   "id": "0a1b6dec-2008-46ac-9a2e-8906708d8ecf",
   "metadata": {},
   "outputs": [
    {
     "name": "stdout",
     "output_type": "stream",
     "text": [
      "[12 18 24  6]\n"
     ]
    }
   ],
   "source": [
    "#   Write a Python code to multiply each element in a one-dimensional NumPy array [2, 4, 6] by 3.\n",
    "import numpy as np\n",
    "\n",
    "c=np.array([4,6,8,2])\n",
    "k=c*3\n",
    "print(k)"
   ]
  },
  {
   "cell_type": "code",
   "execution_count": 20,
   "id": "39cab226-8d65-4b06-a45b-5e7ae8c25f98",
   "metadata": {},
   "outputs": [
    {
     "name": "stdout",
     "output_type": "stream",
     "text": [
      "[[2 4]\n",
      " [6 8]]\n"
     ]
    }
   ],
   "source": [
    "#  How do you create a 2x2 two-dimensional array and add it to another 2x2 array with the same values in NumPy? Provide an example.\n",
    "\n",
    "c=np.array([[1,2],\n",
    "            [3,4]])\n",
    "t=np.array([[1,2],\n",
    "            [3,4]])\n",
    "p=c+t\n",
    "print(p)"
   ]
  },
  {
   "cell_type": "code",
   "execution_count": 24,
   "id": "66139e58-ca57-4b6a-8f39-52ae29eba158",
   "metadata": {},
   "outputs": [
    {
     "name": "stdout",
     "output_type": "stream",
     "text": [
      "[[1 2 3]\n",
      " [4 5 6]]\n"
     ]
    }
   ],
   "source": [
    "#  Show how to reshape a one-dimensional NumPy array with 6 elements [1, 2, 3, 4, 5, 6] into a 2x3 two-dimensional array.\n",
    "\n",
    "v=np.array([1, 2, 3, 4, 5, 6])\n",
    "\n",
    "\n",
    "reshaped_v=v.reshape(2, 3)\n",
    "print(reshaped_v)"
   ]
  },
  {
   "cell_type": "code",
   "execution_count": 9,
   "id": "bd492982-aec4-4a1e-af1f-6a634188dc36",
   "metadata": {},
   "outputs": [
    {
     "name": "stdout",
     "output_type": "stream",
     "text": [
      "[[3 2 1]\n",
      " [1 1 4]\n",
      " [3 9 8]]\n",
      "[[1 2 3]\n",
      " [1 1 4]\n",
      " [3 8 9]]\n"
     ]
    }
   ],
   "source": [
    "# ssorting of 2d row wise\n",
    "arr2d=np.array([[3,2,1],[1,1,4],[3,9,8]])\n",
    "sorted_arr2d=np.sort(arr2d,axis=1)\n",
    "print(arr2d)\n",
    "print(sorted_arr2d)"
   ]
  },
  {
   "cell_type": "code",
   "execution_count": null,
   "id": "32955227-e74e-4449-a82f-758489210cdf",
   "metadata": {},
   "outputs": [],
   "source": []
  }
 ],
 "metadata": {
  "kernelspec": {
   "display_name": "Python 3 (ipykernel)",
   "language": "python",
   "name": "python3"
  },
  "language_info": {
   "codemirror_mode": {
    "name": "ipython",
    "version": 3
   },
   "file_extension": ".py",
   "mimetype": "text/x-python",
   "name": "python",
   "nbconvert_exporter": "python",
   "pygments_lexer": "ipython3",
   "version": "3.12.7"
  }
 },
 "nbformat": 4,
 "nbformat_minor": 5
}
