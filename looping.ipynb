{
 "cells": [
  {
   "cell_type": "code",
   "execution_count": 3,
   "id": "db1bd5c6-40cb-4d65-9921-8ab1f998fad0",
   "metadata": {},
   "outputs": [
    {
     "name": "stdout",
     "output_type": "stream",
     "text": [
      "chandigarh\n",
      "welcome\n",
      "your value is 0\n",
      "chandigarh\n",
      "welcome\n",
      "your value is 1\n",
      "chandigarh\n",
      "welcome\n",
      "your value is 2\n",
      "chandigarh\n",
      "welcome\n",
      "your value is 3\n",
      "chandigarh\n",
      "welcome\n",
      "your value is 4\n"
     ]
    }
   ],
   "source": [
    "for chandigarh in range(5):\n",
    "    print(\"chandigarh\")\n",
    "    print(\"welcome\")\n",
    "    print(\"your value is\",chandigarh)\n"
   ]
  },
  {
   "cell_type": "code",
   "execution_count": 4,
   "id": "578418ea-9f10-495b-9d53-c91685bce48f",
   "metadata": {},
   "outputs": [
    {
     "name": "stdout",
     "output_type": "stream",
     "text": [
      "your value is 2\n",
      "your value is 3\n",
      "your value is 4\n"
     ]
    }
   ],
   "source": [
    "for chandigarh in range(2,5):\n",
    "      print(\"your value is\",chandigarh)\n"
   ]
  },
  {
   "cell_type": "code",
   "execution_count": 7,
   "id": "5bd2ba03-cb99-47d1-bd4d-8303a0889031",
   "metadata": {},
   "outputs": [
    {
     "name": "stdout",
     "output_type": "stream",
     "text": [
      "your value is 1\n",
      "your value is 3\n",
      "your value is 5\n"
     ]
    }
   ],
   "source": [
    "for chandigarh in range(1,6,2):\n",
    "      print(\"your value is\",chandigarh)"
   ]
  },
  {
   "cell_type": "code",
   "execution_count": 1,
   "id": "64553f2e-27be-45d2-a4ed-0adb5c03f58d",
   "metadata": {},
   "outputs": [
    {
     "name": "stdout",
     "output_type": "stream",
     "text": [
      "your value is 10\n",
      "your value is 9\n",
      "your value is 8\n",
      "your value is 7\n",
      "your value is 6\n",
      "your value is 5\n",
      "your value is 4\n",
      "your value is 3\n",
      "your value is 2\n",
      "your value is 1\n"
     ]
    }
   ],
   "source": [
    "for chandigarh in range(10,0,-1):\n",
    "      print(\"your value is\",chandigarh)"
   ]
  },
  {
   "cell_type": "code",
   "execution_count": 11,
   "id": "4052f7ac-e4c7-479b-b3c2-3c215cda7b51",
   "metadata": {},
   "outputs": [
    {
     "name": "stdin",
     "output_type": "stream",
     "text": [
      "decide the loop size 5\n"
     ]
    },
    {
     "name": "stdout",
     "output_type": "stream",
     "text": [
      "1\n",
      "2\n",
      "3\n",
      "4\n",
      "5\n"
     ]
    }
   ],
   "source": [
    "n=int(input(\"decide the loop size\"))\n",
    "for i in range(1,n+1):\n",
    "    print(i)"
   ]
  },
  {
   "cell_type": "code",
   "execution_count": null,
   "id": "4bf5b888-c7ca-4a2a-bf13-8457815fe716",
   "metadata": {},
   "outputs": [],
   "source": [
    "n=int(input(\"decide the loop size\"))\n",
    "for i in range(1,n):\n",
    "    if i==5:\n",
    "        break\n",
    "     print(\"your value is\",i)"
   ]
  },
  {
   "cell_type": "code",
   "execution_count": 2,
   "id": "1696c189-f45f-479c-b9e0-fa1005e6a0ac",
   "metadata": {},
   "outputs": [
    {
     "name": "stdin",
     "output_type": "stream",
     "text": [
      "decide the loop size 10\n"
     ]
    },
    {
     "name": "stdout",
     "output_type": "stream",
     "text": [
      "your value is 1\n",
      "your value is 2\n",
      "your value is 3\n",
      "your value is 4\n",
      "your value is 6\n",
      "your value is 8\n",
      "your value is 9\n"
     ]
    }
   ],
   "source": [
    "n=int(input(\"decide the loop size\"))\n",
    "for i in range(1,n):\n",
    "    if i==5 or i==7:\n",
    "        continue\n",
    "    print(\"your value is\",i)"
   ]
  },
  {
   "cell_type": "code",
   "execution_count": 3,
   "id": "f433afa8-3a74-4613-8185-c1ed7c0942d0",
   "metadata": {},
   "outputs": [
    {
     "name": "stdin",
     "output_type": "stream",
     "text": [
      "enter any number to find the factorial 3\n"
     ]
    },
    {
     "name": "stdout",
     "output_type": "stream",
     "text": [
      "factorial is 6\n"
     ]
    }
   ],
   "source": [
    "n=int(input(\"enter any number to find the factorial\"))\n",
    "fact=1\n",
    "for i in range(1,n+1):\n",
    "    fact*=i\n",
    "print(\"factorial is\",fact)"
   ]
  },
  {
   "cell_type": "code",
   "execution_count": null,
   "id": "7693e45a-dfe4-4fa4-9ba0-cb2c40db1b76",
   "metadata": {},
   "outputs": [],
   "source": [
    "n=int(input(\"enter loop size\"))\n",
    "i=1\n",
    "sum=0\n",
    "while i<=n:\n",
    "    sum=sum+i;\n",
    "    i=i+1\n",
    "print(sum)"
   ]
  },
  {
   "cell_type": "code",
   "execution_count": null,
   "id": "aea786c4-1aef-4c1a-9111-643b4e285dea",
   "metadata": {},
   "outputs": [
    {
     "name": "stdin",
     "output_type": "stream",
     "text": [
      "enter loop size 3\n"
     ]
    },
    {
     "name": "stdout",
     "output_type": "stream",
     "text": [
      "value is 1\n"
     ]
    }
   ],
   "source": [
    "n=int(input(\"enter loop size\"))\n",
    "i=0\n",
    "\n",
    "while i<n:\n",
    "    if i==2:\n",
    "         continue\n",
    "    print(\"value is\",1)\n",
    "    i=1+1"
   ]
  },
  {
   "cell_type": "code",
   "execution_count": 11,
   "id": "27c53fa9-5cef-419c-822e-8130d51af380",
   "metadata": {},
   "outputs": [
    {
     "name": "stdout",
     "output_type": "stream",
     "text": [
      "your value is 2.3\n",
      "your z value is 2\n"
     ]
    }
   ],
   "source": [
    "a=2.3\n",
    "z=int(a)\n",
    "print(\"your value is\",a)\n",
    "print(\"your z value is\",z)\n"
   ]
  },
  {
   "cell_type": "code",
   "execution_count": 5,
   "id": "87135002-9a0a-4169-9634-f2ba010bd04c",
   "metadata": {},
   "outputs": [
    {
     "name": "stdout",
     "output_type": "stream",
     "text": [
      "ans is 6\n"
     ]
    }
   ],
   "source": [
    "import math\n",
    "k=5.8\n",
    "z=round(k)\n",
    "print(\"ans is\",z)\n"
   ]
  },
  {
   "cell_type": "code",
   "execution_count": 9,
   "id": "52638e50-39a2-4e71-9d92-6c5257aea091",
   "metadata": {},
   "outputs": [
    {
     "name": "stdout",
     "output_type": "stream",
     "text": [
      "3 number is prime\n"
     ]
    }
   ],
   "source": [
    "#### ask=int(input(\"enter any number t0 check prime or not\"))\n",
    "flag=True\n",
    "for i in range(2,ask):\n",
    "    if ask%i==0:\n",
    "        flag=False\n",
    "        break\n",
    "\n",
    "if flag==True:\n",
    "    print(ask,\"number is prime\")\n",
    "else:\n",
    "    print(ask,\"number is not prime\")\n",
    "        "
   ]
  },
  {
   "cell_type": "code",
   "execution_count": 20,
   "id": "5ff1ee45-3910-4170-b630-08889101ad63",
   "metadata": {},
   "outputs": [
    {
     "name": "stdin",
     "output_type": "stream",
     "text": [
      "enter first number: 8\n",
      "enter second number: 6\n"
     ]
    },
    {
     "name": "stdout",
     "output_type": "stream",
     "text": [
      "14\n"
     ]
    }
   ],
   "source": [
    "d=int(input(\"enter first number:\"))\n",
    "e=int(input(\"enter second number:\"))\n",
    "print(d+e)"
   ]
  },
  {
   "cell_type": "code",
   "execution_count": 21,
   "id": "1fa9ae2b-370c-470f-b31e-2f6fc62cc6c0",
   "metadata": {},
   "outputs": [
    {
     "name": "stdout",
     "output_type": "stream",
     "text": [
      "PRINCE\n"
     ]
    }
   ],
   "source": [
    "p=\"prince\"\n",
    "print(p.upper())"
   ]
  },
  {
   "cell_type": "code",
   "execution_count": 25,
   "id": "35605ca5-60db-4636-81db-64a674c57cee",
   "metadata": {},
   "outputs": [
    {
     "name": "stdout",
     "output_type": "stream",
     "text": [
      "<class 'list'>\n"
     ]
    }
   ],
   "source": [
    "data=[12,343,22,111,12,8]\n",
    "print(type(data))\n",
    "LIST............\n",
    "\n"
   ]
  },
  {
   "cell_type": "code",
   "execution_count": 28,
   "id": "997412d2-e36b-4db3-b163-cbe0b62bd045",
   "metadata": {},
   "outputs": [
    {
     "name": "stdout",
     "output_type": "stream",
     "text": [
      "<class 'list'>\n"
     ]
    }
   ],
   "source": [
    "data=list((12,343,22,111,12,8))\n",
    "print(type(data))"
   ]
  },
  {
   "cell_type": "code",
   "execution_count": 30,
   "id": "79d4f5a7-8fc6-4332-8148-6f4771c904f8",
   "metadata": {},
   "outputs": [
    {
     "name": "stdout",
     "output_type": "stream",
     "text": [
      "prince\n"
     ]
    }
   ],
   "source": [
    "data=[12,343,\"prince\",22,111,12,8]\n",
    "print(data[2])"
   ]
  },
  {
   "cell_type": "code",
   "execution_count": 31,
   "id": "6650aac9-7e12-4f09-aa27-8f28dba7d25a",
   "metadata": {},
   "outputs": [
    {
     "name": "stdout",
     "output_type": "stream",
     "text": [
      "[343, 'prince', 22]\n"
     ]
    }
   ],
   "source": [
    "data=[12,343,\"prince\",22,111,12,8]\n",
    "print(data[1:4])"
   ]
  },
  {
   "cell_type": "code",
   "execution_count": 1,
   "id": "81c2085b-aa39-4d4c-b56b-cdda4413a709",
   "metadata": {},
   "outputs": [
    {
     "name": "stdout",
     "output_type": "stream",
     "text": [
      "total elements are 7\n"
     ]
    }
   ],
   "source": [
    "data=[12,343,\"prince\",22,111,12,8]\n",
    "total=len(data)\n",
    "print(\"total elements are\",total)"
   ]
  },
  {
   "cell_type": "code",
   "execution_count": 9,
   "id": "af3dcf87-b223-4b2d-acbf-dea154942bed",
   "metadata": {},
   "outputs": [
    {
     "name": "stdout",
     "output_type": "stream",
     "text": [
      "maximum element is  343\n"
     ]
    }
   ],
   "source": [
    "w=[12,343,22,111,12,8]\n",
    "e=max(w)\n",
    "print(\"maximum element is \",e)\n"
   ]
  },
  {
   "cell_type": "code",
   "execution_count": 16,
   "id": "cbfa8463-5783-424d-a5b8-f51d9df2afeb",
   "metadata": {},
   "outputs": [
    {
     "name": "stdout",
     "output_type": "stream",
     "text": [
      "[12, 34, 124, 44]\n",
      "[12, 400, 124, 44]\n"
     ]
    }
   ],
   "source": [
    "w=[12,34,124,44]\n",
    "print(w)\n",
    "w[1]=400\n",
    "print(w)"
   ]
  },
  {
   "cell_type": "code",
   "execution_count": 15,
   "id": "860a61f8-4b1f-4c9c-ba82-6e899ed5ba84",
   "metadata": {},
   "outputs": [
    {
     "name": "stdout",
     "output_type": "stream",
     "text": [
      "[12, 'ram', 34, 124, 44]\n"
     ]
    }
   ],
   "source": [
    "w=[12,34,124,44]\n",
    "w.insert(1,\"ram\")\n",
    "print(w)"
   ]
  },
  {
   "cell_type": "code",
   "execution_count": 18,
   "id": "00f17fe8-34e5-4ac7-a096-3e17d22b9655",
   "metadata": {},
   "outputs": [
    {
     "name": "stdout",
     "output_type": "stream",
     "text": [
      "[]\n"
     ]
    }
   ],
   "source": [
    "w=[12,34,124,44]\n",
    "w.clear()\n",
    "print(w)"
   ]
  },
  {
   "cell_type": "code",
   "execution_count": 19,
   "id": "d2b3d35d-3534-403c-bfd3-db7d9fdebbe9",
   "metadata": {},
   "outputs": [
    {
     "name": "stdout",
     "output_type": "stream",
     "text": [
      "[12, 124, 44]\n"
     ]
    }
   ],
   "source": [
    "w=[12,34,124,44]\n",
    "w.pop(1)\n",
    "print(w)"
   ]
  },
  {
   "cell_type": "code",
   "execution_count": 20,
   "id": "3661b6d9-feaf-4319-b7db-0bb09cd22ed9",
   "metadata": {},
   "outputs": [
    {
     "name": "stdout",
     "output_type": "stream",
     "text": [
      "[12, 34, 44]\n"
     ]
    }
   ],
   "source": [
    "w=[12,34,124,44]\n",
    "w.remove(124)\n",
    "print(w)"
   ]
  },
  {
   "cell_type": "code",
   "execution_count": 21,
   "id": "e30803a2-5f0d-4765-9f48-700f5ce9328d",
   "metadata": {},
   "outputs": [
    {
     "name": "stdout",
     "output_type": "stream",
     "text": [
      "3\n"
     ]
    }
   ],
   "source": [
    "w=[12,34,124,34,124,34,44]\n",
    "d=w.count(34)\n",
    "print(d)"
   ]
  },
  {
   "cell_type": "code",
   "execution_count": 22,
   "id": "636b6519-539c-4c01-bbd5-7189b085f938",
   "metadata": {},
   "outputs": [
    {
     "name": "stdout",
     "output_type": "stream",
     "text": [
      "[24, 56, 34, 56, 58, 96]\n"
     ]
    }
   ],
   "source": [
    "k=[24,56,34]\n",
    "s=[56,58,96]\n",
    "k.extend(s)\n",
    "print(k)"
   ]
  },
  {
   "cell_type": "code",
   "execution_count": 24,
   "id": "1da94e99-fe83-487d-8431-66346a0ec366",
   "metadata": {},
   "outputs": [
    {
     "name": "stdout",
     "output_type": "stream",
     "text": [
      "[34, 56, 24]\n"
     ]
    }
   ],
   "source": [
    "k=[24,56,34]\n",
    "s=[56,58,96]\n",
    "k.reverse()\n",
    "print(k)"
   ]
  },
  {
   "cell_type": "code",
   "execution_count": 25,
   "id": "c81a3ef5-7fb0-4bde-b0ff-25c6445c416d",
   "metadata": {},
   "outputs": [
    {
     "name": "stdout",
     "output_type": "stream",
     "text": [
      "[24, 34, 56]\n"
     ]
    }
   ],
   "source": [
    "k=[24,56,34]\n",
    "k.sort()\n",
    "print(k)"
   ]
  },
  {
   "cell_type": "code",
   "execution_count": 27,
   "id": "c038b88f-d3bb-42e3-bbf3-629af7e90b0a",
   "metadata": {},
   "outputs": [
    {
     "name": "stdout",
     "output_type": "stream",
     "text": [
      "[56, 34, 24]\n"
     ]
    }
   ],
   "source": [
    "k=[24,56,34]\n",
    "k.sort(reverse=True)\n",
    "print(k)"
   ]
  },
  {
   "cell_type": "code",
   "execution_count": 31,
   "id": "c7892753-dddf-446a-9fa8-d1e95c0261ed",
   "metadata": {},
   "outputs": [
    {
     "name": "stdout",
     "output_type": "stream",
     "text": [
      "3\n"
     ]
    }
   ],
   "source": [
    "k=[24,56,34,5555,54565]\n",
    "q=k.index(5555)\n",
    "print(q)\n"
   ]
  },
  {
   "cell_type": "code",
   "execution_count": 34,
   "id": "72294d79-f77f-439d-99e9-99ad4b9cdd22",
   "metadata": {},
   "outputs": [
    {
     "name": "stdout",
     "output_type": "stream",
     "text": [
      "list elements are\n",
      "24\n",
      "56\n",
      "34\n",
      "54565\n"
     ]
    }
   ],
   "source": [
    "k=[24,56,34,5555,54565]\n",
    "print(\"list elements are\")\n",
    "for mohali in k:\n",
    "    if mohali==5555:\n",
    "        continue\n",
    "    print(mohali)"
   ]
  },
  {
   "cell_type": "code",
   "execution_count": 35,
   "id": "3b8558c9-d3c3-40a8-91a4-8592e7864549",
   "metadata": {},
   "outputs": [
    {
     "name": "stdout",
     "output_type": "stream",
     "text": [
      "list elements are\n",
      "24\n",
      "56\n",
      "34\n",
      "5555\n",
      "54565\n"
     ]
    }
   ],
   "source": [
    "k=[24,56,34,5555,54565]\n",
    "total=len(k)\n",
    "print(\"list elements are\")\n",
    "for index in range(total):\n",
    "    print(k[index])"
   ]
  },
  {
   "cell_type": "code",
   "execution_count": 36,
   "id": "819dfd42-0f48-42cb-abf7-2764bcc3c228",
   "metadata": {},
   "outputs": [
    {
     "name": "stdout",
     "output_type": "stream",
     "text": [
      "24\n",
      "56\n",
      "34\n",
      "5555\n",
      "54565\n"
     ]
    }
   ],
   "source": [
    "k=[24,56,34,5555,54565]\n",
    "total=len(k)\n",
    "i=0\n",
    "while i<total:\n",
    "    print(k[i])\n",
    "    i=i+1"
   ]
  },
  {
   "cell_type": "code",
   "execution_count": 37,
   "id": "fbf3b778-7e83-4e14-9d36-2aa2a0222c80",
   "metadata": {
    "scrolled": true
   },
   "outputs": [
    {
     "name": "stdout",
     "output_type": "stream",
     "text": [
      "maximum element is 60\n"
     ]
    }
   ],
   "source": [
    "k=[45,60,7,21]\n",
    "max=k[0]\n",
    "total=len(k)\n",
    "\n",
    "for i in range(total):\n",
    "    if max<k[i]:\n",
    "        max=k[i]\n",
    "\n",
    "print(\"maximum element is\",max)"
   ]
  },
  {
   "cell_type": "code",
   "execution_count": null,
   "id": "5764d711-dfd3-4513-a8f6-b7c18e67d634",
   "metadata": {},
   "outputs": [],
   "source": [
    "n=int(input(\"decide the loop size\"))\n",
    "i=1\n",
    "while i<n:\n",
    "    \n",
    "    if i=5:\n",
    "        break\n",
    "    print(\"value is\",i)\n",
    "    i+=1\n",
    "    "
   ]
  },
  {
   "cell_type": "code",
   "execution_count": null,
   "id": "14c0c03e-bae7-49d8-a1c2-f47a7a48e1b2",
   "metadata": {},
   "outputs": [],
   "source": [
    "n=int(input(\"decide the loop \"))\n",
    "i=3\n",
    "while i<n:\n",
    "    if i==5:\n",
    "        continue\n",
    "    print(\"value is\",i)\n",
    "    i+=3"
   ]
  },
  {
   "cell_type": "code",
   "execution_count": null,
   "id": "b520e1c1-01d2-49d4-aa65-6afd5c93983c",
   "metadata": {},
   "outputs": [],
   "source": []
  }
 ],
 "metadata": {
  "kernelspec": {
   "display_name": "Python 3 (ipykernel)",
   "language": "python",
   "name": "python3"
  },
  "language_info": {
   "codemirror_mode": {
    "name": "ipython",
    "version": 3
   },
   "file_extension": ".py",
   "mimetype": "text/x-python",
   "name": "python",
   "nbconvert_exporter": "python",
   "pygments_lexer": "ipython3",
   "version": "3.12.7"
  }
 },
 "nbformat": 4,
 "nbformat_minor": 5
}
