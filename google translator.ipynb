{
 "cells": [
  {
   "cell_type": "code",
   "execution_count": 7,
   "id": "2a22a42e-ab23-4c00-8a01-cae8a79785c6",
   "metadata": {},
   "outputs": [
    {
     "name": "stdout",
     "output_type": "stream",
     "text": [
      "Enter Any Things Else in English And Convert in Any Language\n"
     ]
    },
    {
     "name": "stdin",
     "output_type": "stream",
     "text": [
      " my name is\n"
     ]
    },
    {
     "name": "stdout",
     "output_type": "stream",
     "text": [
      "Choose Your Language\n",
      "Type it........\n",
      "For Hindi Type hi\n",
      "For Punjabi Type pa\n"
     ]
    },
    {
     "name": "stdin",
     "output_type": "stream",
     "text": [
      " hi\n"
     ]
    },
    {
     "name": "stdout",
     "output_type": "stream",
     "text": [
      "मेरा नाम है\n"
     ]
    }
   ],
   "source": [
    "import requests\n",
    "\n",
    "url = \"https://free-google-translator.p.rapidapi.com/external-api/free-google-translator\"\n",
    "print(\"Enter Any Things Else in English And Convert in Any Language\")\n",
    "ask=input()\n",
    "print(\"Choose Your Language\")\n",
    "print(\"Type it........\")\n",
    "print(\"For Hindi Type hi\")\n",
    "print(\"For Punjabi Type pa\")\n",
    "lang=input()\n",
    "\n",
    "querystring = {\"from\":\"en\",\"to\":lang,\"query\":ask}\n",
    "\n",
    "payload = { \"translate\": \"rapidapi\" }\n",
    "headers = {\n",
    "\t\"x-rapidapi-key\": \"4789ba070bmshc1612d6bb2fa65dp1a298cjsn56c33621fc0e\",\n",
    "\t\"x-rapidapi-host\": \"free-google-translator.p.rapidapi.com\",\n",
    "\t\"Content-Type\": \"application/json\"\n",
    "}\n",
    "\n",
    "response = requests.post(url, json=payload, headers=headers, params=querystring)\n",
    "\n",
    "w=(response.json())\n",
    "print(w[\"translation\"])\n"
   ]
  },
  {
   "cell_type": "code",
   "execution_count": null,
   "id": "e6a9b8a8-fe36-47bc-bf1d-86da0b8db8bf",
   "metadata": {},
   "outputs": [],
   "source": []
  }
 ],
 "metadata": {
  "kernelspec": {
   "display_name": "Python 3 (ipykernel)",
   "language": "python",
   "name": "python3"
  },
  "language_info": {
   "codemirror_mode": {
    "name": "ipython",
    "version": 3
   },
   "file_extension": ".py",
   "mimetype": "text/x-python",
   "name": "python",
   "nbconvert_exporter": "python",
   "pygments_lexer": "ipython3",
   "version": "3.12.7"
  }
 },
 "nbformat": 4,
 "nbformat_minor": 5
}
