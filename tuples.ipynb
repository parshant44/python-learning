{
 "cells": [
  {
   "cell_type": "code",
   "execution_count": 1,
   "id": "8e1ef862-7568-4bb5-87d1-1c0623e1e106",
   "metadata": {},
   "outputs": [
    {
     "name": "stdout",
     "output_type": "stream",
     "text": [
      "<class 'tuple'>\n"
     ]
    }
   ],
   "source": [
    "w=(12,434,33,222)\n",
    "print(type(w))"
   ]
  },
  {
   "cell_type": "code",
   "execution_count": 2,
   "id": "79443059-ada5-46ef-a465-42e3dcf55c9a",
   "metadata": {},
   "outputs": [
    {
     "name": "stdout",
     "output_type": "stream",
     "text": [
      "<class 'tuple'>\n"
     ]
    }
   ],
   "source": [
    "w=12,434,33,222\n",
    "print(type(w))"
   ]
  },
  {
   "cell_type": "code",
   "execution_count": 5,
   "id": "f3c9d698-47dd-451f-93df-ac484db0abf8",
   "metadata": {},
   "outputs": [
    {
     "name": "stdout",
     "output_type": "stream",
     "text": [
      "<class 'tuple'>\n"
     ]
    }
   ],
   "source": [
    "w=tuple((12,434,33,222))\n",
    "print(type(w))"
   ]
  },
  {
   "cell_type": "code",
   "execution_count": 6,
   "id": "5297f63a-e3ba-49e3-bfeb-37b6aa3fea27",
   "metadata": {},
   "outputs": [
    {
     "name": "stdout",
     "output_type": "stream",
     "text": [
      "<class 'tuple'>\n"
     ]
    }
   ],
   "source": [
    "w=(12,434,33,222)\n",
    "print(type(w))"
   ]
  },
  {
   "cell_type": "code",
   "execution_count": null,
   "id": "6d1b353c-48a3-495a-a64f-bf8f4162e937",
   "metadata": {},
   "outputs": [],
   "source": [
    "w=(12,434,33,223,222)\n",
    "k=list(w)\n",
    "k=[1]=1111\n",
    "w=tuple("
   ]
  },
  {
   "cell_type": "code",
   "execution_count": 4,
   "id": "3f785895-1f04-41ee-b937-05d41106c3f6",
   "metadata": {},
   "outputs": [
    {
     "data": {
      "text/plain": [
       "(2, 8, 3)"
      ]
     },
     "execution_count": 4,
     "metadata": {},
     "output_type": "execute_result"
    }
   ],
   "source": [
    "2,8,3"
   ]
  },
  {
   "cell_type": "markdown",
   "id": "4148c8b0-11f8-4a78-806e-8da4dde7116f",
   "metadata": {},
   "source": [
    "##  Tuple understanding\n",
    "\n",
    "### Tuples are ordered sequence"
   ]
  },
  {
   "cell_type": "code",
   "execution_count": 7,
   "id": "1de8a6be-8970-40a2-ab3e-20d5ebbe651d",
   "metadata": {},
   "outputs": [
    {
     "name": "stdout",
     "output_type": "stream",
     "text": [
      "[24, 56, 52]\n"
     ]
    }
   ],
   "source": [
    "dogs =[24,56,52]\n",
    "print(dogs)"
   ]
  },
  {
   "cell_type": "code",
   "execution_count": 8,
   "id": "36e956de-7e15-4e16-90e8-1d9b9b384b81",
   "metadata": {},
   "outputs": [
    {
     "data": {
      "text/plain": [
       "52"
      ]
     },
     "execution_count": 8,
     "metadata": {},
     "output_type": "execute_result"
    }
   ],
   "source": [
    "dogs[2]"
   ]
  },
  {
   "cell_type": "code",
   "execution_count": 9,
   "id": "4bf24bfd-ab62-4e7b-aca2-298fe01d8ea5",
   "metadata": {},
   "outputs": [
    {
     "ename": "TypeError",
     "evalue": "'str' object does not support item assignment",
     "output_type": "error",
     "traceback": [
      "\u001b[1;31m---------------------------------------------------------------------------\u001b[0m",
      "\u001b[1;31mTypeError\u001b[0m                                 Traceback (most recent call last)",
      "Cell \u001b[1;32mIn[9], line 1\u001b[0m\n\u001b[1;32m----> 1\u001b[0m \u001b[38;5;124m\"\u001b[39m\u001b[38;5;124mparshant\u001b[39m\u001b[38;5;124m\"\u001b[39m[\u001b[38;5;241m0\u001b[39m]\u001b[38;5;241m=\u001b[39m \u001b[38;5;124m\"\u001b[39m\u001b[38;5;124ma\u001b[39m\u001b[38;5;124m\"\u001b[39m\n",
      "\u001b[1;31mTypeError\u001b[0m: 'str' object does not support item assignment"
     ]
    }
   ],
   "source": [
    "\"parshant\"[0]= \"a\""
   ]
  },
  {
   "cell_type": "code",
   "execution_count": 3,
   "id": "e8d701ef-fe9c-4d09-8a26-619991576bca",
   "metadata": {},
   "outputs": [],
   "source": [
    " tu = (1,56,4,85,4,56,)"
   ]
  },
  {
   "cell_type": "code",
   "execution_count": 5,
   "id": "8135c087-b341-41df-afab-2a43f7c1fd67",
   "metadata": {},
   "outputs": [
    {
     "data": {
      "text/plain": [
       "2"
      ]
     },
     "execution_count": 5,
     "metadata": {},
     "output_type": "execute_result"
    }
   ],
   "source": [
    "tu.index(4)"
   ]
  },
  {
   "cell_type": "code",
   "execution_count": 6,
   "id": "0075cf8b-455a-4ded-b815-af709cec98d4",
   "metadata": {},
   "outputs": [
    {
     "data": {
      "text/plain": [
       "2"
      ]
     },
     "execution_count": 6,
     "metadata": {},
     "output_type": "execute_result"
    }
   ],
   "source": [
    "tu.count(4)"
   ]
  },
  {
   "cell_type": "code",
   "execution_count": 27,
   "id": "7ca6e214-07f9-4c8e-a930-05e516b3935f",
   "metadata": {},
   "outputs": [],
   "source": [
    "dice = (1,2,3,4,5,6)    # TUPLES ARE UNCHANGEABLE"
   ]
  },
  {
   "cell_type": "markdown",
   "id": "71754e22-8948-443a-ac02-8f690d9487e9",
   "metadata": {},
   "source": [
    "LIST \n",
    "\n",
    "is an ordered sequence"
   ]
  },
  {
   "cell_type": "code",
   "execution_count": 28,
   "id": "36c73733-454d-4363-8b51-de17248e5a69",
   "metadata": {},
   "outputs": [
    {
     "data": {
      "text/plain": [
       "[8, 4, 6, 2]"
      ]
     },
     "execution_count": 28,
     "metadata": {},
     "output_type": "execute_result"
    }
   ],
   "source": [
    "[8,4,6,2]"
   ]
  },
  {
   "cell_type": "code",
   "execution_count": 29,
   "id": "eac8c428-42c9-47d7-91d9-9d5def3826bf",
   "metadata": {},
   "outputs": [],
   "source": [
    "dogs = [\"tom\", \"kutta\", \"doggy\"]"
   ]
  },
  {
   "cell_type": "code",
   "execution_count": 30,
   "id": "2451ae5f-f159-4fca-9127-75aa42c7d2b2",
   "metadata": {},
   "outputs": [
    {
     "data": {
      "text/plain": [
       "['tom', 'kutta', 'doggy']"
      ]
     },
     "execution_count": 30,
     "metadata": {},
     "output_type": "execute_result"
    }
   ],
   "source": [
    "dogs"
   ]
  },
  {
   "cell_type": "code",
   "execution_count": 31,
   "id": "442979da-8f8c-44f8-8b5b-d041483fc6ea",
   "metadata": {},
   "outputs": [
    {
     "data": {
      "text/plain": [
       "'tom'"
      ]
     },
     "execution_count": 31,
     "metadata": {},
     "output_type": "execute_result"
    }
   ],
   "source": [
    "dogs[0]"
   ]
  },
  {
   "cell_type": "code",
   "execution_count": 32,
   "id": "715c4ea6-ae48-4eab-a2f1-6521f195811c",
   "metadata": {},
   "outputs": [
    {
     "data": {
      "text/plain": [
       "['tom', 'kutta', 'doggy']"
      ]
     },
     "execution_count": 32,
     "metadata": {},
     "output_type": "execute_result"
    }
   ],
   "source": [
    "dogs"
   ]
  },
  {
   "cell_type": "code",
   "execution_count": 35,
   "id": "0f51b867-eebf-4ae3-93ed-6258c80dabb6",
   "metadata": {},
   "outputs": [],
   "source": [
    "dogs[0] = \"jerry\"     # items can change in the list"
   ]
  },
  {
   "cell_type": "code",
   "execution_count": 37,
   "id": "91a042c7-bc49-40dc-9df4-608ebd459296",
   "metadata": {},
   "outputs": [
    {
     "data": {
      "text/plain": [
       "['jerry', 'kutta', 'doggy']"
      ]
     },
     "execution_count": 37,
     "metadata": {},
     "output_type": "execute_result"
    }
   ],
   "source": [
    "dogs"
   ]
  },
  {
   "cell_type": "code",
   "execution_count": 47,
   "id": "0bfa83eb-6d8b-4fd9-9c30-3f3ce5e48d38",
   "metadata": {},
   "outputs": [],
   "source": [
    "li = [5, 5.3, 6+3, \"Parshant Mishra\", (8,5,6,4) ,[\"Parshant\", 4,6], True, False]"
   ]
  },
  {
   "cell_type": "code",
   "execution_count": 48,
   "id": "3c61f483-36ef-4ffd-aaf2-b3455427591a",
   "metadata": {},
   "outputs": [
    {
     "data": {
      "text/plain": [
       "'Parshant Mishra'"
      ]
     },
     "execution_count": 48,
     "metadata": {},
     "output_type": "execute_result"
    }
   ],
   "source": [
    "li[3]"
   ]
  },
  {
   "cell_type": "code",
   "execution_count": 50,
   "id": "b143587f-d6ba-4fcf-9221-8bc37b60607e",
   "metadata": {},
   "outputs": [
    {
     "data": {
      "text/plain": [
       "'Parsh'"
      ]
     },
     "execution_count": 50,
     "metadata": {},
     "output_type": "execute_result"
    }
   ],
   "source": [
    "li[3][0:5]"
   ]
  },
  {
   "cell_type": "code",
   "execution_count": 51,
   "id": "4d930e27-5948-4369-aa3a-f62ce3a85641",
   "metadata": {},
   "outputs": [
    {
     "data": {
      "text/plain": [
       "['Parshant', 4, 6]"
      ]
     },
     "execution_count": 51,
     "metadata": {},
     "output_type": "execute_result"
    }
   ],
   "source": [
    "li[5]"
   ]
  },
  {
   "cell_type": "code",
   "execution_count": 52,
   "id": "2281b905-75a3-4798-a934-00975a4ad0be",
   "metadata": {},
   "outputs": [
    {
     "data": {
      "text/plain": [
       "[5, 5.3, 9, 'Parshant Mishra', (8, 5, 6, 4), ['Parshant', 4, 6], True, False]"
      ]
     },
     "execution_count": 52,
     "metadata": {},
     "output_type": "execute_result"
    }
   ],
   "source": [
    "li"
   ]
  },
  {
   "cell_type": "code",
   "execution_count": 56,
   "id": "a60e9f7d-cceb-48b3-8e21-60f15b12323b",
   "metadata": {},
   "outputs": [
    {
     "data": {
      "text/plain": [
       "['jerry', 'kutta', 'doggy', 'tom']"
      ]
     },
     "execution_count": 56,
     "metadata": {},
     "output_type": "execute_result"
    }
   ],
   "source": [
    "dogs"
   ]
  },
  {
   "cell_type": "code",
   "execution_count": 54,
   "id": "e2fb4331-11a7-4558-a1fa-e3f3eabbe8a3",
   "metadata": {},
   "outputs": [],
   "source": [
    "dogs.append(\"tom\")"
   ]
  },
  {
   "cell_type": "code",
   "execution_count": 57,
   "id": "429c8f79-5708-4eb4-b72c-6ea951761905",
   "metadata": {},
   "outputs": [
    {
     "data": {
      "text/plain": [
       "['jerry', 'kutta', 'doggy', 'tom']"
      ]
     },
     "execution_count": 57,
     "metadata": {},
     "output_type": "execute_result"
    }
   ],
   "source": [
    "dogs"
   ]
  },
  {
   "cell_type": "code",
   "execution_count": 58,
   "id": "566d58db-85e2-404f-99fe-c37c6d3fa16c",
   "metadata": {},
   "outputs": [
    {
     "data": {
      "text/plain": [
       "['jerry', 'kutta', 'doggy', 'tom']"
      ]
     },
     "execution_count": 58,
     "metadata": {},
     "output_type": "execute_result"
    }
   ],
   "source": [
    "dogs"
   ]
  },
  {
   "cell_type": "code",
   "execution_count": 62,
   "id": "f210304f-a81f-4695-a656-1730f0b57a15",
   "metadata": {},
   "outputs": [],
   "source": [
    "stu = [\"a\",\"b\",\"c\",\"d\"]"
   ]
  },
  {
   "cell_type": "code",
   "execution_count": 63,
   "id": "fb7ad8c7-ed02-4305-b233-504905d4f5e6",
   "metadata": {},
   "outputs": [],
   "source": [
    "fail = stu"
   ]
  },
  {
   "cell_type": "code",
   "execution_count": 64,
   "id": "fdb6caf6-6fbc-4a33-be99-e7ffd76b7967",
   "metadata": {},
   "outputs": [
    {
     "data": {
      "text/plain": [
       "['a', 'b', 'c', 'd']"
      ]
     },
     "execution_count": 64,
     "metadata": {},
     "output_type": "execute_result"
    }
   ],
   "source": [
    "fail "
   ]
  },
  {
   "cell_type": "code",
   "execution_count": 65,
   "id": "5e9a1e5c-e766-461a-b968-5039381e93e6",
   "metadata": {},
   "outputs": [],
   "source": [
    "fail[0] = \"ck\""
   ]
  },
  {
   "cell_type": "code",
   "execution_count": 66,
   "id": "bf04a90f-a871-45e4-bd8b-93be148abafd",
   "metadata": {},
   "outputs": [
    {
     "data": {
      "text/plain": [
       "['ck', 'b', 'c', 'd']"
      ]
     },
     "execution_count": 66,
     "metadata": {},
     "output_type": "execute_result"
    }
   ],
   "source": [
    "fail"
   ]
  },
  {
   "cell_type": "code",
   "execution_count": 67,
   "id": "44f21544-ebee-4bb5-ac8d-ad3e51fdae09",
   "metadata": {},
   "outputs": [
    {
     "data": {
      "text/plain": [
       "['ck', 'b', 'c', 'd']"
      ]
     },
     "execution_count": 67,
     "metadata": {},
     "output_type": "execute_result"
    }
   ],
   "source": [
    "stu\n"
   ]
  },
  {
   "cell_type": "code",
   "execution_count": 68,
   "id": "079a5992-a107-4e97-bcff-80ef6d1b5520",
   "metadata": {},
   "outputs": [],
   "source": [
    "a = [1,6,8]"
   ]
  },
  {
   "cell_type": "code",
   "execution_count": 69,
   "id": "b2086be6-c44c-443b-b72b-2a01ca461c23",
   "metadata": {},
   "outputs": [],
   "source": [
    "b = a"
   ]
  },
  {
   "cell_type": "code",
   "execution_count": 70,
   "id": "ca89396f-0d9a-4bb2-ac09-4f5f5647ecdf",
   "metadata": {},
   "outputs": [
    {
     "data": {
      "text/plain": [
       "[1, 6, 8]"
      ]
     },
     "execution_count": 70,
     "metadata": {},
     "output_type": "execute_result"
    }
   ],
   "source": [
    "b"
   ]
  },
  {
   "cell_type": "code",
   "execution_count": 71,
   "id": "d59a87d2-6008-4751-8035-06352dc8cc59",
   "metadata": {},
   "outputs": [],
   "source": [
    "b[1] = 50"
   ]
  },
  {
   "cell_type": "code",
   "execution_count": 72,
   "id": "5008360d-8888-4fbb-9291-7320cbddfcf2",
   "metadata": {},
   "outputs": [
    {
     "data": {
      "text/plain": [
       "[1, 50, 8]"
      ]
     },
     "execution_count": 72,
     "metadata": {},
     "output_type": "execute_result"
    }
   ],
   "source": [
    "b"
   ]
  },
  {
   "cell_type": "code",
   "execution_count": 73,
   "id": "94db867e-91b1-4b4f-bb88-462f398f510b",
   "metadata": {},
   "outputs": [
    {
     "data": {
      "text/plain": [
       "[1, 50, 8]"
      ]
     },
     "execution_count": 73,
     "metadata": {},
     "output_type": "execute_result"
    }
   ],
   "source": [
    "a"
   ]
  },
  {
   "cell_type": "code",
   "execution_count": 75,
   "id": "72092386-74a2-4c25-a42a-dc5377881ac2",
   "metadata": {},
   "outputs": [],
   "source": [
    "b=a.copy()     "
   ]
  },
  {
   "cell_type": "code",
   "execution_count": 76,
   "id": "8d15ffa2-af3c-4d99-9c15-c71d3fa0459b",
   "metadata": {},
   "outputs": [
    {
     "data": {
      "text/plain": [
       "[1, 50, 8]"
      ]
     },
     "execution_count": 76,
     "metadata": {},
     "output_type": "execute_result"
    }
   ],
   "source": [
    "b"
   ]
  },
  {
   "cell_type": "code",
   "execution_count": 77,
   "id": "37c2ec94-599b-4feb-8a50-7df48b8b5c9d",
   "metadata": {},
   "outputs": [
    {
     "data": {
      "text/plain": [
       "['jerry', 'kutta', 'doggy', 'tom']"
      ]
     },
     "execution_count": 77,
     "metadata": {},
     "output_type": "execute_result"
    }
   ],
   "source": [
    "dogs "
   ]
  },
  {
   "cell_type": "code",
   "execution_count": 78,
   "id": "2ad4e242-62d1-48cf-ad7e-03b6bae81a05",
   "metadata": {},
   "outputs": [
    {
     "data": {
      "text/plain": [
       "1"
      ]
     },
     "execution_count": 78,
     "metadata": {},
     "output_type": "execute_result"
    }
   ],
   "source": [
    "dogs.count(\"jerry\")"
   ]
  },
  {
   "cell_type": "code",
   "execution_count": 79,
   "id": "d513f48c-368d-4f34-9dbf-78ba3b5fe2ca",
   "metadata": {},
   "outputs": [],
   "source": [
    "dogs.append(\"tom\")"
   ]
  },
  {
   "cell_type": "code",
   "execution_count": 80,
   "id": "da1ca8d3-9283-4db9-8f85-0da557ce4fe7",
   "metadata": {},
   "outputs": [
    {
     "data": {
      "text/plain": [
       "['jerry', 'kutta', 'doggy', 'tom', 'tom']"
      ]
     },
     "execution_count": 80,
     "metadata": {},
     "output_type": "execute_result"
    }
   ],
   "source": [
    "dogs"
   ]
  },
  {
   "cell_type": "code",
   "execution_count": 81,
   "id": "a798e7d5-a143-499a-bb9a-647d9f5ac6b5",
   "metadata": {},
   "outputs": [
    {
     "data": {
      "text/plain": [
       "1"
      ]
     },
     "execution_count": 81,
     "metadata": {},
     "output_type": "execute_result"
    }
   ],
   "source": [
    "dogs.count(\"jerry\")"
   ]
  },
  {
   "cell_type": "code",
   "execution_count": 92,
   "id": "94d56523-fba9-4997-ac41-279d19d0d012",
   "metadata": {},
   "outputs": [
    {
     "data": {
      "text/plain": [
       "['jerry',\n",
       " 'kutta',\n",
       " 'doggy',\n",
       " 'tom',\n",
       " 'tom',\n",
       " ['sammy', 'rammy', 'jecob'],\n",
       " 'sammy',\n",
       " 'rammy',\n",
       " 'jecob',\n",
       " ['sammy', 'rammy', 'jecob']]"
      ]
     },
     "execution_count": 92,
     "metadata": {},
     "output_type": "execute_result"
    }
   ],
   "source": [
    "dogs"
   ]
  },
  {
   "cell_type": "code",
   "execution_count": 93,
   "id": "b968572c-5de5-4454-9442-30e26337df2f",
   "metadata": {},
   "outputs": [],
   "source": [
    "friend = [\"sammy\", \"rammy\", \"jecob\"]"
   ]
  },
  {
   "cell_type": "code",
   "execution_count": 90,
   "id": "889b499d-d28c-4981-80d2-99dd2af49299",
   "metadata": {},
   "outputs": [],
   "source": [
    "dogs.append(friend)"
   ]
  },
  {
   "cell_type": "code",
   "execution_count": 119,
   "id": "d0dee284-03f4-4503-9d63-f976a323ba57",
   "metadata": {},
   "outputs": [
    {
     "data": {
      "text/plain": [
       "[]"
      ]
     },
     "execution_count": 119,
     "metadata": {},
     "output_type": "execute_result"
    }
   ],
   "source": [
    "dogs"
   ]
  },
  {
   "cell_type": "code",
   "execution_count": 120,
   "id": "cd81559f-ae48-4f8b-b6b2-9befda9709c7",
   "metadata": {},
   "outputs": [
    {
     "ename": "IndexError",
     "evalue": "pop from empty list",
     "output_type": "error",
     "traceback": [
      "\u001b[1;31m---------------------------------------------------------------------------\u001b[0m",
      "\u001b[1;31mIndexError\u001b[0m                                Traceback (most recent call last)",
      "Cell \u001b[1;32mIn[120], line 1\u001b[0m\n\u001b[1;32m----> 1\u001b[0m dogs\u001b[38;5;241m.\u001b[39mpop()\n",
      "\u001b[1;31mIndexError\u001b[0m: pop from empty list"
     ]
    }
   ],
   "source": [
    "dogs.pop()     #  POP IS USED TO REMOVE LAST ITEM IN THE LIST"
   ]
  },
  {
   "cell_type": "code",
   "execution_count": 123,
   "id": "ff266dc7-9419-4906-a32f-9fc9da91a62f",
   "metadata": {},
   "outputs": [],
   "source": [
    "dogs.append(\"doggy\")"
   ]
  },
  {
   "cell_type": "code",
   "execution_count": 124,
   "id": "c92ac33b-b3a1-4f37-ac0f-37248d9d53ec",
   "metadata": {},
   "outputs": [
    {
     "data": {
      "text/plain": [
       "['doggy']"
      ]
     },
     "execution_count": 124,
     "metadata": {},
     "output_type": "execute_result"
    }
   ],
   "source": [
    "dogs"
   ]
  },
  {
   "cell_type": "code",
   "execution_count": 127,
   "id": "015af74e-1ddf-4ed7-b767-9189b333643d",
   "metadata": {},
   "outputs": [],
   "source": [
    "dogs.append(\"kutta\" + \"rammy\")"
   ]
  },
  {
   "cell_type": "code",
   "execution_count": 128,
   "id": "706354c0-52e9-4c82-b47e-7e3effcc189e",
   "metadata": {},
   "outputs": [
    {
     "data": {
      "text/plain": [
       "['doggy', 'kutta, rammy', 'kuttarammy']"
      ]
     },
     "execution_count": 128,
     "metadata": {},
     "output_type": "execute_result"
    }
   ],
   "source": [
    "dogs"
   ]
  },
  {
   "cell_type": "code",
   "execution_count": 129,
   "id": "287f14c2-c11d-4d70-8e7a-cf9229868fb7",
   "metadata": {},
   "outputs": [],
   "source": [
    "dogs.extend(\"sammy\")"
   ]
  },
  {
   "cell_type": "code",
   "execution_count": 130,
   "id": "f35e4360-d18c-441f-b095-4dddc79b9731",
   "metadata": {},
   "outputs": [
    {
     "data": {
      "text/plain": [
       "['doggy', 'kutta, rammy', 'kuttarammy', 's', 'a', 'm', 'm', 'y']"
      ]
     },
     "execution_count": 130,
     "metadata": {},
     "output_type": "execute_result"
    }
   ],
   "source": [
    "dogs"
   ]
  },
  {
   "cell_type": "code",
   "execution_count": 133,
   "id": "30fc5265-96ca-4320-8f24-6b8faa854e13",
   "metadata": {},
   "outputs": [
    {
     "data": {
      "text/plain": [
       "'m'"
      ]
     },
     "execution_count": 133,
     "metadata": {},
     "output_type": "execute_result"
    }
   ],
   "source": [
    "dogs.pop()"
   ]
  },
  {
   "cell_type": "code",
   "execution_count": 138,
   "id": "89a9a6ba-5ad5-443d-8ba4-04f65a272553",
   "metadata": {},
   "outputs": [
    {
     "data": {
      "text/plain": [
       "['doggy', 'kutta, rammy', 'kuttarammy', 's', 'a', 'm']"
      ]
     },
     "execution_count": 138,
     "metadata": {},
     "output_type": "execute_result"
    }
   ],
   "source": [
    "dogs"
   ]
  },
  {
   "cell_type": "code",
   "execution_count": 145,
   "id": "4fd20210-ccce-430a-96cd-c36af301e6e5",
   "metadata": {},
   "outputs": [
    {
     "data": {
      "text/plain": [
       "['doggy', 'kutta, rammy', 'kuttarammy', 's', 'a', 'm']"
      ]
     },
     "execution_count": 145,
     "metadata": {},
     "output_type": "execute_result"
    }
   ],
   "source": [
    "dogs"
   ]
  },
  {
   "cell_type": "code",
   "execution_count": 146,
   "id": "c50a1a86-1d8f-4cdb-a161-012c7f73d442",
   "metadata": {},
   "outputs": [],
   "source": [
    "dogs.sort()"
   ]
  },
  {
   "cell_type": "code",
   "execution_count": 147,
   "id": "a25ac794-6398-40c5-8537-1cfba245a77c",
   "metadata": {},
   "outputs": [
    {
     "data": {
      "text/plain": [
       "['a', 'doggy', 'kutta, rammy', 'kuttarammy', 'm', 's']"
      ]
     },
     "execution_count": 147,
     "metadata": {},
     "output_type": "execute_result"
    }
   ],
   "source": [
    "dogs"
   ]
  },
  {
   "cell_type": "code",
   "execution_count": 148,
   "id": "d4d436c9-5dce-4bb0-ac7e-7ae3c5863b36",
   "metadata": {},
   "outputs": [],
   "source": [
    "li = [85,4,54,2,65]"
   ]
  },
  {
   "cell_type": "code",
   "execution_count": 149,
   "id": "011455dd-180f-4ef1-9a70-f48c9842ba32",
   "metadata": {},
   "outputs": [],
   "source": [
    "li.sort()         # ASE"
   ]
  },
  {
   "cell_type": "code",
   "execution_count": 150,
   "id": "6e8935d6-2af6-4894-b374-3f639c06e75a",
   "metadata": {},
   "outputs": [
    {
     "data": {
      "text/plain": [
       "[2, 4, 54, 65, 85]"
      ]
     },
     "execution_count": 150,
     "metadata": {},
     "output_type": "execute_result"
    }
   ],
   "source": [
    "li"
   ]
  },
  {
   "cell_type": "code",
   "execution_count": 151,
   "id": "ebe14d75-dbe9-4386-8d36-f44870a18ed4",
   "metadata": {},
   "outputs": [
    {
     "data": {
      "text/plain": [
       "[2, 4, 54, 65, 85]"
      ]
     },
     "execution_count": 151,
     "metadata": {},
     "output_type": "execute_result"
    }
   ],
   "source": [
    "li"
   ]
  },
  {
   "cell_type": "code",
   "execution_count": 152,
   "id": "c1919f8e-a93b-469f-9344-57039dad1f50",
   "metadata": {},
   "outputs": [],
   "source": [
    "li.sort(reverse=True)          # DES"
   ]
  },
  {
   "cell_type": "code",
   "execution_count": 153,
   "id": "e7bb7bc9-b012-4cc6-8558-580b978f52b7",
   "metadata": {},
   "outputs": [
    {
     "data": {
      "text/plain": [
       "[85, 65, 54, 4, 2]"
      ]
     },
     "execution_count": 153,
     "metadata": {},
     "output_type": "execute_result"
    }
   ],
   "source": [
    "li"
   ]
  },
  {
   "cell_type": "code",
   "execution_count": 154,
   "id": "7842e5a3-0a2c-4f0d-91f8-f87585f798f2",
   "metadata": {},
   "outputs": [],
   "source": [
    "dogs.reverse()"
   ]
  },
  {
   "cell_type": "code",
   "execution_count": 155,
   "id": "2a93f91b-c88a-4a68-8ac4-7cc3f495e2da",
   "metadata": {},
   "outputs": [
    {
     "data": {
      "text/plain": [
       "['s', 'm', 'kuttarammy', 'kutta, rammy', 'doggy', 'a']"
      ]
     },
     "execution_count": 155,
     "metadata": {},
     "output_type": "execute_result"
    }
   ],
   "source": [
    "dogs"
   ]
  },
  {
   "cell_type": "code",
   "execution_count": 156,
   "id": "f00ea1a3-595a-4de8-a7f9-682244cb3b60",
   "metadata": {},
   "outputs": [],
   "source": [
    "li.clear()"
   ]
  },
  {
   "cell_type": "code",
   "execution_count": 157,
   "id": "b9fcb18d-4387-453b-aa08-45f652ff5d35",
   "metadata": {},
   "outputs": [
    {
     "data": {
      "text/plain": [
       "[]"
      ]
     },
     "execution_count": 157,
     "metadata": {},
     "output_type": "execute_result"
    }
   ],
   "source": [
    "li             # USED TO CLEAR OR BLANK ALL THE DATA"
   ]
  },
  {
   "cell_type": "code",
   "execution_count": null,
   "id": "880378fd-68c8-4cf0-a42c-47eb78fe3316",
   "metadata": {},
   "outputs": [],
   "source": []
  }
 ],
 "metadata": {
  "kernelspec": {
   "display_name": "Python 3 (ipykernel)",
   "language": "python",
   "name": "python3"
  },
  "language_info": {
   "codemirror_mode": {
    "name": "ipython",
    "version": 3
   },
   "file_extension": ".py",
   "mimetype": "text/x-python",
   "name": "python",
   "nbconvert_exporter": "python",
   "pygments_lexer": "ipython3",
   "version": "3.12.7"
  }
 },
 "nbformat": 4,
 "nbformat_minor": 5
}
