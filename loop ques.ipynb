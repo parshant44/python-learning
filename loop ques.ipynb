{
 "cells": [
  {
   "cell_type": "code",
   "execution_count": 3,
   "id": "cc62a94c-e412-437d-b67d-b2b1dcde152d",
   "metadata": {},
   "outputs": [
    {
     "name": "stdout",
     "output_type": "stream",
     "text": [
      "0\n",
      "1\n",
      "2\n",
      "3\n",
      "4\n",
      "5\n",
      "6\n",
      "7\n",
      "8\n",
      "9\n"
     ]
    }
   ],
   "source": [
    "i=0\n",
    "n=10\n",
    "while i<n:\n",
    "    print(i)\n",
    "    i+=1"
   ]
  },
  {
   "cell_type": "code",
   "execution_count": 4,
   "id": "022a32fd-2e38-4af0-9d33-121552e05be5",
   "metadata": {},
   "outputs": [
    {
     "data": {
      "text/plain": [
       "8"
      ]
     },
     "execution_count": 4,
     "metadata": {},
     "output_type": "execute_result"
    }
   ],
   "source": [
    "name=\"parshant\"\n",
    "len(name)"
   ]
  },
  {
   "cell_type": "code",
   "execution_count": 9,
   "id": "f0bad47b-c349-4d06-94de-f1da2baf848e",
   "metadata": {},
   "outputs": [
    {
     "name": "stdout",
     "output_type": "stream",
     "text": [
      "0\n",
      "1\n",
      "2\n",
      "3\n",
      "4\n",
      "5\n",
      "6\n",
      "7\n",
      "8\n"
     ]
    }
   ],
   "source": [
    "name=\"parshant\"\n",
    "i=0\n",
    "n=len(name)\n",
    "while i<=n:\n",
    "    print(i)\n",
    "    i+=1"
   ]
  },
  {
   "cell_type": "code",
   "execution_count": 10,
   "id": "8ad1358b-b2e0-4114-bb70-9e513b3756b8",
   "metadata": {},
   "outputs": [],
   "source": [
    "d={\"name\": \"parshant\",\"age\": 23, \"edu\":\"bcom\"}"
   ]
  },
  {
   "cell_type": "code",
   "execution_count": 14,
   "id": "c3cf2b99-2dfd-4c57-a9b5-e012e9426304",
   "metadata": {},
   "outputs": [
    {
     "data": {
      "text/plain": [
       "['name', 'age', 'edu']"
      ]
     },
     "execution_count": 14,
     "metadata": {},
     "output_type": "execute_result"
    }
   ],
   "source": [
    "list(d.keys())"
   ]
  },
  {
   "cell_type": "code",
   "execution_count": 20,
   "id": "5b048dd7-3664-4fc2-8557-2dbedef48926",
   "metadata": {},
   "outputs": [
    {
     "name": "stdout",
     "output_type": "stream",
     "text": [
      "parshant\n",
      "23\n",
      "bcom\n"
     ]
    }
   ],
   "source": [
    "d={\"name\": \"parshant\",\"age\": 23, \"edu\":\"bcom\"}\n",
    "i=0\n",
    "n=len(d)\n",
    "k=list(d.keys())\n",
    "\n",
    "while i<n:\n",
    "    key=k[i]\n",
    "    print(d[key])\n",
    "    i+=1"
   ]
  },
  {
   "cell_type": "code",
   "execution_count": 21,
   "id": "ddbd7e66-10c0-41e5-9e78-c9707e0b884e",
   "metadata": {},
   "outputs": [],
   "source": [
    "p=[1,5,6,8,4,8]\n"
   ]
  },
  {
   "cell_type": "code",
   "execution_count": 22,
   "id": "f916b32b-ef90-4054-ba02-ae471af143fc",
   "metadata": {},
   "outputs": [
    {
     "data": {
      "text/plain": [
       "[1, 5, 6, 8, 4, 8]"
      ]
     },
     "execution_count": 22,
     "metadata": {},
     "output_type": "execute_result"
    }
   ],
   "source": [
    "p"
   ]
  },
  {
   "cell_type": "code",
   "execution_count": 23,
   "id": "d6f514c0-08f0-40e6-8b64-147ac3ca5403",
   "metadata": {},
   "outputs": [
    {
     "name": "stdout",
     "output_type": "stream",
     "text": [
      "3 8\n"
     ]
    }
   ],
   "source": [
    "i=0\n",
    "n=len(p)\n",
    "a=0\n",
    "while i<n:\n",
    "    if p[i]>p[a]:\n",
    "        a=i\n",
    "\n",
    "    i+=1\n",
    "\n",
    "print(a, p[a])"
   ]
  },
  {
   "cell_type": "code",
   "execution_count": 27,
   "id": "e4c00c5d-e298-40c6-8f7c-5b4073fd556c",
   "metadata": {},
   "outputs": [
    {
     "name": "stdout",
     "output_type": "stream",
     "text": [
      "0 1 0 1\n",
      "0 1 1 5\n",
      "1 5 2 6\n",
      "2 6 3 8\n",
      "3 8 4 4\n",
      "3 8 5 8\n",
      "3 8\n"
     ]
    }
   ],
   "source": [
    "i=0\n",
    "n=len(p)\n",
    "a=0\n",
    "while i<n:\n",
    "    print(a, p[a], i, p[i])\n",
    "    if p[i]>p[a]:\n",
    "        a=i\n",
    "\n",
    "    i+=1\n",
    "print(a, p[a])"
   ]
  },
  {
   "cell_type": "code",
   "execution_count": 30,
   "id": "991c6bb4-cffa-41a2-8e56-694add660e93",
   "metadata": {},
   "outputs": [
    {
     "name": "stdout",
     "output_type": "stream",
     "text": [
      "1 1\n",
      "5 6\n",
      "6 12\n",
      "8 20\n",
      "4 24\n",
      "8 32\n",
      "32\n"
     ]
    }
   ],
   "source": [
    "a=0\n",
    "i=0\n",
    "n=len(p)\n",
    "while i<n:\n",
    "    a+=p[i]\n",
    "    print(p[i],a)\n",
    "    i+=1\n",
    "\n",
    "print(a)"
   ]
  },
  {
   "cell_type": "code",
   "execution_count": 38,
   "id": "9c4d2f41-d4ec-45a6-8a7c-ad0ccdd31c4f",
   "metadata": {},
   "outputs": [],
   "source": [
    "p.sort()"
   ]
  },
  {
   "cell_type": "code",
   "execution_count": 32,
   "id": "2f93eabf-fe44-4a6f-a28a-9ad129d3da57",
   "metadata": {},
   "outputs": [
    {
     "data": {
      "text/plain": [
       "[1, 4, 5, 6, 8, 8]"
      ]
     },
     "execution_count": 32,
     "metadata": {},
     "output_type": "execute_result"
    }
   ],
   "source": [
    "p"
   ]
  },
  {
   "cell_type": "code",
   "execution_count": 42,
   "id": "37e0aad5-9532-449f-8c43-c16d079bb231",
   "metadata": {},
   "outputs": [
    {
     "data": {
      "text/plain": [
       "3"
      ]
     },
     "execution_count": 42,
     "metadata": {},
     "output_type": "execute_result"
    }
   ],
   "source": [
    "len(p)//2"
   ]
  },
  {
   "cell_type": "code",
   "execution_count": 43,
   "id": "540c0072-567c-46e1-9810-fc46a7d1125b",
   "metadata": {},
   "outputs": [
    {
     "data": {
      "text/plain": [
       "6"
      ]
     },
     "execution_count": 43,
     "metadata": {},
     "output_type": "execute_result"
    }
   ],
   "source": [
    "p[len(p)//2]"
   ]
  },
  {
   "cell_type": "code",
   "execution_count": 55,
   "id": "47b454c0-5f57-4589-9fd3-9b60312bc2ca",
   "metadata": {},
   "outputs": [
    {
     "name": "stdout",
     "output_type": "stream",
     "text": [
      "2\n",
      "3\n",
      "4\n",
      "25is a prime number\n"
     ]
    }
   ],
   "source": [
    " n=25\n",
    "prime=True\n",
    "i=2\n",
    "\n",
    "while i<n:\n",
    "    if n%i==0:\n",
    "        \n",
    "        prime=False\n",
    "        break\n",
    "    print(i)\n",
    "    i+=1\n",
    "\n",
    "if prime:\n",
    "    print(f\"{n}is a prime number\")\n",
    "else:\n",
    "    print(f\"{n}is a prime number\")"
   ]
  },
  {
   "cell_type": "code",
   "execution_count": null,
   "id": "12be4839-d5a2-442e-b098-873ce0b2d316",
   "metadata": {},
   "outputs": [],
   "source": []
  }
 ],
 "metadata": {
  "kernelspec": {
   "display_name": "Python 3 (ipykernel)",
   "language": "python",
   "name": "python3"
  },
  "language_info": {
   "codemirror_mode": {
    "name": "ipython",
    "version": 3
   },
   "file_extension": ".py",
   "mimetype": "text/x-python",
   "name": "python",
   "nbconvert_exporter": "python",
   "pygments_lexer": "ipython3",
   "version": "3.12.7"
  }
 },
 "nbformat": 4,
 "nbformat_minor": 5
}
