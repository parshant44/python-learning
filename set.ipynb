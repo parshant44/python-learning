{
 "cells": [
  {
   "cell_type": "code",
   "execution_count": 1,
   "id": "51e7fed1-2bd8-4e2e-8948-ddd7f947c632",
   "metadata": {},
   "outputs": [
    {
     "name": "stdout",
     "output_type": "stream",
     "text": [
      "<class 'set'>\n"
     ]
    }
   ],
   "source": [
    "w={12,34,12,3433,231}\n",
    "print(type(w))"
   ]
  },
  {
   "cell_type": "code",
   "execution_count": 2,
   "id": "d2ffbca6-e4d9-4364-bd06-5b0fa3838f17",
   "metadata": {},
   "outputs": [
    {
     "name": "stdout",
     "output_type": "stream",
     "text": [
      "<class 'set'>\n"
     ]
    }
   ],
   "source": [
    "w=set((12,34,12,3433,231))\n",
    "print(type(w))"
   ]
  },
  {
   "cell_type": "code",
   "execution_count": 5,
   "id": "96d79aa5-2c55-483e-b215-2ca551ee4f28",
   "metadata": {},
   "outputs": [
    {
     "name": "stdout",
     "output_type": "stream",
     "text": [
      "{3433, 34, 12, 231}\n"
     ]
    }
   ],
   "source": [
    "w={12,34,12,3433,231}\n",
    "print(w)"
   ]
  },
  {
   "cell_type": "code",
   "execution_count": 8,
   "id": "be73281d-26e3-423e-96a4-ca12fbd5257e",
   "metadata": {},
   "outputs": [
    {
     "name": "stdout",
     "output_type": "stream",
     "text": [
      "{34, 4, 5, 90, 12}\n"
     ]
    }
   ],
   "source": [
    "k={12,34,5}\n",
    "s={90,4,12}\n",
    "d=k.union(s)\n",
    "print(d)"
   ]
  },
  {
   "cell_type": "code",
   "execution_count": 9,
   "id": "e306829c-a7c9-4fd1-873b-03953f71caf0",
   "metadata": {},
   "outputs": [
    {
     "name": "stdout",
     "output_type": "stream",
     "text": [
      "{12}\n"
     ]
    }
   ],
   "source": [
    "k={12,34,5}\n",
    "s={90,4,12}\n",
    "d=k.intersection(s)\n",
    "print(d)"
   ]
  },
  {
   "cell_type": "code",
   "execution_count": 13,
   "id": "5b35d021-09eb-4971-a202-d2cb65a3628b",
   "metadata": {},
   "outputs": [
    {
     "name": "stdout",
     "output_type": "stream",
     "text": [
      "{66, 86, 56, 58, 78}\n"
     ]
    }
   ],
   "source": [
    "k={56,58,66,862,78,86}\n",
    "k.pop()\n",
    "print(k)"
   ]
  },
  {
   "cell_type": "code",
   "execution_count": 16,
   "id": "0044583c-bb07-4e25-aa72-7074c1a6cb10",
   "metadata": {},
   "outputs": [
    {
     "name": "stdout",
     "output_type": "stream",
     "text": [
      "{862, 86, 56, 58, 78}\n"
     ]
    }
   ],
   "source": [
    "k={56,58,66,862,78,86}\n",
    "k.remove(66)\n",
    "print(k)"
   ]
  },
  {
   "cell_type": "code",
   "execution_count": 17,
   "id": "32146785-4bad-4ea3-ad37-5019915e8d6b",
   "metadata": {},
   "outputs": [
    {
     "name": "stdout",
     "output_type": "stream",
     "text": [
      "set()\n"
     ]
    }
   ],
   "source": [
    "k={56,58,66,862,78,86}\n",
    "k.clear()\n",
    "print(k)"
   ]
  },
  {
   "cell_type": "code",
   "execution_count": 19,
   "id": "e77facd4-0693-479f-849e-699be6942858",
   "metadata": {},
   "outputs": [
    {
     "name": "stdout",
     "output_type": "stream",
     "text": [
      "{862, 66, 856, 86, 56, 58, 78}\n"
     ]
    }
   ],
   "source": [
    "k={56,58,66,862,78,86}\n",
    "k.add(856)\n",
    "print(k)"
   ]
  },
  {
   "cell_type": "code",
   "execution_count": 20,
   "id": "3f4452a5-8867-4d01-a2df-615370ee3703",
   "metadata": {},
   "outputs": [
    {
     "name": "stdout",
     "output_type": "stream",
     "text": [
      "{96, 66, 78, 85, 86, 56, 58, 862}\n"
     ]
    }
   ],
   "source": [
    "k={56,58,66,862,78,86}\n",
    "z={56,96,56,85}\n",
    "k.update(z)\n",
    "print(k)"
   ]
  },
  {
   "cell_type": "markdown",
   "id": "ba1ecf5a-be32-4109-9ff6-f97246cfa6de",
   "metadata": {},
   "source": [
    "# DICTIONARY"
   ]
  },
  {
   "cell_type": "code",
   "execution_count": 23,
   "id": "36826f72-ef88-4868-9933-e4f433050518",
   "metadata": {},
   "outputs": [
    {
     "name": "stdout",
     "output_type": "stream",
     "text": [
      "14\n"
     ]
    }
   ],
   "source": [
    "record={\"Name\":\"Prince\",\"Roll\":14,'Branch':\"cse\"}\n",
    "print(record[\"Roll\"])"
   ]
  },
  {
   "cell_type": "code",
   "execution_count": 25,
   "id": "0ca0b651-07b9-4e5c-9891-9c64c0430013",
   "metadata": {},
   "outputs": [
    {
     "name": "stdout",
     "output_type": "stream",
     "text": [
      "Prince\n"
     ]
    }
   ],
   "source": [
    "record={\"Name\":\"Prince\",\"Roll\":14,'Branch':\"cse\"}\n",
    "print(record.get(\"Name\"))"
   ]
  },
  {
   "cell_type": "code",
   "execution_count": 28,
   "id": "d82bb342-1924-492a-adb9-83009f9e5f6b",
   "metadata": {},
   "outputs": [
    {
     "name": "stdout",
     "output_type": "stream",
     "text": [
      "dict_keys(['Name', 'Roll', 'Branch'])\n"
     ]
    }
   ],
   "source": [
    "record={\"Name\":\"Prince\",\"Roll\":14,'Branch':\"cse\"}\n",
    "mykeys=record.keys()\n",
    "print(mykeys)"
   ]
  },
  {
   "cell_type": "code",
   "execution_count": 33,
   "id": "d4f3714f-8642-4e24-b096-f4c91aef2197",
   "metadata": {},
   "outputs": [
    {
     "name": "stdout",
     "output_type": "stream",
     "text": [
      "Name\n",
      "Roll\n",
      "Branch\n"
     ]
    }
   ],
   "source": [
    "record={\"Name\":\"Prince\",\"Roll\":14,'Branch':\"cse\"}\n",
    "mykeys=record.keys()\n",
    "for k in mykeys:\n",
    "    print(k)"
   ]
  },
  {
   "cell_type": "code",
   "execution_count": 34,
   "id": "4f9cd025-c2e6-4e67-a1b4-c032cff67cf9",
   "metadata": {},
   "outputs": [
    {
     "name": "stdout",
     "output_type": "stream",
     "text": [
      "{'Name': 'Prince', 'Roll': 70, 'Branch': 'cse'}\n"
     ]
    }
   ],
   "source": [
    "record={\"Name\":\"Prince\",\"Roll\":14,'Branch':\"cse\"}\n",
    "record[\"Roll\"]=70\n",
    "print(record)"
   ]
  },
  {
   "cell_type": "code",
   "execution_count": 35,
   "id": "10ff2d22-2cb6-473a-a8c3-8eacd36f69c2",
   "metadata": {},
   "outputs": [
    {
     "name": "stdout",
     "output_type": "stream",
     "text": [
      "{'Name': 'Prince', 'Roll': 14, 'Branch': 'cse', 'Mobile': 9658585545}\n"
     ]
    }
   ],
   "source": [
    "record={\"Name\":\"Prince\",\"Roll\":14,'Branch':\"cse\"}\n",
    "record.update({\"Mobile\":9658585545})\n",
    "print(record)"
   ]
  },
  {
   "cell_type": "code",
   "execution_count": 36,
   "id": "e45c99da-14e8-47b7-8838-5016ad131678",
   "metadata": {},
   "outputs": [
    {
     "name": "stdout",
     "output_type": "stream",
     "text": [
      "{'Name': 'Prince', 'Roll': 14, 'Branch': 'cse', 'mobile': 9645645754, 'address': 'cse'}\n"
     ]
    }
   ],
   "source": [
    "record={\"Name\":\"Prince\",\"Roll\":14,'Branch':\"cse\"}\n",
    "d={\"mobile\":9645645754,\"address\":\"cse\"}\n",
    "record.update(d)\n",
    "print(record)"
   ]
  },
  {
   "cell_type": "code",
   "execution_count": 37,
   "id": "8418da75-ec09-4b97-99a1-3f51e7dbd935",
   "metadata": {},
   "outputs": [
    {
     "name": "stdout",
     "output_type": "stream",
     "text": [
      "{}\n"
     ]
    }
   ],
   "source": [
    "record={\"Name\":\"Prince\",\"Roll\":14,'Branch':\"cse\"}\n",
    "record.clear()\n",
    "print(record)"
   ]
  },
  {
   "cell_type": "code",
   "execution_count": 39,
   "id": "60eb4617-218a-4375-9ea8-b35b43d36853",
   "metadata": {},
   "outputs": [
    {
     "name": "stdout",
     "output_type": "stream",
     "text": [
      "{'Name': 'Prince', 'Branch': 'cse'}\n"
     ]
    }
   ],
   "source": [
    "record={\"Name\":\"Prince\",\"Roll\":14,'Branch':\"cse\"}\n",
    "record.pop(\"Roll\")\n",
    "print(record)"
   ]
  },
  {
   "cell_type": "code",
   "execution_count": 40,
   "id": "b17533c3-206f-46fb-8dcc-1ae91f44a29f",
   "metadata": {},
   "outputs": [
    {
     "name": "stdout",
     "output_type": "stream",
     "text": [
      "{'Name': 'Prince'}\n"
     ]
    }
   ],
   "source": [
    "record={\"Name\":\"Prince\",\"Roll\":14,'Branch':\"cse\"}\n",
    "record.popitem()\n",
    "record.popitem()\n",
    "print(record)"
   ]
  },
  {
   "cell_type": "code",
   "execution_count": 41,
   "id": "4c6e553c-90c2-4ff6-a5e6-23794f7861d9",
   "metadata": {},
   "outputs": [
    {
     "name": "stdout",
     "output_type": "stream",
     "text": [
      "{'Name': 'Prince', 'address': ['chd', 'mohali'], 'mob': (55, 33, 11)}\n"
     ]
    }
   ],
   "source": [
    "record={\"Name\":\"Prince\",\"address\":[\"chd\",\"mohali\"],\"mob\":(55,33,11)}\n",
    "print(record)"
   ]
  },
  {
   "cell_type": "code",
   "execution_count": 50,
   "id": "b4b64b38-9609-4e32-8f31-c7c408d953eb",
   "metadata": {},
   "outputs": [
    {
     "name": "stdout",
     "output_type": "stream",
     "text": [
      "mohali\n"
     ]
    }
   ],
   "source": [
    "record={\"Name\":\"Prince\",\"address\":[\"chd\",\"mohali\"],\"mob\":(55,33,11)}\n",
    "w=(record[\"address\"] [1])\n",
    "print(w)"
   ]
  },
  {
   "cell_type": "code",
   "execution_count": 51,
   "id": "a84a0e17-3416-4bce-af8d-dec7555c5bff",
   "metadata": {},
   "outputs": [
    {
     "name": "stdout",
     "output_type": "stream",
     "text": [
      "mohali\n"
     ]
    }
   ],
   "source": [
    "record={\"Name\":\"Prince\",\"address\":[\"chd\",\"mohali\"],\"mob\":(55,33,11)}\n",
    "print(record[\"address\"] [1])"
   ]
  },
  {
   "cell_type": "code",
   "execution_count": 58,
   "id": "a74a3ca8-b218-4224-ae52-67785a603a64",
   "metadata": {},
   "outputs": [
    {
     "ename": "IndexError",
     "evalue": "list index out of range",
     "output_type": "error",
     "traceback": [
      "\u001b[1;31m---------------------------------------------------------------------------\u001b[0m",
      "\u001b[1;31mIndexError\u001b[0m                                Traceback (most recent call last)",
      "Cell \u001b[1;32mIn[58], line 2\u001b[0m\n\u001b[0;32m      1\u001b[0m w\u001b[38;5;241m=\u001b[39m[\u001b[38;5;124m\"\u001b[39m\u001b[38;5;124mram\u001b[39m\u001b[38;5;124m\"\u001b[39m,{\u001b[38;5;124m\"\u001b[39m\u001b[38;5;124mmob\u001b[39m\u001b[38;5;124m\"\u001b[39m:{\u001b[38;5;241m34\u001b[39m,\u001b[38;5;241m45\u001b[39m}},[\u001b[38;5;241m12\u001b[39m,\u001b[38;5;241m34\u001b[39m,{\u001b[38;5;124m\"\u001b[39m\u001b[38;5;124mname\u001b[39m\u001b[38;5;124m\"\u001b[39m:(\u001b[38;5;124m\"\u001b[39m\u001b[38;5;124mp\u001b[39m\u001b[38;5;124m\"\u001b[39m,\u001b[38;5;124m\"\u001b[39m\u001b[38;5;124mk\u001b[39m\u001b[38;5;124m\"\u001b[39m)}]]\n\u001b[1;32m----> 2\u001b[0m w\u001b[38;5;241m=\u001b[39m{[\u001b[38;5;124m\"\u001b[39m\u001b[38;5;124mmob\u001b[39m\u001b[38;5;124m\"\u001b[39m] [\u001b[38;5;241m1\u001b[39m]}\n\u001b[0;32m      3\u001b[0m \u001b[38;5;28mprint\u001b[39m(w)\n",
      "\u001b[1;31mIndexError\u001b[0m: list index out of range"
     ]
    }
   ],
   "source": [
    "w=[\"ram\",{\"mob\":{34,45}},[12,34,{\"name\":(\"p\",\"k\")}]]\n",
    "w={[\"mob\"] [1]}\n",
    "w=[\"name\"] [1]\n",
    "print(w)\n",
    "                          "
   ]
  },
  {
   "cell_type": "code",
   "execution_count": null,
   "id": "76a97769-3d7b-4662-a480-39010e1bc720",
   "metadata": {},
   "outputs": [],
   "source": [
    "\n",
    "\n"
   ]
  }
 ],
 "metadata": {
  "kernelspec": {
   "display_name": "Python 3 (ipykernel)",
   "language": "python",
   "name": "python3"
  },
  "language_info": {
   "codemirror_mode": {
    "name": "ipython",
    "version": 3
   },
   "file_extension": ".py",
   "mimetype": "text/x-python",
   "name": "python",
   "nbconvert_exporter": "python",
   "pygments_lexer": "ipython3",
   "version": "3.12.7"
  }
 },
 "nbformat": 4,
 "nbformat_minor": 5
}
