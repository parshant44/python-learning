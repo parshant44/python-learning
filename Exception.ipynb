{
 "cells": [
  {
   "cell_type": "code",
   "execution_count": 1,
   "id": "3b962dea-47f9-4c45-a62f-a8eb0e32c6de",
   "metadata": {},
   "outputs": [
    {
     "name": "stdout",
     "output_type": "stream",
     "text": [
      "Hello\n",
      "Netmax\n"
     ]
    },
    {
     "ename": "NameError",
     "evalue": "name 'India' is not defined",
     "output_type": "error",
     "traceback": [
      "\u001b[1;31m---------------------------------------------------------------------------\u001b[0m",
      "\u001b[1;31mNameError\u001b[0m                                 Traceback (most recent call last)",
      "Cell \u001b[1;32mIn[1], line 3\u001b[0m\n\u001b[0;32m      1\u001b[0m \u001b[38;5;28mprint\u001b[39m(\u001b[38;5;124m\"\u001b[39m\u001b[38;5;124mHello\u001b[39m\u001b[38;5;124m\"\u001b[39m)\n\u001b[0;32m      2\u001b[0m \u001b[38;5;28mprint\u001b[39m(\u001b[38;5;124m\"\u001b[39m\u001b[38;5;124mNetmax\u001b[39m\u001b[38;5;124m\"\u001b[39m)\n\u001b[1;32m----> 3\u001b[0m \u001b[38;5;28mprint\u001b[39m(India)\n\u001b[0;32m      4\u001b[0m \u001b[38;5;28mprint\u001b[39m(\u001b[38;5;124m\"\u001b[39m\u001b[38;5;124mHiiii\u001b[39m\u001b[38;5;124m\"\u001b[39m)\n\u001b[0;32m      5\u001b[0m \u001b[38;5;28mprint\u001b[39m(\u001b[38;5;241m12\u001b[39m\u001b[38;5;241m+\u001b[39m\u001b[38;5;241m3\u001b[39m)\n",
      "\u001b[1;31mNameError\u001b[0m: name 'India' is not defined"
     ]
    }
   ],
   "source": [
    "print(\"Hello\")\n",
    "print(\"Netmax\")\n",
    "print(India)\n",
    "print(\"Hiiii\")\n",
    "print(12+3)"
   ]
  },
  {
   "cell_type": "code",
   "execution_count": 2,
   "id": "32452a2e-76ae-4806-858c-2e8fb84f1adf",
   "metadata": {},
   "outputs": [
    {
     "name": "stdout",
     "output_type": "stream",
     "text": [
      "Hello\n",
      "Netmax\n",
      "name 'India' is not defined\n",
      "Hiiii\n",
      "15\n"
     ]
    }
   ],
   "source": [
    "\n",
    "try:\n",
    "    print(\"Hello\")\n",
    "    print(\"Netmax\")\n",
    "    print(India)\n",
    "except Exception as error:\n",
    "    print(error)\n",
    "print(\"Hiiii\")\n",
    "print(12+3)"
   ]
  },
  {
   "cell_type": "code",
   "execution_count": 6,
   "id": "264f5221-1fdd-43c3-afcf-77682ff2fcce",
   "metadata": {},
   "outputs": [
    {
     "name": "stdin",
     "output_type": "stream",
     "text": [
      "Enter your ist value 12\n",
      "Enter your iind value 0\n"
     ]
    },
    {
     "name": "stdout",
     "output_type": "stream",
     "text": [
      "division by zero\n",
      "Program as End\n"
     ]
    }
   ],
   "source": [
    "try:\n",
    "    a=int(input(\"Enter your ist value\"))\n",
    "    b=int(input(\"Enter your iind value\"))\n",
    "    c=a/b\n",
    "    print(\"Result is\",c)\n",
    "except Exception as error:\n",
    "    print(error)\n",
    "else:\n",
    "    print(\"No Error\")\n",
    "finally:\n",
    "    print(\"Program as End\")"
   ]
  },
  {
   "cell_type": "code",
   "execution_count": 19,
   "id": "724a725c-8547-4a78-bf6c-697060413472",
   "metadata": {},
   "outputs": [
    {
     "ename": "IndentationError",
     "evalue": "unindent does not match any outer indentation level (<string>, line 5)",
     "output_type": "error",
     "traceback": [
      "\u001b[1;36m  File \u001b[1;32m<string>:5\u001b[1;36m\u001b[0m\n\u001b[1;33m    else:\u001b[0m\n\u001b[1;37m         ^\u001b[0m\n\u001b[1;31mIndentationError\u001b[0m\u001b[1;31m:\u001b[0m unindent does not match any outer indentation level\n"
     ]
    }
   ],
   "source": [
    "def cal(a,b):\n",
    "    try:\n",
    "         if b==0:\n",
    "            raise(\"B should be Greater than Zero\")\n",
    "        else:\n",
    "             c=a/b\n",
    "            print(\"Ans is\",c)\n",
    "cal(12,0)\n",
    "        \n",
    "            \n",
    "\n",
    "\n"
   ]
  },
  {
   "cell_type": "code",
   "execution_count": 20,
   "id": "18e73cdc-446e-4a57-bb79-5b0c93de969a",
   "metadata": {},
   "outputs": [
    {
     "name": "stdout",
     "output_type": "stream",
     "text": [
      "2025-07-10 10:17:03.307644\n"
     ]
    }
   ],
   "source": [
    "import datetime as x\n",
    "a=x.datetime.now()\n",
    "print(a)"
   ]
  },
  {
   "cell_type": "code",
   "execution_count": 27,
   "id": "fb7553f8-460d-4eb8-8839-70bb20b3c093",
   "metadata": {},
   "outputs": [
    {
     "name": "stdout",
     "output_type": "stream",
     "text": [
      "2015-04-15 00:00:00\n"
     ]
    }
   ],
   "source": [
    "import datetime \n",
    "a=datetime.datetime(2015,4,15)\n",
    "print(a)"
   ]
  },
  {
   "cell_type": "code",
   "execution_count": 28,
   "id": "69b69648-8264-411f-9338-1ca59eaec688",
   "metadata": {},
   "outputs": [
    {
     "name": "stdout",
     "output_type": "stream",
     "text": [
      "15\n"
     ]
    }
   ],
   "source": [
    "import datetime \n",
    "a=datetime.datetime(2015,4,15)\n",
    "print(a.strftime(\"%d\"))"
   ]
  },
  {
   "cell_type": "code",
   "execution_count": 33,
   "id": "88dbb0bf-5f9b-4dc9-b63d-2d66cd76f779",
   "metadata": {},
   "outputs": [
    {
     "name": "stdout",
     "output_type": "stream",
     "text": [
      "Apr\n"
     ]
    }
   ],
   "source": [
    "import datetime \n",
    "a=datetime.datetime(2002,4,18)\n",
    "print(a.strftime(\"%b\"))"
   ]
  },
  {
   "cell_type": "code",
   "execution_count": 34,
   "id": "42d0b488-fbf0-4f16-b6cf-a8648154a552",
   "metadata": {},
   "outputs": [
    {
     "name": "stdout",
     "output_type": "stream",
     "text": [
      "April\n"
     ]
    }
   ],
   "source": [
    "import datetime \n",
    "a=datetime.datetime(2002,4,18)\n",
    "print(a.strftime(\"%B\"))"
   ]
  },
  {
   "cell_type": "code",
   "execution_count": 40,
   "id": "ea839c23-0f2a-494a-bf31-f411480dfbe5",
   "metadata": {},
   "outputs": [
    {
     "name": "stdout",
     "output_type": "stream",
     "text": [
      "2025-07-10 10:30:06.131205\n"
     ]
    }
   ],
   "source": [
    "import datetime\n",
    "a=datetime.datetime.now()\n",
    "date=a.strftime(\"%d\")\n",
    "date=a.strftime(\"%b\")\n",
    "date=a.strftime(\"%w\")\n",
    "print(a)"
   ]
  },
  {
   "cell_type": "code",
   "execution_count": 41,
   "id": "93449277-295b-4d1d-a3b5-c4643d2b00c2",
   "metadata": {},
   "outputs": [
    {
     "name": "stdout",
     "output_type": "stream",
     "text": [
      "10:31:38\n"
     ]
    }
   ],
   "source": [
    "import datetime\n",
    "a=datetime.datetime.now()\n",
    "print(a.strftime(\"%X\"))"
   ]
  },
  {
   "cell_type": "code",
   "execution_count": 42,
   "id": "526b8c11-d858-449a-826c-69c43bc40242",
   "metadata": {},
   "outputs": [
    {
     "name": "stdout",
     "output_type": "stream",
     "text": [
      "27\n"
     ]
    }
   ],
   "source": [
    "import datetime\n",
    "a=datetime.datetime.now()\n",
    "print(a.strftime(\"%U\"))"
   ]
  },
  {
   "cell_type": "code",
   "execution_count": 45,
   "id": "2add1566-4e26-40d1-a31a-75c0d06acd0d",
   "metadata": {},
   "outputs": [
    {
     "name": "stdout",
     "output_type": "stream",
     "text": [
      "32\n"
     ]
    }
   ],
   "source": [
    "import datetime\n",
    "a=datetime.datetime.now()\n",
    "print(a.strftime(\"%M\"))"
   ]
  },
  {
   "cell_type": "code",
   "execution_count": 46,
   "id": "f4fec03e-98ff-4bee-a19b-9ecafd56bad1",
   "metadata": {},
   "outputs": [
    {
     "name": "stdout",
     "output_type": "stream",
     "text": [
      "07\n"
     ]
    }
   ],
   "source": [
    "import datetime\n",
    "a=datetime.datetime.now()\n",
    "print(a.strftime(\"%m\"))"
   ]
  },
  {
   "cell_type": "code",
   "execution_count": null,
   "id": "69afda5d-db91-47ac-99f2-23e0d87b701c",
   "metadata": {},
   "outputs": [],
   "source": []
  }
 ],
 "metadata": {
  "kernelspec": {
   "display_name": "Python 3 (ipykernel)",
   "language": "python",
   "name": "python3"
  },
  "language_info": {
   "codemirror_mode": {
    "name": "ipython",
    "version": 3
   },
   "file_extension": ".py",
   "mimetype": "text/x-python",
   "name": "python",
   "nbconvert_exporter": "python",
   "pygments_lexer": "ipython3",
   "version": "3.12.7"
  }
 },
 "nbformat": 4,
 "nbformat_minor": 5
}
