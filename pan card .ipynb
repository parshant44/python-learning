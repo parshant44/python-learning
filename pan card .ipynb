{
 "cells": [
  {
   "cell_type": "code",
   "execution_count": 4,
   "id": "42cdaf70-9315-4f89-9215-efeb885e2e00",
   "metadata": {},
   "outputs": [
    {
     "ename": "SyntaxError",
     "evalue": "unexpected character after line continuation character (1333319112.py, line 6)",
     "output_type": "error",
     "traceback": [
      "\u001b[1;36m  Cell \u001b[1;32mIn[4], line 6\u001b[1;36m\u001b[0m\n\u001b[1;33m    payload = \"{\\\"task_id\\\":\\\"74f4c926-250c-43ca-9c53-453e87ceacd1\\\",\\\"group_id\\\":\\\"8e16424a-58fc-4ba4-ab20-5bc8e7c3c41e\\\",\\\"data\\\":{\\\"id_number\\\":\\\"{0}\"\\\"}}\".format(mypancard)\u001b[0m\n\u001b[1;37m                                                                                                                                                          ^\u001b[0m\n\u001b[1;31mSyntaxError\u001b[0m\u001b[1;31m:\u001b[0m unexpected character after line continuation character\n"
     ]
    }
   ],
   "source": [
    "import http.client\n",
    "import json\n",
    "conn = http.client.HTTPSConnection(\"pan-card-verification1.p.rapidapi.com\")\n",
    "mypancard=input(\"Enter Your Pan Card Number\")\n",
    "\n",
    "payload = \"{\\\"task_id\\\":\\\"74f4c926-250c-43ca-9c53-453e87ceacd1\\\",\\\"group_id\\\":\\\"8e16424a-58fc-4ba4-ab20-5bc8e7c3c41e\\\",\\\"data\\\":{\\\"id_number\\\":\\\"{0}\"\\\"}}\".format(mypancard)\n",
    "\n",
    "headers = {\n",
    "    'x-rapidapi-key': \"4789ba070bmshc1612d6bb2fa65dp1a298cjsn56c33621fc0e\",\n",
    "    'x-rapidapi-host': \"pan-card-verification1.p.rapidapi.com\",\n",
    "    'Content-Type': \"application/json\"\n",
    "}\n",
    "\n",
    "conn.request(\"POST\", \"/v3/tasks/sync/verify_with_source/ind_pan\", payload, headers)\n",
    "\n",
    "res = conn.getresponse()\n",
    "data = res.read()\n",
    "\n",
    "record=json.loads(data.decode(\"utf-8\"))\n",
    "print()"
   ]
  },
  {
   "cell_type": "code",
   "execution_count": null,
   "id": "f1dd5eff-34f0-4a21-81e8-6683eba881f1",
   "metadata": {},
   "outputs": [],
   "source": []
  }
 ],
 "metadata": {
  "kernelspec": {
   "display_name": "Python 3 (ipykernel)",
   "language": "python",
   "name": "python3"
  },
  "language_info": {
   "codemirror_mode": {
    "name": "ipython",
    "version": 3
   },
   "file_extension": ".py",
   "mimetype": "text/x-python",
   "name": "python",
   "nbconvert_exporter": "python",
   "pygments_lexer": "ipython3",
   "version": "3.12.7"
  }
 },
 "nbformat": 4,
 "nbformat_minor": 5
}
