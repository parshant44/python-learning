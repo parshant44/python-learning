{
 "cells": [
  {
   "cell_type": "code",
   "execution_count": 4,
   "id": "50017f17-5b48-4a4d-ac39-6806e69885a4",
   "metadata": {},
   "outputs": [
    {
     "name": "stdout",
     "output_type": "stream",
     "text": [
      "my name is ram and i am cse student\n",
      "my college name is dav\n"
     ]
    }
   ],
   "source": [
    "class student:\n",
    "    def information(self):\n",
    "        print(\"my name is ram and i am cse student\")\n",
    "    def college_name(self):\n",
    "        print(\"my college name is dav\")\n",
    "w=student()         #w is an OBJECT and student is default value\n",
    "w.information()\n",
    "w.college_name()"
   ]
  },
  {
   "cell_type": "code",
   "execution_count": 9,
   "id": "4dd78f8d-6fca-4ab9-9264-fcaeac3026ba",
   "metadata": {},
   "outputs": [
    {
     "name": "stdout",
     "output_type": "stream",
     "text": [
      "my name is ram and i am cse student\n",
      "my college name is dav\n"
     ]
    }
   ],
   "source": [
    "class student:\n",
    "    def __information(self):\n",
    "        print(\"my name is ram and i am cse student\")\n",
    "    def college_name(self):\n",
    "        self.__information()\n",
    "        print(\"my college name is dav\")\n",
    "w=student()         #w is an OBJECT and student is default value\n",
    "w.college_name()"
   ]
  },
  {
   "cell_type": "code",
   "execution_count": null,
   "id": "5559e4a4-7dc9-41b0-b6c3-063443ba39a2",
   "metadata": {},
   "outputs": [
    {
     "name": "stdin",
     "output_type": "stream",
     "text": [
      "enter your age 13\n"
     ]
    }
   ],
   "source": [
    "class vote:\n",
    "    def __check_age(self,myage):\n",
    "        if myage.isdglt():\n",
    "            age=int(myage)\n",
    "            return age\n",
    "              \n",
    "        else:\n",
    "            print(\"Please enter your age in number format\")\n",
    "\n",
    "    def votenow(self):\n",
    "        a=input(\"enter your age\")\n",
    "        n=input(\"enter your name\")\n",
    "        message=self.check_age(a)\n",
    "        if message<18:\n",
    "            print(\"you are not allowed to vote\")\n",
    "        elif message>18 and  message<40:\n",
    "            print(n+ \"thanks for vote you are young\",message,\"old\")\n",
    "        elif message >40 and message<105:\n",
    "             print(n+ \"thanks for vote you are senior citizen\",message,\"old\") \n",
    "        else:\n",
    "            print(\"invalid age\")\n",
    "obj=vote()\n",
    "obj.votenow()"
   ]
  },
  {
   "cell_type": "code",
   "execution_count": 19,
   "id": "2aa3188a-e5d6-4d23-8e3b-e6b7ee2015ac",
   "metadata": {},
   "outputs": [
    {
     "name": "stdout",
     "output_type": "stream",
     "text": [
      "False\n"
     ]
    }
   ],
   "source": [
    "p= \"pankaj\"\n",
    "print(p.isdigit())"
   ]
  },
  {
   "cell_type": "code",
   "execution_count": 5,
   "id": "6528c867-ee1c-4f85-89fc-ef9e4e772923",
   "metadata": {},
   "outputs": [],
   "source": [
    "class a:\n",
    "    def test (self):\n",
    "        print(\"i am a good boy\")\n",
    "        obj=a()\n",
    "        obj.test()\n",
    "    "
   ]
  },
  {
   "cell_type": "code",
   "execution_count": 6,
   "id": "b6e853cd-3c28-45e1-9b22-e1b469f121dc",
   "metadata": {},
   "outputs": [
    {
     "name": "stdout",
     "output_type": "stream",
     "text": [
      "hii\n",
      "addition is 15\n"
     ]
    }
   ],
   "source": [
    "class m:\n",
    "    def prince():\n",
    "        print(\"hii\")\n",
    "    def rahul(a,b):\n",
    "        c=a+b\n",
    "        print(\"addition is\",c)\n",
    "m.prince()\n",
    "m.rahul(12,3)"
   ]
  },
  {
   "cell_type": "code",
   "execution_count": 9,
   "id": "c77d86c5-5a0d-42b9-8d28-0b57f471b446",
   "metadata": {},
   "outputs": [
    {
     "name": "stdout",
     "output_type": "stream",
     "text": [
      "hii\n"
     ]
    },
    {
     "ename": "TypeError",
     "evalue": "m.rahul() missing 1 required positional argument: 'b'",
     "output_type": "error",
     "traceback": [
      "\u001b[1;31m---------------------------------------------------------------------------\u001b[0m",
      "\u001b[1;31mTypeError\u001b[0m                                 Traceback (most recent call last)",
      "Cell \u001b[1;32mIn[9], line 9\u001b[0m\n\u001b[0;32m      7\u001b[0m obj\u001b[38;5;241m=\u001b[39mm()\n\u001b[0;32m      8\u001b[0m obj\u001b[38;5;241m.\u001b[39mprince()\n\u001b[1;32m----> 9\u001b[0m obj\u001b[38;5;241m.\u001b[39mrahul()\n",
      "\u001b[1;31mTypeError\u001b[0m: m.rahul() missing 1 required positional argument: 'b'"
     ]
    }
   ],
   "source": [
    "class m:\n",
    "    def prince(self):\n",
    "        print(\"hii\")\n",
    "    def rahul(a,b):\n",
    "        c=a+b\n",
    "        print(\"addition is\",c)\n",
    "obj=m()\n",
    "obj.prince()\n",
    "obj.rahul()"
   ]
  },
  {
   "cell_type": "code",
   "execution_count": 13,
   "id": "3557c6bb-12b5-4be5-b65f-e95cf378e8e8",
   "metadata": {},
   "outputs": [
    {
     "name": "stdout",
     "output_type": "stream",
     "text": [
      "enter your a value\n"
     ]
    },
    {
     "name": "stdin",
     "output_type": "stream",
     "text": [
      " 3\n"
     ]
    },
    {
     "name": "stdout",
     "output_type": "stream",
     "text": [
      "enter your b value\n"
     ]
    },
    {
     "name": "stdin",
     "output_type": "stream",
     "text": [
      " 15\n"
     ]
    },
    {
     "name": "stdout",
     "output_type": "stream",
     "text": [
      "sum is 18\n",
      "sub is -12\n"
     ]
    }
   ],
   "source": [
    "class math:\n",
    "    a=b=c=None\n",
    "    def ask_value(self):\n",
    "        print(\"enter your a value\")\n",
    "        self.a=int(input())\n",
    "        print(\"enter your b value\")\n",
    "        self.b=int(input())\n",
    "        \n",
    "    def addition(self):\n",
    "        self.c=self.a+self.b\n",
    "        print(\"sum is\",self.c)\n",
    "    def subtract(self):\n",
    "         self.c=self.a-self.b\n",
    "         print(\"sub is\",self.c)\n",
    "\n",
    "obj=math()\n",
    "obj.ask_value()\n",
    "obj.addition()\n",
    "obj.subtract()"
   ]
  },
  {
   "cell_type": "code",
   "execution_count": 15,
   "id": "6be0b8b2-80d1-49d9-9f60-1fe286501acd",
   "metadata": {},
   "outputs": [
    {
     "name": "stdin",
     "output_type": "stream",
     "text": [
      "enter your name parshant\n"
     ]
    },
    {
     "name": "stdout",
     "output_type": "stream",
     "text": [
      "ypur name is parshant\n",
      "your r value outside the class is parshant\n"
     ]
    }
   ],
   "source": [
    "class a:\n",
    "    r=None\n",
    "    def getdata(self):\n",
    "        \n",
    "        self.r=input(\"enter your name\")\n",
    "        print(\"ypur name is\",self.r)\n",
    "\n",
    "obj=a()\n",
    "obj.getdata()\n",
    "print(\"your r value outside the class is\",obj.r)"
   ]
  },
  {
   "cell_type": "code",
   "execution_count": 16,
   "id": "b7f77de0-feca-49d2-9808-39169d058c46",
   "metadata": {},
   "outputs": [
    {
     "name": "stdin",
     "output_type": "stream",
     "text": [
      "enter your name parshant\n"
     ]
    },
    {
     "name": "stdout",
     "output_type": "stream",
     "text": [
      "ypur name is parshant\n",
      "your r value outside the class is parshant\n"
     ]
    }
   ],
   "source": [
    "class a:\n",
    "    __r=None\n",
    "    def getdata(self):\n",
    "        \n",
    "        self.r=input(\"enter your name\")\n",
    "        print(\"ypur name is\",self.r)\n",
    "\n",
    "obj=a()\n",
    "obj.getdata()\n",
    "print(\"your r value outside the class is\",obj.r)"
   ]
  },
  {
   "cell_type": "code",
   "execution_count": null,
   "id": "a30e71e4-db4c-441a-add0-d2a62057b1f9",
   "metadata": {},
   "outputs": [],
   "source": []
  }
 ],
 "metadata": {
  "kernelspec": {
   "display_name": "Python 3 (ipykernel)",
   "language": "python",
   "name": "python3"
  },
  "language_info": {
   "codemirror_mode": {
    "name": "ipython",
    "version": 3
   },
   "file_extension": ".py",
   "mimetype": "text/x-python",
   "name": "python",
   "nbconvert_exporter": "python",
   "pygments_lexer": "ipython3",
   "version": "3.12.7"
  }
 },
 "nbformat": 4,
 "nbformat_minor": 5
}
