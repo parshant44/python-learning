{
 "cells": [
  {
   "cell_type": "code",
   "execution_count": 1,
   "id": "20275707-9240-4301-8864-d2fc86b98856",
   "metadata": {},
   "outputs": [
    {
     "ename": "SyntaxError",
     "evalue": "invalid syntax (315943727.py, line 7)",
     "output_type": "error",
     "traceback": [
      "\u001b[1;36m  Cell \u001b[1;32mIn[1], line 7\u001b[1;36m\u001b[0m\n\u001b[1;33m    TYPES OF CONSTR\u001b[0m\n\u001b[1;37m          ^\u001b[0m\n\u001b[1;31mSyntaxError\u001b[0m\u001b[1;31m:\u001b[0m invalid syntax\n"
     ]
    }
   ],
   "source": [
    "# it ia automatically call when you create a class obj.\n",
    "# it cannot return a value\n",
    "# it is declare with the help of_init_self()\n",
    "# officially constr have a same name as class name\n",
    "# it is used for intilize your class data member, member function & object\n",
    "\n",
    "TYPES OF CONSTR\n",
    "1 PARAMETER CONSTR: A CONSTR WHICH HAVE AN  ARGUMENT IS P.C.\n",
    "2 DEFAULT: A CONSTR WHICH HAVE NO ARGUMENTS IS CALLED DEFAULT CONSTR.\n"
   ]
  },
  {
   "cell_type": "code",
   "execution_count": 9,
   "id": "b378a4ba-6524-4863-a9db-6a508815ee0c",
   "metadata": {},
   "outputs": [
    {
     "name": "stdout",
     "output_type": "stream",
     "text": [
      "Hello\n"
     ]
    }
   ],
   "source": [
    "class a:\n",
    "    def __init__(self):\n",
    "        print(\"Hello\")\n",
    "    def T(self):\n",
    "        print(\"T Function\")\n",
    "\n",
    "obj=a()"
   ]
  },
  {
   "cell_type": "code",
   "execution_count": 14,
   "id": "089366d6-43c9-4ba6-bad7-7920a97f2b39",
   "metadata": {},
   "outputs": [
    {
     "name": "stdout",
     "output_type": "stream",
     "text": [
      "ans is 15\n"
     ]
    }
   ],
   "source": [
    "class a:\n",
    "    c=None\n",
    "    def __init__(self,a,b):\n",
    "        self.c=a+b\n",
    "    def getans(self):\n",
    "        return self.c\n",
    "\n",
    "obj=a(12,3)\n",
    "result=obj.getans()\n",
    "print(\"ans is\",result)\n",
    "    "
   ]
  },
  {
   "cell_type": "code",
   "execution_count": null,
   "id": "cfdb8991-508b-4675-a66f-bd5ad83e600b",
   "metadata": {},
   "outputs": [],
   "source": []
  }
 ],
 "metadata": {
  "kernelspec": {
   "display_name": "Python 3 (ipykernel)",
   "language": "python",
   "name": "python3"
  },
  "language_info": {
   "codemirror_mode": {
    "name": "ipython",
    "version": 3
   },
   "file_extension": ".py",
   "mimetype": "text/x-python",
   "name": "python",
   "nbconvert_exporter": "python",
   "pygments_lexer": "ipython3",
   "version": "3.13.5"
  }
 },
 "nbformat": 4,
 "nbformat_minor": 5
}
