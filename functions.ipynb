{
 "cells": [
  {
   "cell_type": "markdown",
   "id": "111b484e-b596-4c09-aa09-33e859251738",
   "metadata": {},
   "source": [
    "# FUNCTIONS"
   ]
  },
  {
   "cell_type": "code",
   "execution_count": 2,
   "id": "19e18c51-83d9-4333-be64-611f022598bd",
   "metadata": {},
   "outputs": [],
   "source": [
    "# FUNCTION store code and it execute the code "
   ]
  },
  {
   "cell_type": "code",
   "execution_count": 6,
   "id": "49cb836f-024f-4fd5-9911-9f29a49b2bcb",
   "metadata": {},
   "outputs": [],
   "source": [
    "# define a function\n",
    "\n",
    "def greetings():\n",
    "    print(\"hello\")\n",
    "    print(2+2)"
   ]
  },
  {
   "cell_type": "code",
   "execution_count": 8,
   "id": "9c303e9e-e4b6-49dc-906c-3b36e6436084",
   "metadata": {},
   "outputs": [
    {
     "name": "stdout",
     "output_type": "stream",
     "text": [
      "hello\n",
      "4\n"
     ]
    }
   ],
   "source": [
    "# call a function\n",
    "greetings()"
   ]
  },
  {
   "cell_type": "code",
   "execution_count": 13,
   "id": "cd16880b-6f68-4a38-a89c-a38820e98b74",
   "metadata": {},
   "outputs": [
    {
     "name": "stdout",
     "output_type": "stream",
     "text": [
      "hi\n"
     ]
    },
    {
     "data": {
      "text/plain": [
       "6"
      ]
     },
     "execution_count": 13,
     "metadata": {},
     "output_type": "execute_result"
    }
   ],
   "source": [
    "# buit in function\n",
    "print(\"hi\")\n",
    "len(\"prince\")\n"
   ]
  },
  {
   "cell_type": "code",
   "execution_count": 14,
   "id": "57a8df8b-1891-4f8b-8cfd-64be75de5466",
   "metadata": {},
   "outputs": [
    {
     "data": {
      "text/plain": [
       "56"
      ]
     },
     "execution_count": 14,
     "metadata": {},
     "output_type": "execute_result"
    }
   ],
   "source": [
    "min([1,56,24,86])\n",
    "max([54,56,41,42,24])"
   ]
  },
  {
   "cell_type": "markdown",
   "id": "ae9b928d-5f6a-41f8-8510-6f54f14964aa",
   "metadata": {},
   "source": [
    "## user define functions"
   ]
  },
  {
   "cell_type": "code",
   "execution_count": 5,
   "id": "eb958d7b-6d72-411a-890a-15f6529bcbff",
   "metadata": {},
   "outputs": [],
   "source": [
    "# input functions\n",
    "def greeting():\n",
    "    name=\"prince\"\n",
    "    print(f\"hello {name} nice to meet you\")\n"
   ]
  },
  {
   "cell_type": "raw",
   "id": "1383a80a-bdfa-4a53-b3b0-4e32b911732d",
   "metadata": {},
   "source": [
    "greeting()"
   ]
  },
  {
   "cell_type": "code",
   "execution_count": 3,
   "id": "a5dfca31-17df-4d50-8010-430f3b1d6c22",
   "metadata": {},
   "outputs": [],
   "source": [
    "def area_of_circle(r):\n",
    "    print((22/7)*r*r)"
   ]
  },
  {
   "cell_type": "code",
   "execution_count": 4,
   "id": "5dadee19-7765-4b24-9033-6af77571eb5a",
   "metadata": {},
   "outputs": [
    {
     "name": "stdout",
     "output_type": "stream",
     "text": [
      "78.57142857142857\n"
     ]
    }
   ],
   "source": [
    "area_of_circle(5)"
   ]
  },
  {
   "cell_type": "markdown",
   "id": "92f329e8-db04-46c4-bb70-e044fe2b5ec5",
   "metadata": {},
   "source": [
    "# scope"
   ]
  },
  {
   "cell_type": "code",
   "execution_count": 7,
   "id": "9b16641e-51ee-4884-a919-a66d38b772df",
   "metadata": {},
   "outputs": [],
   "source": [
    "# global scope\n",
    "job=\"netmax\"\n",
    "def myprofile():\n",
    "    # local scope\n",
    "    name=\"shubham\"\n",
    "    age=24\n",
    "    job=\"hunting\"\n",
    "    print(name,age,job)\n"
   ]
  },
  {
   "cell_type": "code",
   "execution_count": 9,
   "id": "a2ca386f-4441-44ec-8864-54104d759b73",
   "metadata": {},
   "outputs": [
    {
     "name": "stdout",
     "output_type": "stream",
     "text": [
      "shubham 24 hunting\n"
     ]
    }
   ],
   "source": [
    "myprofile()"
   ]
  },
  {
   "cell_type": "code",
   "execution_count": 22,
   "id": "aff0446e-a6b4-4aa7-9da9-5a6b8aeb0e16",
   "metadata": {},
   "outputs": [],
   "source": [
    "# default function\n",
    "def greeting(name = \"user\"):\n",
    "    print(f'hello{name},nice to meet you')"
   ]
  },
  {
   "cell_type": "code",
   "execution_count": 23,
   "id": "dd03e7de-bebb-4676-8dc6-20cb805ffea3",
   "metadata": {},
   "outputs": [
    {
     "name": "stdout",
     "output_type": "stream",
     "text": [
      "hellouser,nice to meet you\n"
     ]
    }
   ],
   "source": [
    "greeting()\n"
   ]
  },
  {
   "cell_type": "code",
   "execution_count": 24,
   "id": "c1ba9187-a15b-4b2c-adbc-248eead3fbee",
   "metadata": {},
   "outputs": [],
   "source": [
    "def salary_structure(salary, tax_rate):\n",
    "    tax=salary*tax_rate\n",
    "    return tax"
   ]
  },
  {
   "cell_type": "code",
   "execution_count": 26,
   "id": "fec406b5-768a-4d76-88db-a240d64699c9",
   "metadata": {},
   "outputs": [],
   "source": [
    "tax=salary_structure(80000, 0.12)"
   ]
  },
  {
   "cell_type": "code",
   "execution_count": 27,
   "id": "10aafd10-49e9-4cbb-8ae6-1b212d8d2ed5",
   "metadata": {},
   "outputs": [
    {
     "data": {
      "text/plain": [
       "9600.0"
      ]
     },
     "execution_count": 27,
     "metadata": {},
     "output_type": "execute_result"
    }
   ],
   "source": [
    "tax"
   ]
  },
  {
   "cell_type": "code",
   "execution_count": 28,
   "id": "5023c8b8-8fed-4746-9eeb-455e112a0f49",
   "metadata": {},
   "outputs": [],
   "source": [
    "#pass-argument\n",
    "#value-parameter\n",
    "#salary value -argument"
   ]
  },
  {
   "cell_type": "code",
   "execution_count": 44,
   "id": "51989f55-05f5-4bd7-ae4f-fa6530939c1d",
   "metadata": {},
   "outputs": [],
   "source": [
    "#salary structure()\n",
    "def volume_of_cuboid(length, width, height):\n",
    "    dimension = f\"\"\"\n",
    "        length: {length}\n",
    "        width : {width}\n",
    "        height: {height}\n",
    "    \"\"\"\n",
    "    print(dimension)\n",
    "    return length*width*height\n",
    "\n",
    "    # positional argument"
   ]
  },
  {
   "cell_type": "code",
   "execution_count": 43,
   "id": "351e03b6-f6df-454d-8807-2412c6a343bc",
   "metadata": {},
   "outputs": [
    {
     "name": "stdout",
     "output_type": "stream",
     "text": [
      "\n",
      "        length: 80\n",
      "        width : 50\n",
      "        height: 30\n",
      "    \n"
     ]
    },
    {
     "data": {
      "text/plain": [
       "120000"
      ]
     },
     "execution_count": 43,
     "metadata": {},
     "output_type": "execute_result"
    }
   ],
   "source": [
    "volume_of_cuboid(80,50,30)"
   ]
  },
  {
   "cell_type": "code",
   "execution_count": 45,
   "id": "7eda53ec-d73d-4267-9bfe-e9598ab22a90",
   "metadata": {},
   "outputs": [
    {
     "name": "stdout",
     "output_type": "stream",
     "text": [
      "\n",
      "        length: 80\n",
      "        width : 50\n",
      "        height: 30\n",
      "    \n"
     ]
    },
    {
     "data": {
      "text/plain": [
       "120000"
      ]
     },
     "execution_count": 45,
     "metadata": {},
     "output_type": "execute_result"
    }
   ],
   "source": [
    "volume_of_cuboid(length=80,width=50,height=30)\n",
    "\n",
    "# keyword argument"
   ]
  },
  {
   "cell_type": "code",
<<<<<<< HEAD
   "execution_count": 2,
   "id": "36f87233-c9c9-4751-b71d-d17c58ee99dd",
   "metadata": {},
   "outputs": [],
   "source": [
    "def checkprime(n):\n",
    "    for i in range(2,n):\n",
    "        print(n, i, n%i)\n",
    "        if n%i==0:\n",
    "            return False\n",
    "    return True"
   ]
  },
  {
   "cell_type": "code",
   "execution_count": 20,
   "id": "793fee33-50dc-4820-8e77-34464d23ff41",
   "metadata": {},
   "outputs": [
    {
     "name": "stdout",
     "output_type": "stream",
     "text": [
      "11 2 1\n",
      "11 3 2\n",
      "11 4 3\n",
      "11 5 1\n",
      "11 6 5\n",
      "11 7 4\n",
      "11 8 3\n",
      "11 9 2\n",
      "11 10 1\n"
     ]
    },
    {
     "data": {
      "text/plain": [
       "True"
      ]
     },
     "execution_count": 20,
     "metadata": {},
     "output_type": "execute_result"
    }
   ],
   "source": [
    "checkprime(11)"
   ]
  },
  {
   "cell_type": "code",
   "execution_count": 3,
   "id": "8fc60598-479a-42f5-9890-189a4cd5b741",
   "metadata": {},
   "outputs": [],
   "source": [
    "def primeInRange(RANGE):\n",
    "    l=[]\n",
    "    for n in range(RANGE):\n",
    "        if checkprime(n):\n",
    "            l.append(n)\n",
    "\n",
    "    return l\n",
    "    "
   ]
  },
  {
   "cell_type": "code",
   "execution_count": 4,
   "id": "3f7d09fa-c21e-4caa-8e8b-79f5067dfde8",
   "metadata": {},
   "outputs": [
    {
     "name": "stdout",
     "output_type": "stream",
     "text": [
      "3 2 1\n",
      "4 2 0\n",
      "5 2 1\n",
      "5 3 2\n",
      "5 4 1\n",
      "6 2 0\n",
      "7 2 1\n",
      "7 3 1\n",
      "7 4 3\n",
      "7 5 2\n",
      "7 6 1\n",
      "8 2 0\n",
      "9 2 1\n",
      "9 3 0\n",
      "10 2 0\n",
      "11 2 1\n",
      "11 3 2\n",
      "11 4 3\n",
      "11 5 1\n",
      "11 6 5\n",
      "11 7 4\n",
      "11 8 3\n",
      "11 9 2\n",
      "11 10 1\n",
      "12 2 0\n",
      "13 2 1\n",
      "13 3 1\n",
      "13 4 1\n",
      "13 5 3\n",
      "13 6 1\n",
      "13 7 6\n",
      "13 8 5\n",
      "13 9 4\n",
      "13 10 3\n",
      "13 11 2\n",
      "13 12 1\n",
      "14 2 0\n",
      "15 2 1\n",
      "15 3 0\n",
      "16 2 0\n",
      "17 2 1\n",
      "17 3 2\n",
      "17 4 1\n",
      "17 5 2\n",
      "17 6 5\n",
      "17 7 3\n",
      "17 8 1\n",
      "17 9 8\n",
      "17 10 7\n",
      "17 11 6\n",
      "17 12 5\n",
      "17 13 4\n",
      "17 14 3\n",
      "17 15 2\n",
      "17 16 1\n",
      "18 2 0\n",
      "19 2 1\n",
      "19 3 1\n",
      "19 4 3\n",
      "19 5 4\n",
      "19 6 1\n",
      "19 7 5\n",
      "19 8 3\n",
      "19 9 1\n",
      "19 10 9\n",
      "19 11 8\n",
      "19 12 7\n",
      "19 13 6\n",
      "19 14 5\n",
      "19 15 4\n",
      "19 16 3\n",
      "19 17 2\n",
      "19 18 1\n"
     ]
    },
    {
     "data": {
      "text/plain": [
       "[0, 1, 2, 3, 5, 7, 11, 13, 17, 19]"
      ]
     },
     "execution_count": 4,
     "metadata": {},
     "output_type": "execute_result"
    }
   ],
   "source": [
    "primeInRange(20)"
   ]
=======
   "execution_count": null,
   "id": "36f87233-c9c9-4751-b71d-d17c58ee99dd",
   "metadata": {},
   "outputs": [],
   "source": []
>>>>>>> f078bedbe3c0b71cf19cd9660c1f2695befffa5f
  },
  {
   "cell_type": "code",
   "execution_count": 20,
   "id": "e53a6828-faf3-4cbc-b946-598fd494f707",
   "metadata": {},
   "outputs": [
    {
     "name": "stdout",
     "output_type": "stream",
     "text": [
      "welcome\n",
      "hello\n",
      "hii\n"
     ]
    }
   ],
   "source": [
    "def chandigarh():\n",
    "    print(\"hello\")\n",
    "    print(\"hii\")\n",
    "    \n",
    "print(\"welcome\")\n",
    "chandigarh()"
   ]
  },
  {
   "cell_type": "code",
<<<<<<< HEAD
   "execution_count": 5,
   "id": "510c8e4e-e6c3-4d8f-a827-ec220ff722c6",
   "metadata": {},
   "outputs": [
    {
     "data": {
      "text/plain": [
       "['parshant', 'mishra']"
      ]
     },
     "execution_count": 5,
     "metadata": {},
     "output_type": "execute_result"
    }
   ],
   "source": [
    "\"parshant mishra\".split()            # split convert into list\n",
    "                                     # use for sepration"
   ]
  },
  {
   "cell_type": "code",
   "execution_count": 11,
   "id": "4aa6ace4-d617-47e3-95db-8ab6ec06316a",
   "metadata": {},
   "outputs": [],
   "source": [
    "a=\"5 4 2 4 5 6\".split()"
   ]
  },
  {
   "cell_type": "code",
   "execution_count": 9,
   "id": "6adbfbed-76e4-476f-b2db-d61ad9969f82",
   "metadata": {},
   "outputs": [
    {
     "data": {
      "text/plain": [
       "['5,4,2,4,5,6,']"
      ]
     },
     "execution_count": 9,
     "metadata": {},
     "output_type": "execute_result"
    }
   ],
   "source": [
    "a"
   ]
  },
  {
   "cell_type": "code",
   "execution_count": 12,
   "id": "549e1dcf-ac86-427a-a065-197e49017b3a",
   "metadata": {},
   "outputs": [],
   "source": [
    "ans=list(map(int,a))"
   ]
  },
  {
   "cell_type": "code",
   "execution_count": 13,
   "id": "3155fdc7-9fe0-4371-b65d-997d7f1b653e",
   "metadata": {},
   "outputs": [
    {
     "data": {
      "text/plain": [
       "[5, 4, 2, 4, 5, 6]"
      ]
     },
     "execution_count": 13,
     "metadata": {},
     "output_type": "execute_result"
    }
   ],
   "source": [
    "ans"
   ]
  },
  {
   "cell_type": "code",
   "execution_count": 14,
   "id": "68917287-a182-44be-86cd-03fe31311c65",
   "metadata": {},
   "outputs": [],
   "source": [
    "z=lambda x,y:x*y"
   ]
  },
  {
   "cell_type": "code",
   "execution_count": 15,
   "id": "864a20dc-4e83-4ed3-9d9a-aaca5c2f2125",
   "metadata": {},
   "outputs": [
    {
     "data": {
      "text/plain": [
       "30"
      ]
     },
     "execution_count": 15,
     "metadata": {},
     "output_type": "execute_result"
    }
   ],
   "source": [
    "z(5,6)"
   ]
  },
  {
   "cell_type": "code",
   "execution_count": null,
   "id": "1175b01b-0ec1-4079-a300-f222bc2dcf67",
   "metadata": {},
   "outputs": [],
   "source": []
  },
  {
   "cell_type": "code",
=======
>>>>>>> f078bedbe3c0b71cf19cd9660c1f2695befffa5f
   "execution_count": 8,
   "id": "c391ccb6-7881-4552-a362-02f52cbc7493",
   "metadata": {},
   "outputs": [
    {
     "name": "stdout",
     "output_type": "stream",
     "text": [
      "hello\n",
      "hii\n"
     ]
    }
   ],
   "source": [
    "chandigarh()"
   ]
  },
  {
   "cell_type": "code",
   "execution_count": 12,
   "id": "1f9fd828-e6d4-481b-b3b8-ebd555ff7369",
   "metadata": {},
   "outputs": [
    {
     "name": "stdout",
     "output_type": "stream",
     "text": [
      "result is 15\n",
      "result is 15\n",
      "result is 15\n"
     ]
    }
   ],
   "source": [
    "def sum():\n",
    "    a=12\n",
    "    b=3\n",
    "    c=a+b\n",
    "    print(\"result is\",c)\n",
    "\n",
    "sum()\n",
    "sum()\n",
    "sum()"
   ]
  },
  {
   "cell_type": "code",
   "execution_count": 24,
   "id": "2dd6ddfa-7882-4fe2-b454-6124c219a4e5",
   "metadata": {},
   "outputs": [
    {
     "name": "stdout",
     "output_type": "stream",
     "text": [
      "your a value is 100\n"
     ]
    }
   ],
   "source": [
    "a1=100\n",
    "def ram():\n",
    "    print(\"your a value is\",a1)\n",
    "ram()\n",
    "    \n",
    "    "
   ]
  },
  {
   "cell_type": "code",
   "execution_count": 22,
   "id": "8800b691-e79b-4dc3-8d0a-a4f9a9573f20",
   "metadata": {},
   "outputs": [
    {
     "name": "stdout",
     "output_type": "stream",
     "text": [
      "your a2 value is 300\n"
     ]
    }
   ],
   "source": [
    "def sham():\n",
    "    a2=300\n",
    "    print(\"your a2 value is\",a2)\n",
    "sham()\n",
    "    "
   ]
  },
  {
   "cell_type": "code",
   "execution_count": 23,
   "id": "b73c1250-1851-4457-8d5f-bc88503df4e1",
   "metadata": {},
   "outputs": [
    {
     "name": "stdout",
     "output_type": "stream",
     "text": [
      "your a2 value is 300\n",
      "your outside a2 value is 300\n"
     ]
    }
   ],
   "source": [
    "def sham():\n",
    "    global a2\n",
    "    a2=300\n",
    "    print(\"your a2 value is\",a2)\n",
    "    \n",
    "sham()\n",
    "print(\"your outside a2 value is\",a2)\n",
    "    \n",
    "    "
   ]
  },
  {
   "cell_type": "code",
   "execution_count": 27,
   "id": "5f713664-b99e-4d23-a073-680aa4c1c436",
   "metadata": {},
   "outputs": [
    {
     "name": "stdout",
     "output_type": "stream",
     "text": [
      "hello\n",
      "i m karan\n"
     ]
    }
   ],
   "source": [
    "def king():\n",
    "    print(\"hello\")\n",
    "\n",
    "def karan():\n",
    "    king()\n",
    "    print(\"i m karan\")\n",
    "    \n",
    "\n",
    "karan()"
   ]
  },
  {
   "cell_type": "markdown",
   "id": "2c6bd494-ff26-420c-be0d-ba1cb4a75b7d",
   "metadata": {},
   "source": []
  },
  {
   "cell_type": "code",
   "execution_count": 31,
   "id": "31f53e5b-0082-42c5-8c0b-f607663c48d3",
   "metadata": {},
   "outputs": [
    {
     "name": "stdout",
     "output_type": "stream",
     "text": [
      "your value is (12, 34, 5465, 2323)\n",
      "value is 12\n",
      "value is 5465\n"
     ]
    }
   ],
   "source": [
    "def zirakhpur (*a):\n",
    "    print(\"your value is\",a)\n",
    "    print(\"value is\",a[0])\n",
    "    print(\"value is\", a[-2])\n",
    "zirakhpur(12,34, 5465, 2323)"
   ]
  },
  {
   "cell_type": "code",
   "execution_count": 35,
   "id": "ee66efd9-f659-48d2-9b67-e345ed4e9e6c",
   "metadata": {},
   "outputs": [
    {
     "name": "stdout",
     "output_type": "stream",
     "text": [
      "your name is  cse\n",
      "your roll is 232\n"
     ]
    }
   ],
   "source": [
    "def mohali(**w):\n",
    "    print(\"your name is \",w['bh'])\n",
    "    print(\"your roll is\",w['roll'])\n",
    "\n",
    "mohali(name=\"pankaj\",roll=232,bh=\"cse\")\n",
    "         "
   ]
  },
  {
   "cell_type": "code",
   "execution_count": 37,
   "id": "59eec868-2d60-445c-b863-735c0a311196",
   "metadata": {},
   "outputs": [
    {
     "data": {
      "text/plain": [
       "15"
      ]
     },
     "execution_count": 37,
     "metadata": {},
     "output_type": "execute_result"
    }
   ],
   "source": [
    "def netmax():\n",
    "    a=12\n",
    "    b=3\n",
    "    c=a+b\n",
    "    return c\n",
    "netmax()\n"
   ]
  },
  {
   "cell_type": "code",
   "execution_count": 42,
   "id": "036dc04f-faef-41c3-a877-862c7d2ba853",
   "metadata": {},
   "outputs": [
    {
     "name": "stdout",
     "output_type": "stream",
     "text": [
      "your ans is -91\n"
     ]
    }
   ],
   "source": [
    "def stage1 (a,b):\n",
    "    c=a-b\n",
    "    return c\n",
    "\n",
    "def stage2(z):\n",
    "    vl=stage1(12,3)\n",
    "    final=vl-z\n",
    "    return final\n",
    "\n",
    "result=stage2(100)\n",
    "print(\"your ans is\",result)"
   ]
  },
  {
   "cell_type": "code",
   "execution_count": 44,
   "id": "8fc8f94f-34ee-4b3d-ab1a-88973242b421",
   "metadata": {},
   "outputs": [
    {
     "name": "stdout",
     "output_type": "stream",
     "text": [
      "your w value is 12\n",
      "your z value is 12\n"
     ]
    }
   ],
   "source": [
    "w=z=12\n",
    "print(\"your w value is\",w)\n",
    "print(\"your z value is\",z)"
   ]
  },
  {
   "cell_type": "code",
   "execution_count": null,
   "id": "8b1e323a-2ce8-4d86-bbd3-42ea449fdb04",
   "metadata": {},
   "outputs": [],
   "source": []
  }
 ],
 "metadata": {
  "kernelspec": {
   "display_name": "Python 3 (ipykernel)",
   "language": "python",
   "name": "python3"
  },
  "language_info": {
   "codemirror_mode": {
    "name": "ipython",
    "version": 3
   },
   "file_extension": ".py",
   "mimetype": "text/x-python",
   "name": "python",
   "nbconvert_exporter": "python",
   "pygments_lexer": "ipython3",
   "version": "3.13.5"
  }
 },
 "nbformat": 4,
 "nbformat_minor": 5
}
