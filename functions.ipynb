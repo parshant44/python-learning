{
 "cells": [
  {
   "cell_type": "markdown",
   "id": "111b484e-b596-4c09-aa09-33e859251738",
   "metadata": {},
   "source": [
    "# FUNCTIONS"
   ]
  },
  {
   "cell_type": "code",
   "execution_count": 2,
   "id": "19e18c51-83d9-4333-be64-611f022598bd",
   "metadata": {},
   "outputs": [],
   "source": [
    "# FUNCTION store code and it execute the code "
   ]
  },
  {
   "cell_type": "code",
   "execution_count": 6,
   "id": "49cb836f-024f-4fd5-9911-9f29a49b2bcb",
   "metadata": {},
   "outputs": [],
   "source": [
    "# define a function\n",
    "\n",
    "def greetings():\n",
    "    print(\"hello\")\n",
    "    print(2+2)"
   ]
  },
  {
   "cell_type": "code",
   "execution_count": 8,
   "id": "9c303e9e-e4b6-49dc-906c-3b36e6436084",
   "metadata": {},
   "outputs": [
    {
     "name": "stdout",
     "output_type": "stream",
     "text": [
      "hello\n",
      "4\n"
     ]
    }
   ],
   "source": [
    "# call a function\n",
    "greetings()"
   ]
  },
  {
   "cell_type": "code",
   "execution_count": 13,
   "id": "cd16880b-6f68-4a38-a89c-a38820e98b74",
   "metadata": {},
   "outputs": [
    {
     "name": "stdout",
     "output_type": "stream",
     "text": [
      "hi\n"
     ]
    },
    {
     "data": {
      "text/plain": [
       "6"
      ]
     },
     "execution_count": 13,
     "metadata": {},
     "output_type": "execute_result"
    }
   ],
   "source": [
    "# buit in function\n",
    "print(\"hi\")\n",
    "len(\"prince\")\n"
   ]
  },
  {
   "cell_type": "code",
   "execution_count": 14,
   "id": "57a8df8b-1891-4f8b-8cfd-64be75de5466",
   "metadata": {},
   "outputs": [
    {
     "data": {
      "text/plain": [
       "56"
      ]
     },
     "execution_count": 14,
     "metadata": {},
     "output_type": "execute_result"
    }
   ],
   "source": [
    "min([1,56,24,86])\n",
    "max([54,56,41,42,24])"
   ]
  },
  {
   "cell_type": "markdown",
   "id": "ae9b928d-5f6a-41f8-8510-6f54f14964aa",
   "metadata": {},
   "source": [
    "## user define functions"
   ]
  },
  {
   "cell_type": "code",
   "execution_count": 5,
   "id": "eb958d7b-6d72-411a-890a-15f6529bcbff",
   "metadata": {},
   "outputs": [],
   "source": [
    "# input functions\n",
    "def greeting():\n",
    "    name=\"prince\"\n",
    "    print(f\"hello {name} nice to meet you\")\n"
   ]
  },
  {
   "cell_type": "raw",
   "id": "1383a80a-bdfa-4a53-b3b0-4e32b911732d",
   "metadata": {},
   "source": [
    "greeting()"
   ]
  },
  {
   "cell_type": "code",
   "execution_count": 3,
   "id": "a5dfca31-17df-4d50-8010-430f3b1d6c22",
   "metadata": {},
   "outputs": [],
   "source": [
    "def area_of_circle(r):\n",
    "    print((22/7)*r*r)"
   ]
  },
  {
   "cell_type": "code",
   "execution_count": 4,
   "id": "5dadee19-7765-4b24-9033-6af77571eb5a",
   "metadata": {},
   "outputs": [
    {
     "name": "stdout",
     "output_type": "stream",
     "text": [
      "78.57142857142857\n"
     ]
    }
   ],
   "source": [
    "area_of_circle(5)"
   ]
  },
  {
   "cell_type": "markdown",
   "id": "92f329e8-db04-46c4-bb70-e044fe2b5ec5",
   "metadata": {},
   "source": [
    "# scope"
   ]
  },
  {
   "cell_type": "code",
   "execution_count": 7,
   "id": "9b16641e-51ee-4884-a919-a66d38b772df",
   "metadata": {},
   "outputs": [],
   "source": [
    "# global scope\n",
    "job=\"netmax\"\n",
    "def myprofile():\n",
    "    # local scope\n",
    "    name=\"shubham\"\n",
    "    age=24\n",
    "    job=\"hunting\"\n",
    "    print(name,age,job)\n"
   ]
  },
  {
   "cell_type": "code",
   "execution_count": 9,
   "id": "a2ca386f-4441-44ec-8864-54104d759b73",
   "metadata": {},
   "outputs": [
    {
     "name": "stdout",
     "output_type": "stream",
     "text": [
      "shubham 24 hunting\n"
     ]
    }
   ],
   "source": [
    "myprofile()"
   ]
  },
  {
   "cell_type": "code",
   "execution_count": 22,
   "id": "aff0446e-a6b4-4aa7-9da9-5a6b8aeb0e16",
   "metadata": {},
   "outputs": [],
   "source": [
    "# default function\n",
    "def greeting(name = \"user\"):\n",
    "    print(f'hello{name},nice to meet you')"
   ]
  },
  {
   "cell_type": "code",
   "execution_count": 23,
   "id": "dd03e7de-bebb-4676-8dc6-20cb805ffea3",
   "metadata": {},
   "outputs": [
    {
     "name": "stdout",
     "output_type": "stream",
     "text": [
      "hellouser,nice to meet you\n"
     ]
    }
   ],
   "source": [
    "greeting()\n"
   ]
  },
  {
   "cell_type": "code",
   "execution_count": 24,
   "id": "c1ba9187-a15b-4b2c-adbc-248eead3fbee",
   "metadata": {},
   "outputs": [],
   "source": [
    "def salary_structure(salary, tax_rate):\n",
    "    tax=salary*tax_rate\n",
    "    return tax"
   ]
  },
  {
   "cell_type": "code",
   "execution_count": 26,
   "id": "fec406b5-768a-4d76-88db-a240d64699c9",
   "metadata": {},
   "outputs": [],
   "source": [
    "tax=salary_structure(80000, 0.12)"
   ]
  },
  {
   "cell_type": "code",
   "execution_count": 27,
   "id": "10aafd10-49e9-4cbb-8ae6-1b212d8d2ed5",
   "metadata": {},
   "outputs": [
    {
     "data": {
      "text/plain": [
       "9600.0"
      ]
     },
     "execution_count": 27,
     "metadata": {},
     "output_type": "execute_result"
    }
   ],
   "source": [
    "tax"
   ]
  },
  {
   "cell_type": "code",
   "execution_count": 28,
   "id": "5023c8b8-8fed-4746-9eeb-455e112a0f49",
   "metadata": {},
   "outputs": [],
   "source": [
    "#pass-argument\n",
    "#value-parameter\n",
    "#salary value -argument"
   ]
  },
  {
   "cell_type": "code",
   "execution_count": 44,
   "id": "51989f55-05f5-4bd7-ae4f-fa6530939c1d",
   "metadata": {},
   "outputs": [],
   "source": [
    "#salary structure()\n",
    "def volume_of_cuboid(length, width, height):\n",
    "    dimension = f\"\"\"\n",
    "        length: {length}\n",
    "        width : {width}\n",
    "        height: {height}\n",
    "    \"\"\"\n",
    "    print(dimension)\n",
    "    return length*width*height\n",
    "\n",
    "    # positional argument"
   ]
  },
  {
   "cell_type": "code",
   "execution_count": 43,
   "id": "351e03b6-f6df-454d-8807-2412c6a343bc",
   "metadata": {},
   "outputs": [
    {
     "name": "stdout",
     "output_type": "stream",
     "text": [
      "\n",
      "        length: 80\n",
      "        width : 50\n",
      "        height: 30\n",
      "    \n"
     ]
    },
    {
     "data": {
      "text/plain": [
       "120000"
      ]
     },
     "execution_count": 43,
     "metadata": {},
     "output_type": "execute_result"
    }
   ],
   "source": [
    "volume_of_cuboid(80,50,30)"
   ]
  },
  {
   "cell_type": "code",
   "execution_count": 45,
   "id": "7eda53ec-d73d-4267-9bfe-e9598ab22a90",
   "metadata": {},
   "outputs": [
    {
     "name": "stdout",
     "output_type": "stream",
     "text": [
      "\n",
      "        length: 80\n",
      "        width : 50\n",
      "        height: 30\n",
      "    \n"
     ]
    },
    {
     "data": {
      "text/plain": [
       "120000"
      ]
     },
     "execution_count": 45,
     "metadata": {},
     "output_type": "execute_result"
    }
   ],
   "source": [
    "volume_of_cuboid(length=80,width=50,height=30)\n",
    "\n",
    "# keyword argument"
   ]
  },
  {
   "cell_type": "code",
   "execution_count": null,
   "id": "36f87233-c9c9-4751-b71d-d17c58ee99dd",
   "metadata": {},
   "outputs": [],
   "source": []
  },
  {
   "cell_type": "code",
   "execution_count": 20,
   "id": "e53a6828-faf3-4cbc-b946-598fd494f707",
   "metadata": {},
   "outputs": [
    {
     "name": "stdout",
     "output_type": "stream",
     "text": [
      "welcome\n",
      "hello\n",
      "hii\n"
     ]
    }
   ],
   "source": [
    "def chandigarh():\n",
    "    print(\"hello\")\n",
    "    print(\"hii\")\n",
    "    \n",
    "print(\"welcome\")\n",
    "chandigarh()"
   ]
  },
  {
   "cell_type": "code",
   "execution_count": 8,
   "id": "c391ccb6-7881-4552-a362-02f52cbc7493",
   "metadata": {},
   "outputs": [
    {
     "name": "stdout",
     "output_type": "stream",
     "text": [
      "hello\n",
      "hii\n"
     ]
    }
   ],
   "source": [
    "chandigarh()"
   ]
  },
  {
   "cell_type": "code",
   "execution_count": 12,
   "id": "1f9fd828-e6d4-481b-b3b8-ebd555ff7369",
   "metadata": {},
   "outputs": [
    {
     "name": "stdout",
     "output_type": "stream",
     "text": [
      "result is 15\n",
      "result is 15\n",
      "result is 15\n"
     ]
    }
   ],
   "source": [
    "def sum():\n",
    "    a=12\n",
    "    b=3\n",
    "    c=a+b\n",
    "    print(\"result is\",c)\n",
    "\n",
    "sum()\n",
    "sum()\n",
    "sum()"
   ]
  },
  {
   "cell_type": "code",
   "execution_count": 24,
   "id": "2dd6ddfa-7882-4fe2-b454-6124c219a4e5",
   "metadata": {},
   "outputs": [
    {
     "name": "stdout",
     "output_type": "stream",
     "text": [
      "your a value is 100\n"
     ]
    }
   ],
   "source": [
    "a1=100\n",
    "def ram():\n",
    "    print(\"your a value is\",a1)\n",
    "ram()\n",
    "    \n",
    "    "
   ]
  },
  {
   "cell_type": "code",
   "execution_count": 22,
   "id": "8800b691-e79b-4dc3-8d0a-a4f9a9573f20",
   "metadata": {},
   "outputs": [
    {
     "name": "stdout",
     "output_type": "stream",
     "text": [
      "your a2 value is 300\n"
     ]
    }
   ],
   "source": [
    "def sham():\n",
    "    a2=300\n",
    "    print(\"your a2 value is\",a2)\n",
    "sham()\n",
    "    "
   ]
  },
  {
   "cell_type": "code",
   "execution_count": 23,
   "id": "b73c1250-1851-4457-8d5f-bc88503df4e1",
   "metadata": {},
   "outputs": [
    {
     "name": "stdout",
     "output_type": "stream",
     "text": [
      "your a2 value is 300\n",
      "your outside a2 value is 300\n"
     ]
    }
   ],
   "source": [
    "def sham():\n",
    "    global a2\n",
    "    a2=300\n",
    "    print(\"your a2 value is\",a2)\n",
    "    \n",
    "sham()\n",
    "print(\"your outside a2 value is\",a2)\n",
    "    \n",
    "    "
   ]
  },
  {
   "cell_type": "code",
   "execution_count": 27,
   "id": "5f713664-b99e-4d23-a073-680aa4c1c436",
   "metadata": {},
   "outputs": [
    {
     "name": "stdout",
     "output_type": "stream",
     "text": [
      "hello\n",
      "i m karan\n"
     ]
    }
   ],
   "source": [
    "def king():\n",
    "    print(\"hello\")\n",
    "\n",
    "def karan():\n",
    "    king()\n",
    "    print(\"i m karan\")\n",
    "    \n",
    "\n",
    "karan()"
   ]
  },
  {
   "cell_type": "markdown",
   "id": "2c6bd494-ff26-420c-be0d-ba1cb4a75b7d",
   "metadata": {},
   "source": []
  },
  {
   "cell_type": "code",
   "execution_count": 31,
   "id": "31f53e5b-0082-42c5-8c0b-f607663c48d3",
   "metadata": {},
   "outputs": [
    {
     "name": "stdout",
     "output_type": "stream",
     "text": [
      "your value is (12, 34, 5465, 2323)\n",
      "value is 12\n",
      "value is 5465\n"
     ]
    }
   ],
   "source": [
    "def zirakhpur (*a):\n",
    "    print(\"your value is\",a)\n",
    "    print(\"value is\",a[0])\n",
    "    print(\"value is\", a[-2])\n",
    "zirakhpur(12,34, 5465, 2323)"
   ]
  },
  {
   "cell_type": "code",
   "execution_count": 35,
   "id": "ee66efd9-f659-48d2-9b67-e345ed4e9e6c",
   "metadata": {},
   "outputs": [
    {
     "name": "stdout",
     "output_type": "stream",
     "text": [
      "your name is  cse\n",
      "your roll is 232\n"
     ]
    }
   ],
   "source": [
    "def mohali(**w):\n",
    "    print(\"your name is \",w['bh'])\n",
    "    print(\"your roll is\",w['roll'])\n",
    "\n",
    "mohali(name=\"pankaj\",roll=232,bh=\"cse\")\n",
    "         "
   ]
  },
  {
   "cell_type": "code",
   "execution_count": 37,
   "id": "59eec868-2d60-445c-b863-735c0a311196",
   "metadata": {},
   "outputs": [
    {
     "data": {
      "text/plain": [
       "15"
      ]
     },
     "execution_count": 37,
     "metadata": {},
     "output_type": "execute_result"
    }
   ],
   "source": [
    "def netmax():\n",
    "    a=12\n",
    "    b=3\n",
    "    c=a+b\n",
    "    return c\n",
    "netmax()\n"
   ]
  },
  {
   "cell_type": "code",
   "execution_count": 42,
   "id": "036dc04f-faef-41c3-a877-862c7d2ba853",
   "metadata": {},
   "outputs": [
    {
     "name": "stdout",
     "output_type": "stream",
     "text": [
      "your ans is -91\n"
     ]
    }
   ],
   "source": [
    "def stage1 (a,b):\n",
    "    c=a-b\n",
    "    return c\n",
    "\n",
    "def stage2(z):\n",
    "    vl=stage1(12,3)\n",
    "    final=vl-z\n",
    "    return final\n",
    "\n",
    "result=stage2(100)\n",
    "print(\"your ans is\",result)"
   ]
  },
  {
   "cell_type": "code",
   "execution_count": 44,
   "id": "8fc8f94f-34ee-4b3d-ab1a-88973242b421",
   "metadata": {},
   "outputs": [
    {
     "name": "stdout",
     "output_type": "stream",
     "text": [
      "your w value is 12\n",
      "your z value is 12\n"
     ]
    }
   ],
   "source": [
    "w=z=12\n",
    "print(\"your w value is\",w)\n",
    "print(\"your z value is\",z)"
   ]
  },
  {
   "cell_type": "code",
   "execution_count": null,
   "id": "8b1e323a-2ce8-4d86-bbd3-42ea449fdb04",
   "metadata": {},
   "outputs": [],
   "source": []
  }
 ],
 "metadata": {
  "kernelspec": {
   "display_name": "Python 3 (ipykernel)",
   "language": "python",
   "name": "python3"
  },
  "language_info": {
   "codemirror_mode": {
    "name": "ipython",
    "version": 3
   },
   "file_extension": ".py",
   "mimetype": "text/x-python",
   "name": "python",
   "nbconvert_exporter": "python",
   "pygments_lexer": "ipython3",
   "version": "3.13.5"
  }
 },
 "nbformat": 4,
 "nbformat_minor": 5
}
