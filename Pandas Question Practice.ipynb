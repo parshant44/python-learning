{
 "cells": [
  {
   "cell_type": "markdown",
   "id": "d5967e14-5f5b-4bb7-951d-70d98449a93f",
   "metadata": {},
   "source": [
    "# LOC AND ILOC "
   ]
  },
  {
   "cell_type": "code",
   "execution_count": 103,
   "id": "f4007502-c372-418d-9586-5c9f82a85233",
   "metadata": {},
   "outputs": [
    {
     "data": {
      "text/html": [
       "<div>\n",
       "<style scoped>\n",
       "    .dataframe tbody tr th:only-of-type {\n",
       "        vertical-align: middle;\n",
       "    }\n",
       "\n",
       "    .dataframe tbody tr th {\n",
       "        vertical-align: top;\n",
       "    }\n",
       "\n",
       "    .dataframe thead th {\n",
       "        text-align: right;\n",
       "    }\n",
       "</style>\n",
       "<table border=\"1\" class=\"dataframe\">\n",
       "  <thead>\n",
       "    <tr style=\"text-align: right;\">\n",
       "      <th></th>\n",
       "      <th>id</th>\n",
       "      <th>name</th>\n",
       "      <th>age</th>\n",
       "      <th>grade</th>\n",
       "      <th>math_score</th>\n",
       "      <th>english_score</th>\n",
       "      <th>science_score</th>\n",
       "      <th>attendance_percentage</th>\n",
       "      <th>study_hours</th>\n",
       "      <th>extracurricular</th>\n",
       "    </tr>\n",
       "  </thead>\n",
       "  <tbody>\n",
       "    <tr>\n",
       "      <th>0</th>\n",
       "      <td>1</td>\n",
       "      <td>John Smith</td>\n",
       "      <td>15</td>\n",
       "      <td>10</td>\n",
       "      <td>85</td>\n",
       "      <td>78</td>\n",
       "      <td>82</td>\n",
       "      <td>95.5</td>\n",
       "      <td>5</td>\n",
       "      <td>Yes</td>\n",
       "    </tr>\n",
       "    <tr>\n",
       "      <th>1</th>\n",
       "      <td>2</td>\n",
       "      <td>Emma Johnson</td>\n",
       "      <td>16</td>\n",
       "      <td>11</td>\n",
       "      <td>90</td>\n",
       "      <td>85</td>\n",
       "      <td>88</td>\n",
       "      <td>92.3</td>\n",
       "      <td>6</td>\n",
       "      <td>No</td>\n",
       "    </tr>\n",
       "    <tr>\n",
       "      <th>2</th>\n",
       "      <td>3</td>\n",
       "      <td>Michael Brown</td>\n",
       "      <td>14</td>\n",
       "      <td>9</td>\n",
       "      <td>75</td>\n",
       "      <td>70</td>\n",
       "      <td>72</td>\n",
       "      <td>88.7</td>\n",
       "      <td>4</td>\n",
       "      <td>Yes</td>\n",
       "    </tr>\n",
       "    <tr>\n",
       "      <th>3</th>\n",
       "      <td>4</td>\n",
       "      <td>Sophia Davis</td>\n",
       "      <td>15</td>\n",
       "      <td>10</td>\n",
       "      <td>82</td>\n",
       "      <td>80</td>\n",
       "      <td>79</td>\n",
       "      <td>93.1</td>\n",
       "      <td>5</td>\n",
       "      <td>No</td>\n",
       "    </tr>\n",
       "    <tr>\n",
       "      <th>4</th>\n",
       "      <td>5</td>\n",
       "      <td>James Wilson</td>\n",
       "      <td>16</td>\n",
       "      <td>11</td>\n",
       "      <td>88</td>\n",
       "      <td>86</td>\n",
       "      <td>90</td>\n",
       "      <td>96.2</td>\n",
       "      <td>7</td>\n",
       "      <td>Yes</td>\n",
       "    </tr>\n",
       "    <tr>\n",
       "      <th>...</th>\n",
       "      <td>...</td>\n",
       "      <td>...</td>\n",
       "      <td>...</td>\n",
       "      <td>...</td>\n",
       "      <td>...</td>\n",
       "      <td>...</td>\n",
       "      <td>...</td>\n",
       "      <td>...</td>\n",
       "      <td>...</td>\n",
       "      <td>...</td>\n",
       "    </tr>\n",
       "    <tr>\n",
       "      <th>95</th>\n",
       "      <td>96</td>\n",
       "      <td>Piper Ellis</td>\n",
       "      <td>14</td>\n",
       "      <td>9</td>\n",
       "      <td>74</td>\n",
       "      <td>72</td>\n",
       "      <td>71</td>\n",
       "      <td>88.0</td>\n",
       "      <td>3</td>\n",
       "      <td>No</td>\n",
       "    </tr>\n",
       "    <tr>\n",
       "      <th>96</th>\n",
       "      <td>97</td>\n",
       "      <td>Kayden Boyd</td>\n",
       "      <td>15</td>\n",
       "      <td>10</td>\n",
       "      <td>81</td>\n",
       "      <td>79</td>\n",
       "      <td>78</td>\n",
       "      <td>92.9</td>\n",
       "      <td>5</td>\n",
       "      <td>Yes</td>\n",
       "    </tr>\n",
       "    <tr>\n",
       "      <th>97</th>\n",
       "      <td>98</td>\n",
       "      <td>Aliyah Holmes</td>\n",
       "      <td>16</td>\n",
       "      <td>11</td>\n",
       "      <td>89</td>\n",
       "      <td>87</td>\n",
       "      <td>86</td>\n",
       "      <td>96.0</td>\n",
       "      <td>8</td>\n",
       "      <td>No</td>\n",
       "    </tr>\n",
       "    <tr>\n",
       "      <th>98</th>\n",
       "      <td>99</td>\n",
       "      <td>Declan Porter</td>\n",
       "      <td>14</td>\n",
       "      <td>9</td>\n",
       "      <td>73</td>\n",
       "      <td>71</td>\n",
       "      <td>70</td>\n",
       "      <td>87.8</td>\n",
       "      <td>4</td>\n",
       "      <td>Yes</td>\n",
       "    </tr>\n",
       "    <tr>\n",
       "      <th>99</th>\n",
       "      <td>100</td>\n",
       "      <td>Sienna Riley</td>\n",
       "      <td>15</td>\n",
       "      <td>10</td>\n",
       "      <td>82</td>\n",
       "      <td>80</td>\n",
       "      <td>79</td>\n",
       "      <td>93.1</td>\n",
       "      <td>6</td>\n",
       "      <td>No</td>\n",
       "    </tr>\n",
       "  </tbody>\n",
       "</table>\n",
       "<p>100 rows × 10 columns</p>\n",
       "</div>"
      ],
      "text/plain": [
       "     id           name  age  grade  math_score  english_score  science_score  \\\n",
       "0     1     John Smith   15     10          85             78             82   \n",
       "1     2   Emma Johnson   16     11          90             85             88   \n",
       "2     3  Michael Brown   14      9          75             70             72   \n",
       "3     4   Sophia Davis   15     10          82             80             79   \n",
       "4     5   James Wilson   16     11          88             86             90   \n",
       "..  ...            ...  ...    ...         ...            ...            ...   \n",
       "95   96    Piper Ellis   14      9          74             72             71   \n",
       "96   97    Kayden Boyd   15     10          81             79             78   \n",
       "97   98  Aliyah Holmes   16     11          89             87             86   \n",
       "98   99  Declan Porter   14      9          73             71             70   \n",
       "99  100   Sienna Riley   15     10          82             80             79   \n",
       "\n",
       "    attendance_percentage  study_hours extracurricular  \n",
       "0                    95.5            5             Yes  \n",
       "1                    92.3            6              No  \n",
       "2                    88.7            4             Yes  \n",
       "3                    93.1            5              No  \n",
       "4                    96.2            7             Yes  \n",
       "..                    ...          ...             ...  \n",
       "95                   88.0            3              No  \n",
       "96                   92.9            5             Yes  \n",
       "97                   96.0            8              No  \n",
       "98                   87.8            4             Yes  \n",
       "99                   93.1            6              No  \n",
       "\n",
       "[100 rows x 10 columns]"
      ]
     },
     "execution_count": 103,
     "metadata": {},
     "output_type": "execute_result"
    }
   ],
   "source": [
    "import pandas as pd\n",
    "data=pd.read_csv(r\"C:\\Users\\ADMIN\\Documents\\student_data.csv\")\n",
    "data"
   ]
  },
  {
   "cell_type": "code",
   "execution_count": 102,
   "id": "bb358072-1131-43c6-bccd-7222fafb48f1",
   "metadata": {},
   "outputs": [
    {
     "name": "stdout",
     "output_type": "stream",
     "text": [
      "id                               11\n",
      "name                     Noah White\n",
      "age                              16\n",
      "grade                            11\n",
      "math_score                       89\n",
      "english_score                    87\n",
      "science_score                    86\n",
      "attendance_percentage          95.1\n",
      "study_hours                       7\n",
      "extracurricular                 Yes\n",
      "Name: 10, dtype: object\n"
     ]
    }
   ],
   "source": [
    "# 1. Using loc, select all columns for the student with id 10.\n",
    "print(data.loc[10,\"id\":\"extracurricular\"])"
   ]
  },
  {
   "cell_type": "code",
   "execution_count": 3,
   "id": "e631c2c7-4c68-4a75-aec5-daa6ba3a4530",
   "metadata": {},
   "outputs": [
    {
     "name": "stdout",
     "output_type": "stream",
     "text": [
      "   id           name\n",
      "0   1     John Smith\n",
      "1   2   Emma Johnson\n",
      "2   3  Michael Brown\n",
      "3   4   Sophia Davis\n",
      "4   5   James Wilson\n"
     ]
    }
   ],
   "source": [
    "# 2. Using iloc, select the first 5 rows and the first 3 columns of the dataset.\n",
    "print(data.iloc[0:5,0:2])"
   ]
  },
  {
   "cell_type": "code",
   "execution_count": 13,
   "id": "cfdd5bf0-d0e4-413c-85fe-fe6a41a74408",
   "metadata": {},
   "outputs": [
    {
     "name": "stdout",
     "output_type": "stream",
     "text": [
      "                name  math_score\n",
      "1       Emma Johnson          90\n",
      "4       James Wilson          88\n",
      "7       Ava Anderson          91\n",
      "10        Noah White          89\n",
      "13   Charlotte Lewis          92\n",
      "16      Daniel Allen          87\n",
      "19      Evelyn Scott          90\n",
      "22        Jack Baker          88\n",
      "25      Avery Carter          89\n",
      "28    Elijah Roberts          90\n",
      "31    Grace Campbell          91\n",
      "34     Aiden Edwards          89\n",
      "37       Zoey Morris          90\n",
      "40     Joseph Morgan          88\n",
      "43       Aria Cooper          89\n",
      "46          Luke Cox          90\n",
      "49      Natalie Wood          91\n",
      "52       Julian Gray          89\n",
      "55     Lillian Perry          90\n",
      "58       Jaxon Kelly          88\n",
      "61     Arianna Price          89\n",
      "64       Joshua Ross          90\n",
      "67      Skylar Ortiz          91\n",
      "70  Tristan Sullivan          89\n",
      "73       Maya Hunter          90\n",
      "76      Aaron Bryant          88\n",
      "79   Eleanor Russell          89\n",
      "82     Easton Jordan          90\n",
      "85   Addison Simmons          91\n",
      "88        Evan Berry          89\n",
      "91     Brooklyn Dunn          90\n",
      "94     Caleb Gardner          88\n",
      "97     Aliyah Holmes          89\n"
     ]
    }
   ],
   "source": [
    "# 3. Using loc, select the 'name' and 'math_score' for students in grade 11.\n",
    "print(data.loc[data[\"grade\"]==11,[\"name\",\"math_score\"]])\n",
    "      "
   ]
  },
  {
   "cell_type": "code",
   "execution_count": 19,
   "id": "d997dfc8-fcb8-440a-b39a-67ef1d65da37",
   "metadata": {},
   "outputs": [
    {
     "name": "stdout",
     "output_type": "stream",
     "text": [
      "    age  grade  math_score\n",
      "90   15     10          82\n",
      "91   16     11          90\n",
      "92   14      9          75\n",
      "93   15     10          80\n",
      "94   16     11          88\n",
      "95   14      9          74\n",
      "96   15     10          81\n",
      "97   16     11          89\n",
      "98   14      9          73\n",
      "99   15     10          82\n"
     ]
    }
   ],
   "source": [
    "#4. Using iloc, select the last 10 rows and columns 2 through 5.\n",
    "print(data.iloc[-10:,2:5])"
   ]
  },
  {
   "cell_type": "code",
   "execution_count": 27,
   "id": "bf196108-ce9d-45ff-9d04-a313831d0f96",
   "metadata": {},
   "outputs": [
    {
     "name": "stdout",
     "output_type": "stream",
     "text": [
      "    id              name  age  grade  math_score  english_score  \\\n",
      "0    1        John Smith   15     10          85             78   \n",
      "4    5      James Wilson   16     11          88             86   \n",
      "7    8      Ava Anderson   16     11          91             89   \n",
      "10  11        Noah White   16     11          89             87   \n",
      "13  14   Charlotte Lewis   16     11          92             90   \n",
      "16  17      Daniel Allen   16     11          87             85   \n",
      "19  20      Evelyn Scott   16     11          90             88   \n",
      "22  23        Jack Baker   16     11          88             86   \n",
      "25  26      Avery Carter   16     11          89             87   \n",
      "28  29    Elijah Roberts   16     11          90             88   \n",
      "31  32    Grace Campbell   16     11          91             89   \n",
      "34  35     Aiden Edwards   16     11          89             87   \n",
      "37  38       Zoey Morris   16     11          90             88   \n",
      "40  41     Joseph Morgan   16     11          88             86   \n",
      "43  44       Aria Cooper   16     11          89             87   \n",
      "46  47          Luke Cox   16     11          90             88   \n",
      "49  50      Natalie Wood   16     11          91             89   \n",
      "52  53       Julian Gray   16     11          89             87   \n",
      "55  56     Lillian Perry   16     11          90             88   \n",
      "58  59       Jaxon Kelly   16     11          88             86   \n",
      "61  62     Arianna Price   16     11          89             87   \n",
      "64  65       Joshua Ross   16     11          90             88   \n",
      "67  68      Skylar Ortiz   16     11          91             89   \n",
      "70  71  Tristan Sullivan   16     11          89             87   \n",
      "73  74       Maya Hunter   16     11          90             88   \n",
      "76  77      Aaron Bryant   16     11          88             86   \n",
      "79  80   Eleanor Russell   16     11          89             87   \n",
      "82  83     Easton Jordan   16     11          90             88   \n",
      "85  86   Addison Simmons   16     11          91             89   \n",
      "88  89        Evan Berry   16     11          89             87   \n",
      "91  92     Brooklyn Dunn   16     11          90             88   \n",
      "94  95     Caleb Gardner   16     11          88             86   \n",
      "97  98     Aliyah Holmes   16     11          89             87   \n",
      "\n",
      "    science_score  attendance_percentage  study_hours extracurricular  \n",
      "0              82                   95.5            5             Yes  \n",
      "4              90                   96.2            7             Yes  \n",
      "7              87                   97.0            8              No  \n",
      "10             86                   95.1            7             Yes  \n",
      "13             89                   96.5            8              No  \n",
      "16             84                   95.8            7             Yes  \n",
      "19             87                   96.3            8              No  \n",
      "22             85                   95.7            7             Yes  \n",
      "25             86                   96.1            8              No  \n",
      "28             87                   95.9            7             Yes  \n",
      "31             88                   96.4            8              No  \n",
      "34             86                   95.6            7             Yes  \n",
      "37             87                   96.2            8              No  \n",
      "40             85                   95.8            7             Yes  \n",
      "43             86                   96.0            8              No  \n",
      "46             87                   95.9            7             Yes  \n",
      "49             88                   96.3            8              No  \n",
      "52             86                   95.7            7             Yes  \n",
      "55             87                   96.1            8              No  \n",
      "58             85                   95.6            7             Yes  \n",
      "61             86                   96.0            8              No  \n",
      "64             87                   95.8            7             Yes  \n",
      "67             88                   96.2            8              No  \n",
      "70             86                   95.9            7             Yes  \n",
      "73             87                   96.1            8              No  \n",
      "76             85                   95.7            7             Yes  \n",
      "79             86                   96.0            8              No  \n",
      "82             87                   95.8            7             Yes  \n",
      "85             88                   96.2            8              No  \n",
      "88             86                   95.9            7             Yes  \n",
      "91             87                   96.1            8              No  \n",
      "94             85                   95.7            7             Yes  \n",
      "97             86                   96.0            8              No  \n"
     ]
    }
   ],
   "source": [
    "#5. Using loc, select all columns for students with attendance_percentage greater than 95.\n",
    "print(data.loc[data[\"attendance_percentage\"]>95])"
   ]
  },
  {
   "cell_type": "code",
   "execution_count": 49,
   "id": "1e5f084a-8285-4220-9343-f4f855780440",
   "metadata": {},
   "outputs": [
    {
     "name": "stdout",
     "output_type": "stream",
     "text": [
      "    id  grade  science_score\n",
      "0    1     10             82\n",
      "1    2     11             88\n",
      "2    3      9             72\n",
      "3    4     10             79\n",
      "4    5     11             90\n",
      "5    6      9             65\n",
      "6    7     10             80\n",
      "7    8     11             87\n",
      "8    9      9             71\n",
      "9   10     10             83\n",
      "10  11     11             86\n",
      "11  12      9             67\n",
      "12  13     10             77\n",
      "13  14     11             89\n",
      "14  15      9             70\n",
      "15  16     10             78\n",
      "16  17     11             84\n",
      "17  18      9             69\n",
      "18  19     10             76\n",
      "19  20     11             87\n"
     ]
    }
   ],
   "source": [
    "#6. Using iloc, select every other row from the first 20 rows and columns 0, 3, and 6.\n",
    "\n",
    "print(data.iloc[0:20,[0,3,6]])"
   ]
  },
  {
   "cell_type": "code",
   "execution_count": 59,
   "id": "b071d5ad-2c19-4833-9d5d-2a872f973de5",
   "metadata": {},
   "outputs": [
    {
     "name": "stdout",
     "output_type": "stream",
     "text": [
      "            name  age  science_score\n",
      "1   Emma Johnson   16             88\n",
      "8  Liam Martinez   14             71\n"
     ]
    }
   ],
   "source": [
    "#  7. Using loc, select 'name', 'age', and 'science_score' for students named 'Emma Johnson' or 'Liam Martinez'.\n",
    "print(data.loc[data[\"name\"].isin(['Emma Johnson','Liam Martinez']),[\"name\",\"age\",\"science_score\"]])"
   ]
  },
  {
   "cell_type": "code",
   "execution_count": 68,
   "id": "62cb5914-28d0-47ef-bd62-4556e478a8d0",
   "metadata": {},
   "outputs": [
    {
     "name": "stdout",
     "output_type": "stream",
     "text": [
      "    attendance_percentage extracurricular\n",
      "9                    92.9              No\n",
      "10                   95.1             Yes\n",
      "11                   86.8              No\n",
      "12                   93.4             Yes\n",
      "13                   96.5              No\n",
      "14                   88.2             Yes\n"
     ]
    }
   ],
   "source": [
    "# 8. Using iloc, select the 10th to 15th rows (inclusive) and the last 3 columns.\n",
    "print(data.iloc[9:15,[7,9]])"
   ]
  },
  {
   "cell_type": "code",
   "execution_count": 76,
   "id": "7f3e99bc-0f7f-4030-9e28-b890f233c004",
   "metadata": {},
   "outputs": [
    {
     "name": "stdout",
     "output_type": "stream",
     "text": [
      "Empty DataFrame\n",
      "Columns: [id, name, age, grade, math_score, english_score, science_score, attendance_percentage, study_hours, extracurricular]\n",
      "Index: []\n"
     ]
    }
   ],
   "source": [
    "# 9. Using loc, select all columns for students who participate in extracurricular activities (extracurricular = 'Yes').[\"\n",
    "print(data.loc[data[\"extracurricular\"]==\"yes\"])\n"
   ]
  },
  {
   "cell_type": "code",
   "execution_count": 86,
   "id": "65bdd2ba-5c1c-4b27-99c4-2ffa4228ebc1",
   "metadata": {},
   "outputs": [
    {
     "name": "stdout",
     "output_type": "stream",
     "text": [
      "    id             name  age\n",
      "20  21      Lucas Green   14\n",
      "21  22    Abigail Adams   15\n",
      "22  23       Jack Baker   16\n",
      "23  24   Emily Gonzalez   14\n",
      "24  25  Benjamin Nelson   15\n",
      "25  26     Avery Carter   16\n",
      "26  27   Mason Mitchell   14\n",
      "27  28      Sofia Perez   15\n",
      "28  29   Elijah Roberts   16\n",
      "29  30     Chloe Turner   14\n"
     ]
    }
   ],
   "source": [
    "# 10. Using iloc, select the first 3 columns for rows 20 to 30.\n",
    "print(data.iloc[20:30, 0:3])"
   ]
  },
  {
   "cell_type": "code",
   "execution_count": 88,
   "id": "721c9188-847b-4e90-a012-72e6e8bcff80",
   "metadata": {},
   "outputs": [
    {
     "name": "stdout",
     "output_type": "stream",
     "text": [
      "    id             name  age\n",
      "20  21      Lucas Green   14\n",
      "21  22    Abigail Adams   15\n",
      "22  23       Jack Baker   16\n",
      "23  24   Emily Gonzalez   14\n",
      "24  25  Benjamin Nelson   15\n",
      "25  26     Avery Carter   16\n",
      "26  27   Mason Mitchell   14\n",
      "27  28      Sofia Perez   15\n",
      "28  29   Elijah Roberts   16\n",
      "29  30     Chloe Turner   14\n"
     ]
    }
   ],
   "source": [
    "#      OR\n",
    "# 10. Using iloc, select the first 3 columns for rows 20 to 30.\n",
    "print(data.iloc[20:30, [0,1,2]])"
   ]
  },
  {
   "cell_type": "code",
   "execution_count": 105,
   "id": "eba6cccc-f32c-4292-bb53-f5ed24b7e77e",
   "metadata": {},
   "outputs": [
    {
     "name": "stdout",
     "output_type": "stream",
     "text": [
      "                name  english_score\n",
      "1       Emma Johnson             85\n",
      "4       James Wilson             86\n",
      "7       Ava Anderson             89\n",
      "10        Noah White             87\n",
      "13   Charlotte Lewis             90\n",
      "16      Daniel Allen             85\n",
      "19      Evelyn Scott             88\n",
      "22        Jack Baker             86\n",
      "25      Avery Carter             87\n",
      "28    Elijah Roberts             88\n",
      "31    Grace Campbell             89\n",
      "34     Aiden Edwards             87\n",
      "37       Zoey Morris             88\n",
      "40     Joseph Morgan             86\n",
      "43       Aria Cooper             87\n",
      "46          Luke Cox             88\n",
      "49      Natalie Wood             89\n",
      "52       Julian Gray             87\n",
      "55     Lillian Perry             88\n",
      "58       Jaxon Kelly             86\n",
      "61     Arianna Price             87\n",
      "64       Joshua Ross             88\n",
      "67      Skylar Ortiz             89\n",
      "70  Tristan Sullivan             87\n",
      "73       Maya Hunter             88\n",
      "76      Aaron Bryant             86\n",
      "79   Eleanor Russell             87\n",
      "82     Easton Jordan             88\n",
      "85   Addison Simmons             89\n",
      "88        Evan Berry             87\n",
      "91     Brooklyn Dunn             88\n",
      "94     Caleb Gardner             86\n",
      "97     Aliyah Holmes             87\n"
     ]
    }
   ],
   "source": [
    "#  11. Using loc, select 'name' and 'english_score' for students with math_score above 85.\n",
    "print(data.loc[data[\"math_score\"]>85,[\"name\",\"english_score\"]])"
   ]
  },
  {
   "cell_type": "code",
   "execution_count": 113,
   "id": "15d48eed-1709-408a-bc3c-9f2fa168d3f8",
   "metadata": {},
   "outputs": [
    {
     "name": "stdout",
     "output_type": "stream",
     "text": [
      "              name  grade  study_hours\n",
      "50  Gabriel Fisher      9            4\n",
      "51  Victoria Stone     10            6\n",
      "52     Julian Gray     11            7\n",
      "53    Hazel Hughes      9            3\n",
      "54       Levi West     10            5\n",
      "55   Lillian Perry     11            8\n",
      "56    Grayson Ford      9            4\n",
      "57    Aubrey Myers     10            6\n",
      "58     Jaxon Kelly     11            7\n",
      "59      Ellie Long      9            3\n",
      "60  Lincoln Foster     10            5\n"
     ]
    }
   ],
   "source": [
    "# 12. Using iloc, select rows 50 to 60 and columns 'name', 'grade', and 'study_hours' by their index positions.\n",
    "print(data.iloc[50:61,[1,3,8]])"
   ]
  },
  {
   "cell_type": "code",
   "execution_count": 129,
   "id": "dddfd7e6-8cc1-4db9-8837-1e400bc99f13",
   "metadata": {},
   "outputs": [
    {
     "name": "stdout",
     "output_type": "stream",
     "text": [
      "    id           name  age  grade  math_score  english_score  science_score  \\\n",
      "5    6  Olivia Taylor   14      9          70             68             65   \n",
      "11  12     Mia Harris   14      9          71             69             67   \n",
      "17  18   Harper Young   14      9          73             71             69   \n",
      "20  21    Lucas Green   14      9          72             70             68   \n",
      "\n",
      "    attendance_percentage  study_hours  \n",
      "5                    87.4            3  \n",
      "11                   86.8            3  \n",
      "17                   87.9            3  \n",
      "20                   88.5            4  \n"
     ]
    }
   ],
   "source": [
    "# 13. Using loc, select all columns for students aged 14 who have a science_score below 70.\n",
    "print(data.loc[(data[\"age\"]==14) & (data[\"science_score\"]<70),data.columns[:9]])"
   ]
  },
  {
   "cell_type": "code",
   "execution_count": 134,
   "id": "aa150f36-c7bc-473f-8e95-319b1b88df13",
   "metadata": {},
   "outputs": [
    {
     "name": "stdout",
     "output_type": "stream",
     "text": [
      "    id              name  age  grade  math_score\n",
      "1    2      Emma Johnson   16     11          90\n",
      "2    3     Michael Brown   14      9          75\n",
      "3    4      Sophia Davis   15     10          82\n",
      "4    5      James Wilson   16     11          88\n",
      "5    6     Olivia Taylor   14      9          70\n",
      "6    7     William Moore   15     10          83\n",
      "7    8      Ava Anderson   16     11          91\n",
      "8    9     Liam Martinez   14      9          76\n",
      "9   10   Isabella Thomas   15     10          84\n",
      "10  11        Noah White   16     11          89\n",
      "11  12        Mia Harris   14      9          71\n",
      "12  13       Ethan Clark   15     10          80\n",
      "13  14   Charlotte Lewis   16     11          92\n",
      "14  15  Alexander Walker   14      9          74\n",
      "15  16       Amelia Hall   15     10          81\n",
      "16  17      Daniel Allen   16     11          87\n",
      "17  18      Harper Young   14      9          73\n",
      "18  19        Henry King   15     10          79\n",
      "19  20      Evelyn Scott   16     11          90\n",
      "20  21       Lucas Green   14      9          72\n",
      "21  22     Abigail Adams   15     10          80\n",
      "22  23        Jack Baker   16     11          88\n",
      "23  24    Emily Gonzalez   14      9          74\n",
      "24  25   Benjamin Nelson   15     10          81\n",
      "25  26      Avery Carter   16     11          89\n"
     ]
    }
   ],
   "source": [
    "#  14. Using iloc, select the 5th column for the first 25 rows.\n",
    "print(data.iloc[1:26,0:5])"
   ]
  },
  {
   "cell_type": "code",
   "execution_count": 136,
   "id": "a31e7108-74ab-4b16-8e5f-75ddc1c6d1c7",
   "metadata": {},
   "outputs": [
    {
     "name": "stdout",
     "output_type": "stream",
     "text": [
      "               name  math_score  english_score\n",
      "7      Ava Anderson          91             89\n",
      "13  Charlotte Lewis          92             90\n",
      "19     Evelyn Scott          90             88\n",
      "25     Avery Carter          89             87\n",
      "31   Grace Campbell          91             89\n",
      "37      Zoey Morris          90             88\n",
      "43      Aria Cooper          89             87\n",
      "49     Natalie Wood          91             89\n",
      "55    Lillian Perry          90             88\n",
      "61    Arianna Price          89             87\n",
      "67     Skylar Ortiz          91             89\n",
      "73      Maya Hunter          90             88\n",
      "79  Eleanor Russell          89             87\n",
      "85  Addison Simmons          91             89\n",
      "91    Brooklyn Dunn          90             88\n",
      "97    Aliyah Holmes          89             87\n"
     ]
    }
   ],
   "source": [
    "#   15. Using loc, select 'name', 'math_score', and 'english_score' for students with study_hours equal to 8.\n",
    "print(data.loc[data[\"study_hours\"]==8,[\"name\",\"math_score\",\"english_score\"]])"
   ]
  },
  {
   "cell_type": "code",
   "execution_count": null,
   "id": "5233a8b7-9413-491f-9181-ea1381f83cf9",
   "metadata": {},
   "outputs": [],
   "source": []
  }
 ],
 "metadata": {
  "kernelspec": {
   "display_name": "Python 3 (ipykernel)",
   "language": "python",
   "name": "python3"
  },
  "language_info": {
   "codemirror_mode": {
    "name": "ipython",
    "version": 3
   },
   "file_extension": ".py",
   "mimetype": "text/x-python",
   "name": "python",
   "nbconvert_exporter": "python",
   "pygments_lexer": "ipython3",
   "version": "3.13.5"
  }
 },
 "nbformat": 4,
 "nbformat_minor": 5
}
