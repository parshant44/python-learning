{
 "cells": [
  {
   "cell_type": "markdown",
   "id": "d5967e14-5f5b-4bb7-951d-70d98449a93f",
   "metadata": {},
   "source": [
    "# LOC AND ILOC "
   ]
  },
  {
   "cell_type": "code",
   "execution_count": 3,
   "id": "f4007502-c372-418d-9586-5c9f82a85233",
   "metadata": {},
   "outputs": [
    {
     "data": {
      "text/html": [
       "<div>\n",
       "<style scoped>\n",
       "    .dataframe tbody tr th:only-of-type {\n",
       "        vertical-align: middle;\n",
       "    }\n",
       "\n",
       "    .dataframe tbody tr th {\n",
       "        vertical-align: top;\n",
       "    }\n",
       "\n",
       "    .dataframe thead th {\n",
       "        text-align: right;\n",
       "    }\n",
       "</style>\n",
       "<table border=\"1\" class=\"dataframe\">\n",
       "  <thead>\n",
       "    <tr style=\"text-align: right;\">\n",
       "      <th></th>\n",
       "      <th>id</th>\n",
       "      <th>name</th>\n",
       "      <th>age</th>\n",
       "      <th>grade</th>\n",
       "      <th>math_score</th>\n",
       "      <th>english_score</th>\n",
       "      <th>science_score</th>\n",
       "      <th>attendance_percentage</th>\n",
       "      <th>study_hours</th>\n",
       "      <th>extracurricular</th>\n",
       "    </tr>\n",
       "  </thead>\n",
       "  <tbody>\n",
       "    <tr>\n",
       "      <th>0</th>\n",
       "      <td>1</td>\n",
       "      <td>John Smith</td>\n",
       "      <td>15</td>\n",
       "      <td>10</td>\n",
       "      <td>85</td>\n",
       "      <td>78</td>\n",
       "      <td>82</td>\n",
       "      <td>95.5</td>\n",
       "      <td>5</td>\n",
       "      <td>Yes</td>\n",
       "    </tr>\n",
       "    <tr>\n",
       "      <th>1</th>\n",
       "      <td>2</td>\n",
       "      <td>Emma Johnson</td>\n",
       "      <td>16</td>\n",
       "      <td>11</td>\n",
       "      <td>90</td>\n",
       "      <td>85</td>\n",
       "      <td>88</td>\n",
       "      <td>92.3</td>\n",
       "      <td>6</td>\n",
       "      <td>No</td>\n",
       "    </tr>\n",
       "    <tr>\n",
       "      <th>2</th>\n",
       "      <td>3</td>\n",
       "      <td>Michael Brown</td>\n",
       "      <td>14</td>\n",
       "      <td>9</td>\n",
       "      <td>75</td>\n",
       "      <td>70</td>\n",
       "      <td>72</td>\n",
       "      <td>88.7</td>\n",
       "      <td>4</td>\n",
       "      <td>Yes</td>\n",
       "    </tr>\n",
       "    <tr>\n",
       "      <th>3</th>\n",
       "      <td>4</td>\n",
       "      <td>Sophia Davis</td>\n",
       "      <td>15</td>\n",
       "      <td>10</td>\n",
       "      <td>82</td>\n",
       "      <td>80</td>\n",
       "      <td>79</td>\n",
       "      <td>93.1</td>\n",
       "      <td>5</td>\n",
       "      <td>No</td>\n",
       "    </tr>\n",
       "    <tr>\n",
       "      <th>4</th>\n",
       "      <td>5</td>\n",
       "      <td>James Wilson</td>\n",
       "      <td>16</td>\n",
       "      <td>11</td>\n",
       "      <td>88</td>\n",
       "      <td>86</td>\n",
       "      <td>90</td>\n",
       "      <td>96.2</td>\n",
       "      <td>7</td>\n",
       "      <td>Yes</td>\n",
       "    </tr>\n",
       "    <tr>\n",
       "      <th>...</th>\n",
       "      <td>...</td>\n",
       "      <td>...</td>\n",
       "      <td>...</td>\n",
       "      <td>...</td>\n",
       "      <td>...</td>\n",
       "      <td>...</td>\n",
       "      <td>...</td>\n",
       "      <td>...</td>\n",
       "      <td>...</td>\n",
       "      <td>...</td>\n",
       "    </tr>\n",
       "    <tr>\n",
       "      <th>95</th>\n",
       "      <td>96</td>\n",
       "      <td>Piper Ellis</td>\n",
       "      <td>14</td>\n",
       "      <td>9</td>\n",
       "      <td>74</td>\n",
       "      <td>72</td>\n",
       "      <td>71</td>\n",
       "      <td>88.0</td>\n",
       "      <td>3</td>\n",
       "      <td>No</td>\n",
       "    </tr>\n",
       "    <tr>\n",
       "      <th>96</th>\n",
       "      <td>97</td>\n",
       "      <td>Kayden Boyd</td>\n",
       "      <td>15</td>\n",
       "      <td>10</td>\n",
       "      <td>81</td>\n",
       "      <td>79</td>\n",
       "      <td>78</td>\n",
       "      <td>92.9</td>\n",
       "      <td>5</td>\n",
       "      <td>Yes</td>\n",
       "    </tr>\n",
       "    <tr>\n",
       "      <th>97</th>\n",
       "      <td>98</td>\n",
       "      <td>Aliyah Holmes</td>\n",
       "      <td>16</td>\n",
       "      <td>11</td>\n",
       "      <td>89</td>\n",
       "      <td>87</td>\n",
       "      <td>86</td>\n",
       "      <td>96.0</td>\n",
       "      <td>8</td>\n",
       "      <td>No</td>\n",
       "    </tr>\n",
       "    <tr>\n",
       "      <th>98</th>\n",
       "      <td>99</td>\n",
       "      <td>Declan Porter</td>\n",
       "      <td>14</td>\n",
       "      <td>9</td>\n",
       "      <td>73</td>\n",
       "      <td>71</td>\n",
       "      <td>70</td>\n",
       "      <td>87.8</td>\n",
       "      <td>4</td>\n",
       "      <td>Yes</td>\n",
       "    </tr>\n",
       "    <tr>\n",
       "      <th>99</th>\n",
       "      <td>100</td>\n",
       "      <td>Sienna Riley</td>\n",
       "      <td>15</td>\n",
       "      <td>10</td>\n",
       "      <td>82</td>\n",
       "      <td>80</td>\n",
       "      <td>79</td>\n",
       "      <td>93.1</td>\n",
       "      <td>6</td>\n",
       "      <td>No</td>\n",
       "    </tr>\n",
       "  </tbody>\n",
       "</table>\n",
       "<p>100 rows × 10 columns</p>\n",
       "</div>"
      ],
      "text/plain": [
       "     id           name  age  grade  math_score  english_score  science_score  \\\n",
       "0     1     John Smith   15     10          85             78             82   \n",
       "1     2   Emma Johnson   16     11          90             85             88   \n",
       "2     3  Michael Brown   14      9          75             70             72   \n",
       "3     4   Sophia Davis   15     10          82             80             79   \n",
       "4     5   James Wilson   16     11          88             86             90   \n",
       "..  ...            ...  ...    ...         ...            ...            ...   \n",
       "95   96    Piper Ellis   14      9          74             72             71   \n",
       "96   97    Kayden Boyd   15     10          81             79             78   \n",
       "97   98  Aliyah Holmes   16     11          89             87             86   \n",
       "98   99  Declan Porter   14      9          73             71             70   \n",
       "99  100   Sienna Riley   15     10          82             80             79   \n",
       "\n",
       "    attendance_percentage  study_hours extracurricular  \n",
       "0                    95.5            5             Yes  \n",
       "1                    92.3            6              No  \n",
       "2                    88.7            4             Yes  \n",
       "3                    93.1            5              No  \n",
       "4                    96.2            7             Yes  \n",
       "..                    ...          ...             ...  \n",
       "95                   88.0            3              No  \n",
       "96                   92.9            5             Yes  \n",
       "97                   96.0            8              No  \n",
       "98                   87.8            4             Yes  \n",
       "99                   93.1            6              No  \n",
       "\n",
       "[100 rows x 10 columns]"
      ]
     },
     "execution_count": 3,
     "metadata": {},
     "output_type": "execute_result"
    }
   ],
   "source": [
    "import pandas as pd\n",
    "data=pd.read_csv(r\"C:\\Users\\ADMIN\\Documents\\student_data.csv\")\n",
    "data"
   ]
  },
  {
   "cell_type": "code",
   "execution_count": 102,
   "id": "bb358072-1131-43c6-bccd-7222fafb48f1",
   "metadata": {},
   "outputs": [
    {
     "name": "stdout",
     "output_type": "stream",
     "text": [
      "id                               11\n",
      "name                     Noah White\n",
      "age                              16\n",
      "grade                            11\n",
      "math_score                       89\n",
      "english_score                    87\n",
      "science_score                    86\n",
      "attendance_percentage          95.1\n",
      "study_hours                       7\n",
      "extracurricular                 Yes\n",
      "Name: 10, dtype: object\n"
     ]
    }
   ],
   "source": [
    "# 1. Using loc, select all columns for the student with id 10.\n",
    "print(data.loc[10,\"id\":\"extracurricular\"])"
   ]
  },
  {
   "cell_type": "code",
   "execution_count": 3,
   "id": "e631c2c7-4c68-4a75-aec5-daa6ba3a4530",
   "metadata": {},
   "outputs": [
    {
     "name": "stdout",
     "output_type": "stream",
     "text": [
      "   id           name\n",
      "0   1     John Smith\n",
      "1   2   Emma Johnson\n",
      "2   3  Michael Brown\n",
      "3   4   Sophia Davis\n",
      "4   5   James Wilson\n"
     ]
    }
   ],
   "source": [
    "# 2. Using iloc, select the first 5 rows and the first 3 columns of the dataset.\n",
    "print(data.iloc[0:5,0:2])"
   ]
  },
  {
   "cell_type": "code",
   "execution_count": 13,
   "id": "cfdd5bf0-d0e4-413c-85fe-fe6a41a74408",
   "metadata": {},
   "outputs": [
    {
     "name": "stdout",
     "output_type": "stream",
     "text": [
      "                name  math_score\n",
      "1       Emma Johnson          90\n",
      "4       James Wilson          88\n",
      "7       Ava Anderson          91\n",
      "10        Noah White          89\n",
      "13   Charlotte Lewis          92\n",
      "16      Daniel Allen          87\n",
      "19      Evelyn Scott          90\n",
      "22        Jack Baker          88\n",
      "25      Avery Carter          89\n",
      "28    Elijah Roberts          90\n",
      "31    Grace Campbell          91\n",
      "34     Aiden Edwards          89\n",
      "37       Zoey Morris          90\n",
      "40     Joseph Morgan          88\n",
      "43       Aria Cooper          89\n",
      "46          Luke Cox          90\n",
      "49      Natalie Wood          91\n",
      "52       Julian Gray          89\n",
      "55     Lillian Perry          90\n",
      "58       Jaxon Kelly          88\n",
      "61     Arianna Price          89\n",
      "64       Joshua Ross          90\n",
      "67      Skylar Ortiz          91\n",
      "70  Tristan Sullivan          89\n",
      "73       Maya Hunter          90\n",
      "76      Aaron Bryant          88\n",
      "79   Eleanor Russell          89\n",
      "82     Easton Jordan          90\n",
      "85   Addison Simmons          91\n",
      "88        Evan Berry          89\n",
      "91     Brooklyn Dunn          90\n",
      "94     Caleb Gardner          88\n",
      "97     Aliyah Holmes          89\n"
     ]
    }
   ],
   "source": [
    "# 3. Using loc, select the 'name' and 'math_score' for students in grade 11.\n",
    "print(data.loc[data[\"grade\"]==11,[\"name\",\"math_score\"]])\n",
    "      "
   ]
  },
  {
   "cell_type": "code",
   "execution_count": 19,
   "id": "d997dfc8-fcb8-440a-b39a-67ef1d65da37",
   "metadata": {},
   "outputs": [
    {
     "name": "stdout",
     "output_type": "stream",
     "text": [
      "    age  grade  math_score\n",
      "90   15     10          82\n",
      "91   16     11          90\n",
      "92   14      9          75\n",
      "93   15     10          80\n",
      "94   16     11          88\n",
      "95   14      9          74\n",
      "96   15     10          81\n",
      "97   16     11          89\n",
      "98   14      9          73\n",
      "99   15     10          82\n"
     ]
    }
   ],
   "source": [
    "#4. Using iloc, select the last 10 rows and columns 2 through 5.\n",
    "print(data.iloc[-10:,2:5])"
   ]
  },
  {
   "cell_type": "code",
   "execution_count": 27,
   "id": "bf196108-ce9d-45ff-9d04-a313831d0f96",
   "metadata": {},
   "outputs": [
    {
     "name": "stdout",
     "output_type": "stream",
     "text": [
      "    id              name  age  grade  math_score  english_score  \\\n",
      "0    1        John Smith   15     10          85             78   \n",
      "4    5      James Wilson   16     11          88             86   \n",
      "7    8      Ava Anderson   16     11          91             89   \n",
      "10  11        Noah White   16     11          89             87   \n",
      "13  14   Charlotte Lewis   16     11          92             90   \n",
      "16  17      Daniel Allen   16     11          87             85   \n",
      "19  20      Evelyn Scott   16     11          90             88   \n",
      "22  23        Jack Baker   16     11          88             86   \n",
      "25  26      Avery Carter   16     11          89             87   \n",
      "28  29    Elijah Roberts   16     11          90             88   \n",
      "31  32    Grace Campbell   16     11          91             89   \n",
      "34  35     Aiden Edwards   16     11          89             87   \n",
      "37  38       Zoey Morris   16     11          90             88   \n",
      "40  41     Joseph Morgan   16     11          88             86   \n",
      "43  44       Aria Cooper   16     11          89             87   \n",
      "46  47          Luke Cox   16     11          90             88   \n",
      "49  50      Natalie Wood   16     11          91             89   \n",
      "52  53       Julian Gray   16     11          89             87   \n",
      "55  56     Lillian Perry   16     11          90             88   \n",
      "58  59       Jaxon Kelly   16     11          88             86   \n",
      "61  62     Arianna Price   16     11          89             87   \n",
      "64  65       Joshua Ross   16     11          90             88   \n",
      "67  68      Skylar Ortiz   16     11          91             89   \n",
      "70  71  Tristan Sullivan   16     11          89             87   \n",
      "73  74       Maya Hunter   16     11          90             88   \n",
      "76  77      Aaron Bryant   16     11          88             86   \n",
      "79  80   Eleanor Russell   16     11          89             87   \n",
      "82  83     Easton Jordan   16     11          90             88   \n",
      "85  86   Addison Simmons   16     11          91             89   \n",
      "88  89        Evan Berry   16     11          89             87   \n",
      "91  92     Brooklyn Dunn   16     11          90             88   \n",
      "94  95     Caleb Gardner   16     11          88             86   \n",
      "97  98     Aliyah Holmes   16     11          89             87   \n",
      "\n",
      "    science_score  attendance_percentage  study_hours extracurricular  \n",
      "0              82                   95.5            5             Yes  \n",
      "4              90                   96.2            7             Yes  \n",
      "7              87                   97.0            8              No  \n",
      "10             86                   95.1            7             Yes  \n",
      "13             89                   96.5            8              No  \n",
      "16             84                   95.8            7             Yes  \n",
      "19             87                   96.3            8              No  \n",
      "22             85                   95.7            7             Yes  \n",
      "25             86                   96.1            8              No  \n",
      "28             87                   95.9            7             Yes  \n",
      "31             88                   96.4            8              No  \n",
      "34             86                   95.6            7             Yes  \n",
      "37             87                   96.2            8              No  \n",
      "40             85                   95.8            7             Yes  \n",
      "43             86                   96.0            8              No  \n",
      "46             87                   95.9            7             Yes  \n",
      "49             88                   96.3            8              No  \n",
      "52             86                   95.7            7             Yes  \n",
      "55             87                   96.1            8              No  \n",
      "58             85                   95.6            7             Yes  \n",
      "61             86                   96.0            8              No  \n",
      "64             87                   95.8            7             Yes  \n",
      "67             88                   96.2            8              No  \n",
      "70             86                   95.9            7             Yes  \n",
      "73             87                   96.1            8              No  \n",
      "76             85                   95.7            7             Yes  \n",
      "79             86                   96.0            8              No  \n",
      "82             87                   95.8            7             Yes  \n",
      "85             88                   96.2            8              No  \n",
      "88             86                   95.9            7             Yes  \n",
      "91             87                   96.1            8              No  \n",
      "94             85                   95.7            7             Yes  \n",
      "97             86                   96.0            8              No  \n"
     ]
    }
   ],
   "source": [
    "#5. Using loc, select all columns for students with attendance_percentage greater than 95.\n",
    "print(data.loc[data[\"attendance_percentage\"]>95])"
   ]
  },
  {
   "cell_type": "code",
   "execution_count": 49,
   "id": "1e5f084a-8285-4220-9343-f4f855780440",
   "metadata": {},
   "outputs": [
    {
     "name": "stdout",
     "output_type": "stream",
     "text": [
      "    id  grade  science_score\n",
      "0    1     10             82\n",
      "1    2     11             88\n",
      "2    3      9             72\n",
      "3    4     10             79\n",
      "4    5     11             90\n",
      "5    6      9             65\n",
      "6    7     10             80\n",
      "7    8     11             87\n",
      "8    9      9             71\n",
      "9   10     10             83\n",
      "10  11     11             86\n",
      "11  12      9             67\n",
      "12  13     10             77\n",
      "13  14     11             89\n",
      "14  15      9             70\n",
      "15  16     10             78\n",
      "16  17     11             84\n",
      "17  18      9             69\n",
      "18  19     10             76\n",
      "19  20     11             87\n"
     ]
    }
   ],
   "source": [
    "#6. Using iloc, select every other row from the first 20 rows and columns 0, 3, and 6.\n",
    "\n",
    "print(data.iloc[0:20,[0,3,6]])"
   ]
  },
  {
   "cell_type": "code",
   "execution_count": 59,
   "id": "b071d5ad-2c19-4833-9d5d-2a872f973de5",
   "metadata": {},
   "outputs": [
    {
     "name": "stdout",
     "output_type": "stream",
     "text": [
      "            name  age  science_score\n",
      "1   Emma Johnson   16             88\n",
      "8  Liam Martinez   14             71\n"
     ]
    }
   ],
   "source": [
    "#  7. Using loc, select 'name', 'age', and 'science_score' for students named 'Emma Johnson' or 'Liam Martinez'.\n",
    "print(data.loc[data[\"name\"].isin(['Emma Johnson','Liam Martinez']),[\"name\",\"age\",\"science_score\"]])"
   ]
  },
  {
   "cell_type": "code",
   "execution_count": 68,
   "id": "62cb5914-28d0-47ef-bd62-4556e478a8d0",
   "metadata": {},
   "outputs": [
    {
     "name": "stdout",
     "output_type": "stream",
     "text": [
      "    attendance_percentage extracurricular\n",
      "9                    92.9              No\n",
      "10                   95.1             Yes\n",
      "11                   86.8              No\n",
      "12                   93.4             Yes\n",
      "13                   96.5              No\n",
      "14                   88.2             Yes\n"
     ]
    }
   ],
   "source": [
    "# 8. Using iloc, select the 10th to 15th rows (inclusive) and the last 3 columns.\n",
    "print(data.iloc[9:15,[7,9]])"
   ]
  },
  {
   "cell_type": "code",
   "execution_count": 76,
   "id": "7f3e99bc-0f7f-4030-9e28-b890f233c004",
   "metadata": {},
   "outputs": [
    {
     "name": "stdout",
     "output_type": "stream",
     "text": [
      "Empty DataFrame\n",
      "Columns: [id, name, age, grade, math_score, english_score, science_score, attendance_percentage, study_hours, extracurricular]\n",
      "Index: []\n"
     ]
    }
   ],
   "source": [
    "# 9. Using loc, select all columns for students who participate in extracurricular activities (extracurricular = 'Yes').[\"\n",
    "print(data.loc[data[\"extracurricular\"]==\"yes\"])\n"
   ]
  },
  {
   "cell_type": "code",
   "execution_count": 86,
   "id": "65bdd2ba-5c1c-4b27-99c4-2ffa4228ebc1",
   "metadata": {},
   "outputs": [
    {
     "name": "stdout",
     "output_type": "stream",
     "text": [
      "    id             name  age\n",
      "20  21      Lucas Green   14\n",
      "21  22    Abigail Adams   15\n",
      "22  23       Jack Baker   16\n",
      "23  24   Emily Gonzalez   14\n",
      "24  25  Benjamin Nelson   15\n",
      "25  26     Avery Carter   16\n",
      "26  27   Mason Mitchell   14\n",
      "27  28      Sofia Perez   15\n",
      "28  29   Elijah Roberts   16\n",
      "29  30     Chloe Turner   14\n"
     ]
    }
   ],
   "source": [
    "# 10. Using iloc, select the first 3 columns for rows 20 to 30.\n",
    "print(data.iloc[20:30, 0:3])"
   ]
  },
  {
   "cell_type": "code",
   "execution_count": 88,
   "id": "721c9188-847b-4e90-a012-72e6e8bcff80",
   "metadata": {},
   "outputs": [
    {
     "name": "stdout",
     "output_type": "stream",
     "text": [
      "    id             name  age\n",
      "20  21      Lucas Green   14\n",
      "21  22    Abigail Adams   15\n",
      "22  23       Jack Baker   16\n",
      "23  24   Emily Gonzalez   14\n",
      "24  25  Benjamin Nelson   15\n",
      "25  26     Avery Carter   16\n",
      "26  27   Mason Mitchell   14\n",
      "27  28      Sofia Perez   15\n",
      "28  29   Elijah Roberts   16\n",
      "29  30     Chloe Turner   14\n"
     ]
    }
   ],
   "source": [
    "#      OR\n",
    "# 10. Using iloc, select the first 3 columns for rows 20 to 30.\n",
    "print(data.iloc[20:30, [0,1,2]])"
   ]
  },
  {
   "cell_type": "code",
   "execution_count": 105,
   "id": "eba6cccc-f32c-4292-bb53-f5ed24b7e77e",
   "metadata": {},
   "outputs": [
    {
     "name": "stdout",
     "output_type": "stream",
     "text": [
      "                name  english_score\n",
      "1       Emma Johnson             85\n",
      "4       James Wilson             86\n",
      "7       Ava Anderson             89\n",
      "10        Noah White             87\n",
      "13   Charlotte Lewis             90\n",
      "16      Daniel Allen             85\n",
      "19      Evelyn Scott             88\n",
      "22        Jack Baker             86\n",
      "25      Avery Carter             87\n",
      "28    Elijah Roberts             88\n",
      "31    Grace Campbell             89\n",
      "34     Aiden Edwards             87\n",
      "37       Zoey Morris             88\n",
      "40     Joseph Morgan             86\n",
      "43       Aria Cooper             87\n",
      "46          Luke Cox             88\n",
      "49      Natalie Wood             89\n",
      "52       Julian Gray             87\n",
      "55     Lillian Perry             88\n",
      "58       Jaxon Kelly             86\n",
      "61     Arianna Price             87\n",
      "64       Joshua Ross             88\n",
      "67      Skylar Ortiz             89\n",
      "70  Tristan Sullivan             87\n",
      "73       Maya Hunter             88\n",
      "76      Aaron Bryant             86\n",
      "79   Eleanor Russell             87\n",
      "82     Easton Jordan             88\n",
      "85   Addison Simmons             89\n",
      "88        Evan Berry             87\n",
      "91     Brooklyn Dunn             88\n",
      "94     Caleb Gardner             86\n",
      "97     Aliyah Holmes             87\n"
     ]
    }
   ],
   "source": [
    "#  11. Using loc, select 'name' and 'english_score' for students with math_score above 85.\n",
    "print(data.loc[data[\"math_score\"]>85,[\"name\",\"english_score\"]])"
   ]
  },
  {
   "cell_type": "code",
   "execution_count": 113,
   "id": "15d48eed-1709-408a-bc3c-9f2fa168d3f8",
   "metadata": {},
   "outputs": [
    {
     "name": "stdout",
     "output_type": "stream",
     "text": [
      "              name  grade  study_hours\n",
      "50  Gabriel Fisher      9            4\n",
      "51  Victoria Stone     10            6\n",
      "52     Julian Gray     11            7\n",
      "53    Hazel Hughes      9            3\n",
      "54       Levi West     10            5\n",
      "55   Lillian Perry     11            8\n",
      "56    Grayson Ford      9            4\n",
      "57    Aubrey Myers     10            6\n",
      "58     Jaxon Kelly     11            7\n",
      "59      Ellie Long      9            3\n",
      "60  Lincoln Foster     10            5\n"
     ]
    }
   ],
   "source": [
    "# 12. Using iloc, select rows 50 to 60 and columns 'name', 'grade', and 'study_hours' by their index positions.\n",
    "print(data.iloc[50:61,[1,3,8]])"
   ]
  },
  {
   "cell_type": "code",
   "execution_count": 129,
   "id": "dddfd7e6-8cc1-4db9-8837-1e400bc99f13",
   "metadata": {},
   "outputs": [
    {
     "name": "stdout",
     "output_type": "stream",
     "text": [
      "    id           name  age  grade  math_score  english_score  science_score  \\\n",
      "5    6  Olivia Taylor   14      9          70             68             65   \n",
      "11  12     Mia Harris   14      9          71             69             67   \n",
      "17  18   Harper Young   14      9          73             71             69   \n",
      "20  21    Lucas Green   14      9          72             70             68   \n",
      "\n",
      "    attendance_percentage  study_hours  \n",
      "5                    87.4            3  \n",
      "11                   86.8            3  \n",
      "17                   87.9            3  \n",
      "20                   88.5            4  \n"
     ]
    }
   ],
   "source": [
    "# 13. Using loc, select all columns for students aged 14 who have a science_score below 70.\n",
    "print(data.loc[(data[\"age\"]==14) & (data[\"science_score\"]<70),data.columns[:9]])"
   ]
  },
  {
   "cell_type": "code",
   "execution_count": 134,
   "id": "aa150f36-c7bc-473f-8e95-319b1b88df13",
   "metadata": {},
   "outputs": [
    {
     "name": "stdout",
     "output_type": "stream",
     "text": [
      "    id              name  age  grade  math_score\n",
      "1    2      Emma Johnson   16     11          90\n",
      "2    3     Michael Brown   14      9          75\n",
      "3    4      Sophia Davis   15     10          82\n",
      "4    5      James Wilson   16     11          88\n",
      "5    6     Olivia Taylor   14      9          70\n",
      "6    7     William Moore   15     10          83\n",
      "7    8      Ava Anderson   16     11          91\n",
      "8    9     Liam Martinez   14      9          76\n",
      "9   10   Isabella Thomas   15     10          84\n",
      "10  11        Noah White   16     11          89\n",
      "11  12        Mia Harris   14      9          71\n",
      "12  13       Ethan Clark   15     10          80\n",
      "13  14   Charlotte Lewis   16     11          92\n",
      "14  15  Alexander Walker   14      9          74\n",
      "15  16       Amelia Hall   15     10          81\n",
      "16  17      Daniel Allen   16     11          87\n",
      "17  18      Harper Young   14      9          73\n",
      "18  19        Henry King   15     10          79\n",
      "19  20      Evelyn Scott   16     11          90\n",
      "20  21       Lucas Green   14      9          72\n",
      "21  22     Abigail Adams   15     10          80\n",
      "22  23        Jack Baker   16     11          88\n",
      "23  24    Emily Gonzalez   14      9          74\n",
      "24  25   Benjamin Nelson   15     10          81\n",
      "25  26      Avery Carter   16     11          89\n"
     ]
    }
   ],
   "source": [
    "#  14. Using iloc, select the 5th column for the first 25 rows.\n",
    "print(data.iloc[1:26,0:5])"
   ]
  },
  {
   "cell_type": "code",
   "execution_count": 136,
   "id": "a31e7108-74ab-4b16-8e5f-75ddc1c6d1c7",
   "metadata": {},
   "outputs": [
    {
     "name": "stdout",
     "output_type": "stream",
     "text": [
      "               name  math_score  english_score\n",
      "7      Ava Anderson          91             89\n",
      "13  Charlotte Lewis          92             90\n",
      "19     Evelyn Scott          90             88\n",
      "25     Avery Carter          89             87\n",
      "31   Grace Campbell          91             89\n",
      "37      Zoey Morris          90             88\n",
      "43      Aria Cooper          89             87\n",
      "49     Natalie Wood          91             89\n",
      "55    Lillian Perry          90             88\n",
      "61    Arianna Price          89             87\n",
      "67     Skylar Ortiz          91             89\n",
      "73      Maya Hunter          90             88\n",
      "79  Eleanor Russell          89             87\n",
      "85  Addison Simmons          91             89\n",
      "91    Brooklyn Dunn          90             88\n",
      "97    Aliyah Holmes          89             87\n"
     ]
    }
   ],
   "source": [
    "#   15. Using loc, select 'name', 'math_score', and 'english_score' for students with study_hours equal to 8.\n",
    "print(data.loc[data[\"study_hours\"]==8,[\"name\",\"math_score\",\"english_score\"]])"
   ]
  },
  {
   "cell_type": "code",
   "execution_count": 5,
   "id": "5233a8b7-9413-491f-9181-ea1381f83cf9",
   "metadata": {},
   "outputs": [
    {
     "name": "stdout",
     "output_type": "stream",
     "text": [
      "              name  math_score  attendance_percentage\n",
      "0       John Smith          85                   95.5\n",
      "10      Noah White          89                   95.1\n",
      "20     Lucas Green          72                   88.5\n",
      "30  Jacob Phillips          80                   93.3\n",
      "40   Joseph Morgan          88                   95.8\n"
     ]
    }
   ],
   "source": [
    "#  16. Using iloc, select rows 0, 10, 20, 30, and 40 and columns 1, 4, and 7.\n",
    "print(data.iloc[[0, 10, 20, 30,40],[1,4,7]])"
   ]
  },
  {
   "cell_type": "code",
   "execution_count": 17,
   "id": "ca2f993a-0751-44d1-84be-5f1c11b0ac38",
   "metadata": {},
   "outputs": [
    {
     "name": "stdout",
     "output_type": "stream",
     "text": [
      "    id             name  age  grade  math_score  english_score  science_score  \\\n",
      "24  25  Benjamin Nelson   15     10          81             79             78   \n",
      "91  92    Brooklyn Dunn   16     11          90             88             87   \n",
      "\n",
      "    attendance_percentage  study_hours extracurricular  \n",
      "24                   93.2            5             Yes  \n",
      "91                   96.1            8              No  \n"
     ]
    }
   ],
   "source": [
    "#  17. Using loc, select all columns for students whose names start with 'A'.\n",
    "print(data.loc[data['name'].str.startswith('B')])"
   ]
  },
  {
   "cell_type": "code",
   "execution_count": 24,
   "id": "69880ef5-07b4-444c-8e83-91594a31b9bc",
   "metadata": {},
   "outputs": [
    {
     "name": "stdout",
     "output_type": "stream",
     "text": [
      "     id           name  age  grade  math_score\n",
      "95   96    Piper Ellis   14      9          74\n",
      "96   97    Kayden Boyd   15     10          81\n",
      "97   98  Aliyah Holmes   16     11          89\n",
      "98   99  Declan Porter   14      9          73\n",
      "99  100   Sienna Riley   15     10          82\n"
     ]
    }
   ],
   "source": [
    "#  18. Using iloc, select the last 5 rows and the first 4 columns.\n",
    "print(data.iloc[-5:,:5])\n"
   ]
  },
  {
   "cell_type": "code",
   "execution_count": 33,
   "id": "384c3b46-230f-489b-9a14-f215168f75d0",
   "metadata": {},
   "outputs": [
    {
     "name": "stdout",
     "output_type": "stream",
     "text": [
      "                name  attendance_percentage\n",
      "0         John Smith                   95.5\n",
      "1       Emma Johnson                   92.3\n",
      "4       James Wilson                   96.2\n",
      "7       Ava Anderson                   97.0\n",
      "9    Isabella Thomas                   92.9\n",
      "10        Noah White                   95.1\n",
      "13   Charlotte Lewis                   96.5\n",
      "16      Daniel Allen                   95.8\n",
      "19      Evelyn Scott                   96.3\n",
      "22        Jack Baker                   95.7\n",
      "25      Avery Carter                   96.1\n",
      "28    Elijah Roberts                   95.9\n",
      "31    Grace Campbell                   96.4\n",
      "34     Aiden Edwards                   95.6\n",
      "37       Zoey Morris                   96.2\n",
      "40     Joseph Morgan                   95.8\n",
      "43       Aria Cooper                   96.0\n",
      "46          Luke Cox                   95.9\n",
      "49      Natalie Wood                   96.3\n",
      "52       Julian Gray                   95.7\n",
      "55     Lillian Perry                   96.1\n",
      "58       Jaxon Kelly                   95.6\n",
      "61     Arianna Price                   96.0\n",
      "64       Joshua Ross                   95.8\n",
      "67      Skylar Ortiz                   96.2\n",
      "70  Tristan Sullivan                   95.9\n",
      "73       Maya Hunter                   96.1\n",
      "76      Aaron Bryant                   95.7\n",
      "79   Eleanor Russell                   96.0\n",
      "82     Easton Jordan                   95.8\n",
      "85   Addison Simmons                   96.2\n",
      "88        Evan Berry                   95.9\n",
      "91     Brooklyn Dunn                   96.1\n",
      "94     Caleb Gardner                   95.7\n",
      "97     Aliyah Holmes                   96.0\n"
     ]
    }
   ],
   "source": [
    "#  19. Using loc, select 'name' and 'attendance_percentage' for students with math_score and science_score both above 80.\n",
    "print(data.loc[(data[\"math_score\"] > 80) & (data[\"science_score\"] > 80), [\"name\", \"attendance_percentage\"]])\n"
   ]
  },
  {
   "cell_type": "code",
   "execution_count": 35,
   "id": "b5984ddd-1421-4fa0-b338-41b345f21543",
   "metadata": {},
   "outputs": [
    {
     "name": "stdout",
     "output_type": "stream",
     "text": [
      "    age  english_score  study_hours\n",
      "0    15             78            5\n",
      "5    14             68            3\n",
      "10   16             87            7\n",
      "15   15             79            6\n",
      "20   14             70            4\n",
      "25   16             87            8\n",
      "30   15             78            5\n",
      "35   14             71            3\n",
      "40   16             86            7\n",
      "45   15             80            6\n"
     ]
    }
   ],
   "source": [
    "#  20. Using iloc, select every 5th row from 0 to 50 and columns 2, 5, and 8.\n",
    "print(data.iloc[0:50:5,[2,5,8]])"
   ]
  },
  {
   "cell_type": "code",
   "execution_count": 56,
   "id": "7d5a57a6-8488-4389-8d7c-e94294f782df",
   "metadata": {},
   "outputs": [
    {
     "name": "stdout",
     "output_type": "stream",
     "text": [
      "                  name  grade extracurricular\n",
      "0           John Smith     10             Yes\n",
      "1         Emma Johnson     11              No\n",
      "3         Sophia Davis     10              No\n",
      "6        William Moore     10             Yes\n",
      "9      Isabella Thomas     10              No\n",
      "12         Ethan Clark     10             Yes\n",
      "15         Amelia Hall     10              No\n",
      "16        Daniel Allen     11             Yes\n",
      "18          Henry King     10             Yes\n",
      "21       Abigail Adams     10              No\n",
      "24     Benjamin Nelson     10             Yes\n",
      "27         Sofia Perez     10              No\n",
      "30      Jacob Phillips     10             Yes\n",
      "33       Madison Evans     10              No\n",
      "36      Samuel Stewart     10             Yes\n",
      "39       Penelope Cook     10              No\n",
      "42       Carter Brooks     10             Yes\n",
      "45       Hannah Rivera     10              No\n",
      "48        Isaac Butler     10             Yes\n",
      "51      Victoria Stone     10              No\n",
      "54           Levi West     10             Yes\n",
      "57        Aubrey Myers     10              No\n",
      "60      Lincoln Foster     10             Yes\n",
      "63    Savannah Sanders     10              No\n",
      "66  Christian Marshall     10             Yes\n",
      "69         Clara Wells     10              No\n",
      "72       Eli Henderson     10             Yes\n",
      "75         Nora Hudson     10              No\n",
      "78       Isaiah Barnes     10             Yes\n",
      "81       Aria Peterson     10              No\n",
      "84           Ezra Reid     10             Yes\n",
      "87      Paisley Pierce     10              No\n",
      "90         Nathan Hart     10             Yes\n",
      "93          Audrey Fox     10              No\n",
      "96         Kayden Boyd     10             Yes\n",
      "99        Sienna Riley     10              No\n"
     ]
    }
   ],
   "source": [
    "#  21. Using loc, select 'name', 'grade', and 'extracurricular' for students with english_score between 75 and 85 (inclusive).\n",
    "print(data.loc[(data[\"english_score\"] >= 75) & (data[\"english_score\"] <= 85), [\"name\", \"grade\", \"extracurricular\"]])\n",
    "\n"
   ]
  },
  {
   "cell_type": "code",
   "execution_count": 59,
   "id": "7a799d52-747e-4af4-a4da-8d5b4cbfdf3b",
   "metadata": {},
   "outputs": [
    {
     "name": "stdout",
     "output_type": "stream",
     "text": [
      "    id  math_score  science_score\n",
      "70  71          89             86\n",
      "71  72          73             70\n",
      "72  73          82             79\n",
      "73  74          90             87\n",
      "74  75          75             72\n",
      "75  76          80             77\n",
      "76  77          88             85\n",
      "77  78          74             71\n",
      "78  79          81             78\n",
      "79  80          89             86\n",
      "80  81          73             70\n"
     ]
    }
   ],
   "source": [
    "#  22. Using iloc, select rows 70 to 80 and the columns corresponding to 'age', 'math_score', and 'science_score'.\n",
    "print(data.iloc[70:81,[0,4,6]])"
   ]
  },
  {
   "cell_type": "code",
   "execution_count": 63,
   "id": "ab1270ba-6317-41f8-82ed-7acc27c2b4e8",
   "metadata": {},
   "outputs": [
    {
     "name": "stdout",
     "output_type": "stream",
     "text": [
      "    id            name  age  grade  math_score  english_score  science_score  \\\n",
      "5    6   Olivia Taylor   14      9          70             68             65   \n",
      "11  12      Mia Harris   14      9          71             69             67   \n",
      "17  18    Harper Young   14      9          73             71             69   \n",
      "23  24  Emily Gonzalez   14      9          74             72             71   \n",
      "29  30    Chloe Turner   14      9          75             73             72   \n",
      "35  36   Layla Collins   14      9          73             71             70   \n",
      "41  42      Riley Bell   14      9          74             72             71   \n",
      "47  48     Stella Ward   14      9          75             73             72   \n",
      "53  54    Hazel Hughes   14      9          73             71             70   \n",
      "59  60      Ellie Long   14      9          74             72             71   \n",
      "65  66  Aurora Jenkins   14      9          75             73             72   \n",
      "71  72   Delilah Hayes   14      9          73             71             70   \n",
      "77  78      Lydia Cole   14      9          74             72             71   \n",
      "83  84     Lila Murray   14      9          75             73             72   \n",
      "89  90     Autumn Ford   14      9          73             71             70   \n",
      "95  96     Piper Ellis   14      9          74             72             71   \n",
      "\n",
      "    attendance_percentage  study_hours extracurricular  \n",
      "5                    87.4            3              No  \n",
      "11                   86.8            3              No  \n",
      "17                   87.9            3              No  \n",
      "23                   87.6            3              No  \n",
      "29                   87.7            3              No  \n",
      "35                   87.8            3              No  \n",
      "41                   87.9            3              No  \n",
      "47                   88.0            3              No  \n",
      "53                   88.1            3              No  \n",
      "59                   88.0            3              No  \n",
      "65                   88.2            3              No  \n",
      "71                   88.0            3              No  \n",
      "77                   88.1            3              No  \n",
      "83                   88.0            3              No  \n",
      "89                   88.1            3              No  \n",
      "95                   88.0            3              No  \n"
     ]
    }
   ],
   "source": [
    "#  23. Using loc, select all columns for students in grade 9 with study_hours less than 4.\n",
    "print(data.loc[(data[\"grade\"] == 9) & (data[\"study_hours\"] < 4)])\n"
   ]
  },
  {
   "cell_type": "code",
   "execution_count": 72,
   "id": "4e4ae364-5452-4850-9154-d461ce5fc804",
   "metadata": {},
   "outputs": [
    {
     "name": "stdout",
     "output_type": "stream",
     "text": [
      "   study_hours extracurricular\n",
      "0            5             Yes\n",
      "1            6              No\n",
      "2            4             Yes\n",
      "3            5              No\n",
      "4            7             Yes\n",
      "5            3              No\n",
      "6            6             Yes\n",
      "7            8              No\n",
      "8            4             Yes\n",
      "9            5              No\n"
     ]
    }
   ],
   "source": [
    "#  24. Using iloc, select the first 10 rows and the last 2 columns.\n",
    "print(data.iloc[0:10,-2:])"
   ]
  },
  {
   "cell_type": "code",
   "execution_count": 75,
   "id": "edef29af-ed04-4a93-be44-0a4ba391a5af",
   "metadata": {},
   "outputs": [
    {
     "name": "stdout",
     "output_type": "stream",
     "text": [
      "                  name  age  attendance_percentage\n",
      "49        Natalie Wood   16                   96.3\n",
      "50      Gabriel Fisher   14                   87.8\n",
      "51      Victoria Stone   15                   92.6\n",
      "52         Julian Gray   16                   95.7\n",
      "53        Hazel Hughes   14                   88.1\n",
      "54           Levi West   15                   93.0\n",
      "55       Lillian Perry   16                   96.1\n",
      "56        Grayson Ford   14                   87.9\n",
      "57        Aubrey Myers   15                   92.8\n",
      "58         Jaxon Kelly   16                   95.6\n",
      "59          Ellie Long   14                   88.0\n",
      "60      Lincoln Foster   15                   92.9\n",
      "61       Arianna Price   16                   96.0\n",
      "62      Connor Griffin   14                   87.7\n",
      "63    Savannah Sanders   15                   93.1\n",
      "64         Joshua Ross   16                   95.8\n",
      "65      Aurora Jenkins   14                   88.2\n",
      "66  Christian Marshall   15                   92.7\n",
      "67        Skylar Ortiz   16                   96.2\n",
      "68     Jeremiah Gordon   14                   87.9\n",
      "69         Clara Wells   15                   93.0\n",
      "70    Tristan Sullivan   16                   95.9\n",
      "71       Delilah Hayes   14                   88.0\n",
      "72       Eli Henderson   15                   92.8\n",
      "73         Maya Hunter   16                   96.1\n",
      "74       Micah Andrews   14                   87.7\n"
     ]
    }
   ],
   "source": [
    "#  25. Using loc, select 'name', 'age', and 'attendance_percentage' for students with id in the range 50 to 75.\n",
    "print(data.loc[(data[\"id\"]>=50)&(data[\"id\"]<=75),[\"name\",\"age\",\"attendance_percentage\"]])"
   ]
  },
  {
   "cell_type": "markdown",
   "id": "1f4f2383-3521-4e6d-99f0-f69b70f21e14",
   "metadata": {},
   "source": [
    "# DATA CLEANING"
   ]
  },
  {
   "cell_type": "code",
   "execution_count": 75,
   "id": "a3f3e2ae-839f-494a-891a-23239511a608",
   "metadata": {},
   "outputs": [
    {
     "data": {
      "text/html": [
       "<div>\n",
       "<style scoped>\n",
       "    .dataframe tbody tr th:only-of-type {\n",
       "        vertical-align: middle;\n",
       "    }\n",
       "\n",
       "    .dataframe tbody tr th {\n",
       "        vertical-align: top;\n",
       "    }\n",
       "\n",
       "    .dataframe thead th {\n",
       "        text-align: right;\n",
       "    }\n",
       "</style>\n",
       "<table border=\"1\" class=\"dataframe\">\n",
       "  <thead>\n",
       "    <tr style=\"text-align: right;\">\n",
       "      <th></th>\n",
       "      <th>customer_id</th>\n",
       "      <th>customer_type</th>\n",
       "      <th>region</th>\n",
       "      <th>payment_method</th>\n",
       "      <th>satisfaction_level</th>\n",
       "      <th>subscription_plan</th>\n",
       "      <th>age</th>\n",
       "      <th>annual_income</th>\n",
       "      <th>purchase_amount</th>\n",
       "      <th>account_age_months</th>\n",
       "      <th>num_transactions</th>\n",
       "    </tr>\n",
       "  </thead>\n",
       "  <tbody>\n",
       "    <tr>\n",
       "      <th>0</th>\n",
       "      <td>1</td>\n",
       "      <td>Individual</td>\n",
       "      <td>South</td>\n",
       "      <td>Credit Card</td>\n",
       "      <td>High</td>\n",
       "      <td>Premium</td>\n",
       "      <td>45.0</td>\n",
       "      <td>75000</td>\n",
       "      <td>120.5</td>\n",
       "      <td>24.0</td>\n",
       "      <td>15</td>\n",
       "    </tr>\n",
       "    <tr>\n",
       "      <th>1</th>\n",
       "      <td>2</td>\n",
       "      <td>Business</td>\n",
       "      <td>West</td>\n",
       "      <td>NaN</td>\n",
       "      <td>Medium</td>\n",
       "      <td>Basic</td>\n",
       "      <td>NaN</td>\n",
       "      <td>92000</td>\n",
       "      <td>85.3</td>\n",
       "      <td>18.0</td>\n",
       "      <td>22</td>\n",
       "    </tr>\n",
       "    <tr>\n",
       "      <th>2</th>\n",
       "      <td>3</td>\n",
       "      <td>Individual</td>\n",
       "      <td>North</td>\n",
       "      <td>Debit Card</td>\n",
       "      <td>Low</td>\n",
       "      <td>Standard</td>\n",
       "      <td>32.0</td>\n",
       "      <td>45000</td>\n",
       "      <td>50.7</td>\n",
       "      <td>12.0</td>\n",
       "      <td>8</td>\n",
       "    </tr>\n",
       "    <tr>\n",
       "      <th>3</th>\n",
       "      <td>4</td>\n",
       "      <td>NaN</td>\n",
       "      <td>East</td>\n",
       "      <td>Credit Card</td>\n",
       "      <td>High</td>\n",
       "      <td>Premium</td>\n",
       "      <td>28.0</td>\n",
       "      <td>68000</td>\n",
       "      <td>200.1</td>\n",
       "      <td>36.0</td>\n",
       "      <td>30</td>\n",
       "    </tr>\n",
       "    <tr>\n",
       "      <th>4</th>\n",
       "      <td>5</td>\n",
       "      <td>Business</td>\n",
       "      <td>South</td>\n",
       "      <td>PayPal</td>\n",
       "      <td>Medium</td>\n",
       "      <td>NaN</td>\n",
       "      <td>55.0</td>\n",
       "      <td>110000</td>\n",
       "      <td>NaN</td>\n",
       "      <td>15.0</td>\n",
       "      <td>25</td>\n",
       "    </tr>\n",
       "  </tbody>\n",
       "</table>\n",
       "</div>"
      ],
      "text/plain": [
       "   customer_id customer_type region payment_method satisfaction_level  \\\n",
       "0            1    Individual  South    Credit Card               High   \n",
       "1            2      Business   West            NaN             Medium   \n",
       "2            3    Individual  North     Debit Card                Low   \n",
       "3            4           NaN   East    Credit Card               High   \n",
       "4            5      Business  South         PayPal             Medium   \n",
       "\n",
       "  subscription_plan   age  annual_income  purchase_amount  account_age_months  \\\n",
       "0           Premium  45.0          75000            120.5                24.0   \n",
       "1             Basic   NaN          92000             85.3                18.0   \n",
       "2          Standard  32.0          45000             50.7                12.0   \n",
       "3           Premium  28.0          68000            200.1                36.0   \n",
       "4               NaN  55.0         110000              NaN                15.0   \n",
       "\n",
       "   num_transactions  \n",
       "0                15  \n",
       "1                22  \n",
       "2                 8  \n",
       "3                30  \n",
       "4                25  "
      ]
     },
     "execution_count": 75,
     "metadata": {},
     "output_type": "execute_result"
    }
   ],
   "source": [
    "import pandas as pd\n",
    "df=pd.read_csv(r\"C:\\Users\\ADMIN\\Documents\\customer_data.csv\")\n",
    "df.head()                                                            # TOP 5"
   ]
  },
  {
   "cell_type": "code",
   "execution_count": 57,
   "id": "4db35eb5-9267-409d-aace-84b7cfa7e7ce",
   "metadata": {
    "scrolled": true
   },
   "outputs": [
    {
     "data": {
      "text/plain": [
       "customer_id            0\n",
       "customer_type         99\n",
       "region                 0\n",
       "payment_method        90\n",
       "satisfaction_level    13\n",
       "subscription_plan     37\n",
       "age                   10\n",
       "annual_income          0\n",
       "purchase_amount       40\n",
       "account_age_months     1\n",
       "num_transactions       0\n",
       "dtype: int64"
      ]
     },
     "execution_count": 57,
     "metadata": {},
     "output_type": "execute_result"
    }
   ],
   "source": [
    "df.isnull().sum()"
   ]
  },
  {
   "cell_type": "code",
   "execution_count": 58,
   "id": "a1fcc5c9-cb08-4ee2-90af-c5ca8ea33ae0",
   "metadata": {},
   "outputs": [
    {
     "data": {
      "text/plain": [
       "np.int64(0)"
      ]
     },
     "execution_count": 58,
     "metadata": {},
     "output_type": "execute_result"
    }
   ],
   "source": [
    "df['customer_type'] = df['customer_type'].fillna('python')\n",
    "df['customer_type'].isnull().sum()"
   ]
  },
  {
   "cell_type": "code",
   "execution_count": 61,
   "id": "3218ad49-3ee9-4bd9-9593-d574ea2249aa",
   "metadata": {},
   "outputs": [
    {
     "data": {
      "text/plain": [
       "np.int64(0)"
      ]
     },
     "execution_count": 61,
     "metadata": {},
     "output_type": "execute_result"
    }
   ],
   "source": [
    "df['age'] = df['age'].fillna(df['age'].mean())\n",
    "df['age'].isnull().sum()                         # MEAN AND MEDIAN WE WILL USE FOR NUMERICAL COLUMN"
   ]
  },
  {
   "cell_type": "code",
   "execution_count": 62,
   "id": "81af43ea-238a-4999-b955-84a8c9bb13e3",
   "metadata": {},
   "outputs": [
    {
     "data": {
      "text/plain": [
       "np.int64(0)"
      ]
     },
     "execution_count": 62,
     "metadata": {},
     "output_type": "execute_result"
    }
   ],
   "source": [
    "df['purchase_amount'] = df['purchase_amount'].fillna(df['purchase_amount'].median())\n",
    "df['purchase_amount'].isnull().sum()"
   ]
  },
  {
   "cell_type": "code",
   "execution_count": 63,
   "id": "43ab07f7-a503-49c8-85bc-9138c2cc95e7",
   "metadata": {},
   "outputs": [
    {
     "data": {
      "text/plain": [
       "np.int64(0)"
      ]
     },
     "execution_count": 63,
     "metadata": {},
     "output_type": "execute_result"
    }
   ],
   "source": [
    "df['satisfaction_level'] = df['satisfaction_level'].fillna(df['satisfaction_level'].mode()[0])\n",
    "df['satisfaction_level'].isnull().sum()"
   ]
  },
  {
   "cell_type": "code",
   "execution_count": 64,
   "id": "77ee7d88-7785-40fc-ba8c-dafbfc8b83f9",
   "metadata": {},
   "outputs": [
    {
     "data": {
      "text/plain": [
       "np.int64(0)"
      ]
     },
     "execution_count": 64,
     "metadata": {},
     "output_type": "execute_result"
    }
   ],
   "source": [
    "df['subscription_plan'] = df['subscription_plan'].fillna(df['subscription_plan'].mode()[0])\n",
    "df['subscription_plan'].isnull().sum()"
   ]
  },
  {
   "cell_type": "code",
   "execution_count": 65,
   "id": "3c1acb75-cf21-4348-8459-aefef815a6d2",
   "metadata": {},
   "outputs": [
    {
     "data": {
      "text/plain": [
       "np.int64(0)"
      ]
     },
     "execution_count": 65,
     "metadata": {},
     "output_type": "execute_result"
    }
   ],
   "source": [
    "df['account_age_months'] = df['account_age_months'].fillna(df['account_age_months'].mean())\n",
    "df['account_age_months'].isnull().sum()"
   ]
  },
  {
   "cell_type": "code",
   "execution_count": 66,
   "id": "05fd1730-1948-495f-9db9-cc7ea50fe4be",
   "metadata": {},
   "outputs": [
    {
     "data": {
      "text/plain": [
       "np.int64(0)"
      ]
     },
     "execution_count": 66,
     "metadata": {},
     "output_type": "execute_result"
    }
   ],
   "source": [
    "df['payment_method'] = df['payment_method'].fillna(df['payment_method'].mode()[0])\n",
    "df['payment_method'].isnull().sum()"
   ]
  },
  {
   "cell_type": "code",
   "execution_count": 69,
   "id": "d7baea63-1c2d-4c60-9bfe-025e1229f640",
   "metadata": {},
   "outputs": [
    {
     "data": {
      "text/plain": [
       "customer_id           0\n",
       "customer_type         0\n",
       "region                0\n",
       "payment_method        0\n",
       "satisfaction_level    0\n",
       "subscription_plan     0\n",
       "age                   0\n",
       "annual_income         0\n",
       "purchase_amount       0\n",
       "account_age_months    0\n",
       "num_transactions      0\n",
       "dtype: int64"
      ]
     },
     "execution_count": 69,
     "metadata": {},
     "output_type": "execute_result"
    }
   ],
   "source": [
    "df.isnull().sum()"
   ]
  },
  {
   "cell_type": "code",
   "execution_count": 70,
   "id": "678025ce-a12d-43bd-a326-0b4812d022e2",
   "metadata": {},
   "outputs": [
    {
     "data": {
      "text/html": [
       "<div>\n",
       "<style scoped>\n",
       "    .dataframe tbody tr th:only-of-type {\n",
       "        vertical-align: middle;\n",
       "    }\n",
       "\n",
       "    .dataframe tbody tr th {\n",
       "        vertical-align: top;\n",
       "    }\n",
       "\n",
       "    .dataframe thead th {\n",
       "        text-align: right;\n",
       "    }\n",
       "</style>\n",
       "<table border=\"1\" class=\"dataframe\">\n",
       "  <thead>\n",
       "    <tr style=\"text-align: right;\">\n",
       "      <th></th>\n",
       "      <th>customer_id</th>\n",
       "      <th>customer_type</th>\n",
       "      <th>region</th>\n",
       "      <th>payment_method</th>\n",
       "      <th>satisfaction_level</th>\n",
       "      <th>subscription_plan</th>\n",
       "      <th>age</th>\n",
       "      <th>annual_income</th>\n",
       "      <th>purchase_amount</th>\n",
       "      <th>account_age_months</th>\n",
       "      <th>num_transactions</th>\n",
       "    </tr>\n",
       "  </thead>\n",
       "  <tbody>\n",
       "    <tr>\n",
       "      <th>0</th>\n",
       "      <td>1</td>\n",
       "      <td>Individual</td>\n",
       "      <td>South</td>\n",
       "      <td>Credit Card</td>\n",
       "      <td>High</td>\n",
       "      <td>Premium</td>\n",
       "      <td>45.00000</td>\n",
       "      <td>75000</td>\n",
       "      <td>120.5</td>\n",
       "      <td>24.0</td>\n",
       "      <td>15</td>\n",
       "    </tr>\n",
       "    <tr>\n",
       "      <th>1</th>\n",
       "      <td>2</td>\n",
       "      <td>Business</td>\n",
       "      <td>West</td>\n",
       "      <td>Credit Card</td>\n",
       "      <td>Medium</td>\n",
       "      <td>Basic</td>\n",
       "      <td>39.32069</td>\n",
       "      <td>92000</td>\n",
       "      <td>85.3</td>\n",
       "      <td>18.0</td>\n",
       "      <td>22</td>\n",
       "    </tr>\n",
       "    <tr>\n",
       "      <th>2</th>\n",
       "      <td>3</td>\n",
       "      <td>Individual</td>\n",
       "      <td>North</td>\n",
       "      <td>Debit Card</td>\n",
       "      <td>Low</td>\n",
       "      <td>Standard</td>\n",
       "      <td>32.00000</td>\n",
       "      <td>45000</td>\n",
       "      <td>50.7</td>\n",
       "      <td>12.0</td>\n",
       "      <td>8</td>\n",
       "    </tr>\n",
       "    <tr>\n",
       "      <th>3</th>\n",
       "      <td>4</td>\n",
       "      <td>python</td>\n",
       "      <td>East</td>\n",
       "      <td>Credit Card</td>\n",
       "      <td>High</td>\n",
       "      <td>Premium</td>\n",
       "      <td>28.00000</td>\n",
       "      <td>68000</td>\n",
       "      <td>200.1</td>\n",
       "      <td>36.0</td>\n",
       "      <td>30</td>\n",
       "    </tr>\n",
       "    <tr>\n",
       "      <th>4</th>\n",
       "      <td>5</td>\n",
       "      <td>Business</td>\n",
       "      <td>South</td>\n",
       "      <td>PayPal</td>\n",
       "      <td>Medium</td>\n",
       "      <td>Premium</td>\n",
       "      <td>55.00000</td>\n",
       "      <td>110000</td>\n",
       "      <td>130.4</td>\n",
       "      <td>15.0</td>\n",
       "      <td>25</td>\n",
       "    </tr>\n",
       "    <tr>\n",
       "      <th>...</th>\n",
       "      <td>...</td>\n",
       "      <td>...</td>\n",
       "      <td>...</td>\n",
       "      <td>...</td>\n",
       "      <td>...</td>\n",
       "      <td>...</td>\n",
       "      <td>...</td>\n",
       "      <td>...</td>\n",
       "      <td>...</td>\n",
       "      <td>...</td>\n",
       "      <td>...</td>\n",
       "    </tr>\n",
       "    <tr>\n",
       "      <th>295</th>\n",
       "      <td>296</td>\n",
       "      <td>Business</td>\n",
       "      <td>East</td>\n",
       "      <td>Credit Card</td>\n",
       "      <td>High</td>\n",
       "      <td>Premium</td>\n",
       "      <td>41.00000</td>\n",
       "      <td>82000</td>\n",
       "      <td>130.4</td>\n",
       "      <td>19.0</td>\n",
       "      <td>15</td>\n",
       "    </tr>\n",
       "    <tr>\n",
       "      <th>296</th>\n",
       "      <td>297</td>\n",
       "      <td>Individual</td>\n",
       "      <td>South</td>\n",
       "      <td>Credit Card</td>\n",
       "      <td>Medium</td>\n",
       "      <td>Standard</td>\n",
       "      <td>33.00000</td>\n",
       "      <td>64000</td>\n",
       "      <td>100.4</td>\n",
       "      <td>15.0</td>\n",
       "      <td>11</td>\n",
       "    </tr>\n",
       "    <tr>\n",
       "      <th>297</th>\n",
       "      <td>298</td>\n",
       "      <td>python</td>\n",
       "      <td>West</td>\n",
       "      <td>Debit Card</td>\n",
       "      <td>Low</td>\n",
       "      <td>Basic</td>\n",
       "      <td>50.00000</td>\n",
       "      <td>104000</td>\n",
       "      <td>170.6</td>\n",
       "      <td>28.0</td>\n",
       "      <td>22</td>\n",
       "    </tr>\n",
       "    <tr>\n",
       "      <th>298</th>\n",
       "      <td>299</td>\n",
       "      <td>Business</td>\n",
       "      <td>North</td>\n",
       "      <td>Credit Card</td>\n",
       "      <td>High</td>\n",
       "      <td>Premium</td>\n",
       "      <td>36.00000</td>\n",
       "      <td>71000</td>\n",
       "      <td>110.3</td>\n",
       "      <td>20.0</td>\n",
       "      <td>14</td>\n",
       "    </tr>\n",
       "    <tr>\n",
       "      <th>299</th>\n",
       "      <td>300</td>\n",
       "      <td>Individual</td>\n",
       "      <td>East</td>\n",
       "      <td>Credit Card</td>\n",
       "      <td>Medium</td>\n",
       "      <td>Premium</td>\n",
       "      <td>29.00000</td>\n",
       "      <td>52000</td>\n",
       "      <td>80.5</td>\n",
       "      <td>12.0</td>\n",
       "      <td>10</td>\n",
       "    </tr>\n",
       "  </tbody>\n",
       "</table>\n",
       "<p>300 rows × 11 columns</p>\n",
       "</div>"
      ],
      "text/plain": [
       "     customer_id customer_type region payment_method satisfaction_level  \\\n",
       "0              1    Individual  South    Credit Card               High   \n",
       "1              2      Business   West    Credit Card             Medium   \n",
       "2              3    Individual  North     Debit Card                Low   \n",
       "3              4        python   East    Credit Card               High   \n",
       "4              5      Business  South         PayPal             Medium   \n",
       "..           ...           ...    ...            ...                ...   \n",
       "295          296      Business   East    Credit Card               High   \n",
       "296          297    Individual  South    Credit Card             Medium   \n",
       "297          298        python   West     Debit Card                Low   \n",
       "298          299      Business  North    Credit Card               High   \n",
       "299          300    Individual   East    Credit Card             Medium   \n",
       "\n",
       "    subscription_plan       age  annual_income  purchase_amount  \\\n",
       "0             Premium  45.00000          75000            120.5   \n",
       "1               Basic  39.32069          92000             85.3   \n",
       "2            Standard  32.00000          45000             50.7   \n",
       "3             Premium  28.00000          68000            200.1   \n",
       "4             Premium  55.00000         110000            130.4   \n",
       "..                ...       ...            ...              ...   \n",
       "295           Premium  41.00000          82000            130.4   \n",
       "296          Standard  33.00000          64000            100.4   \n",
       "297             Basic  50.00000         104000            170.6   \n",
       "298           Premium  36.00000          71000            110.3   \n",
       "299           Premium  29.00000          52000             80.5   \n",
       "\n",
       "     account_age_months  num_transactions  \n",
       "0                  24.0                15  \n",
       "1                  18.0                22  \n",
       "2                  12.0                 8  \n",
       "3                  36.0                30  \n",
       "4                  15.0                25  \n",
       "..                  ...               ...  \n",
       "295                19.0                15  \n",
       "296                15.0                11  \n",
       "297                28.0                22  \n",
       "298                20.0                14  \n",
       "299                12.0                10  \n",
       "\n",
       "[300 rows x 11 columns]"
      ]
     },
     "execution_count": 70,
     "metadata": {},
     "output_type": "execute_result"
    }
   ],
   "source": [
    "df"
   ]
  },
  {
   "cell_type": "markdown",
   "id": "02425787-bb16-4e98-b384-8cb1dc3dd9a9",
   "metadata": {},
   "source": [
    "# JOIN AND MERGE QUESTIONS"
   ]
  },
  {
   "cell_type": "code",
   "execution_count": 7,
   "id": "965e695e-c7cb-44b4-bcc2-957090a806ee",
   "metadata": {},
   "outputs": [
    {
     "data": {
      "text/html": [
       "<div>\n",
       "<style scoped>\n",
       "    .dataframe tbody tr th:only-of-type {\n",
       "        vertical-align: middle;\n",
       "    }\n",
       "\n",
       "    .dataframe tbody tr th {\n",
       "        vertical-align: top;\n",
       "    }\n",
       "\n",
       "    .dataframe thead th {\n",
       "        text-align: right;\n",
       "    }\n",
       "</style>\n",
       "<table border=\"1\" class=\"dataframe\">\n",
       "  <thead>\n",
       "    <tr style=\"text-align: right;\">\n",
       "      <th></th>\n",
       "      <th>Student_ID</th>\n",
       "      <th>Name</th>\n",
       "      <th>Age</th>\n",
       "      <th>Department</th>\n",
       "    </tr>\n",
       "  </thead>\n",
       "  <tbody>\n",
       "    <tr>\n",
       "      <th>0</th>\n",
       "      <td>S001</td>\n",
       "      <td>John Smith</td>\n",
       "      <td>20</td>\n",
       "      <td>Computer Science</td>\n",
       "    </tr>\n",
       "    <tr>\n",
       "      <th>1</th>\n",
       "      <td>S002</td>\n",
       "      <td>Emma Johnson</td>\n",
       "      <td>19</td>\n",
       "      <td>Mathematics</td>\n",
       "    </tr>\n",
       "    <tr>\n",
       "      <th>2</th>\n",
       "      <td>S003</td>\n",
       "      <td>Michael Chen</td>\n",
       "      <td>21</td>\n",
       "      <td>Physics</td>\n",
       "    </tr>\n",
       "    <tr>\n",
       "      <th>3</th>\n",
       "      <td>S004</td>\n",
       "      <td>Sophia Patel</td>\n",
       "      <td>20</td>\n",
       "      <td>Chemistry</td>\n",
       "    </tr>\n",
       "    <tr>\n",
       "      <th>4</th>\n",
       "      <td>S005</td>\n",
       "      <td>James Lee</td>\n",
       "      <td>22</td>\n",
       "      <td>Biology</td>\n",
       "    </tr>\n",
       "  </tbody>\n",
       "</table>\n",
       "</div>"
      ],
      "text/plain": [
       "  Student_ID          Name  Age        Department\n",
       "0       S001    John Smith   20  Computer Science\n",
       "1       S002  Emma Johnson   19       Mathematics\n",
       "2       S003  Michael Chen   21           Physics\n",
       "3       S004  Sophia Patel   20         Chemistry\n",
       "4       S005     James Lee   22           Biology"
      ]
     },
     "execution_count": 7,
     "metadata": {},
     "output_type": "execute_result"
    }
   ],
   "source": [
    "import pandas as pd\n",
    "df=pd.read_csv(r\"C:\\Users\\ADMIN\\Documents\\students.csv\")\n",
    "df.head()"
   ]
  },
  {
   "cell_type": "code",
   "execution_count": 2,
   "id": "90f3e3b5-b6e4-4ded-b242-17bc3aa02eb1",
   "metadata": {},
   "outputs": [
    {
     "data": {
      "text/html": [
       "<div>\n",
       "<style scoped>\n",
       "    .dataframe tbody tr th:only-of-type {\n",
       "        vertical-align: middle;\n",
       "    }\n",
       "\n",
       "    .dataframe tbody tr th {\n",
       "        vertical-align: top;\n",
       "    }\n",
       "\n",
       "    .dataframe thead th {\n",
       "        text-align: right;\n",
       "    }\n",
       "</style>\n",
       "<table border=\"1\" class=\"dataframe\">\n",
       "  <thead>\n",
       "    <tr style=\"text-align: right;\">\n",
       "      <th></th>\n",
       "      <th>Student_ID</th>\n",
       "      <th>Name</th>\n",
       "      <th>Age</th>\n",
       "      <th>Department</th>\n",
       "    </tr>\n",
       "  </thead>\n",
       "  <tbody>\n",
       "    <tr>\n",
       "      <th>0</th>\n",
       "      <td>S001</td>\n",
       "      <td>John Smith</td>\n",
       "      <td>20</td>\n",
       "      <td>Computer Science</td>\n",
       "    </tr>\n",
       "    <tr>\n",
       "      <th>1</th>\n",
       "      <td>S002</td>\n",
       "      <td>Emma Johnson</td>\n",
       "      <td>19</td>\n",
       "      <td>Mathematics</td>\n",
       "    </tr>\n",
       "    <tr>\n",
       "      <th>2</th>\n",
       "      <td>S003</td>\n",
       "      <td>Michael Chen</td>\n",
       "      <td>21</td>\n",
       "      <td>Physics</td>\n",
       "    </tr>\n",
       "  </tbody>\n",
       "</table>\n",
       "</div>"
      ],
      "text/plain": [
       "  Student_ID          Name  Age        Department\n",
       "0       S001    John Smith   20  Computer Science\n",
       "1       S002  Emma Johnson   19       Mathematics\n",
       "2       S003  Michael Chen   21           Physics"
      ]
     },
     "execution_count": 2,
     "metadata": {},
     "output_type": "execute_result"
    }
   ],
   "source": [
    "# 1. Load `students.csv` into a pandas DataFrame and display the first 3 rows.\n",
    "df.head(3)"
   ]
  },
  {
   "cell_type": "code",
   "execution_count": 3,
   "id": "1a219d18-0ce4-4137-999a-2f4b784fce87",
   "metadata": {},
   "outputs": [
    {
     "data": {
      "text/html": [
       "<div>\n",
       "<style scoped>\n",
       "    .dataframe tbody tr th:only-of-type {\n",
       "        vertical-align: middle;\n",
       "    }\n",
       "\n",
       "    .dataframe tbody tr th {\n",
       "        vertical-align: top;\n",
       "    }\n",
       "\n",
       "    .dataframe thead th {\n",
       "        text-align: right;\n",
       "    }\n",
       "</style>\n",
       "<table border=\"1\" class=\"dataframe\">\n",
       "  <thead>\n",
       "    <tr style=\"text-align: right;\">\n",
       "      <th></th>\n",
       "      <th>Student_ID</th>\n",
       "      <th>Name</th>\n",
       "      <th>Age</th>\n",
       "      <th>Department</th>\n",
       "    </tr>\n",
       "  </thead>\n",
       "  <tbody>\n",
       "    <tr>\n",
       "      <th>47</th>\n",
       "      <td>S048</td>\n",
       "      <td>Andrew Murphy</td>\n",
       "      <td>20</td>\n",
       "      <td>Physics</td>\n",
       "    </tr>\n",
       "    <tr>\n",
       "      <th>48</th>\n",
       "      <td>S049</td>\n",
       "      <td>Samantha Rivera</td>\n",
       "      <td>22</td>\n",
       "      <td>Chemistry</td>\n",
       "    </tr>\n",
       "    <tr>\n",
       "      <th>49</th>\n",
       "      <td>S050</td>\n",
       "      <td>Dylan Cooper</td>\n",
       "      <td>19</td>\n",
       "      <td>Biology</td>\n",
       "    </tr>\n",
       "  </tbody>\n",
       "</table>\n",
       "</div>"
      ],
      "text/plain": [
       "   Student_ID             Name  Age Department\n",
       "47       S048    Andrew Murphy   20    Physics\n",
       "48       S049  Samantha Rivera   22  Chemistry\n",
       "49       S050     Dylan Cooper   19    Biology"
      ]
     },
     "execution_count": 3,
     "metadata": {},
     "output_type": "execute_result"
    }
   ],
   "source": [
    "# 2. Load `courses.csv` into a pandas DataFrame and display the last 3 rows.\n",
    "df.tail(3)"
   ]
  },
  {
   "cell_type": "code",
   "execution_count": 9,
   "id": "cc0dcce5-d260-4347-a30c-b9c8c00d1ae0",
   "metadata": {},
   "outputs": [
    {
     "name": "stdout",
     "output_type": "stream",
     "text": [
      "20\n"
     ]
    }
   ],
   "source": [
    "# 3. Concatenate the first 10 rows of `students.csv` with itself vertically. How many rows are in the result?\n",
    "df = pd.read_csv(r\"C:\\Users\\ADMIN\\Documents\\students.csv\")\n",
    "result = pd.concat([df.head(10), df.head(10)], axis=0)\n",
    "print(len(result))"
   ]
  },
  {
   "cell_type": "code",
   "execution_count": 14,
   "id": "b64be367-9c77-4412-87e8-0c3a5c344109",
   "metadata": {},
   "outputs": [
    {
     "name": "stdout",
     "output_type": "stream",
     "text": [
      "5\n"
     ]
    }
   ],
   "source": [
    "# 4. Concatenate the first 5 rows of `students.csv` and `courses.csv` horizontally. What is the shape of the result?\n",
    "df = pd.read_csv(r\"C:\\Users\\ADMIN\\Documents\\students.csv\")\n",
    "result = pd.concat([df.head(5), df.head(5)], axis=1)\n",
    "print(len(result))"
   ]
  },
  {
   "cell_type": "code",
   "execution_count": 17,
   "id": "ac401b6f-d96a-42d7-9078-cb85a5c847d4",
   "metadata": {},
   "outputs": [
    {
     "name": "stdout",
     "output_type": "stream",
     "text": [
      "  Student_ID          Name  Age        Department Course_ID  \\\n",
      "0       S001    John Smith   20  Computer Science      C101   \n",
      "1       S001    John Smith   20  Computer Science      C106   \n",
      "2       S002  Emma Johnson   19       Mathematics      C102   \n",
      "\n",
      "                Course_Name Grade  \n",
      "0  Programming Fundamentals     A  \n",
      "1            Linear Algebra     B  \n",
      "2                Calculus I     B  \n"
     ]
    }
   ],
   "source": [
    "# 5. Merge `students.csv` and `courses.csv` using `Student_ID` with an inner merge. Show the first 3 rows.\n",
    "import pandas as pd\n",
    "students = pd.read_csv(r\"C:\\Users\\ADMIN\\Documents\\students.csv\")\n",
    "courses = pd.read_csv(r\"C:\\Users\\ADMIN\\Documents\\courses.csv\")\n",
    "c = pd.merge(students, courses, on='Student_ID', how='inner')\n",
    "print(c.head(3))"
   ]
  },
  {
   "cell_type": "code",
   "execution_count": null,
   "id": "5bf53b6f-c4d4-47f9-9676-899f6f77327e",
   "metadata": {},
   "outputs": [],
   "source": []
  }
 ],
 "metadata": {
  "kernelspec": {
   "display_name": "Python 3 (ipykernel)",
   "language": "python",
   "name": "python3"
  },
  "language_info": {
   "codemirror_mode": {
    "name": "ipython",
    "version": 3
   },
   "file_extension": ".py",
   "mimetype": "text/x-python",
   "name": "python",
   "nbconvert_exporter": "python",
   "pygments_lexer": "ipython3",
   "version": "3.13.5"
  }
 },
 "nbformat": 4,
 "nbformat_minor": 5
}
