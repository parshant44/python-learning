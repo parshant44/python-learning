{
 "cells": [
  {
   "cell_type": "code",
   "execution_count": 1,
   "id": "8538cfe2-b724-4309-9d11-cb45fd156d41",
   "metadata": {},
   "outputs": [
    {
     "data": {
      "text/plain": [
       "'Parshant'"
      ]
     },
     "execution_count": 1,
     "metadata": {},
     "output_type": "execute_result"
    }
   ],
   "source": [
    "\"Parshant\"\n"
   ]
  },
  {
   "cell_type": "code",
   "execution_count": 2,
   "id": "765f57d8-e8e2-4ddb-8858-329ed68d29e2",
   "metadata": {},
   "outputs": [
    {
     "ename": "SyntaxError",
     "evalue": "unterminated string literal (detected at line 1) (2081633785.py, line 1)",
     "output_type": "error",
     "traceback": [
      "\u001b[1;36m  Cell \u001b[1;32mIn[2], line 1\u001b[1;36m\u001b[0m\n\u001b[1;33m    'thats's mine'\u001b[0m\n\u001b[1;37m                 ^\u001b[0m\n\u001b[1;31mSyntaxError\u001b[0m\u001b[1;31m:\u001b[0m unterminated string literal (detected at line 1)\n"
     ]
    }
   ],
   "source": [
    "'thats's mine'"
   ]
  },
  {
   "cell_type": "code",
   "execution_count": 3,
   "id": "5e94082b-ee97-49e8-9847-1d2fff6f2775",
   "metadata": {},
   "outputs": [
    {
     "data": {
      "text/plain": [
       "\"thats's mine\""
      ]
     },
     "execution_count": 3,
     "metadata": {},
     "output_type": "execute_result"
    }
   ],
   "source": [
    "\"thats's mine\""
   ]
  },
  {
   "cell_type": "code",
   "execution_count": 6,
   "id": "a597a0f3-b7db-42b1-b68f-1f44b907aa0f",
   "metadata": {},
   "outputs": [
    {
     "data": {
      "text/plain": [
       "\" how are you' i m fine\""
      ]
     },
     "execution_count": 6,
     "metadata": {},
     "output_type": "execute_result"
    }
   ],
   "source": [
    "\"\"\" how are you' i m fine\"\"\""
   ]
  },
  {
   "cell_type": "code",
   "execution_count": 7,
   "id": "d396fb96-3a74-4953-bccf-ff6b609b2c6e",
   "metadata": {},
   "outputs": [
    {
     "name": "stdout",
     "output_type": "stream",
     "text": [
      " how are you' i m fine\n"
     ]
    }
   ],
   "source": [
    "print(\"\"\" how are you' i m fine\"\"\")      # to enter directly."
   ]
  },
  {
   "cell_type": "code",
   "execution_count": 9,
   "id": "0b71654d-10ab-4c24-a00e-5992c1358b47",
   "metadata": {},
   "outputs": [
    {
     "data": {
      "text/plain": [
       "str"
      ]
     },
     "execution_count": 9,
     "metadata": {},
     "output_type": "execute_result"
    }
   ],
   "source": [
    "type(\"Parshant\")           # to find type of data use type ()"
   ]
  },
  {
   "cell_type": "code",
   "execution_count": 11,
   "id": "72a64b5c-3d64-4774-bb89-ae9ffc713c54",
   "metadata": {},
   "outputs": [
    {
     "data": {
      "text/plain": [
       "'Parshant'"
      ]
     },
     "execution_count": 11,
     "metadata": {},
     "output_type": "execute_result"
    }
   ],
   "source": [
    "\"parshant\".capitalize()    # to print first letter capital"
   ]
  },
  {
   "cell_type": "code",
   "execution_count": 12,
   "id": "3ea8839d-24a7-4b07-ad96-37992e9de65f",
   "metadata": {},
   "outputs": [
    {
     "data": {
      "text/plain": [
       "'PARSHANT'"
      ]
     },
     "execution_count": 12,
     "metadata": {},
     "output_type": "execute_result"
    }
   ],
   "source": [
    "\"parshant\".upper()"
   ]
  },
  {
   "cell_type": "code",
   "execution_count": 13,
   "id": "bc5fdbde-c1f7-4a5d-9601-39e0c4c28a10",
   "metadata": {},
   "outputs": [
    {
     "data": {
      "text/plain": [
       "'parshant'"
      ]
     },
     "execution_count": 13,
     "metadata": {},
     "output_type": "execute_result"
    }
   ],
   "source": [
    "\"PARSHANT\".lower()"
   ]
  },
  {
   "cell_type": "code",
   "execution_count": 16,
   "id": "08851a0e-a782-400a-8c1f-93f8a086559b",
   "metadata": {},
   "outputs": [
    {
     "data": {
      "text/plain": [
       "2"
      ]
     },
     "execution_count": 16,
     "metadata": {},
     "output_type": "execute_result"
    }
   ],
   "source": [
    "\"parshant\".count('a')"
   ]
  },
  {
   "cell_type": "code",
   "execution_count": 17,
   "id": "967a136d-e12b-4456-a81f-0dc24621efbe",
   "metadata": {},
   "outputs": [],
   "source": [
    "name = \"Parshant mishra\""
   ]
  },
  {
   "cell_type": "code",
   "execution_count": 21,
   "id": "045a53d5-7809-4688-b7f9-6079668417e1",
   "metadata": {},
   "outputs": [
    {
     "data": {
      "text/plain": [
       "10"
      ]
     },
     "execution_count": 21,
     "metadata": {},
     "output_type": "execute_result"
    }
   ],
   "source": [
    "name.find('i')   "
   ]
  },
  {
   "cell_type": "code",
   "execution_count": 23,
   "id": "78624433-e820-4ba5-aa7e-49e1ea9c4c2f",
   "metadata": {},
   "outputs": [
    {
     "data": {
      "text/plain": [
       "15"
      ]
     },
     "execution_count": 23,
     "metadata": {},
     "output_type": "execute_result"
    }
   ],
   "source": [
    "len(name)"
   ]
  },
  {
   "cell_type": "code",
   "execution_count": 24,
   "id": "3b78761f-67b2-4604-b708-13157f1ce574",
   "metadata": {},
   "outputs": [
    {
     "data": {
      "text/plain": [
       "'parshant mishra'"
      ]
     },
     "execution_count": 24,
     "metadata": {},
     "output_type": "execute_result"
    }
   ],
   "source": [
    "first_name = \"parshant\"\n",
    "last_name =  \"mishra\"\n",
    "first_name + \" \" + last_name"
   ]
  },
  {
   "cell_type": "code",
   "execution_count": 25,
   "id": "3cba0532-a61c-49fe-ac9d-46ee03a6cc4c",
   "metadata": {},
   "outputs": [
    {
     "data": {
      "text/plain": [
       "20"
      ]
     },
     "execution_count": 25,
     "metadata": {},
     "output_type": "execute_result"
    }
   ],
   "source": [
    "10+10"
   ]
  },
  {
   "cell_type": "code",
   "execution_count": 26,
   "id": "dc2a1bac-57f8-45d3-92f1-131ba28f5e67",
   "metadata": {},
   "outputs": [
    {
     "data": {
      "text/plain": [
       "'68'"
      ]
     },
     "execution_count": 26,
     "metadata": {},
     "output_type": "execute_result"
    }
   ],
   "source": [
    "\"6\" + \"8\""
   ]
  },
  {
   "cell_type": "code",
   "execution_count": 27,
   "id": "78613091-0c5b-4f7a-b631-75e0ce5bf570",
   "metadata": {},
   "outputs": [
    {
     "name": "stdout",
     "output_type": "stream",
     "text": [
      "85\n"
     ]
    }
   ],
   "source": [
    "print(\"85\")\n"
   ]
  },
  {
   "cell_type": "code",
   "execution_count": 28,
   "id": "18f3173b-df7c-444f-8cbd-13b00fa34424",
   "metadata": {},
   "outputs": [
    {
     "data": {
      "text/plain": [
       "str"
      ]
     },
     "execution_count": 28,
     "metadata": {},
     "output_type": "execute_result"
    }
   ],
   "source": [
    "type('67')"
   ]
  },
  {
   "cell_type": "code",
   "execution_count": 29,
   "id": "e87b0e73-5870-47a8-94e7-3459faa9cb5e",
   "metadata": {},
   "outputs": [
    {
     "data": {
      "text/plain": [
       "int"
      ]
     },
     "execution_count": 29,
     "metadata": {},
     "output_type": "execute_result"
    }
   ],
   "source": [
    "type(67)"
   ]
  },
  {
   "cell_type": "code",
   "execution_count": 30,
   "id": "3c62e491-710d-4e19-9b14-0933238af0c5",
   "metadata": {},
   "outputs": [
    {
     "ename": "TypeError",
     "evalue": "unsupported operand type(s) for +: 'int' and 'str'",
     "output_type": "error",
     "traceback": [
      "\u001b[1;31m---------------------------------------------------------------------------\u001b[0m",
      "\u001b[1;31mTypeError\u001b[0m                                 Traceback (most recent call last)",
      "Cell \u001b[1;32mIn[30], line 1\u001b[0m\n\u001b[1;32m----> 1\u001b[0m \u001b[38;5;241m8\u001b[39m \u001b[38;5;241m+\u001b[39m \u001b[38;5;124m\"\u001b[39m\u001b[38;5;124m87\u001b[39m\u001b[38;5;124m\"\u001b[39m\n",
      "\u001b[1;31mTypeError\u001b[0m: unsupported operand type(s) for +: 'int' and 'str'"
     ]
    }
   ],
   "source": [
    "8 + \"87\"      #  cant add no. and string in this Way"
   ]
  },
  {
   "cell_type": "code",
   "execution_count": 35,
   "id": "d80b048c-3ab4-4919-b9c7-9008b82ab3dc",
   "metadata": {},
   "outputs": [],
   "source": [
    "name= \"rohan\"\n",
    "salary= 100000\n"
   ]
  },
  {
   "cell_type": "code",
   "execution_count": 36,
   "id": "4adae406-7616-4e22-bb53-de526773edeb",
   "metadata": {},
   "outputs": [
    {
     "data": {
      "text/plain": [
       "'hi my name is rohan'"
      ]
     },
     "execution_count": 36,
     "metadata": {},
     "output_type": "execute_result"
    }
   ],
   "source": [
    "\"hi my name is \"+ name"
   ]
  },
  {
   "cell_type": "code",
   "execution_count": 59,
   "id": "e4d93ff1-ac72-4e3e-9b23-b908189615b4",
   "metadata": {},
   "outputs": [
    {
     "data": {
      "text/plain": [
       "'hi my name is manish jr and my salary is 100000. i am of manish, and i live in delhi'"
      ]
     },
     "execution_count": 59,
     "metadata": {},
     "output_type": "execute_result"
    }
   ],
   "source": [
    "\"hi my name is {name} jr and my salary is {salary}. i am of {name}, and i live in {place}\".format( name=\"manish\", salary=100000, place=\"delhi\")"
   ]
  },
  {
   "cell_type": "code",
   "execution_count": 60,
   "id": "7c90adbd-741c-4b0d-ad6d-d4c21959d3d5",
   "metadata": {},
   "outputs": [
    {
     "data": {
      "text/plain": [
       "['parshant', 'mishra']"
      ]
     },
     "execution_count": 60,
     "metadata": {},
     "output_type": "execute_result"
    }
   ],
   "source": [
    "\"parshant mishra\".split()"
   ]
  },
  {
   "cell_type": "code",
   "execution_count": 61,
   "id": "e797ad1e-3efd-45b4-9d2a-c5e0d86476bb",
   "metadata": {},
   "outputs": [
    {
     "data": {
      "text/plain": [
       "['tom', 'jerry', 'dog']"
      ]
     },
     "execution_count": 61,
     "metadata": {},
     "output_type": "execute_result"
    }
   ],
   "source": [
    "\" tom jerry dog \".split()"
   ]
  },
  {
   "cell_type": "code",
   "execution_count": 62,
   "id": "9023d08b-c9ba-4127-89d2-c9edc547ca66",
   "metadata": {},
   "outputs": [
    {
     "data": {
      "text/plain": [
       "[' tom jerry dog ']"
      ]
     },
     "execution_count": 62,
     "metadata": {},
     "output_type": "execute_result"
    }
   ],
   "source": [
    "\" tom jerry dog \".split(\"i\")"
   ]
  },
  {
   "cell_type": "code",
   "execution_count": 63,
   "id": "c55a74fc-25ba-4c21-9a83-aec9cf3a5f17",
   "metadata": {},
   "outputs": [
    {
     "data": {
      "text/plain": [
       "['hi', 'my', 'name', 'is', 'parshant']"
      ]
     },
     "execution_count": 63,
     "metadata": {},
     "output_type": "execute_result"
    }
   ],
   "source": [
    "\"hi my name is parshant\".split()"
   ]
  },
  {
   "cell_type": "code",
   "execution_count": 64,
   "id": "4b916a9c-bcba-4c80-9871-6380c02d9a84",
   "metadata": {},
   "outputs": [
    {
     "data": {
      "text/plain": [
       "['25-07-2025']"
      ]
     },
     "execution_count": 64,
     "metadata": {},
     "output_type": "execute_result"
    }
   ],
   "source": [
    "\"25-07-2025\".split()"
   ]
  },
  {
   "cell_type": "code",
   "execution_count": 65,
   "id": "a5655f51-fe39-4e64-a15f-78d51d49bd0e",
   "metadata": {},
   "outputs": [
    {
     "data": {
      "text/plain": [
       "'parshnat'"
      ]
     },
     "execution_count": 65,
     "metadata": {},
     "output_type": "execute_result"
    }
   ],
   "source": [
    "\"  parshnat   \".strip()     # to remove space "
   ]
  },
  {
   "cell_type": "code",
   "execution_count": 66,
   "id": "f8e7c808-3171-4ee4-a718-9f3e491a0f3e",
   "metadata": {},
   "outputs": [
    {
     "name": "stdout",
     "output_type": "stream",
     "text": [
      "parshant\n",
      "parshant  \n"
     ]
    }
   ],
   "source": [
    "print(\"parshant\")\n",
    "print(\"parshant  \")"
   ]
  },
  {
   "cell_type": "code",
   "execution_count": 67,
   "id": "7a8413f5-8057-4240-8501-9b1a4162a0dc",
   "metadata": {},
   "outputs": [
    {
     "data": {
      "text/plain": [
       "True"
      ]
     },
     "execution_count": 67,
     "metadata": {},
     "output_type": "execute_result"
    }
   ],
   "source": [
    "\"parshant\".islower()     #  boolean includes (true and false)"
   ]
  },
  {
   "cell_type": "code",
   "execution_count": 68,
   "id": "2918b584-bf27-4abe-b216-a1178b73a8da",
   "metadata": {},
   "outputs": [
    {
     "data": {
      "text/plain": [
       "False"
      ]
     },
     "execution_count": 68,
     "metadata": {},
     "output_type": "execute_result"
    }
   ],
   "source": [
    "\"PARSHANT\".islower()"
   ]
  },
  {
   "cell_type": "code",
   "execution_count": 70,
   "id": "038915af-67fd-4b83-b965-3259b4c80e84",
   "metadata": {},
   "outputs": [
    {
     "data": {
      "text/plain": [
       "True"
      ]
     },
     "execution_count": 70,
     "metadata": {},
     "output_type": "execute_result"
    }
   ],
   "source": [
    "\"parshant\".isalpha()"
   ]
  },
  {
   "cell_type": "code",
   "execution_count": 71,
   "id": "2a7e5220-4a25-422b-bdf3-95c4416e01d9",
   "metadata": {},
   "outputs": [
    {
     "data": {
      "text/plain": [
       "False"
      ]
     },
     "execution_count": 71,
     "metadata": {},
     "output_type": "execute_result"
    }
   ],
   "source": [
    "\"parshant\".isdigit()"
   ]
  },
  {
   "cell_type": "code",
   "execution_count": 73,
   "id": "9338e169-78fc-413c-9192-14263db50b37",
   "metadata": {},
   "outputs": [
    {
     "data": {
      "text/plain": [
       "True"
      ]
     },
     "execution_count": 73,
     "metadata": {},
     "output_type": "execute_result"
    }
   ],
   "source": [
    "\"parshant44\".isalnum()     # contains both numeric and alpha values"
   ]
  },
  {
   "cell_type": "code",
   "execution_count": 74,
   "id": "31ee4230-cbb1-4bd8-9f8a-692988b34b2a",
   "metadata": {},
   "outputs": [
    {
     "data": {
      "text/plain": [
       "True"
      ]
     },
     "execution_count": 74,
     "metadata": {},
     "output_type": "execute_result"
    }
   ],
   "source": [
    "\" \".isspace()"
   ]
  },
  {
   "cell_type": "code",
   "execution_count": 75,
   "id": "02298ebb-4fe1-4ab1-81ee-46342c5cdb9f",
   "metadata": {},
   "outputs": [
    {
     "name": "stdout",
     "output_type": "stream",
     "text": [
      "Help on built-in function replace:\n",
      "\n",
      "replace(old, new, count=-1, /) method of builtins.str instance\n",
      "    Return a copy with all occurrences of substring old replaced by new.\n",
      "\n",
      "      count\n",
      "        Maximum number of occurrences to replace.\n",
      "        -1 (the default value) means replace all occurrences.\n",
      "\n",
      "    If the optional argument count is given, only the first count occurrences are\n",
      "    replaced.\n",
      "\n"
     ]
    }
   ],
   "source": [
    "help(\"parshant mishra\".replace)"
   ]
  },
  {
   "cell_type": "code",
   "execution_count": 80,
   "id": "476c7d7d-85c3-4b9c-9586-d8bf260b2da5",
   "metadata": {},
   "outputs": [
    {
     "data": {
      "text/plain": [
       "'parshant m8shra'"
      ]
     },
     "execution_count": 80,
     "metadata": {},
     "output_type": "execute_result"
    }
   ],
   "source": [
    "\"parshant mishra\".replace(\"i\",\"8\",2)    # to replace with different values"
   ]
  },
  {
   "cell_type": "code",
   "execution_count": 81,
   "id": "5546f88d-c545-47fc-b840-e308322472cf",
   "metadata": {},
   "outputs": [],
   "source": [
    "name= \"parshant mishra\""
   ]
  },
  {
   "cell_type": "code",
   "execution_count": 82,
   "id": "21d95d56-865e-4de0-92e7-2f17a9db5742",
   "metadata": {},
   "outputs": [
    {
     "data": {
      "text/plain": [
       "'parshant mishra'"
      ]
     },
     "execution_count": 82,
     "metadata": {},
     "output_type": "execute_result"
    }
   ],
   "source": [
    "name"
   ]
  },
  {
   "cell_type": "code",
   "execution_count": 91,
   "id": "53ce1970-c956-43cc-83ee-4be6d43bc178",
   "metadata": {},
   "outputs": [
    {
     "data": {
      "text/plain": [
       "'a'"
      ]
     },
     "execution_count": 91,
     "metadata": {},
     "output_type": "execute_result"
    }
   ],
   "source": [
    "name[5]         # indexing"
   ]
  },
  {
   "cell_type": "code",
   "execution_count": 85,
   "id": "b767543f-b18e-4d67-8f84-a0a6cacc735b",
   "metadata": {},
   "outputs": [
    {
     "data": {
      "text/plain": [
       "15"
      ]
     },
     "execution_count": 85,
     "metadata": {},
     "output_type": "execute_result"
    }
   ],
   "source": [
    "len(name)"
   ]
  },
  {
   "cell_type": "code",
   "execution_count": 92,
   "id": "fbfac463-1ce5-438f-bb1a-78a009284146",
   "metadata": {},
   "outputs": [
    {
     "data": {
      "text/plain": [
       "'r'"
      ]
     },
     "execution_count": 92,
     "metadata": {},
     "output_type": "execute_result"
    }
   ],
   "source": [
    "name[-2]"
   ]
  },
  {
   "cell_type": "code",
   "execution_count": null,
   "id": "851d7bf5-9d83-42dc-bfe1-592358d71320",
   "metadata": {},
   "outputs": [],
   "source": [
    "i=2\n",
    "while i<=9:\n",
    "    print(i)\n",
    "    i+=1"
   ]
  },
  {
   "cell_type": "markdown",
   "id": "7c269cd5-e86b-4d7f-bdc5-e7ace2eae72c",
   "metadata": {},
   "source": [
    "PRINT\n"
   ]
  },
  {
   "cell_type": "code",
   "execution_count": 1,
   "id": "b027e59c-0918-467a-b94a-b2a410ce80a8",
   "metadata": {},
   "outputs": [
    {
     "name": "stdout",
     "output_type": "stream",
     "text": [
      "10\n"
     ]
    }
   ],
   "source": [
    "print(10)"
   ]
  },
  {
   "cell_type": "code",
   "execution_count": 4,
   "id": "cec27e58-37c8-4885-9e8f-1fd02d82223d",
   "metadata": {},
   "outputs": [
    {
     "name": "stdout",
     "output_type": "stream",
     "text": [
      "10\n"
     ]
    }
   ],
   "source": [
    "a=10\n",
    "print(a)"
   ]
  },
  {
   "cell_type": "code",
   "execution_count": 5,
   "id": "ab7a0243-1087-4e13-8029-230d1b8a3794",
   "metadata": {},
   "outputs": [
    {
     "data": {
      "text/plain": [
       "int"
      ]
     },
     "execution_count": 5,
     "metadata": {},
     "output_type": "execute_result"
    }
   ],
   "source": [
    "type(a)"
   ]
  },
  {
   "cell_type": "code",
   "execution_count": 6,
   "id": "f07bce8c-e6c8-4368-b919-1afb7b30f5b7",
   "metadata": {},
   "outputs": [
    {
     "name": "stdout",
     "output_type": "stream",
     "text": [
      "10\n"
     ]
    }
   ],
   "source": [
    "a=print(10)"
   ]
  },
  {
   "cell_type": "code",
   "execution_count": 7,
   "id": "dad31275-b8a1-4a86-abda-f789dab6fba0",
   "metadata": {},
   "outputs": [
    {
     "data": {
      "text/plain": [
       "NoneType"
      ]
     },
     "execution_count": 7,
     "metadata": {},
     "output_type": "execute_result"
    }
   ],
   "source": [
    "type(a)"
   ]
  },
  {
   "cell_type": "code",
   "execution_count": 8,
   "id": "516d6b12-50d7-484d-bc6e-c20f200701ef",
   "metadata": {},
   "outputs": [
    {
     "name": "stdout",
     "output_type": "stream",
     "text": [
      "14 6 Parshant Mishra\n"
     ]
    }
   ],
   "source": [
    "print(14,6,\"Parshant\",\"Mishra\")"
   ]
  },
  {
   "cell_type": "code",
   "execution_count": 9,
   "id": "abb80e8f-0910-4d17-a374-22302b1d9486",
   "metadata": {},
   "outputs": [
    {
     "name": "stdout",
     "output_type": "stream",
     "text": [
      "146ParshantMishra\n"
     ]
    }
   ],
   "source": [
    "print(14,6,\"Parshant\",\"Mishra\",sep=\"\")"
   ]
  },
  {
   "cell_type": "code",
   "execution_count": 10,
   "id": "d9cd9167-3fc9-46ed-9fef-1e2c30d58852",
   "metadata": {},
   "outputs": [
    {
     "name": "stdout",
     "output_type": "stream",
     "text": [
      "14 6 Parshant Mishra\n"
     ]
    }
   ],
   "source": [
    "print(14,6,\"Parshant\",\"Mishra\",sep=\" \")"
   ]
  },
  {
   "cell_type": "code",
   "execution_count": 11,
   "id": "aa1bb9f8-2558-4ef2-8101-804665589a8b",
   "metadata": {},
   "outputs": [
    {
     "name": "stdout",
     "output_type": "stream",
     "text": [
      "14*6*Parshant*Mishra\n"
     ]
    }
   ],
   "source": [
    "print(14,6,\"Parshant\",\"Mishra\",sep=\"*\")"
   ]
  },
  {
   "cell_type": "code",
   "execution_count": 12,
   "id": "aa3a08d8-4e84-47a3-868e-6e4e14e6fb96",
   "metadata": {},
   "outputs": [
    {
     "name": "stdout",
     "output_type": "stream",
     "text": [
      "14 *6 *Parshant *Mishra\n"
     ]
    }
   ],
   "source": [
    "print(14,6,\"Parshant\",\"Mishra\",sep=\" *\")"
   ]
  },
  {
   "cell_type": "code",
   "execution_count": 13,
   "id": "f4ef7b2a-67e7-406c-b69e-d18dc4162828",
   "metadata": {},
   "outputs": [
    {
     "name": "stdout",
     "output_type": "stream",
     "text": [
      "65\n",
      "85\n"
     ]
    }
   ],
   "source": [
    "print(65)       #---------BY DEFAULT ENTER IS THERE----------\n",
    "print(85)"
   ]
  },
  {
   "cell_type": "code",
   "execution_count": 21,
   "id": "f9881a36-bc77-4e73-a833-dd95842f6212",
   "metadata": {},
   "outputs": [
    {
     "name": "stdout",
     "output_type": "stream",
     "text": [
      "65 85 98 100 60\n",
      "40\n",
      "200\n"
     ]
    }
   ],
   "source": [
    "print(65,85,98,100, end= \" \")\n",
    "print(60)\n",
    "print(40)\n",
    "print(200)"
   ]
  },
  {
   "cell_type": "code",
   "execution_count": 22,
   "id": "b4540875-a953-427c-b26a-671ffd6a90e5",
   "metadata": {},
   "outputs": [
    {
     "name": "stdout",
     "output_type": "stream",
     "text": [
      "65 85 98 100 *60 *40 *200\n"
     ]
    }
   ],
   "source": [
    "print(65,85,98,100, end= \" *\")\n",
    "print(60, end=\" *\")\n",
    "print(40,end=\" *\")\n",
    "print(200)"
   ]
  },
  {
   "cell_type": "code",
   "execution_count": 23,
   "id": "a5d67563-78ac-4da7-ba72-595d065b74b8",
   "metadata": {},
   "outputs": [],
   "source": [
    "name= \"Parshant\"\n"
   ]
  },
  {
   "cell_type": "code",
   "execution_count": 24,
   "id": "f6557906-995c-4c15-ae62-002fa938758d",
   "metadata": {},
   "outputs": [],
   "source": [
    "age= 18"
   ]
  },
  {
   "cell_type": "code",
   "execution_count": 28,
   "id": "74dcc64b-8158-4db4-862e-9f82f3016427",
   "metadata": {},
   "outputs": [
    {
     "data": {
      "text/plain": [
       "'Parshant 18'"
      ]
     },
     "execution_count": 28,
     "metadata": {},
     "output_type": "execute_result"
    }
   ],
   "source": [
    "f'{name} {age}'          "
   ]
  },
  {
   "cell_type": "code",
   "execution_count": 29,
   "id": "5d496e0d-32d4-49ba-b7f3-7cbbc25c59fb",
   "metadata": {},
   "outputs": [
    {
     "name": "stdout",
     "output_type": "stream",
     "text": [
      "Parshant 18\n"
     ]
    }
   ],
   "source": [
    "print(f'{name} {age}')    "
   ]
  },
  {
   "cell_type": "code",
   "execution_count": 30,
   "id": "cdd93558-973d-4989-abed-e0237b73981c",
   "metadata": {},
   "outputs": [
    {
     "data": {
      "text/plain": [
       "'parshant mishra'"
      ]
     },
     "execution_count": 30,
     "metadata": {},
     "output_type": "execute_result"
    }
   ],
   "source": [
    "'parshant mishra'"
   ]
  },
  {
   "cell_type": "code",
   "execution_count": 34,
   "id": "9a06746c-cf24-41b9-b2e1-6bc11470a324",
   "metadata": {},
   "outputs": [
    {
     "data": {
      "text/plain": [
       "'parshant mishra'"
      ]
     },
     "execution_count": 34,
     "metadata": {},
     "output_type": "execute_result"
    }
   ],
   "source": [
    "\"parshant mishra\""
   ]
  },
  {
   "cell_type": "code",
   "execution_count": 38,
   "id": "5b7a8e0c-a81f-4670-a164-7732b317f81a",
   "metadata": {},
   "outputs": [
    {
     "data": {
      "text/plain": [
       "'parshant \\nmishra'"
      ]
     },
     "execution_count": 38,
     "metadata": {},
     "output_type": "execute_result"
    }
   ],
   "source": [
    "\"\"\"parshant           #  ------ONLY TRIPLE QUOTATION ALLOWS ENTER ------\n",
    "mishra\"\"\""
   ]
  },
  {
   "cell_type": "code",
   "execution_count": 44,
   "id": "27aa6c6a-5b2f-42a3-b21b-5f0339ea3a15",
   "metadata": {},
   "outputs": [],
   "source": [
    "a= \"parshant mis\\thra\"     #  ---------\\t used to space horizontally--------"
   ]
  },
  {
   "cell_type": "code",
   "execution_count": 45,
   "id": "ab727107-3e31-4043-b02e-d5355933f9b1",
   "metadata": {},
   "outputs": [
    {
     "name": "stdout",
     "output_type": "stream",
     "text": [
      "parshant mis\thra\n"
     ]
    }
   ],
   "source": [
    "print(a)"
   ]
  },
  {
   "cell_type": "code",
   "execution_count": 49,
   "id": "d37022ac-5d8b-4706-86d1-df6d990ce3f6",
   "metadata": {},
   "outputs": [
    {
     "name": "stdout",
     "output_type": "stream",
     "text": [
      "parshant mis\n",
      "hra\n"
     ]
    }
   ],
   "source": [
    "a= \"parshant mis\\nhra\"       #--------\\n is used to space vertically----------\n",
    "print(a)"
   ]
  },
  {
   "cell_type": "code",
   "execution_count": 50,
   "id": "c1576e28-36a3-4c22-abab-8a4aba3d66eb",
   "metadata": {},
   "outputs": [
    {
     "name": "stdout",
     "output_type": "stream",
     "text": [
      "😀\n"
     ]
    }
   ],
   "source": [
    "print(\"\\U0001f600\")"
   ]
  },
  {
   "cell_type": "code",
   "execution_count": null,
   "id": "ff9ec21f-1c10-40f6-a6d1-2d56b5a725fd",
   "metadata": {},
   "outputs": [],
   "source": []
  }
 ],
 "metadata": {
  "kernelspec": {
   "display_name": "Python 3 (ipykernel)",
   "language": "python",
   "name": "python3"
  },
  "language_info": {
   "codemirror_mode": {
    "name": "ipython",
    "version": 3
   },
   "file_extension": ".py",
   "mimetype": "text/x-python",
   "name": "python",
   "nbconvert_exporter": "python",
   "pygments_lexer": "ipython3",
   "version": "3.12.7"
  }
 },
 "nbformat": 4,
 "nbformat_minor": 5
}
