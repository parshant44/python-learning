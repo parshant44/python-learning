{
 "cells": [
  {
   "cell_type": "code",
   "execution_count": 1,
   "id": "e9c83ce1-5c37-47cf-a8af-281ea0bca18b",
   "metadata": {},
   "outputs": [],
   "source": [
    "# DICTIONARY"
   ]
  },
  {
   "cell_type": "code",
   "execution_count": 2,
   "id": "2350ae7f-af0f-4c00-8abf-112ca6495805",
   "metadata": {},
   "outputs": [],
   "source": [
    "# keys can only have string or int"
   ]
  },
  {
   "cell_type": "code",
   "execution_count": 3,
   "id": "31de90ca-ed93-4dc8-9dbe-b0fc1377b275",
   "metadata": {},
   "outputs": [
    {
     "data": {
      "text/plain": [
       "{1: 'parshant', 2: 'rohit', 3: 'akash'}"
      ]
     },
     "execution_count": 3,
     "metadata": {},
     "output_type": "execute_result"
    }
   ],
   "source": [
    "{1:\"parshant\",2:\"rohit\",3:\"akash\"}"
   ]
  },
  {
   "cell_type": "code",
   "execution_count": 6,
   "id": "a6eda5ae-6f6e-4cf4-a8e0-13a780e86da8",
   "metadata": {},
   "outputs": [
    {
     "data": {
      "text/plain": [
       "{1: {'name': 'parshant', 'age': 23}, 2: {'name': 'akash', 'age': 22}}"
      ]
     },
     "execution_count": 6,
     "metadata": {},
     "output_type": "execute_result"
    }
   ],
   "source": [
    "{1: {\"name\": \"parshant\", \"age\":23}, 2: {\"name\":\"akash\", \"age\": 22}}"
   ]
  },
  {
   "cell_type": "code",
   "execution_count": 7,
   "id": "125913d0-ee96-449e-9121-6a79194b55ab",
   "metadata": {},
   "outputs": [
    {
     "data": {
      "text/plain": [
       "2"
      ]
     },
     "execution_count": 7,
     "metadata": {},
     "output_type": "execute_result"
    }
   ],
   "source": [
    "len(di)"
   ]
  },
  {
   "cell_type": "code",
   "execution_count": 8,
   "id": "c06e3b83-4665-4da8-9905-2f74bd08bdfd",
   "metadata": {},
   "outputs": [
    {
     "data": {
      "text/plain": [
       "dict_keys([1, 2])"
      ]
     },
     "execution_count": 8,
     "metadata": {},
     "output_type": "execute_result"
    }
   ],
   "source": [
    "di.keys()"
   ]
  },
  {
   "cell_type": "code",
   "execution_count": 9,
   "id": "391c178a-2856-4c77-b02d-66cfbf149261",
   "metadata": {},
   "outputs": [
    {
     "data": {
      "text/plain": [
       "dict_values([{'name': 'parshant', 'age': 23}, {'name': 'akash', 'age': 22}])"
      ]
     },
     "execution_count": 9,
     "metadata": {},
     "output_type": "execute_result"
    }
   ],
   "source": [
    "di.values()"
   ]
  },
  {
   "cell_type": "code",
   "execution_count": 10,
   "id": "c426aac1-eeeb-42d7-b43c-cd6725ed5b79",
   "metadata": {},
   "outputs": [],
   "source": [
    "di[1][\"education\"]=\"b.tech\"        # to add item in 1 dictionary"
   ]
  },
  {
   "cell_type": "code",
   "execution_count": 11,
   "id": "807b7394-94fb-4c8a-887a-446ddb9d916a",
   "metadata": {},
   "outputs": [
    {
     "data": {
      "text/plain": [
       "{1: {'name': 'parshant', 'age': 23, 'education': 'b.tech'},\n",
       " 2: {'name': 'akash', 'age': 22}}"
      ]
     },
     "execution_count": 11,
     "metadata": {},
     "output_type": "execute_result"
    }
   ],
   "source": [
    "di"
   ]
  },
  {
   "cell_type": "code",
   "execution_count": 13,
   "id": "a214ab1c-3a8e-42d8-9ba9-1efccb66f860",
   "metadata": {},
   "outputs": [
    {
     "data": {
      "text/plain": [
       "dict"
      ]
     },
     "execution_count": 13,
     "metadata": {},
     "output_type": "execute_result"
    }
   ],
   "source": [
    "type(di)"
   ]
  },
  {
   "cell_type": "code",
   "execution_count": 14,
   "id": "d982c5b0-76a3-4cde-9419-49039c090cac",
   "metadata": {},
   "outputs": [],
   "source": [
    "di[\"name\"]=\"prince\""
   ]
  },
  {
   "cell_type": "code",
   "execution_count": 15,
   "id": "ce426fbe-2304-4bb1-834e-b9ab536ee3e1",
   "metadata": {},
   "outputs": [
    {
     "data": {
      "text/plain": [
       "dict_keys(['name', 'age'])"
      ]
     },
     "execution_count": 15,
     "metadata": {},
     "output_type": "execute_result"
    }
   ],
   "source": [
    "di[2].keys()"
   ]
  },
  {
   "cell_type": "code",
   "execution_count": 18,
   "id": "cbb720bb-56f9-40b9-9087-d7aedff4d481",
   "metadata": {},
   "outputs": [
    {
     "data": {
      "text/plain": [
       "{1: {'name': 'parshant', 'age': 23, 'education': 'b.tech'},\n",
       " 2: {'name': 'akash', 'age': 22},\n",
       " 'name': 'prince'}"
      ]
     },
     "execution_count": 18,
     "metadata": {},
     "output_type": "execute_result"
    }
   ],
   "source": [
    "di"
   ]
  },
  {
   "cell_type": "code",
   "execution_count": 19,
   "id": "ea5514be-1b60-4a22-a231-6c8e67b1966f",
   "metadata": {},
   "outputs": [
    {
     "data": {
      "text/plain": [
       "dict"
      ]
     },
     "execution_count": 19,
     "metadata": {},
     "output_type": "execute_result"
    }
   ],
   "source": [
    "type(di)"
   ]
  },
  {
   "cell_type": "code",
   "execution_count": 20,
   "id": "e806ae6d-5cdf-46b1-9c8e-b51817e0fe65",
   "metadata": {},
   "outputs": [
    {
     "data": {
      "text/plain": [
       "dict_items([(1, {'name': 'parshant', 'age': 23, 'education': 'b.tech'}), (2, {'name': 'akash', 'age': 22}), ('name', 'prince')])"
      ]
     },
     "execution_count": 20,
     "metadata": {},
     "output_type": "execute_result"
    }
   ],
   "source": [
    "di.items()"
   ]
  },
  {
   "cell_type": "code",
   "execution_count": 21,
   "id": "37c2c054-2d1e-4bb3-8a9d-5e66d74ffc9f",
   "metadata": {},
   "outputs": [
    {
     "data": {
      "text/plain": [
       "{'name': 'akash', 'age': 22}"
      ]
     },
     "execution_count": 21,
     "metadata": {},
     "output_type": "execute_result"
    }
   ],
   "source": [
    "di.pop(2)"
   ]
  },
  {
   "cell_type": "code",
   "execution_count": 22,
   "id": "1041e3a3-5dd3-4a65-8beb-9649aa87c703",
   "metadata": {},
   "outputs": [
    {
     "data": {
      "text/plain": [
       "{1: {'name': 'parshant', 'age': 23, 'education': 'b.tech'}, 'name': 'prince'}"
      ]
     },
     "execution_count": 22,
     "metadata": {},
     "output_type": "execute_result"
    }
   ],
   "source": [
    "di"
   ]
  },
  {
   "cell_type": "code",
   "execution_count": 24,
   "id": "550af509-a9e7-4f1a-9678-19cc57ce1273",
   "metadata": {},
   "outputs": [],
   "source": [
    "a = {\"name\":\"parshant\"}"
   ]
  },
  {
   "cell_type": "code",
   "execution_count": 25,
   "id": "f2248210-91b6-4509-b95a-8f221661a131",
   "metadata": {},
   "outputs": [],
   "source": [
    "a[\"age\"] = 23"
   ]
  },
  {
   "cell_type": "code",
   "execution_count": 26,
   "id": "41421c7c-2c8c-422d-ada1-47453d367311",
   "metadata": {},
   "outputs": [
    {
     "data": {
      "text/plain": [
       "{'name': 'parshant', 'age': 23}"
      ]
     },
     "execution_count": 26,
     "metadata": {},
     "output_type": "execute_result"
    }
   ],
   "source": [
    "a"
   ]
  },
  {
   "cell_type": "code",
   "execution_count": null,
   "id": "943797e2-ab23-469d-a5a6-95097310ba2c",
   "metadata": {},
   "outputs": [],
   "source": []
  }
 ],
 "metadata": {
  "kernelspec": {
   "display_name": "Python 3 (ipykernel)",
   "language": "python",
   "name": "python3"
  },
  "language_info": {
   "codemirror_mode": {
    "name": "ipython",
    "version": 3
   },
   "file_extension": ".py",
   "mimetype": "text/x-python",
   "name": "python",
   "nbconvert_exporter": "python",
   "pygments_lexer": "ipython3",
   "version": "3.12.7"
  }
 },
 "nbformat": 4,
 "nbformat_minor": 5
}
