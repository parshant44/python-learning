{
 "cells": [
  {
   "cell_type": "code",
   "execution_count": 7,
   "id": "e53a6828-faf3-4cbc-b946-598fd494f707",
   "metadata": {},
   "outputs": [
    {
     "name": "stdout",
     "output_type": "stream",
     "text": [
      "welcome\n",
      "hello\n",
      "hii\n"
     ]
    }
   ],
   "source": [
    "def chandigarh():\n",
    "    print(\"hello\")\n",
    "    print(\"hii\")\n",
    "    \n",
    "print(\"welcome\")\n",
    "chandigarh()"
   ]
  },
  {
   "cell_type": "code",
   "execution_count": 8,
   "id": "c391ccb6-7881-4552-a362-02f52cbc7493",
   "metadata": {},
   "outputs": [
    {
     "name": "stdout",
     "output_type": "stream",
     "text": [
      "hello\n",
      "hii\n"
     ]
    }
   ],
   "source": [
    "chandigarh()"
   ]
  },
  {
   "cell_type": "code",
   "execution_count": 12,
   "id": "1f9fd828-e6d4-481b-b3b8-ebd555ff7369",
   "metadata": {},
   "outputs": [
    {
     "name": "stdout",
     "output_type": "stream",
     "text": [
      "result is 15\n",
      "result is 15\n",
      "result is 15\n"
     ]
    }
   ],
   "source": [
    "def sum():\n",
    "    a=12\n",
    "    b=3\n",
    "    c=a+b\n",
    "    print(\"result is\",c)\n",
    "\n",
    "sum()\n",
    "sum()\n",
    "sum()"
   ]
  },
  {
   "cell_type": "code",
   "execution_count": 24,
   "id": "2dd6ddfa-7882-4fe2-b454-6124c219a4e5",
   "metadata": {},
   "outputs": [
    {
     "name": "stdout",
     "output_type": "stream",
     "text": [
      "your a value is 100\n"
     ]
    }
   ],
   "source": [
    "a1=100\n",
    "def ram():\n",
    "    print(\"your a value is\",a1)\n",
    "ram()\n",
    "    \n",
    "    "
   ]
  },
  {
   "cell_type": "code",
   "execution_count": 22,
   "id": "8800b691-e79b-4dc3-8d0a-a4f9a9573f20",
   "metadata": {},
   "outputs": [
    {
     "name": "stdout",
     "output_type": "stream",
     "text": [
      "your a2 value is 300\n"
     ]
    }
   ],
   "source": [
    "def sham():\n",
    "    a2=300\n",
    "    print(\"your a2 value is\",a2)\n",
    "sham()\n",
    "    "
   ]
  },
  {
   "cell_type": "code",
   "execution_count": 23,
   "id": "b73c1250-1851-4457-8d5f-bc88503df4e1",
   "metadata": {},
   "outputs": [
    {
     "name": "stdout",
     "output_type": "stream",
     "text": [
      "your a2 value is 300\n",
      "your outside a2 value is 300\n"
     ]
    }
   ],
   "source": [
    "def sham():\n",
    "    global a2\n",
    "    a2=300\n",
    "    print(\"your a2 value is\",a2)\n",
    "    \n",
    "sham()\n",
    "print(\"your outside a2 value is\",a2)\n",
    "    \n",
    "    "
   ]
  },
  {
   "cell_type": "code",
   "execution_count": 27,
   "id": "5f713664-b99e-4d23-a073-680aa4c1c436",
   "metadata": {},
   "outputs": [
    {
     "name": "stdout",
     "output_type": "stream",
     "text": [
      "hello\n",
      "i m karan\n"
     ]
    }
   ],
   "source": [
    "def king():\n",
    "    print(\"hello\")\n",
    "\n",
    "def karan():\n",
    "    king()\n",
    "    print(\"i m karan\")\n",
    "    \n",
    "\n",
    "karan()"
   ]
  },
  {
   "cell_type": "markdown",
   "id": "2c6bd494-ff26-420c-be0d-ba1cb4a75b7d",
   "metadata": {},
   "source": []
  },
  {
   "cell_type": "code",
   "execution_count": 31,
   "id": "31f53e5b-0082-42c5-8c0b-f607663c48d3",
   "metadata": {},
   "outputs": [
    {
     "name": "stdout",
     "output_type": "stream",
     "text": [
      "your value is (12, 34, 5465, 2323)\n",
      "value is 12\n",
      "value is 5465\n"
     ]
    }
   ],
   "source": [
    "def zirakhpur (*a):\n",
    "    print(\"your value is\",a)\n",
    "    print(\"value is\",a[0])\n",
    "    print(\"value is\", a[-2])\n",
    "zirakhpur(12,34, 5465, 2323)"
   ]
  },
  {
   "cell_type": "code",
   "execution_count": 35,
   "id": "ee66efd9-f659-48d2-9b67-e345ed4e9e6c",
   "metadata": {},
   "outputs": [
    {
     "name": "stdout",
     "output_type": "stream",
     "text": [
      "your name is  cse\n",
      "your roll is 232\n"
     ]
    }
   ],
   "source": [
    "def mohali(**w):\n",
    "    print(\"your name is \",w['bh'])\n",
    "    print(\"your roll is\",w['roll'])\n",
    "\n",
    "mohali(name=\"pankaj\",roll=232,bh=\"cse\")\n",
    "         "
   ]
  },
  {
   "cell_type": "code",
   "execution_count": 37,
   "id": "59eec868-2d60-445c-b863-735c0a311196",
   "metadata": {},
   "outputs": [
    {
     "data": {
      "text/plain": [
       "15"
      ]
     },
     "execution_count": 37,
     "metadata": {},
     "output_type": "execute_result"
    }
   ],
   "source": [
    "def netmax():\n",
    "    a=12\n",
    "    b=3\n",
    "    c=a+b\n",
    "    return c\n",
    "netmax()\n"
   ]
  },
  {
   "cell_type": "code",
   "execution_count": 42,
   "id": "036dc04f-faef-41c3-a877-862c7d2ba853",
   "metadata": {},
   "outputs": [
    {
     "name": "stdout",
     "output_type": "stream",
     "text": [
      "your ans is -91\n"
     ]
    }
   ],
   "source": [
    "def stage1 (a,b):\n",
    "    c=a-b\n",
    "    return c\n",
    "\n",
    "def stage2(z):\n",
    "    vl=stage1(12,3)\n",
    "    final=vl-z\n",
    "    return final\n",
    "\n",
    "result=stage2(100)\n",
    "print(\"your ans is\",result)"
   ]
  },
  {
   "cell_type": "code",
   "execution_count": 44,
   "id": "8fc8f94f-34ee-4b3d-ab1a-88973242b421",
   "metadata": {},
   "outputs": [
    {
     "name": "stdout",
     "output_type": "stream",
     "text": [
      "your w value is 12\n",
      "your z value is 12\n"
     ]
    }
   ],
   "source": [
    "w=z=12\n",
    "print(\"your w value is\",w)\n",
    "print(\"your z value is\",z)"
   ]
  },
  {
   "cell_type": "code",
   "execution_count": null,
   "id": "8b1e323a-2ce8-4d86-bbd3-42ea449fdb04",
   "metadata": {},
   "outputs": [],
   "source": []
  }
 ],
 "metadata": {
  "kernelspec": {
   "display_name": "Python 3 (ipykernel)",
   "language": "python",
   "name": "python3"
  },
  "language_info": {
   "codemirror_mode": {
    "name": "ipython",
    "version": 3
   },
   "file_extension": ".py",
   "mimetype": "text/x-python",
   "name": "python",
   "nbconvert_exporter": "python",
   "pygments_lexer": "ipython3",
   "version": "3.12.7"
  }
 },
 "nbformat": 4,
 "nbformat_minor": 5
}
