{
 "cells": [
  {
   "cell_type": "code",
   "execution_count": 1,
   "id": "261f6df4-30f2-45d2-af8f-32e29aaa5504",
   "metadata": {},
   "outputs": [
    {
     "name": "stdout",
     "output_type": "stream",
     "text": [
      "Defaulting to user installation because normal site-packages is not writeable\n",
      "Requirement already satisfied: prettytable in c:\\users\\admin\\appdata\\roaming\\python\\python312\\site-packages (3.16.0)\n",
      "Requirement already satisfied: wcwidth in c:\\programdata\\anaconda3\\lib\\site-packages (from prettytable) (0.2.5)\n",
      "Note: you may need to restart the kernel to use updated packages.\n"
     ]
    }
   ],
   "source": [
    "pip install prettytable"
   ]
  },
  {
   "cell_type": "code",
   "execution_count": 2,
   "id": "56881608-6f54-4e79-9364-fc2a2321848f",
   "metadata": {},
   "outputs": [
    {
     "name": "stdout",
     "output_type": "stream",
     "text": [
      "+----------+------+--------+\n",
      "|   Name   | Roll | branch |\n",
      "+----------+------+--------+\n",
      "| Parshant |  12  |  Cse   |\n",
      "| Nishant  |  25  | Civil  |\n",
      "|   Anuj   |  24  |  Mech  |\n",
      "+----------+------+--------+\n"
     ]
    }
   ],
   "source": [
    "from prettytable import PrettyTable\n",
    "\n",
    "obj=PrettyTable()\n",
    "obj.field_names=[\"Name\",\"Roll\",\"branch\"]\n",
    "\n",
    "data1=[\"Parshant\",12,\"Cse\"]\n",
    "data2=[\"Nishant\",25,\"Civil\"]\n",
    "data3=[\"Anuj\",24,\"Mech\"]\n",
    "obj.add_row(data1)\n",
    "obj.add_row(data2)\n",
    "obj.add_row(data3)\n",
    "print(obj)"
   ]
  },
  {
   "cell_type": "code",
   "execution_count": 4,
   "id": "434b8b75-aba9-436f-beb9-0fd0565489f9",
   "metadata": {},
   "outputs": [
    {
     "name": "stdin",
     "output_type": "stream",
     "text": [
      "Enter Any Number To Print Table 6\n"
     ]
    },
    {
     "name": "stdout",
     "output_type": "stream",
     "text": [
      "+--------+---+-----+\n",
      "| Table  | - | Ans |\n",
      "+--------+---+-----+\n",
      "| 6 x 1  | = |  6  |\n",
      "| 6 x 2  | = |  12 |\n",
      "| 6 x 3  | = |  18 |\n",
      "| 6 x 4  | = |  24 |\n",
      "| 6 x 5  | = |  30 |\n",
      "| 6 x 6  | = |  36 |\n",
      "| 6 x 7  | = |  42 |\n",
      "| 6 x 8  | = |  48 |\n",
      "| 6 x 9  | = |  54 |\n",
      "| 6 x 10 | = |  60 |\n",
      "+--------+---+-----+\n"
     ]
    }
   ],
   "source": [
    "from prettytable import PrettyTable\n",
    "\n",
    "obj=PrettyTable()\n",
    "obj.field_names=[\"Table\",\"-\",\"Ans\"]\n",
    "n=int(input(\"Enter Any Number To Print Table\"))\n",
    "for i in range(1,11):\n",
    "    record=[str(n)+\" x \"+str(i),\"=\",n*i]\n",
    "    obj.add_row(record)\n",
    "print(obj)"
   ]
  },
  {
   "cell_type": "code",
   "execution_count": null,
   "id": "ee7391bc-6c01-411a-8f71-e60843246a1b",
   "metadata": {},
   "outputs": [],
   "source": []
  },
  {
   "cell_type": "code",
   "execution_count": null,
   "id": "9652a91a-5b93-4eb4-b00f-8785956e50d2",
   "metadata": {},
   "outputs": [],
   "source": []
  }
 ],
 "metadata": {
  "kernelspec": {
   "display_name": "Python 3 (ipykernel)",
   "language": "python",
   "name": "python3"
  },
  "language_info": {
   "codemirror_mode": {
    "name": "ipython",
    "version": 3
   },
   "file_extension": ".py",
   "mimetype": "text/x-python",
   "name": "python",
   "nbconvert_exporter": "python",
   "pygments_lexer": "ipython3",
   "version": "3.12.7"
  }
 },
 "nbformat": 4,
 "nbformat_minor": 5
}
