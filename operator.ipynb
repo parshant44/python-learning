{
 "cells": [
  {
   "cell_type": "code",
   "execution_count": 1,
   "id": "20b83e68-354e-4c7e-9a7f-6dbd67a506e6",
   "metadata": {},
   "outputs": [
    {
     "name": "stdout",
     "output_type": "stream",
     "text": [
      "6.666666666666667\n"
     ]
    }
   ],
   "source": [
    "a=20\n",
    "b=3\n",
    "c=a/b\n",
    "print(c)"
   ]
  },
  {
   "cell_type": "code",
   "execution_count": 2,
   "id": "29599f49-d440-4b6b-a97a-e190489811bc",
   "metadata": {},
   "outputs": [
    {
     "name": "stdout",
     "output_type": "stream",
     "text": [
      "False\n"
     ]
    }
   ],
   "source": [
    "a=3\n",
    "b=20\n",
    "print(a>b)"
   ]
  },
  {
   "cell_type": "code",
   "execution_count": 3,
   "id": "d178561b-2669-4e8a-985b-e4df3eb61c58",
   "metadata": {},
   "outputs": [
    {
     "name": "stdout",
     "output_type": "stream",
     "text": [
      "True\n"
     ]
    }
   ],
   "source": [
    "a=3\n",
    "b=20\n",
    "print(a<b)"
   ]
  },
  {
   "cell_type": "code",
   "execution_count": 4,
   "id": "e306fd2c-79c3-472d-9712-161964f05624",
   "metadata": {},
   "outputs": [
    {
     "name": "stdout",
     "output_type": "stream",
     "text": [
      "True\n"
     ]
    }
   ],
   "source": [
    "a=3\n",
    "b=3\n",
    "print(a>=b)"
   ]
  },
  {
   "cell_type": "code",
   "execution_count": 8,
   "id": "7fbbf716-d8d6-449a-a363-e7296740962a",
   "metadata": {},
   "outputs": [
    {
     "name": "stdout",
     "output_type": "stream",
     "text": [
      "True\n"
     ]
    }
   ],
   "source": [
    "a=12\n",
    "b=12\n",
    "print(a==b)"
   ]
  },
  {
   "cell_type": "code",
   "execution_count": 9,
   "id": "15c4b6d6-c53e-4cb6-ab11-5a7f604e682d",
   "metadata": {},
   "outputs": [
    {
     "name": "stdout",
     "output_type": "stream",
     "text": [
      "True\n"
     ]
    }
   ],
   "source": [
    "a=3\n",
    "b=33\n",
    "print(a!=b)"
   ]
  },
  {
   "cell_type": "code",
   "execution_count": 10,
   "id": "b1a3bfb6-58f8-42cd-9c01-0e8970febb16",
   "metadata": {},
   "outputs": [
    {
     "name": "stdout",
     "output_type": "stream",
     "text": [
      "your a value is 15\n"
     ]
    }
   ],
   "source": [
    "a=12\n",
    "a=a+3\n",
    "print(\"your a value is\",a)"
   ]
  },
  {
   "cell_type": "code",
   "execution_count": 11,
   "id": "7e673b8b-6868-454e-83f2-d10f022d7659",
   "metadata": {},
   "outputs": [
    {
     "name": "stdout",
     "output_type": "stream",
     "text": [
      "your a value is 15\n"
     ]
    }
   ],
   "source": [
    "a=12\n",
    "a+=3\n",
    "print(\"your a value is\",a) "
   ]
  },
  {
   "cell_type": "code",
   "execution_count": 13,
   "id": "6f842aed-d7a9-410e-a410-c64c4c753b26",
   "metadata": {},
   "outputs": [
    {
     "name": "stdout",
     "output_type": "stream",
     "text": [
      "False\n"
     ]
    }
   ],
   "source": [
    "a=6\n",
    "print(a>15 and a<25)\n",
    "\n"
   ]
  },
  {
   "cell_type": "code",
   "execution_count": 14,
   "id": "a988e7a7-d3d8-4250-8c1d-3c745f6e24f2",
   "metadata": {},
   "outputs": [
    {
     "name": "stdout",
     "output_type": "stream",
     "text": [
      "True\n"
     ]
    }
   ],
   "source": [
    "a=23\n",
    "print(a>15 and a<25)"
   ]
  },
  {
   "cell_type": "code",
   "execution_count": 15,
   "id": "a179a447-fb9f-4746-8013-3aef84e45dd7",
   "metadata": {},
   "outputs": [
    {
     "name": "stdout",
     "output_type": "stream",
     "text": [
      "True\n"
     ]
    }
   ],
   "source": [
    "a=12\n",
    "b=322\n",
    "print(not(a>b))"
   ]
  },
  {
   "cell_type": "code",
   "execution_count": 16,
   "id": "12c8a1a9-767f-4838-8ff3-a054de172153",
   "metadata": {},
   "outputs": [
    {
     "name": "stdout",
     "output_type": "stream",
     "text": [
      "True\n"
     ]
    }
   ],
   "source": [
    "a=12\n",
    "b=12\n",
    "print(a is b)"
   ]
  },
  {
   "cell_type": "code",
   "execution_count": 17,
   "id": "4ce73c71-68a5-4d30-954d-fd4233055f26",
   "metadata": {},
   "outputs": [
    {
     "name": "stdout",
     "output_type": "stream",
     "text": [
      "True\n"
     ]
    }
   ],
   "source": [
    "a=12\n",
    "a=3\n",
    "print(a is not b)"
   ]
  },
  {
   "cell_type": "code",
   "execution_count": 18,
   "id": "ab0dc7fe-5a3d-405b-a8bd-96aea2c53354",
   "metadata": {},
   "outputs": [
    {
     "name": "stdout",
     "output_type": "stream",
     "text": [
      "True\n",
      "False\n"
     ]
    }
   ],
   "source": [
    "a=\"my name is prince from bharatgarh\"\n",
    "print(\"prince\" in a)\n",
    "print(\"ram\" in a)"
   ]
  },
  {
   "cell_type": "raw",
   "id": "7efb1121-251b-4639-bbfa-99c5d014e57a",
   "metadata": {},
   "source": [
    "CONDITIONS\n"
   ]
  },
  {
   "cell_type": "code",
   "execution_count": 3,
   "id": "c623d1b4-2d69-4351-afd2-418384148f8b",
   "metadata": {},
   "outputs": [
    {
     "name": "stdin",
     "output_type": "stream",
     "text": [
      "enter your Ist value 2\n",
      "enter your iind value 1\n"
     ]
    },
    {
     "name": "stdout",
     "output_type": "stream",
     "text": [
      "a is greater than b\n"
     ]
    }
   ],
   "source": [
    "a=input(\"enter your Ist value\")\n",
    "b=input(\"enter your iind value\")\n",
    "if a>b:\n",
    "    print(\"a is greater than b\")\n",
    "else:\n",
    "    print(\"b is greater than a or may be both are equal\")\n",
    "    \n",
    "    "
   ]
  },
  {
   "cell_type": "markdown",
   "id": "9269076f-4223-4a2f-ba43-cf6f6a9ca11a",
   "metadata": {},
   "source": [
    "\n",
    "if\n",
    "if else\n",
    "elif\n",
    "nested if else"
   ]
  },
  {
   "cell_type": "code",
   "execution_count": 1,
   "id": "48b10760-c33e-4c3b-a496-8dad22848ef0",
   "metadata": {},
   "outputs": [
    {
     "name": "stdin",
     "output_type": "stream",
     "text": [
      "enter your Ist value 12>3\n",
      "enter your iind value 3\n"
     ]
    }
   ],
   "source": [
    "a=input(\"enter your Ist value\")\n",
    "b=input(\"enter your iind value\")\n",
    "\n",
    "print(a>b)\n",
    "if a>b:\n",
    "    print(\"a is greater than b\")\n"
   ]
  },
  {
   "cell_type": "code",
   "execution_count": 3,
   "id": "ad62d3f3-7623-42ef-90b0-c618f8a00a79",
   "metadata": {},
   "outputs": [
    {
     "name": "stdout",
     "output_type": "stream",
     "text": [
      "welcome\n"
     ]
    }
   ],
   "source": [
    "if 1:\n",
    "    print(\"welcome\")"
   ]
  },
  {
   "cell_type": "code",
   "execution_count": 5,
   "id": "fdd8a4f9-642f-4a78-8ee5-5439bfe11c0d",
   "metadata": {},
   "outputs": [],
   "source": [
    "if 0:\n",
    "    print(\"welcome\")"
   ]
  },
  {
   "cell_type": "code",
   "execution_count": 8,
   "id": "169b44bb-b4ee-435a-b61c-48bfa837b828",
   "metadata": {},
   "outputs": [
    {
     "name": "stdin",
     "output_type": "stream",
     "text": [
      "enter your a value 12\n",
      "enter your b value 55\n"
     ]
    },
    {
     "name": "stdout",
     "output_type": "stream",
     "text": [
      "b is greater than a or may be both are equal\n"
     ]
    }
   ],
   "source": [
    "a=input(\"enter your a value\")\n",
    "b=input(\"enter your b value\")\n",
    "if a>b:\n",
    "    print(\"a is greater than b\")\n",
    "else:\n",
    "    print(\"b is greater than a or may be both are equal\")"
   ]
  },
  {
   "cell_type": "code",
   "execution_count": 11,
   "id": "9c9e3695-24e1-4e2b-8e5d-2d5c39d3d2bd",
   "metadata": {},
   "outputs": [
    {
     "name": "stdin",
     "output_type": "stream",
     "text": [
      "enter your a value 85\n",
      "enter your b value 98\n"
     ]
    },
    {
     "name": "stdout",
     "output_type": "stream",
     "text": [
      "chandigarh\n"
     ]
    }
   ],
   "source": [
    "a=input(\"enter your a value\")\n",
    "b=input(\"enter your b value\")\n",
    "\n",
    "if a>b:\n",
    "    print(\"welcome\")\n",
    "elif b>a:\n",
    "    print(\"chandigarh\")\n",
    "\n",
    "elif a==b:\n",
    "    print(\"bye\")\n",
    "\n",
    "    "
   ]
  },
  {
   "cell_type": "code",
   "execution_count": 15,
   "id": "ef1122fd-fada-424f-8c0c-bcceb979098b",
   "metadata": {},
   "outputs": [
    {
     "name": "stdin",
     "output_type": "stream",
     "text": [
      "enter your a value 18\n"
     ]
    },
    {
     "name": "stdout",
     "output_type": "stream",
     "text": [
      "hello\n"
     ]
    }
   ],
   "source": [
    "a=int(input(\"enter your a value\"))\n",
    "\n",
    "if a>10 and a<20:\n",
    "      print(\"hello\")\n",
    "else:\n",
    "      print(\"tc\")\n"
   ]
  },
  {
   "cell_type": "code",
   "execution_count": 19,
   "id": "aa6a8b8a-47f7-4e02-9587-e682ee544613",
   "metadata": {},
   "outputs": [
    {
     "name": "stdin",
     "output_type": "stream",
     "text": [
      "enter your a value 44\n"
     ]
    },
    {
     "name": "stdout",
     "output_type": "stream",
     "text": [
      "hello\n"
     ]
    }
   ],
   "source": [
    "a=int(input(\"enter your a value\"))\n",
    "\n",
    "if a>10 or a<20:\n",
    "      print(\"hello\")\n",
    "else:\n",
    "      print(\"tc\")\n"
   ]
  },
  {
   "cell_type": "code",
   "execution_count": null,
   "id": "aa4af8db-459e-4408-9c3a-6543b1433369",
   "metadata": {},
   "outputs": [],
   "source": [
    "##### a=int(input(\"enter your a value\"))\n",
    "b=input(\"enter your b value\")\n",
    "\n",
    "if not (a>b):\n",
    "      print(\"hello\")\n",
    "else:\n",
    "      print(\"tc\")"
   ]
  },
  {
   "cell_type": "code",
   "execution_count": null,
   "id": "6e090e29-a935-4858-94de-e575598bf022",
   "metadata": {},
   "outputs": [],
   "source": [
    "a=int(input(\"enter number to check odd or even\"))\n",
    "\n",
    "if a>400 and a<500:\n",
    "      if a%2==0:\n",
    "            print(\"even\")\n",
    "      else:\n",
    "            print(\"odd\")\n",
    "        \n",
    "else:\n",
    "     print(\"please enter your value between 400 & 500\")\n",
    "        \n",
    "\n",
    "      "
   ]
  },
  {
   "cell_type": "code",
   "execution_count": 1,
   "id": "132326f8-f826-46f6-9a64-0bcbfe1b0616",
   "metadata": {},
   "outputs": [
    {
     "name": "stdin",
     "output_type": "stream",
     "text": [
      "enter any number to check odd or even 410\n"
     ]
    },
    {
     "name": "stdout",
     "output_type": "stream",
     "text": [
      "number is even\n"
     ]
    }
   ],
   "source": [
    "a=int(input(\"enter any number to check odd or even\"))\n",
    "\n",
    "if a>400 and a<500:\n",
    "    if a%2==0:\n",
    "        print(\"number is even\")\n",
    "    else:\n",
    "        print(\"number is odd\")\n",
    "else:\n",
    "    print(\"plz enter your value between 400 & 500\")"
   ]
  },
  {
   "cell_type": "code",
   "execution_count": null,
   "id": "eb849fbc-546a-4716-84b6-e471e7b53506",
   "metadata": {},
   "outputs": [],
   "source": []
  }
 ],
 "metadata": {
  "kernelspec": {
   "display_name": "Python 3 (ipykernel)",
   "language": "python",
   "name": "python3"
  },
  "language_info": {
   "codemirror_mode": {
    "name": "ipython",
    "version": 3
   },
   "file_extension": ".py",
   "mimetype": "text/x-python",
   "name": "python",
   "nbconvert_exporter": "python",
   "pygments_lexer": "ipython3",
   "version": "3.12.7"
  }
 },
 "nbformat": 4,
 "nbformat_minor": 5
}
