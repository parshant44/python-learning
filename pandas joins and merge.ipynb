{
 "cells": [
  {
   "cell_type": "code",
   "execution_count": 3,
   "id": "79085d2f-63d6-40d2-9f71-ce888327f425",
   "metadata": {},
   "outputs": [],
   "source": [
    "import pandas as pd"
   ]
  },
  {
   "cell_type": "code",
   "execution_count": 6,
   "id": "300fbb29-ac8b-46cd-b469-85381317baf4",
   "metadata": {},
   "outputs": [
    {
     "name": "stdout",
     "output_type": "stream",
     "text": [
      "   ID          name\n",
      "0   5    alicedavid\n",
      "1   7        bobeve\n",
      "2   9  charliefrank\n"
     ]
    }
   ],
   "source": [
    "df1=pd.DataFrame({\"ID\":[1,2,3],\"name\":[\"alice\",\"bob\",\"charlie\"]})\n",
    "df2=pd.DataFrame({\"ID\":[4,5,6],\"name\":[\"david\",\"eve\",\"frank\"]})\n",
    "print(df1 + df2)\n",
    "\n",
    "                  "
   ]
  },
  {
   "cell_type": "code",
   "execution_count": 12,
   "id": "f36c747b-eca4-4b58-9741-7b4a1f9461d4",
   "metadata": {},
   "outputs": [
    {
     "name": "stdout",
     "output_type": "stream",
     "text": [
      "   ID     name\n",
      "0   1    alice\n",
      "1   2      bob\n",
      "2   3  charlie\n",
      "3   4    david\n",
      "4   5      eve\n",
      "5   6    frank\n"
     ]
    }
   ],
   "source": [
    "concat_df=pd.concat([df1,df2],ignore_index=True)\n",
    "print(concat_df)                                      # FALSE DOES NOT GIVE INDEX IN SEQUENCE"
   ]
  },
  {
   "cell_type": "code",
   "execution_count": 14,
   "id": "d7046664-4294-4471-ad50-a32596a51b7b",
   "metadata": {},
   "outputs": [
    {
     "name": "stdout",
     "output_type": "stream",
     "text": [
      "   ID     name  age\n",
      "0   1    alice   25\n",
      "1   2      bob   30\n",
      "2   3  charlie   35\n"
     ]
    }
   ],
   "source": [
    "df3=pd.DataFrame({\"age\":[25,30,35]})\n",
    "concat_cols=pd.concat([df1, df3], axis=1)\n",
    "print(concat_cols)"
   ]
  },
  {
   "cell_type": "code",
   "execution_count": 25,
   "id": "cf15e0c4-3d74-4a5d-be94-a686a3b25803",
   "metadata": {},
   "outputs": [
    {
     "name": "stdout",
     "output_type": "stream",
     "text": [
      "   ID     name\n",
      "0   1    alice\n",
      "1   2      bob\n",
      "2   3  charlie    ID  score\n",
      "0   4     90\n",
      "1   5     85\n",
      "2   6     80\n"
     ]
    }
   ],
   "source": [
    "v=pd.DataFrame({\"ID\":[1,2,3],\"name\":[\"alice\",\"bob\",\"charlie\"]})\n",
    "c=pd.DataFrame({\"ID\":[4,5,6],\"score\":[90,85,80]})\n",
    "print(v,c)"
   ]
  },
  {
   "cell_type": "code",
   "execution_count": 21,
   "id": "9117dbe3-3ceb-4d0c-a205-72b10b15eef7",
   "metadata": {},
   "outputs": [
    {
     "name": "stdout",
     "output_type": "stream",
     "text": [
      "   ID name_x name_y\n",
      "0   4    NaN  david\n",
      "1   5    NaN    eve\n",
      "2   6    NaN  frank\n"
     ]
    }
   ],
   "source": [
    "# MERGE\n",
    "inner_df=pd.merge(df1,df2, on=\"ID\", how=\"right\")\n",
    "print(inner_df)"
   ]
  },
  {
   "cell_type": "code",
   "execution_count": 22,
   "id": "5f9876c8-3692-420b-a3d2-1f15461ce042",
   "metadata": {},
   "outputs": [
    {
     "name": "stdout",
     "output_type": "stream",
     "text": [
      "   ID   name_x name_y\n",
      "0   1    alice    NaN\n",
      "1   2      bob    NaN\n",
      "2   3  charlie    NaN\n"
     ]
    }
   ],
   "source": [
    "inner_df=pd.merge(df1,df2, on=\"ID\", how=\"left\")\n",
    "print(inner_df)"
   ]
  },
  {
   "cell_type": "code",
   "execution_count": 23,
   "id": "f98680f4-6a9e-48c7-9f49-a00bac445e4c",
   "metadata": {},
   "outputs": [
    {
     "name": "stdout",
     "output_type": "stream",
     "text": [
      "   ID   name_x name_y\n",
      "0   1    alice    NaN\n",
      "1   2      bob    NaN\n",
      "2   3  charlie    NaN\n",
      "3   4      NaN  david\n",
      "4   5      NaN    eve\n",
      "5   6      NaN  frank\n"
     ]
    }
   ],
   "source": [
    "inner_df=pd.merge(df1,df2, on=\"ID\", how=\"outer\")\n",
    "print(inner_df)"
   ]
  },
  {
   "cell_type": "code",
   "execution_count": 24,
   "id": "7ea2dd7e-8580-4eaf-acc6-23ba01bd1846",
   "metadata": {},
   "outputs": [
    {
     "name": "stdout",
     "output_type": "stream",
     "text": [
      "Empty DataFrame\n",
      "Columns: [ID, name_x, name_y]\n",
      "Index: []\n"
     ]
    }
   ],
   "source": [
    "inner_df=pd.merge(df1,df2, on=\"ID\", how=\"inner\")\n",
    "print(inner_df)"
   ]
  },
  {
   "cell_type": "code",
   "execution_count": 38,
   "id": "fbe34c39-8971-4d70-bdca-6b4cf3f653d1",
   "metadata": {},
   "outputs": [
    {
     "name": "stdout",
     "output_type": "stream",
     "text": [
      "   ID dept     name\n",
      "0   1   hr    alice\n",
      "1   2   it      bob\n",
      "2   3   hr  charlie    ID dept  salary\n",
      "0   1   hr   50000\n",
      "1   2   it   60000\n",
      "2   3   hr   55000\n"
     ]
    }
   ],
   "source": [
    "h=pd.DataFrame({\"ID\":[1,2,3], \"dept\":[\"hr\", \"it\", \"hr\"],\"name\":[\"alice\",\"bob\",\"charlie\"]})\n",
    "y=pd.DataFrame({\"ID\":[1,2,3], \"dept\":[\"hr\", \"it\", \"hr\"],\"salary\":[50000,60000,55000]})\n",
    "print(h,y)\n"
   ]
  },
  {
   "cell_type": "code",
   "execution_count": 39,
   "id": "ea93cfbc-1410-46ff-a765-40b71d7e8259",
   "metadata": {},
   "outputs": [
    {
     "name": "stdout",
     "output_type": "stream",
     "text": [
      "   ID dept     name  salary\n",
      "0   1   hr    alice   50000\n",
      "1   2   it      bob   60000\n",
      "2   3   hr  charlie   55000\n"
     ]
    }
   ],
   "source": [
    "multi_merge=pd.merge(h,y, on=[\"ID\", \"dept\"], how=\"inner\")\n",
    "print(multi_merge)\n"
   ]
  },
  {
   "cell_type": "code",
   "execution_count": null,
   "id": "a935deab-5670-4726-be64-e02fdd834298",
   "metadata": {},
   "outputs": [],
   "source": []
  }
 ],
 "metadata": {
  "kernelspec": {
   "display_name": "Python 3 (ipykernel)",
   "language": "python",
   "name": "python3"
  },
  "language_info": {
   "codemirror_mode": {
    "name": "ipython",
    "version": 3
   },
   "file_extension": ".py",
   "mimetype": "text/x-python",
   "name": "python",
   "nbconvert_exporter": "python",
   "pygments_lexer": "ipython3",
   "version": "3.13.5"
  }
 },
 "nbformat": 4,
 "nbformat_minor": 5
}
