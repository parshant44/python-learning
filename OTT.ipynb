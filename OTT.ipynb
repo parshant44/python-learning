{
 "cells": [
  {
   "cell_type": "code",
   "execution_count": 1,
   "id": "37eec030-998d-4970-bd07-de19392afbb4",
   "metadata": {},
   "outputs": [
    {
     "name": "stdout",
     "output_type": "stream",
     "text": [
      "High Ground\n",
      "6.5\n",
      "2020\n"
     ]
    },
    {
     "ename": "NameError",
     "evalue": "name 'obj' is not defined",
     "output_type": "error",
     "traceback": [
      "\u001b[1;31m---------------------------------------------------------------------------\u001b[0m",
      "\u001b[1;31mNameError\u001b[0m                                 Traceback (most recent call last)",
      "Cell \u001b[1;32mIn[1], line 27\u001b[0m\n\u001b[0;32m     21\u001b[0m \u001b[38;5;28mprint\u001b[39m(result[i][\u001b[38;5;124m'\u001b[39m\u001b[38;5;124mreleased\u001b[39m\u001b[38;5;124m'\u001b[39m])\n\u001b[0;32m     22\u001b[0m \u001b[38;5;66;03m#title = result['results'][i]['title']\u001b[39;00m\n\u001b[0;32m     23\u001b[0m \u001b[38;5;66;03m#rating = result['results'][i]['imdbrating']\u001b[39;00m\n\u001b[0;32m     24\u001b[0m \n\u001b[0;32m     25\u001b[0m \n\u001b[0;32m     26\u001b[0m \u001b[38;5;66;03m#release = result['results'][i]['release']\u001b[39;00m\n\u001b[1;32m---> 27\u001b[0m \u001b[38;5;28mprint\u001b[39m(obj)\n",
      "\u001b[1;31mNameError\u001b[0m: name 'obj' is not defined"
     ]
    }
   ],
   "source": [
    "import requests\n",
    "\n",
    "url = \"https://ott-details.p.rapidapi.com/advancedsearch\"\n",
    "\n",
    "querystring = {\"start_year\":\"1970\",\"end_year\":\"2020\",\"min_imdb\":\"6\",\"max_imdb\":\"7.8\",\"genre\":\"action\",\"language\":\"english\",\"type\":\"movie\",\"sort\":\"latest\",\"page\":\"1\"}\n",
    "\n",
    "headers = {\n",
    "\t\"x-rapidapi-key\": \"4789ba070bmshc1612d6bb2fa65dp1a298cjsn56c33621fc0e\",\n",
    "\t\"x-rapidapi-host\": \"ott-details.p.rapidapi.com\"\n",
    "}\n",
    "\n",
    "response = requests.get(url, headers=headers, params=querystring)\n",
    "\n",
    "result = response.json()\n",
    "result = result['results']\n",
    "\n",
    "length = len(result)\n",
    "for i in range(1,length):\n",
    "    print(result[i]['title'])\n",
    "    print(result[i]['imdbrating'])\n",
    "    print(result[i]['released'])\n",
    "    #title = result['results'][i]['title']\n",
    "    #rating = result['results'][i]['imdbrating']\n",
    "\n",
    "\n",
    "    #release = result['results'][i]['release']\n",
    "    print(obj)"
   ]
  },
  {
   "cell_type": "code",
   "execution_count": null,
   "id": "2ba7021e-c87b-47b3-a80e-88b45f72d198",
   "metadata": {},
   "outputs": [],
   "source": []
  }
 ],
 "metadata": {
  "kernelspec": {
   "display_name": "Python 3 (ipykernel)",
   "language": "python",
   "name": "python3"
  },
  "language_info": {
   "codemirror_mode": {
    "name": "ipython",
    "version": 3
   },
   "file_extension": ".py",
   "mimetype": "text/x-python",
   "name": "python",
   "nbconvert_exporter": "python",
   "pygments_lexer": "ipython3",
   "version": "3.12.7"
  }
 },
 "nbformat": 4,
 "nbformat_minor": 5
}
