{
 "cells": [
  {
   "cell_type": "code",
   "execution_count": 1,
   "id": "025ae298-6366-4525-9185-116aeb4f22da",
   "metadata": {},
   "outputs": [
    {
     "name": "stdout",
     "output_type": "stream",
     "text": [
      "Hello Parshant\n"
     ]
    }
   ],
   "source": [
    "print(\"Hello Parshant\")"
   ]
  },
  {
   "cell_type": "code",
   "execution_count": 3,
   "id": "0046efc9-90fe-4d29-bac2-6cec0f88ccc1",
   "metadata": {},
   "outputs": [
    {
     "name": "stdout",
     "output_type": "stream",
     "text": [
      "my name is parshant\n",
      "my age is 23\n"
     ]
    }
   ],
   "source": [
    "print(\"my name is parshant\")\n",
    "print(\"my age is 23\")"
   ]
  },
  {
   "cell_type": "code",
   "execution_count": 4,
   "id": "4eb9131c-3eb2-4785-b330-41576577d815",
   "metadata": {},
   "outputs": [
    {
     "name": "stdout",
     "output_type": "stream",
     "text": [
      "46\n"
     ]
    }
   ],
   "source": [
    "print(46)"
   ]
  },
  {
   "cell_type": "code",
   "execution_count": 5,
   "id": "fbf463bd-7e28-40e4-a604-379262e93380",
   "metadata": {},
   "outputs": [
    {
     "name": "stdout",
     "output_type": "stream",
     "text": [
      "150\n"
     ]
    }
   ],
   "source": [
    "print(100+50)"
   ]
  },
  {
   "cell_type": "markdown",
   "id": "e499211d-d50d-4fbc-8b64-1370b78512c2",
   "metadata": {},
   "source": [
    "# VARIABLE - is a name given to a memory location to a program., in this we store our values\n",
    "\n",
    "# name = parshant .        name is variable here."
   ]
  },
  {
   "cell_type": "code",
   "execution_count": 9,
   "id": "3e3acce5-f400-4413-bcd8-4f1c5c9fb383",
   "metadata": {},
   "outputs": [
    {
     "name": "stdout",
     "output_type": "stream",
     "text": [
      "parshant\n",
      "23\n",
      "<class 'str'>\n",
      "<class 'int'>\n"
     ]
    }
   ],
   "source": [
    "name=\"parshant\"\n",
    "age=23\n",
    "print(name)\n",
    "print(age)\n",
    "\n",
    "print(type(name))\n",
    "print(type(age))"
   ]
  },
  {
   "cell_type": "markdown",
   "id": "029c8ee5-7d5d-4675-a3ea-7fa8ecdcef4d",
   "metadata": {},
   "source": [
    "# DATA TYPES"
   ]
  },
  {
   "cell_type": "markdown",
   "id": "a1d41fa1-9c28-4e53-94d0-b7b4fe5d6765",
   "metadata": {},
   "source": [
    "# string\n",
    "# integers\n",
    "# float\n",
    "# boolean\n",
    "# none"
   ]
  },
  {
   "cell_type": "code",
   "execution_count": 13,
   "id": "e0950722-48f3-49d8-adaf-339edd7f167e",
   "metadata": {},
   "outputs": [
    {
     "name": "stdout",
     "output_type": "stream",
     "text": [
      "30\n"
     ]
    }
   ],
   "source": [
    "a=10\n",
    "b=20\n",
    "c=a+b\n",
    "print(c)"
   ]
  },
  {
   "cell_type": "markdown",
   "id": "f2460860-d878-46c5-9ecc-64061f100a58",
   "metadata": {},
   "source": [
    "#  string input"
   ]
  },
  {
   "cell_type": "code",
   "execution_count": 16,
   "id": "5ab554ad-4418-47e7-b57e-2e8116dd61c2",
   "metadata": {},
   "outputs": [
    {
     "name": "stdin",
     "output_type": "stream",
     "text": [
      "name :  Parshant\n"
     ]
    }
   ],
   "source": [
    "name=input(\"name : \")"
   ]
  },
  {
   "cell_type": "code",
   "execution_count": 17,
   "id": "1fb50472-e0ef-4b26-bbf3-b08900e76fd1",
   "metadata": {},
   "outputs": [
    {
     "name": "stdout",
     "output_type": "stream",
     "text": [
      "Parshant\n"
     ]
    }
   ],
   "source": [
    "print(name)"
   ]
  },
  {
   "cell_type": "markdown",
   "id": "9a98b7c4-bc97-4989-8a1e-b559cd5dfe47",
   "metadata": {},
   "source": [
    "# int input"
   ]
  },
  {
   "cell_type": "code",
   "execution_count": 18,
   "id": "e9a70b16-fea4-4556-bb6b-5316b6dbd18a",
   "metadata": {},
   "outputs": [
    {
     "name": "stdin",
     "output_type": "stream",
     "text": [
      "age :  23\n"
     ]
    }
   ],
   "source": [
    "age=int(input(\"age : \"))"
   ]
  },
  {
   "cell_type": "code",
   "execution_count": 19,
   "id": "69f77836-e20f-412c-9cca-ed5977e2719e",
   "metadata": {},
   "outputs": [
    {
     "name": "stdout",
     "output_type": "stream",
     "text": [
      "23\n"
     ]
    }
   ],
   "source": [
    "print(age)"
   ]
  },
  {
   "cell_type": "markdown",
   "id": "795082d8-b530-4a88-89df-568d5ec694ce",
   "metadata": {},
   "source": [
    "# float input"
   ]
  },
  {
   "cell_type": "code",
   "execution_count": 22,
   "id": "65a14942-5f34-401d-95e5-433f673589c6",
   "metadata": {},
   "outputs": [
    {
     "name": "stdin",
     "output_type": "stream",
     "text": [
      "price :  54.5\n"
     ]
    }
   ],
   "source": [
    "price=float(input(\"price : \"))"
   ]
  },
  {
   "cell_type": "code",
   "execution_count": 28,
   "id": "bc6dca8a-b19e-4442-84c5-774873271f5d",
   "metadata": {},
   "outputs": [
    {
     "name": "stdout",
     "output_type": "stream",
     "text": [
      "54.5\n"
     ]
    }
   ],
   "source": [
    "print(price)"
   ]
  },
  {
   "cell_type": "code",
   "execution_count": 30,
   "id": "829f6a61-93ee-48b9-94c3-0c727720fc74",
   "metadata": {},
   "outputs": [
    {
     "name": "stdout",
     "output_type": "stream",
     "text": [
      "my name is  Parshant and i am 23 yearsb old\n"
     ]
    }
   ],
   "source": [
    "print(\"my name is \",name, \"and i am\", age, \"yearsb old\")"
   ]
  },
  {
   "cell_type": "markdown",
   "id": "cebbd5e7-3b2b-4199-98f7-ce20186c480e",
   "metadata": {},
   "source": [
    "#  CONDITIONAL STATEMENTS"
   ]
  },
  {
   "cell_type": "markdown",
   "id": "b0e7408d-67bd-44b6-8919-5d0ba539ae22",
   "metadata": {},
   "source": [
    "# if-elif-else"
   ]
  },
  {
   "cell_type": "code",
   "execution_count": 14,
   "id": "06b13f8d-51ff-447e-a638-1079159dd8d2",
   "metadata": {},
   "outputs": [
    {
     "name": "stdout",
     "output_type": "stream",
     "text": [
      "under age\n"
     ]
    }
   ],
   "source": [
    "age=17\n",
    "if (age > 18):\n",
    "    print(\"vote\")\n",
    "elif (age < 18):\n",
    "    print(\"under age\")"
   ]
  },
  {
   "cell_type": "code",
   "execution_count": 25,
   "id": "d07ca9d2-e5d5-4a85-a064-4c5b8bf50586",
   "metadata": {},
   "outputs": [
    {
     "name": "stdin",
     "output_type": "stream",
     "text": [
      "light :  green\n"
     ]
    },
    {
     "name": "stdout",
     "output_type": "stream",
     "text": [
      "go\n"
     ]
    }
   ],
   "source": [
    "light = input(\"light : \")\n",
    "if (light == \"red\"):\n",
    "    print(\"stop\")\n",
    "elif(light == \"yellow\"):\n",
    "    print(\"look\")\n",
    "elif(light == \"green\"):\n",
    "    print(\"go\")\n",
    "else:\n",
    "    print(\"take care\")\n",
    "    \n",
    "    "
   ]
  },
  {
   "cell_type": "code",
   "execution_count": 10,
   "id": "e4d9f7cc-3d20-4c47-9b8b-e49f876e368b",
   "metadata": {},
   "outputs": [
    {
     "name": "stdin",
     "output_type": "stream",
     "text": [
      "marks :  85\n"
     ]
    },
    {
     "name": "stdout",
     "output_type": "stream",
     "text": [
      "B\n"
     ]
    }
   ],
   "source": [
    "marks = int(input(\"marks : \"))\n",
    "if (marks >= 90):\n",
    "    print(\"A\")\n",
    "elif (marks >= 80 and marks < 90):\n",
    "    print(\"B\")\n",
    "elif (marks >= 70 and marks < 80):\n",
    "    print(\"c\")\n",
    "else:\n",
    "    print(\"D\")"
   ]
  },
  {
   "cell_type": "markdown",
   "id": "a127d968-cfab-4604-8f1c-64c626093552",
   "metadata": {},
   "source": [
    "# ARITHMATIC OPERATIONS"
   ]
  },
  {
   "cell_type": "code",
   "execution_count": 16,
   "id": "1328c21d-c8f1-4bb2-afa3-521e2b2d517c",
   "metadata": {},
   "outputs": [
    {
     "name": "stdout",
     "output_type": "stream",
     "text": [
      "605\n",
      "435\n",
      "44200\n",
      "6.117647058823529\n",
      "10\n"
     ]
    }
   ],
   "source": [
    "a=520\n",
    "b=85\n",
    "print(a+b)\n",
    "print(a-b)\n",
    "print(a*b)\n",
    "print(a/b)\n",
    "print(a%b)    # remainder\n",
    "print(a^^b)\n"
   ]
  },
  {
   "cell_type": "code",
   "execution_count": null,
   "id": "56d8e2a9-0e66-43c0-92de-3e5e64d216c9",
   "metadata": {},
   "outputs": [],
   "source": []
  }
 ],
 "metadata": {
  "kernelspec": {
   "display_name": "Python 3 (ipykernel)",
   "language": "python",
   "name": "python3"
  },
  "language_info": {
   "codemirror_mode": {
    "name": "ipython",
    "version": 3
   },
   "file_extension": ".py",
   "mimetype": "text/x-python",
   "name": "python",
   "nbconvert_exporter": "python",
   "pygments_lexer": "ipython3",
   "version": "3.13.5"
  }
 },
 "nbformat": 4,
 "nbformat_minor": 5
}
