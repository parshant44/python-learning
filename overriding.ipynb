{
 "cells": [
  {
   "cell_type": "code",
   "execution_count": 1,
   "id": "539f6601-2c98-4f7c-889e-9304bfb759b8",
   "metadata": {},
   "outputs": [],
   "source": [
    "class a:\n",
    "    def h(self):\n",
    "        print(\"H Function\")\n",
    "\n",
    "class  b(a):\n",
    "    def s(self):\n",
    "        print(\"S Function\")"
   ]
  },
  {
   "cell_type": "code",
   "execution_count": 4,
   "id": "fa4b584c-af88-4dfa-b9b7-71e300f95d22",
   "metadata": {},
   "outputs": [
    {
     "name": "stdout",
     "output_type": "stream",
     "text": [
      "hello function of class a\n",
      "hello function of class b\n"
     ]
    }
   ],
   "source": [
    "# function overriding- same name in same class and derived class.\n",
    "\n",
    "class a:\n",
    "    def hello(self):\n",
    "        print(\"hello function of class a\")\n",
    "\n",
    "class b(a):\n",
    "    def hello(self):\n",
    "        super().hello()\n",
    "        print(\"hello function of class b\")\n",
    "        \n",
    "\n",
    "obj=b()\n",
    "obj.hello()\n"
   ]
  },
  {
   "cell_type": "code",
   "execution_count": null,
   "id": "76ce54ba-daa0-4424-9621-bdd678aef524",
   "metadata": {},
   "outputs": [],
   "source": []
  }
 ],
 "metadata": {
  "kernelspec": {
   "display_name": "Python 3 (ipykernel)",
   "language": "python",
   "name": "python3"
  },
  "language_info": {
   "codemirror_mode": {
    "name": "ipython",
    "version": 3
   },
   "file_extension": ".py",
   "mimetype": "text/x-python",
   "name": "python",
   "nbconvert_exporter": "python",
   "pygments_lexer": "ipython3",
   "version": "3.12.7"
  }
 },
 "nbformat": 4,
 "nbformat_minor": 5
}
