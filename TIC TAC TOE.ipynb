{
 "cells": [
  {
   "cell_type": "markdown",
   "id": "dccdc1d8-b618-4707-a317-75e5fa0ed810",
   "metadata": {},
   "source": [
    "# DISPLAY"
   ]
  },
  {
   "cell_type": "code",
   "execution_count": 20,
   "id": "c087495e-7544-4201-8ada-4187599cf91a",
   "metadata": {},
   "outputs": [],
   "source": [
    "li=[\" \"]*10"
   ]
  },
  {
   "cell_type": "code",
   "execution_count": 21,
   "id": "da1bef61-5e0f-4224-9dd7-e8bd8cea4c95",
   "metadata": {},
   "outputs": [
    {
     "data": {
      "text/plain": [
       "[' ', ' ', ' ', ' ', ' ', ' ', ' ', ' ', ' ', ' ']"
      ]
     },
     "execution_count": 21,
     "metadata": {},
     "output_type": "execute_result"
    }
   ],
   "source": [
    "li"
   ]
  },
  {
   "cell_type": "code",
   "execution_count": 22,
   "id": "405e5a89-c1ac-4d04-b3ac-d23dbd807460",
   "metadata": {},
   "outputs": [],
   "source": [
    "li[5]=\"x\""
   ]
  },
  {
   "cell_type": "code",
   "execution_count": 28,
   "id": "2e95695b-e6d1-447d-afe0-8fbe7af95d0f",
   "metadata": {},
   "outputs": [],
   "source": [
    "def display():\n",
    "    print(li[7], \" | \", li[8], \" | \" ,li[9])\n",
    "    print(\"-\"*14)\n",
    "    print(li[4], \" | \", li[5], \" | \" ,li[6])\n",
    "    print(\"-\"*14)\n",
    "    print(li[1], \" | \", li[2], \" | \" ,li[4])"
   ]
  },
  {
   "cell_type": "code",
   "execution_count": 23,
   "id": "39d97302-5b98-48b0-af4f-9ebe1afd7029",
   "metadata": {},
   "outputs": [],
   "source": [
    "display()"
   ]
  },
  {
   "cell_type": "code",
   "execution_count": 24,
   "id": "2d7abf92-1b98-4471-834a-681804acccd4",
   "metadata": {},
   "outputs": [],
   "source": [
    "li[7]=\"o\""
   ]
  },
  {
   "cell_type": "code",
   "execution_count": 25,
   "id": "f620a027-c6c8-4dad-bdf5-02b26c484c14",
   "metadata": {},
   "outputs": [],
   "source": [
    "def put_marker(position, marker):\n",
    "    li[position] = marker"
   ]
  },
  {
   "cell_type": "code",
   "execution_count": 26,
   "id": "4e4f6f41-2851-4b5a-bfb1-d1c61c618441",
   "metadata": {},
   "outputs": [],
   "source": [
    "put_marker(3,\"x\")"
   ]
  },
  {
   "cell_type": "code",
   "execution_count": 27,
   "id": "cb4b7f7e-4bfd-4e7d-8bcf-5cf31ef4adfe",
   "metadata": {},
   "outputs": [],
   "source": [
    "display()"
   ]
  },
  {
   "cell_type": "code",
   "execution_count": 28,
   "id": "2a7c1bcf-efe6-48f4-80e3-f3bd1582e3f1",
   "metadata": {},
   "outputs": [],
   "source": [
    "def check_position_empty(position):\n",
    "    if li[position] == \" \":\n",
    "        return True\n",
    "    else:\n",
    "        return False"
   ]
  },
  {
   "cell_type": "code",
   "execution_count": 29,
   "id": "f6decf14-0143-48cb-a034-331144a64de9",
   "metadata": {},
   "outputs": [
    {
     "data": {
      "text/plain": [
       "False"
      ]
     },
     "execution_count": 29,
     "metadata": {},
     "output_type": "execute_result"
    }
   ],
   "source": [
    "check_position_empty(3)"
   ]
  },
  {
   "cell_type": "code",
   "execution_count": 14,
   "id": "f7a45e8b-7835-4e88-8626-89cd364d8a69",
   "metadata": {},
   "outputs": [],
   "source": [
    "position = True"
   ]
  },
  {
   "cell_type": "code",
   "execution_count": 15,
   "id": "37837af9-d3f9-4312-8252-dc3fd6b400b6",
   "metadata": {},
   "outputs": [],
   "source": [
    "def take_position():\n",
    "    position = None\n",
    "    available = empty_positions()\n",
    "    while not position:\n",
    "        try:\n",
    "            position = int(input(f\"please provide a number among {available}\"))\n",
    "        except ValueError:\n",
    "            print(f\"please provide a number among {available}\")\n",
    "        else:\n",
    "            if position in empty_positions():\n",
    "                return position\n",
    "            else:\n",
    "                print(f\"please provide a number among {available}\")\n",
    "                position = None\n",
    "        "
   ]
  },
  {
   "cell_type": "code",
   "execution_count": null,
   "id": "fefe4638-6bcb-422a-87c8-c0b2a9f4c2cd",
   "metadata": {},
   "outputs": [
    {
     "name": "stdin",
     "output_type": "stream",
     "text": [
      "please provide a number among [1] 45\n"
     ]
    },
    {
     "name": "stdout",
     "output_type": "stream",
     "text": [
      "please provide a number among [1]\n"
     ]
    },
    {
     "name": "stdin",
     "output_type": "stream",
     "text": [
      "please provide a number among [1] 12331\n"
     ]
    },
    {
     "name": "stdout",
     "output_type": "stream",
     "text": [
      "please provide a number among [1]\n"
     ]
    }
   ],
   "source": [
    "take_position()"
   ]
  },
  {
   "cell_type": "code",
   "execution_count": 17,
   "id": "1a1566db-b5c6-48d5-a8ca-5cb4806202d7",
   "metadata": {},
   "outputs": [],
   "source": [
    "def empty_positions():\n",
    "    ans = []\n",
    "    for i in range(1, len(li)):\n",
    "        if li[i] == \" \":\n",
    "            ans.append(i)\n",
    "        return ans"
   ]
  },
  {
   "cell_type": "code",
   "execution_count": null,
   "id": "5cd17e62-b24f-4d5d-9bc9-b7d7a0ffcf49",
   "metadata": {},
   "outputs": [],
   "source": [
    "empty_positions()"
   ]
  },
  {
   "cell_type": "code",
   "execution_count": null,
   "id": "024ad423-ddee-4122-8300-d34895ed7f5e",
   "metadata": {},
   "outputs": [],
   "source": []
  }
 ],
 "metadata": {
  "kernelspec": {
   "display_name": "Python 3 (ipykernel)",
   "language": "python",
   "name": "python3"
  },
  "language_info": {
   "codemirror_mode": {
    "name": "ipython",
    "version": 3
   },
   "file_extension": ".py",
   "mimetype": "text/x-python",
   "name": "python",
   "nbconvert_exporter": "python",
   "pygments_lexer": "ipython3",
   "version": "3.13.5"
  }
 },
 "nbformat": 4,
 "nbformat_minor": 5
}
