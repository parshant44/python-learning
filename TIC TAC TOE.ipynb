{
 "cells": [
  {
   "cell_type": "markdown",
   "id": "dccdc1d8-b618-4707-a317-75e5fa0ed810",
   "metadata": {},
   "source": [
    "# DISPLAY"
   ]
  },
  {
   "cell_type": "code",
   "execution_count": 38,
   "id": "50b4a1e6-a8ea-43de-a0ef-890f7fd28c7a",
   "metadata": {},
   "outputs": [],
   "source": [
    "from IPython.display import clear_output"
   ]
  },
  {
   "cell_type": "code",
   "execution_count": 22,
   "id": "c087495e-7544-4201-8ada-4187599cf91a",
   "metadata": {},
   "outputs": [],
   "source": [
    "li=[\" \"]*10"
   ]
  },
  {
   "cell_type": "code",
   "execution_count": 23,
   "id": "da1bef61-5e0f-4224-9dd7-e8bd8cea4c95",
   "metadata": {},
   "outputs": [
    {
     "data": {
      "text/plain": [
       "[' ', ' ', ' ', ' ', ' ', ' ', ' ', ' ', ' ', ' ']"
      ]
     },
     "execution_count": 23,
     "metadata": {},
     "output_type": "execute_result"
    }
   ],
   "source": [
    "li"
   ]
  },
  {
   "cell_type": "code",
   "execution_count": 24,
   "id": "405e5a89-c1ac-4d04-b3ac-d23dbd807460",
   "metadata": {},
   "outputs": [],
   "source": [
    "li[5]=\"x\""
   ]
  },
  {
   "cell_type": "code",
   "execution_count": 25,
   "id": "2e95695b-e6d1-447d-afe0-8fbe7af95d0f",
   "metadata": {},
   "outputs": [],
   "source": [
    "def display():\n",
    "    print(li[7], \" | \", li[8], \" | \" ,li[9])\n",
    "    print(\"-\"*14)\n",
    "    print(li[4], \" | \", li[5], \" | \" ,li[6])\n",
    "    print(\"-\"*14)\n",
    "    print(li[1], \" | \", li[2], \" | \" ,li[4])"
   ]
  },
  {
   "cell_type": "code",
   "execution_count": 26,
   "id": "c3e83946-0181-49c4-80b8-2ea80ec7b6cf",
   "metadata": {},
   "outputs": [],
   "source": [
    "def empty_positions():\n",
    "    ans = []\n",
    "    for i in range(1, len(li)):\n",
    "        if li[i] == \" \":\n",
    "            ans.append(i)\n",
    "    return ans"
   ]
  },
  {
   "cell_type": "code",
   "execution_count": 27,
   "id": "b455140b-f8dd-4db7-a9af-2ac6c197c42a",
   "metadata": {},
   "outputs": [],
   "source": [
    "def take_position():\n",
    "    position = None\n",
    "    available = empty_positions()\n",
    "    while position is None:\n",
    "        try:\n",
    "            position = int(input(f'please chose among {available}'))\n",
    "        except ValueError:\n",
    "            print(f\"please provide a number among {available}\")\n",
    "        else:\n",
    "            if position in available:\n",
    "                return position\n",
    "            else:\n",
    "                print(f\"please provide a number among {available}\")\n",
    "                position = None"
   ]
  },
  {
   "cell_type": "code",
   "execution_count": 28,
   "id": "f8fc5fe0-ce17-4427-af16-5597b71f8e85",
   "metadata": {},
   "outputs": [],
   "source": [
    "def put_marker(position, marker):\n",
    "    li[position] = marker"
   ]
  },
  {
   "cell_type": "code",
   "execution_count": 29,
   "id": "72893d5e-1bda-4d25-a6c2-1171dcbcee6c",
   "metadata": {},
   "outputs": [
    {
     "data": {
      "text/plain": [
       "[1, 2, 3, 4, 6, 7, 8, 9]"
      ]
     },
     "execution_count": 29,
     "metadata": {},
     "output_type": "execute_result"
    }
   ],
   "source": [
    "empty_positions()"
   ]
  },
  {
   "cell_type": "code",
   "execution_count": 30,
   "id": "6648cbae-093a-4fee-831d-d63cc13d337a",
   "metadata": {},
   "outputs": [],
   "source": [
    "li[6]  = \"O\""
   ]
  },
  {
   "cell_type": "code",
   "execution_count": 31,
   "id": "cb4b7f7e-4bfd-4e7d-8bcf-5cf31ef4adfe",
   "metadata": {},
   "outputs": [
    {
     "name": "stdout",
     "output_type": "stream",
     "text": [
      "   |     |   \n",
      "--------------\n",
      "   |  x  |  O\n",
      "--------------\n",
      "   |     |   \n"
     ]
    }
   ],
   "source": [
    "display()"
   ]
  },
  {
   "cell_type": "code",
   "execution_count": 34,
   "id": "f7a45e8b-7835-4e88-8626-89cd364d8a69",
   "metadata": {},
   "outputs": [
    {
     "data": {
      "text/plain": [
       "False"
      ]
     },
     "execution_count": 34,
     "metadata": {},
     "output_type": "execute_result"
    }
   ],
   "source": [
    "check_win()"
   ]
  },
  {
   "cell_type": "code",
   "execution_count": 33,
   "id": "371e31cb-c796-4917-b6c7-40bc2d46c2c2",
   "metadata": {},
   "outputs": [],
   "source": [
    "def check_win():\n",
    "    # horizontal\n",
    "    if (li[7]==li[8]==li[9]!=\" \") or \\\n",
    "    (li[4]==li[5]==li[6]!=\" \") or \\\n",
    "    (li[1]==li[2]==li[3]!=\" \") or \\\n",
    "    (li[7]==li[4]==li[1]!=\" \") or \\\n",
    "    (li[8]==li[5]==li[2]!=\" \") or \\\n",
    "    (li[9]==li[6]==li[3]!=\" \") or \\\n",
    "    (li[7]==li[5]==li[3]!=\" \") or \\\n",
    "    (li[1]==li[5]==li[9]!=\" \"):\n",
    "        return True\n",
    "    else:\n",
    "        return False"
   ]
  },
  {
   "cell_type": "code",
   "execution_count": 35,
   "id": "d645bdf1-493a-4d2a-9469-9e7bb870e47d",
   "metadata": {},
   "outputs": [],
   "source": [
    "def board_full():\n",
    "    if len(empty_positions())==0:\n",
    "        return True\n",
    "    else:\n",
    "        return False"
   ]
  },
  {
   "cell_type": "code",
   "execution_count": 36,
   "id": "5cd17e62-b24f-4d5d-9bc9-b7d7a0ffcf49",
   "metadata": {},
   "outputs": [],
   "source": [
    "def change_marker(marker):\n",
    "    if marker == \"O\":\n",
    "        return \"X\"\n",
    "    else:\n",
    "        return \"O\""
   ]
  },
  {
   "cell_type": "code",
   "execution_count": 39,
   "id": "024ad423-ddee-4122-8300-d34895ed7f5e",
   "metadata": {},
   "outputs": [
    {
     "name": "stdout",
     "output_type": "stream",
     "text": [
      "   |     |   \n",
      "--------------\n",
      "   |     |   \n",
      "--------------\n",
      "   |     |   \n"
     ]
    },
    {
     "name": "stdin",
     "output_type": "stream",
     "text": [
      "please chose among [1, 2, 3, 4, 5, 6, 7, 8, 9] 1\n"
     ]
    },
    {
     "name": "stdout",
     "output_type": "stream",
     "text": [
      "   |     |   \n",
      "--------------\n",
      "   |     |   \n",
      "--------------\n",
      "O  |     |   \n",
      "   |     |   \n",
      "--------------\n",
      "   |     |   \n",
      "--------------\n",
      "O  |     |   \n"
     ]
    },
    {
     "name": "stdin",
     "output_type": "stream",
     "text": [
      "please chose among [2, 3, 4, 5, 6, 7, 8, 9] 5\n"
     ]
    },
    {
     "name": "stdout",
     "output_type": "stream",
     "text": [
      "   |     |   \n",
      "--------------\n",
      "   |  X  |   \n",
      "--------------\n",
      "O  |     |   \n",
      "   |     |   \n",
      "--------------\n",
      "   |  X  |   \n",
      "--------------\n",
      "O  |     |   \n"
     ]
    },
    {
     "name": "stdin",
     "output_type": "stream",
     "text": [
      "please chose among [2, 3, 4, 6, 7, 8, 9] 7\n"
     ]
    },
    {
     "name": "stdout",
     "output_type": "stream",
     "text": [
      "O  |     |   \n",
      "--------------\n",
      "   |  X  |   \n",
      "--------------\n",
      "O  |     |   \n",
      "O  |     |   \n",
      "--------------\n",
      "   |  X  |   \n",
      "--------------\n",
      "O  |     |   \n"
     ]
    },
    {
     "name": "stdin",
     "output_type": "stream",
     "text": [
      "please chose among [2, 3, 4, 6, 8, 9] 2\n"
     ]
    },
    {
     "name": "stdout",
     "output_type": "stream",
     "text": [
      "O  |     |   \n",
      "--------------\n",
      "   |  X  |   \n",
      "--------------\n",
      "O  |  X  |   \n",
      "O  |     |   \n",
      "--------------\n",
      "   |  X  |   \n",
      "--------------\n",
      "O  |  X  |   \n"
     ]
    },
    {
     "name": "stdin",
     "output_type": "stream",
     "text": [
      "please chose among [3, 4, 6, 8, 9] 3\n"
     ]
    },
    {
     "name": "stdout",
     "output_type": "stream",
     "text": [
      "O  |     |   \n",
      "--------------\n",
      "   |  X  |   \n",
      "--------------\n",
      "O  |  X  |   \n",
      "O  |     |   \n",
      "--------------\n",
      "   |  X  |   \n",
      "--------------\n",
      "O  |  X  |   \n"
     ]
    },
    {
     "name": "stdin",
     "output_type": "stream",
     "text": [
      "please chose among [4, 6, 8, 9] 4\n"
     ]
    },
    {
     "name": "stdout",
     "output_type": "stream",
     "text": [
      "O  |     |   \n",
      "--------------\n",
      "X  |  X  |   \n",
      "--------------\n",
      "O  |  X  |  X\n",
      "O  |     |   \n",
      "--------------\n",
      "X  |  X  |   \n",
      "--------------\n",
      "O  |  X  |  X\n"
     ]
    },
    {
     "name": "stdin",
     "output_type": "stream",
     "text": [
      "please chose among [6, 8, 9] 5\n"
     ]
    },
    {
     "name": "stdout",
     "output_type": "stream",
     "text": [
      "please provide a number among [6, 8, 9]\n"
     ]
    },
    {
     "name": "stdin",
     "output_type": "stream",
     "text": [
      "please chose among [6, 8, 9] 8\n"
     ]
    },
    {
     "name": "stdout",
     "output_type": "stream",
     "text": [
      "O  |  O  |   \n",
      "--------------\n",
      "X  |  X  |   \n",
      "--------------\n",
      "O  |  X  |  X\n",
      "O  |  O  |   \n",
      "--------------\n",
      "X  |  X  |   \n",
      "--------------\n",
      "O  |  X  |  X\n"
     ]
    },
    {
     "name": "stdin",
     "output_type": "stream",
     "text": [
      "please chose among [6, 9] 6\n"
     ]
    },
    {
     "name": "stdout",
     "output_type": "stream",
     "text": [
      "O  |  O  |   \n",
      "--------------\n",
      "X  |  X  |  X\n",
      "--------------\n",
      "O  |  X  |  X\n",
      "congo X won the game\n"
     ]
    }
   ],
   "source": [
    "li = [\" \"]*10\n",
    "game = True\n",
    "marker = \"O\"\n",
    "while game:\n",
    "    display()\n",
    "    position = take_position()\n",
    "    put_marker(position, marker)1\n",
    "    display()\n",
    "    if check_win():\n",
    "        print(f\"congo {marker} won the game\")\n",
    "        game = False\n",
    "        break\n",
    "    elif board_full():\n",
    "        print(f'board full, game draw, do you want to play again')\n",
    "        game = False\n",
    "        break\n",
    "    else:\n",
    "        marker = change_marker(marker)"
   ]
  },
  {
   "cell_type": "code",
   "execution_count": null,
   "id": "fde9be6e-70bc-4238-ac8f-9b9cab3152c6",
   "metadata": {},
   "outputs": [],
   "source": []
  }
 ],
 "metadata": {
  "kernelspec": {
   "display_name": "Python 3 (ipykernel)",
   "language": "python",
   "name": "python3"
  },
  "language_info": {
   "codemirror_mode": {
    "name": "ipython",
    "version": 3
   },
   "file_extension": ".py",
   "mimetype": "text/x-python",
   "name": "python",
   "nbconvert_exporter": "python",
   "pygments_lexer": "ipython3",
   "version": "3.13.5"
  }
 },
 "nbformat": 4,
 "nbformat_minor": 5
}
