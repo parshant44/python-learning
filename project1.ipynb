{
 "cells": [
  {
   "cell_type": "code",
   "execution_count": 4,
   "id": "64a96929-3f07-414f-b936-ad8ffbd92a20",
   "metadata": {},
   "outputs": [
    {
     "name": "stdin",
     "output_type": "stream",
     "text": [
      "enter a question how tall is the burj khalifa\n"
     ]
    },
    {
     "name": "stdout",
     "output_type": "stream",
     "text": [
      "{'result': 'The Burj Khalifa in Dubai, United Arab Emirates, stands at a height of 828 meters (2,717 feet), making it the tallest building in the world. It has 163 floors above ground and an additional 2 basement levels.', 'status': True, 'server_code': 'dg'}\n"
     ]
    }
   ],
   "source": [
    "import requests\n",
    "\n",
    "url = \"https://chatgpt-42.p.rapidapi.com/chatgpt\"\n",
    "w=input('enter a question')\n",
    "payload = {\n",
    "\t\"messages\": [\n",
    "\t\t{\n",
    "\t\t\t\"role\": \"user\",\n",
    "\t\t\t\"content\": w\n",
    "\t\t}\n",
    "\t],\n",
    "\t\"web_access\": False\n",
    "}\n",
    "headers = {\n",
    "\t\"x-rapidapi-key\": \"4789ba070bmshc1612d6bb2fa65dp1a298cjsn56c33621fc0e\",\n",
    "\t\"x-rapidapi-host\": \"chatgpt-42.p.rapidapi.com\",\n",
    "\t\"Content-Type\": \"application/json\"\n",
    "}\n",
    "\n",
    "response = requests.post(url, json=payload, headers=headers)\n",
    "\n",
    "print(response.json())"
   ]
  },
  {
   "cell_type": "code",
   "execution_count": null,
   "id": "35c0d3df-4e35-42d9-816d-2d492d6a2c25",
   "metadata": {},
   "outputs": [],
   "source": []
  },
  {
   "cell_type": "code",
   "execution_count": null,
   "id": "7403c70e-944a-4a37-9b52-ca605b61aa39",
   "metadata": {},
   "outputs": [],
   "source": []
  }
 ],
 "metadata": {
  "kernelspec": {
   "display_name": "Python 3 (ipykernel)",
   "language": "python",
   "name": "python3"
  },
  "language_info": {
   "codemirror_mode": {
    "name": "ipython",
    "version": 3
   },
   "file_extension": ".py",
   "mimetype": "text/x-python",
   "name": "python",
   "nbconvert_exporter": "python",
   "pygments_lexer": "ipython3",
   "version": "3.12.7"
  }
 },
 "nbformat": 4,
 "nbformat_minor": 5
}
