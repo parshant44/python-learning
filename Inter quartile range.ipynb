{
 "cells": [
  {
   "cell_type": "markdown",
   "id": "3bd83094-8cc1-48dd-a776-6fccee763d23",
   "metadata": {},
   "source": [
    "#  IQR - used to detect outliers."
   ]
  },
  {
   "cell_type": "markdown",
   "id": "805987ab-465f-423b-b659-84faf10152f8",
   "metadata": {},
   "source": [
    "# INTER QUARTILE RANGE= (Q3-Q1)  USED TO FIND OUTLIERS"
   ]
  },
  {
   "cell_type": "markdown",
   "id": "61acc69e-faa9-4488-89e3-918b7c5905fe",
   "metadata": {},
   "source": [
    "# Q1=25%\n",
    "# Q3=75%\n",
    "# LB=Q1-1.5*IQR\n",
    "# UB=Q3+1.5*IQR"
   ]
  },
  {
   "cell_type": "markdown",
   "id": "b62480d5-325c-4985-af46-af8b5afc4213",
   "metadata": {},
   "source": [
    "# IQR > UB\n",
    "# IQR < LB"
   ]
  },
  {
   "cell_type": "code",
   "execution_count": 6,
   "id": "457e8a33-d56e-47c2-91e2-0d475e5316a6",
   "metadata": {},
   "outputs": [],
   "source": [
    "import pandas as pd\n",
    "import numpy as np\n",
    "\n"
   ]
  },
  {
   "cell_type": "code",
   "execution_count": 23,
   "id": "27214cc3-8cc1-4543-9179-78531f83d10d",
   "metadata": {},
   "outputs": [
    {
     "name": "stdout",
     "output_type": "stream",
     "text": [
      "[10, 12, 13, 14, 15, 16, 17, 18, 19, 40]\n"
     ]
    }
   ],
   "source": [
    "data=[10, 12, 13, 14, 15, 16, 17, 18, 19, 40]\n",
    "print(data)"
   ]
  },
  {
   "cell_type": "code",
   "execution_count": 24,
   "id": "44793a5e-d1b4-4a8b-a561-8ae128fda8ff",
   "metadata": {},
   "outputs": [
    {
     "name": "stdout",
     "output_type": "stream",
     "text": [
      "[10 12 13 14 15 16 17 18 19 40]\n"
     ]
    }
   ],
   "source": [
    " data = np.array([10, 12, 13, 14, 15, 16, 17, 18, 19, 40])\n",
    "print(data)"
   ]
  },
  {
   "cell_type": "code",
   "execution_count": 26,
   "id": "a5bf4214-97d4-4bef-a7d7-e71e3548130f",
   "metadata": {},
   "outputs": [
    {
     "data": {
      "text/plain": [
       "np.float64(13.25)"
      ]
     },
     "execution_count": 26,
     "metadata": {},
     "output_type": "execute_result"
    }
   ],
   "source": [
    "Q1=np.percentile(data, 25)\n",
    "Q1"
   ]
  },
  {
   "cell_type": "code",
   "execution_count": 27,
   "id": "a30dd98f-f2ce-4145-acbf-98290e233f66",
   "metadata": {},
   "outputs": [
    {
     "data": {
      "text/plain": [
       "np.float64(17.75)"
      ]
     },
     "execution_count": 27,
     "metadata": {},
     "output_type": "execute_result"
    }
   ],
   "source": [
    "Q3=np.percentile(data, 75)\n",
    "Q3"
   ]
  },
  {
   "cell_type": "code",
   "execution_count": 28,
   "id": "9945ad7e-c065-4f4b-9a56-3950b451345c",
   "metadata": {},
   "outputs": [
    {
     "data": {
      "text/plain": [
       "np.float64(4.5)"
      ]
     },
     "execution_count": 28,
     "metadata": {},
     "output_type": "execute_result"
    }
   ],
   "source": [
    "IQR = Q3- Q1\n",
    "IQR"
   ]
  },
  {
   "cell_type": "code",
   "execution_count": 30,
   "id": "d508afa6-869a-49cd-9b2c-5dcbdf29776e",
   "metadata": {},
   "outputs": [
    {
     "data": {
      "text/plain": [
       "np.float64(6.5)"
      ]
     },
     "execution_count": 30,
     "metadata": {},
     "output_type": "execute_result"
    }
   ],
   "source": [
    " lower_bound = Q1- 1.5 * IQR\n",
    "lower_bound"
   ]
  },
  {
   "cell_type": "code",
   "execution_count": 31,
   "id": "92920fb8-96aa-4a3a-af89-75ce31515b64",
   "metadata": {},
   "outputs": [
    {
     "data": {
      "text/plain": [
       "np.float64(24.5)"
      ]
     },
     "execution_count": 31,
     "metadata": {},
     "output_type": "execute_result"
    }
   ],
   "source": [
    "upper_bound = Q3 + 1.5 * IQR\n",
    "upper_bound"
   ]
  },
  {
   "cell_type": "code",
   "execution_count": 32,
   "id": "2b3bf54e-6f2f-4ab4-8f62-cd3f46485aea",
   "metadata": {},
   "outputs": [
    {
     "data": {
      "text/plain": [
       "array([False, False, False, False, False, False, False, False, False,\n",
       "        True])"
      ]
     },
     "execution_count": 32,
     "metadata": {},
     "output_type": "execute_result"
    }
   ],
   "source": [
    "outlier_mask = (data < lower_bound) | (data > upper_bound)\n",
    "outlier_mask"
   ]
  },
  {
   "cell_type": "code",
   "execution_count": 34,
   "id": "cdf2e8a4-7929-416e-b5dd-e1d6bc3fe595",
   "metadata": {},
   "outputs": [
    {
     "data": {
      "text/plain": [
       "array([40])"
      ]
     },
     "execution_count": 34,
     "metadata": {},
     "output_type": "execute_result"
    }
   ],
   "source": [
    "outliers = data[outlier_mask]\n",
    "outliers"
   ]
  },
  {
   "cell_type": "code",
   "execution_count": 35,
   "id": "8d58c00e-2b80-4182-8613-af36379ada91",
   "metadata": {},
   "outputs": [
    {
     "data": {
      "text/plain": [
       "array([10, 12, 13, 14, 15, 16, 17, 18, 19])"
      ]
     },
     "execution_count": 35,
     "metadata": {},
     "output_type": "execute_result"
    }
   ],
   "source": [
    "data_no_outliers = data[~outlier_mask]\n",
    "data_no_outliers"
   ]
  },
  {
   "cell_type": "markdown",
   "id": "8a027874-838a-4746-98b9-92127b950f43",
   "metadata": {},
   "source": [
    "# HOMEWORK"
   ]
  },
  {
   "cell_type": "code",
   "execution_count": 20,
   "id": "962236ef-bbfb-4201-8142-1ee08f1b2e22",
   "metadata": {},
   "outputs": [],
   "source": [
    "#[2, 5, 6, 7, 8, 9, 10, 11, 12, 13, 14, 15, 16, 17, 18, 19, 20, 21, 22, 23, 24, 25, 26, 27, 28, -10, -5, 50, 55, 60]\n",
    "\n",
    "#detect the outliers from the above data"
   ]
  },
  {
   "cell_type": "code",
   "execution_count": 8,
   "id": "57fefbe1-5382-4a55-9eb2-e836af768250",
   "metadata": {},
   "outputs": [
    {
     "data": {
      "text/plain": [
       "[np.int64(-10),\n",
       " np.int64(-5),\n",
       " np.int64(2),\n",
       " np.int64(5),\n",
       " np.int64(6),\n",
       " np.int64(7),\n",
       " np.int64(8),\n",
       " np.int64(9),\n",
       " np.int64(10),\n",
       " np.int64(11),\n",
       " np.int64(12),\n",
       " np.int64(13),\n",
       " np.int64(14),\n",
       " np.int64(15),\n",
       " np.int64(16),\n",
       " np.int64(17),\n",
       " np.int64(18),\n",
       " np.int64(19),\n",
       " np.int64(20),\n",
       " np.int64(21),\n",
       " np.int64(22),\n",
       " np.int64(23),\n",
       " np.int64(24),\n",
       " np.int64(25),\n",
       " np.int64(26),\n",
       " np.int64(27),\n",
       " np.int64(28),\n",
       " np.int64(50),\n",
       " np.int64(55),\n",
       " np.int64(60)]"
      ]
     },
     "execution_count": 8,
     "metadata": {},
     "output_type": "execute_result"
    }
   ],
   "source": [
    "data=np.array([2, 5, 6, 7, 8, 9, 10, 11, 12, 13, 14, 15, 16, 17, 18, 19, 20, 21, 22, 23, 24, 25, 26, 27, 28, -10, -5, 50, 55, 60])\n",
    "sorted(data)"
   ]
  },
  {
   "cell_type": "code",
   "execution_count": 10,
   "id": "ddf6b702-c5e4-4384-bd42-bcfd05212f07",
   "metadata": {},
   "outputs": [
    {
     "data": {
      "text/plain": [
       "np.float64(9.25)"
      ]
     },
     "execution_count": 10,
     "metadata": {},
     "output_type": "execute_result"
    }
   ],
   "source": [
    "Q1 = np.percentile(data, 25)\n",
    "Q1"
   ]
  },
  {
   "cell_type": "code",
   "execution_count": 11,
   "id": "a23730e5-eb4a-41f7-b650-fce114e0ecc4",
   "metadata": {},
   "outputs": [
    {
     "data": {
      "text/plain": [
       "np.float64(23.75)"
      ]
     },
     "execution_count": 11,
     "metadata": {},
     "output_type": "execute_result"
    }
   ],
   "source": [
    "Q3=np.percentile(data,75)\n",
    "Q3"
   ]
  },
  {
   "cell_type": "code",
   "execution_count": 13,
   "id": "22435ba5-9909-4292-b7c3-c56d71dbadbc",
   "metadata": {},
   "outputs": [
    {
     "data": {
      "text/plain": [
       "np.float64(14.5)"
      ]
     },
     "execution_count": 13,
     "metadata": {},
     "output_type": "execute_result"
    }
   ],
   "source": [
    "IQR=Q3-Q1\n",
    "IQR"
   ]
  },
  {
   "cell_type": "code",
   "execution_count": 14,
   "id": "7a4a543a-200f-4282-b3a0-7c3dbe0a53c5",
   "metadata": {},
   "outputs": [
    {
     "data": {
      "text/plain": [
       "np.float64(-12.5)"
      ]
     },
     "execution_count": 14,
     "metadata": {},
     "output_type": "execute_result"
    }
   ],
   "source": [
    " lower_bound = Q1- 1.5 * IQR\n",
    " lower_bound"
   ]
  },
  {
   "cell_type": "code",
   "execution_count": 15,
   "id": "d3e0635b-3c08-4e38-bd36-51c0c15e9be9",
   "metadata": {},
   "outputs": [
    {
     "data": {
      "text/plain": [
       "np.float64(45.5)"
      ]
     },
     "execution_count": 15,
     "metadata": {},
     "output_type": "execute_result"
    }
   ],
   "source": [
    "upper_bound = Q3+ 1.5 * IQR\n",
    "upper_bound"
   ]
  },
  {
   "cell_type": "code",
   "execution_count": 17,
   "id": "9b746d71-d7b7-4549-bcf0-de15eb537771",
   "metadata": {},
   "outputs": [
    {
     "data": {
      "text/plain": [
       "array([False, False, False, False, False, False, False, False, False,\n",
       "       False, False, False, False, False, False, False, False, False,\n",
       "       False, False, False, False, False, False, False, False, False,\n",
       "        True,  True,  True])"
      ]
     },
     "execution_count": 17,
     "metadata": {},
     "output_type": "execute_result"
    }
   ],
   "source": [
    " outlier_mask = (data < lower_bound) | (data > upper_bound)\n",
    " outlier_mask"
   ]
  },
  {
   "cell_type": "code",
   "execution_count": 19,
   "id": "2d841b11-8492-4468-aae6-bbb869828881",
   "metadata": {},
   "outputs": [
    {
     "data": {
      "text/plain": [
       "array([50, 55, 60])"
      ]
     },
     "execution_count": 19,
     "metadata": {},
     "output_type": "execute_result"
    }
   ],
   "source": [
    " outliers = data[outlier_mask]\n",
    " outliers"
   ]
  },
  {
   "cell_type": "code",
   "execution_count": null,
   "id": "3d2ebc19-891e-444d-bdf5-507468459ebd",
   "metadata": {},
   "outputs": [],
   "source": []
  }
 ],
 "metadata": {
  "kernelspec": {
   "display_name": "Python 3 (ipykernel)",
   "language": "python",
   "name": "python3"
  },
  "language_info": {
   "codemirror_mode": {
    "name": "ipython",
    "version": 3
   },
   "file_extension": ".py",
   "mimetype": "text/x-python",
   "name": "python",
   "nbconvert_exporter": "python",
   "pygments_lexer": "ipython3",
   "version": "3.13.5"
  }
 },
 "nbformat": 4,
 "nbformat_minor": 5
}
