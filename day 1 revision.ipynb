{
 "cells": [
  {
   "cell_type": "code",
   "execution_count": 1,
   "id": "8933eda0-6a9d-4078-bac6-1483c02eea81",
   "metadata": {},
   "outputs": [
    {
     "name": "stdout",
     "output_type": "stream",
     "text": [
      "Hello Parshant\n"
     ]
    }
   ],
   "source": [
    "print(\"Hello Parshant\")"
   ]
  },
  {
   "cell_type": "code",
   "execution_count": 2,
   "id": "6463cc9b-cc2e-46fb-a7bd-693bfa4dfcc6",
   "metadata": {},
   "outputs": [
    {
     "name": "stdout",
     "output_type": "stream",
     "text": [
      "parshant\n",
      "prince\n"
     ]
    }
   ],
   "source": [
    "print(\"parshant\")\n",
    "print(\"prince\")"
   ]
  },
  {
   "cell_type": "code",
   "execution_count": 7,
   "id": "cc02837d-741e-4508-a427-5a21ada9bb26",
   "metadata": {},
   "outputs": [
    {
     "name": "stdout",
     "output_type": "stream",
     "text": [
      "parshant prince\n"
     ]
    }
   ],
   "source": [
    "print(\"parshant\",end=\" \")\n",
    "print(\"prince\")"
   ]
  },
  {
   "cell_type": "code",
   "execution_count": 4,
   "id": "881c75f3-7856-482f-8de2-097a58a5f2af",
   "metadata": {},
   "outputs": [
    {
     "name": "stdout",
     "output_type": "stream",
     "text": [
      "parshant\n",
      "\n",
      "\n",
      "\n",
      "\n",
      "prince\n"
     ]
    }
   ],
   "source": [
    "print(\"parshant\",end=\"\\n\\n\\n\\n\\n\")\n",
    "print(\"prince\")"
   ]
  },
  {
   "cell_type": "code",
   "execution_count": 8,
   "id": "89992d1d-6123-4cb7-bda2-94c46c7eff80",
   "metadata": {},
   "outputs": [
    {
     "name": "stdout",
     "output_type": "stream",
     "text": [
      "\n",
      "\n",
      "he\n",
      "ll\n",
      "o\n"
     ]
    }
   ],
   "source": [
    "print(\"\\n\\nhe\\nll\\no\")"
   ]
  },
  {
   "cell_type": "code",
   "execution_count": 9,
   "id": "277c8557-61a7-4dd6-b5b1-4214f3e01a78",
   "metadata": {},
   "outputs": [
    {
     "name": "stdout",
     "output_type": "stream",
     "text": [
      "\\n\n"
     ]
    }
   ],
   "source": [
    "print(r'\\n')"
   ]
  },
  {
   "cell_type": "code",
   "execution_count": 10,
   "id": "6b411402-cc0f-47ae-9ae9-b817211d46ef",
   "metadata": {},
   "outputs": [
    {
     "name": "stdout",
     "output_type": "stream",
     "text": [
      "parshant \"kumar\" \n"
     ]
    }
   ],
   "source": [
    "print('parshant \"kumar\" ')"
   ]
  },
  {
   "cell_type": "code",
   "execution_count": 14,
   "id": "82e7c848-3afa-4cc9-a67e-ff6819e41b12",
   "metadata": {},
   "outputs": [
    {
     "name": "stdout",
     "output_type": "stream",
     "text": [
      "parshant \"kumar\" \n"
     ]
    }
   ],
   "source": [
    "print('parshant \"kumar\" ' )"
   ]
  },
  {
   "cell_type": "raw",
   "id": "b383c431-5921-43b9-92c7-e8cb9f18e8c4",
   "metadata": {},
   "source": [
    "print('parshant \"kumar\" ')"
   ]
  },
  {
   "cell_type": "code",
   "execution_count": 15,
   "id": "fb17517d-f96a-45e9-b92d-d1300ee06009",
   "metadata": {},
   "outputs": [
    {
     "name": "stdout",
     "output_type": "stream",
     "text": [
      "12\n"
     ]
    }
   ],
   "source": [
    "print(12)"
   ]
  },
  {
   "cell_type": "raw",
   "id": "82132d55-f6da-45da-80d3-ce51c27dd929",
   "metadata": {},
   "source": [
    "print(12+2)"
   ]
  },
  {
   "cell_type": "code",
   "execution_count": 17,
   "id": "fb219bb0-b75c-4f49-afba-bc727e17a4ef",
   "metadata": {},
   "outputs": [
    {
     "name": "stdout",
     "output_type": "stream",
     "text": [
      "parshant kumar"
     ]
    }
   ],
   "source": [
    "print(\"parshant\",end=\" \"+\"kumar\")"
   ]
  },
  {
   "cell_type": "code",
   "execution_count": 18,
   "id": "4caa08b7-f326-431e-ba73-21790d10977a",
   "metadata": {},
   "outputs": [
    {
     "ename": "TypeError",
     "evalue": "unsupported operand type(s) for +: 'int' and 'str'",
     "output_type": "error",
     "traceback": [
      "\u001b[1;31m---------------------------------------------------------------------------\u001b[0m",
      "\u001b[1;31mTypeError\u001b[0m                                 Traceback (most recent call last)",
      "Cell \u001b[1;32mIn[18], line 1\u001b[0m\n\u001b[1;32m----> 1\u001b[0m \u001b[38;5;28mprint\u001b[39m(\u001b[38;5;241m32\u001b[39m\u001b[38;5;241m+\u001b[39m\u001b[38;5;124m\"\u001b[39m\u001b[38;5;124mparshant\u001b[39m\u001b[38;5;124m\"\u001b[39m)\n",
      "\u001b[1;31mTypeError\u001b[0m: unsupported operand type(s) for +: 'int' and 'str'"
     ]
    }
   ],
   "source": [
    "print(32+\"parshant\")"
   ]
  },
  {
   "cell_type": "code",
   "execution_count": 20,
   "id": "00123e98-951c-4dce-8eb8-103754fa8db5",
   "metadata": {},
   "outputs": [
    {
     "name": "stdout",
     "output_type": "stream",
     "text": [
      "parshant 12\n"
     ]
    }
   ],
   "source": [
    "print(\"parshant\",12)"
   ]
  },
  {
   "cell_type": "code",
   "execution_count": 21,
   "id": "a0099d53-ac73-4e88-ab84-0fbc6902cced",
   "metadata": {},
   "outputs": [
    {
     "name": "stdout",
     "output_type": "stream",
     "text": [
      "<class 'int'>\n"
     ]
    }
   ],
   "source": [
    "a=89\n",
    "print(type(a))"
   ]
  },
  {
   "cell_type": "code",
   "execution_count": 22,
   "id": "ef1187ef-9bc8-4d9e-9cb2-3e8d762103a0",
   "metadata": {},
   "outputs": [
    {
     "name": "stdout",
     "output_type": "stream",
     "text": [
      "<class 'float'>\n"
     ]
    }
   ],
   "source": [
    "a=12.6\n",
    "print(type(a))"
   ]
  },
  {
   "cell_type": "code",
   "execution_count": 24,
   "id": "a48151f4-4df7-43fb-8000-d75b88719e6c",
   "metadata": {},
   "outputs": [
    {
     "name": "stdout",
     "output_type": "stream",
     "text": [
      "<class 'bool'>\n"
     ]
    }
   ],
   "source": [
    "a=True\n",
    "print(type(a))"
   ]
  },
  {
   "cell_type": "raw",
   "id": "881ffe3a-cbe2-450b-bbb9-6f7b42057029",
   "metadata": {},
   "source": [
    "a-14=24\n",
    "print(a-14)"
   ]
  },
  {
   "cell_type": "code",
   "execution_count": 25,
   "id": "90dbaa20-b003-4526-b569-d36a82f6383e",
   "metadata": {},
   "outputs": [
    {
     "name": "stdout",
     "output_type": "stream",
     "text": [
      "12\n"
     ]
    }
   ],
   "source": [
    "a_12=12\n",
    "print(a_12)"
   ]
  },
  {
   "cell_type": "code",
   "execution_count": 27,
   "id": "1dad8151-b823-4561-bc6a-a6ab60830a69",
   "metadata": {},
   "outputs": [
    {
     "name": "stdout",
     "output_type": "stream",
     "text": [
      "hello\n",
      "hii\n"
     ]
    }
   ],
   "source": [
    "print(\"hello\")\n",
    "#print(\"how\")\n",
    "print(\"hii\")"
   ]
  },
  {
   "cell_type": "code",
   "execution_count": 28,
   "id": "49ed375e-affb-4e52-927b-a63851eb2345",
   "metadata": {},
   "outputs": [
    {
     "name": "stdout",
     "output_type": "stream",
     "text": [
      "hii\n"
     ]
    }
   ],
   "source": [
    "\"\"\"print(\"hello\")\n",
    "print(\"how\")\"\"\"\n",
    "print(\"hii\")"
   ]
  },
  {
   "cell_type": "code",
   "execution_count": 29,
   "id": "19dd4f27-a962-4d64-a2ec-298093ced0f0",
   "metadata": {},
   "outputs": [
    {
     "name": "stdout",
     "output_type": "stream",
     "text": [
      "14.4\n"
     ]
    }
   ],
   "source": [
    "a=14\n",
    "a=\"prince\"\n",
    "a=14.4\n",
    "print(a)"
   ]
  },
  {
   "cell_type": "code",
   "execution_count": 30,
   "id": "5df0f7f3-84d3-4306-b760-2bb30259d9fd",
   "metadata": {},
   "outputs": [
    {
     "name": "stdout",
     "output_type": "stream",
     "text": [
      "12\n",
      "14\n",
      "8\n"
     ]
    }
   ],
   "source": [
    "a,b,c=12,14,8\n",
    "print(a)\n",
    "print(b)\n",
    "print(c)"
   ]
  },
  {
   "cell_type": "code",
   "execution_count": 31,
   "id": "a3d3016a-5379-433c-9bb7-df7e62c8588c",
   "metadata": {},
   "outputs": [
    {
     "name": "stdout",
     "output_type": "stream",
     "text": [
      "12\n",
      "12\n",
      "12\n"
     ]
    }
   ],
   "source": [
    "a=b=c=12\n",
    "print(a)\n",
    "print(b)\n",
    "print(c)"
   ]
  },
  {
   "cell_type": "code",
   "execution_count": 33,
   "id": "664309b5-7842-49c2-8abd-181e37ec4965",
   "metadata": {},
   "outputs": [
    {
     "name": "stdout",
     "output_type": "stream",
     "text": [
      "your result is 124\n"
     ]
    }
   ],
   "source": [
    "a=\"12\"\n",
    "b=\"4\"\n",
    "c=a+b\n",
    "#print(type(c))\n",
    "print(\"your result is \"+c)"
   ]
  },
  {
   "cell_type": "code",
   "execution_count": 35,
   "id": "87694276-cac9-4c17-80d8-b013a182be50",
   "metadata": {},
   "outputs": [
    {
     "name": "stdout",
     "output_type": "stream",
     "text": [
      "my age 27 and my name parshant\n"
     ]
    }
   ],
   "source": [
    "age=27\n",
    "name=\"parshant\"\n",
    "message= \"my age {} and my name {}\"\n",
    "print(message.format(age,name))"
   ]
  },
  {
   "cell_type": "code",
   "execution_count": null,
   "id": "5743f2c1-1258-4a49-a428-2950712ef5d7",
   "metadata": {},
   "outputs": [],
   "source": [
    "a=input(\"enter your Ist value\")\n",
    "b=input(\"enter your iind value\")\n",
    "c=a+b\n",
    "print(\"sum is \",c)"
   ]
  },
  {
   "cell_type": "code",
   "execution_count": null,
   "id": "1ab0ca7f-791c-404b-9526-e1fc96f8f3b6",
   "metadata": {},
   "outputs": [],
   "source": [
    "a=int(input(\"enter your A value\"))\n",
    "b=int(input(\"enter your B value\"))\n",
    "print(\"before swapping your A value is\",a)\n",
    "print (\"before swapping your B value is\",b)\n",
    "a=a+b\n",
    "b=a-b\n",
    "a=a-b;\n",
    "print(\"after swapping your a value is\",a)\n",
    "print(\"after swapping your b value is\",b)\n"
   ]
  },
  {
   "cell_type": "code",
   "execution_count": null,
   "id": "8d87e2b2-867c-461c-aff5-9e4b9dc0bdc8",
   "metadata": {},
   "outputs": [],
   "source": [
    "w=\"my name is parshant kumar\"\n",
    "print(w[8:13])"
   ]
  },
  {
   "cell_type": "code",
   "execution_count": null,
   "id": "68f6ad77-cb39-4a3d-b1e7-f0dd3b904535",
   "metadata": {},
   "outputs": [],
   "source": []
  }
 ],
 "metadata": {
  "kernelspec": {
   "display_name": "Python 3 (ipykernel)",
   "language": "python",
   "name": "python3"
  },
  "language_info": {
   "codemirror_mode": {
    "name": "ipython",
    "version": 3
   },
   "file_extension": ".py",
   "mimetype": "text/x-python",
   "name": "python",
   "nbconvert_exporter": "python",
   "pygments_lexer": "ipython3",
   "version": "3.12.7"
  }
 },
 "nbformat": 4,
 "nbformat_minor": 5
}
