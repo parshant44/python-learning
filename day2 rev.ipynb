{
 "cells": [
  {
   "cell_type": "code",
   "execution_count": 1,
   "id": "7dbc97a3-b867-4fdf-bd95-0128a1bd440e",
   "metadata": {},
   "outputs": [
    {
     "name": "stdout",
     "output_type": "stream",
     "text": [
      "your a value is 16\n"
     ]
    }
   ],
   "source": [
    "a=14\n",
    "a=a+2\n",
    "print(\"your a value is\",a)"
   ]
  },
  {
   "cell_type": "code",
   "execution_count": 2,
   "id": "9abdf38a-8128-42d6-af94-476056fd40a0",
   "metadata": {},
   "outputs": [
    {
     "name": "stdout",
     "output_type": "stream",
     "text": [
      "False\n"
     ]
    }
   ],
   "source": [
    "print(4>5)"
   ]
  },
  {
   "cell_type": "code",
   "execution_count": 3,
   "id": "30f64b22-e6cd-4769-acf2-815b5c679f15",
   "metadata": {},
   "outputs": [
    {
     "name": "stdout",
     "output_type": "stream",
     "text": [
      "True\n"
     ]
    }
   ],
   "source": [
    "print(4>3)"
   ]
  },
  {
   "cell_type": "markdown",
   "id": "e06401d8-5b29-4062-98fe-05b5bc6efb77",
   "metadata": {},
   "source": [
    " a=int(input(\"enter your a value))\n",
    "b=int(input(\"ener your b value\"))\n",
    "\n",
    "if a>b:\n",
    "    print(\"a is greater than b\")\n",
    "    print(\"hello\")\n",
    "    print(\"by\")\n",
    "    \n",
    "\n",
    "\n"
   ]
  },
  {
   "cell_type": "code",
   "execution_count": 6,
   "id": "9bfc142e-1440-4eb3-8a45-1134a33b9b4a",
   "metadata": {},
   "outputs": [
    {
     "name": "stdin",
     "output_type": "stream",
     "text": [
      "enter your A value 12\n",
      "enter ypur b value 34\n"
     ]
    },
    {
     "name": "stdout",
     "output_type": "stream",
     "text": [
      "b is greater than a\n"
     ]
    }
   ],
   "source": [
    "# a=int(input(\"enter your A value\"))\n",
    "b=int(input(\"enter ypur b value\"))\n",
    "\n",
    "if a>b:\n",
    "    print(\"a is greater than b\")\n",
    "elif a==b:\n",
    "    print(\"both are equal\")\n",
    "else:\n",
    "    print(\"b is greater than a\")"
   ]
  },
  {
   "cell_type": "code",
   "execution_count": 10,
   "id": "34237ec3-6280-4df3-8c81-113c01acd1f5",
   "metadata": {},
   "outputs": [
    {
     "ename": "IndentationError",
     "evalue": "unexpected indent (3702454043.py, line 5)",
     "output_type": "error",
     "traceback": [
      "\u001b[1;36m  Cell \u001b[1;32mIn[10], line 5\u001b[1;36m\u001b[0m\n\u001b[1;33m    else:\u001b[0m\n\u001b[1;37m    ^\u001b[0m\n\u001b[1;31mIndentationError\u001b[0m\u001b[1;31m:\u001b[0m unexpected indent\n"
     ]
    }
   ],
   "source": [
    "a=int(inpuut(\"enter your a value\"))\n",
    "\n",
    "if a>10 and a<20:\n",
    "    print(\"you are between 10 & 20\")\n",
    "     else:\n",
    "         print(\"out of range\")"
   ]
  },
  {
   "cell_type": "code",
   "execution_count": null,
   "id": "3de1a004-5bb7-4f19-91e5-2b630d160e73",
   "metadata": {},
   "outputs": [],
   "source": []
  }
 ],
 "metadata": {
  "kernelspec": {
   "display_name": "Python 3 (ipykernel)",
   "language": "python",
   "name": "python3"
  },
  "language_info": {
   "codemirror_mode": {
    "name": "ipython",
    "version": 3
   },
   "file_extension": ".py",
   "mimetype": "text/x-python",
   "name": "python",
   "nbconvert_exporter": "python",
   "pygments_lexer": "ipython3",
   "version": "3.12.7"
  }
 },
 "nbformat": 4,
 "nbformat_minor": 5
}
