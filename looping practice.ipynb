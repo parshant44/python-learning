{
 "cells": [
  {
   "cell_type": "code",
   "execution_count": 3,
   "id": "54c3c840-8a88-4e2f-852f-1eec123c637a",
   "metadata": {},
   "outputs": [
    {
     "name": "stdout",
     "output_type": "stream",
     "text": [
      "1\n",
      "2\n",
      "3\n",
      "4\n",
      "5\n",
      "6\n",
      "7\n",
      "8\n",
      "9\n",
      "10\n"
     ]
    }
   ],
   "source": [
    "# -----PRINT NO. 1 to 10  -----------\n",
    "i=1\n",
    "while i<=10:\n",
    "    print(i)\n",
    "    i+=1"
   ]
  },
  {
   "cell_type": "code",
   "execution_count": 7,
   "id": "de748c22-ec3b-476f-ad4b-d3bc1aacc737",
   "metadata": {},
   "outputs": [
    {
     "name": "stdout",
     "output_type": "stream",
     "text": [
      "50\n",
      "52\n",
      "54\n",
      "56\n",
      "58\n",
      "60\n"
     ]
    }
   ],
   "source": [
    "#   -------PRINT NO. 50 to 60------  \n",
    "i=50\n",
    "while i<=60:                  #  STOPPING CONDITION\n",
    "    print(i)\n",
    "    i+=2"
   ]
  },
  {
   "cell_type": "code",
   "execution_count": 8,
   "id": "d1d90a46-d34c-4049-bb70-f14131dfb12d",
   "metadata": {},
   "outputs": [
    {
     "name": "stdout",
     "output_type": "stream",
     "text": [
      "10\n",
      "9\n",
      "8\n",
      "7\n",
      "6\n",
      "5\n",
      "4\n",
      "3\n"
     ]
    }
   ],
   "source": [
    "#  --------PRINT NO. 10 to 3\n",
    "i=10                               # STARTING CONDITION\n",
    "while i>=3:                                                 # ----STOPPING CONDITION-----\n",
    "    print(i)\n",
    "    i-=1"
   ]
  },
  {
   "cell_type": "code",
   "execution_count": 10,
   "id": "6ca97df4-8cc7-4a6c-9a24-659ae243ee4a",
   "metadata": {},
   "outputs": [
    {
     "name": "stdout",
     "output_type": "stream",
     "text": [
      "3\n",
      "6\n",
      "9\n",
      "12\n",
      "15\n",
      "18\n",
      "21\n",
      "24\n",
      "27\n",
      "30\n"
     ]
    }
   ],
   "source": [
    "#  -------PRINT THE TABLE OF 3----------\n",
    "\n",
    "i=1\n",
    "while i<=10:\n",
    "    print(3*i)\n",
    "    i+=1\n"
   ]
  },
  {
   "cell_type": "code",
   "execution_count": 17,
   "id": "6302400f-0b49-4dde-8e50-4fbba6d8afe1",
   "metadata": {},
   "outputs": [
    {
     "name": "stdout",
     "output_type": "stream",
     "text": [
      "10\n",
      "20\n",
      "30\n",
      "40\n",
      "50\n",
      "60\n",
      "70\n",
      "80\n",
      "90\n",
      "100\n"
     ]
    }
   ],
   "source": [
    "#  --------PRINT THE TABLE OF 10--------\n",
    "i=1            #  ---------- Starting   -------\n",
    "while i<=10:                    #   -----------     Ending  -------\n",
    "    print(10*i)\n",
    "    i+=1"
   ]
  },
  {
   "cell_type": "code",
   "execution_count": 18,
   "id": "f67b8bcc-9844-4381-916b-3c4a02f1f4c3",
   "metadata": {},
   "outputs": [
    {
     "name": "stdin",
     "output_type": "stream",
     "text": [
      "enter number :  20\n"
     ]
    },
    {
     "name": "stdout",
     "output_type": "stream",
     "text": [
      "20\n",
      "40\n",
      "60\n",
      "80\n",
      "100\n",
      "120\n",
      "140\n",
      "160\n",
      "180\n",
      "200\n"
     ]
    }
   ],
   "source": [
    "#   --------PRINT THE TABLE OF n ---------\n",
    "n=int(input(\"enter number : \"))\n",
    "i=1\n",
    "while i<=10:\n",
    "    print(n*i)\n",
    "    i+=1"
   ]
  },
  {
   "cell_type": "code",
   "execution_count": 9,
   "id": "7f884f41-8c8b-42d7-bc5a-3e6f274bb945",
   "metadata": {},
   "outputs": [
    {
     "data": {
      "text/plain": [
       "4"
      ]
     },
     "execution_count": 9,
     "metadata": {},
     "output_type": "execute_result"
    }
   ],
   "source": [
    "#  ----PRINT THE ELEMENT OF THE FOLLOOWING LIST USING A LOOP-----\n",
    "[1,4,9,16,25,36,49,64,81,100]\n",
    "nums =C\n",
    "heroes = [\"ironman\",\"superman\",\"batman\",\"spiderman\"]\n",
    "len(nums)\n",
    "len(heroes)"
   ]
  },
  {
   "cell_type": "code",
   "execution_count": 10,
   "id": "78b4a65f-6fba-4fa1-add1-2dc8fba5a89c",
   "metadata": {},
   "outputs": [
    {
     "name": "stdout",
     "output_type": "stream",
     "text": [
      "1\n",
      "4\n",
      "9\n",
      "16\n",
      "25\n",
      "36\n",
      "49\n",
      "64\n",
      "81\n",
      "100\n",
      "ironman\n",
      "superman\n",
      "batman\n",
      "spiderman\n"
     ]
    }
   ],
   "source": [
    "idx = 0\n",
    "while idx < len(nums):\n",
    "    print(nums[idx])             # nums[0], nums[1], nums[2]\n",
    "    idx += 1\n",
    "\n",
    "idx = 0\n",
    "while idx < len(heroes):\n",
    "    print(heroes[idx])\n",
    "    idx += 1"
   ]
  },
  {
   "cell_type": "code",
   "execution_count": 18,
   "id": "66d08f6d-ee14-4b41-bdae-4c5140000052",
   "metadata": {},
   "outputs": [
    {
     "name": "stdout",
     "output_type": "stream",
     "text": [
      "found at idx 5\n"
     ]
    }
   ],
   "source": [
    "#  -------SEARCH FOR A NUMBER X IN THIS TUPLE USING LOOP--------\n",
    "#         (9,16,25,36,49,64,81,100)\n",
    "nums = (9,16,25,36,49,64,81,100)\n",
    "x = 64\n",
    "\n",
    "i = 0\n",
    "while i < len(nums):\n",
    "    if(nums[i] == x):\n",
    "            print(\"found at idx\",i)\n",
    "    i += 1\n",
    "        \n",
    "   \n",
    "    \n",
    "  "
   ]
  },
  {
   "cell_type": "code",
   "execution_count": 1,
   "id": "eb803a3d-b986-4eaa-850b-1b3c4da4a1df",
   "metadata": {},
   "outputs": [
    {
     "name": "stdout",
     "output_type": "stream",
     "text": [
      "1\n",
      "2\n",
      "3\n",
      "end of loop\n"
     ]
    }
   ],
   "source": [
    "#  ----------BREAK--------\n",
    "i = 1\n",
    "while i <= 5:\n",
    "    print(i)\n",
    "    if (i == 3):\n",
    "        break\n",
    "    i += 1\n",
    "\n",
    "print(\"end of loop\")\n",
    "\n"
   ]
  },
  {
   "cell_type": "code",
   "execution_count": 4,
   "id": "8b39141f-96fe-48ff-bf37-787760db19f8",
   "metadata": {},
   "outputs": [
    {
     "name": "stdout",
     "output_type": "stream",
     "text": [
      "1\n",
      "3\n",
      "5\n",
      "7\n",
      "9\n",
      "end of loop\n"
     ]
    }
   ],
   "source": [
    "#  ----------CONTINUE----------\n",
    "\n",
    "munna=1\n",
    "while munna<=10:\n",
    "    print(munna)\n",
    "    if (munna==6):\n",
    "        continue\n",
    "    munna += 2\n",
    "\n",
    "print(\"end of loop\")"
   ]
  },
  {
   "cell_type": "code",
   "execution_count": 5,
   "id": "ab2ec5f7-da11-464a-9efc-9cf1f3da6ca0",
   "metadata": {},
   "outputs": [
    {
     "name": "stdout",
     "output_type": "stream",
     "text": [
      "3\n",
      "5\n",
      "7\n",
      "9\n",
      "11\n",
      "13\n",
      "end of loop\n"
     ]
    }
   ],
   "source": [
    "P=3\n",
    "while P<=14:\n",
    "    print(P)\n",
    "    if (P==8):\n",
    "        continue\n",
    "    P+=2\n",
    "\n",
    "print(\"end of loop\")"
   ]
  },
  {
   "cell_type": "code",
   "execution_count": 1,
   "id": "54ed1a18-3144-4721-aa1a-f2ef4dcaaca5",
   "metadata": {},
   "outputs": [
    {
     "name": "stdout",
     "output_type": "stream",
     "text": [
      "3\n",
      "4\n",
      "5\n",
      "6\n",
      "7\n",
      "8\n"
     ]
    }
   ],
   "source": [
    "P=3\n",
    "while P<=14:\n",
    "    print(P)\n",
    "    if (P==8):\n",
    "        break\n",
    "\n",
    "    P+=1\n",
    "    "
   ]
  },
  {
   "cell_type": "code",
   "execution_count": 4,
   "id": "99fd009d-c502-4cf4-b2e5-68f91afa897d",
   "metadata": {},
   "outputs": [
    {
     "name": "stdout",
     "output_type": "stream",
     "text": [
      "3\n",
      "5\n",
      "7\n",
      "9\n",
      "11\n",
      "13\n"
     ]
    }
   ],
   "source": [
    "#---------- TO PRINT ODD NUMBER ------------\n",
    "P=3\n",
    "while P<=14:\n",
    "    if (P%2 == 0):\n",
    "        P+=1\n",
    "        continue   #SKIP\n",
    "    print(P)\n",
    "    P+=1"
   ]
  },
  {
   "cell_type": "code",
   "execution_count": 3,
   "id": "66d0451a-c7e1-4a04-8153-5e93cf411b55",
   "metadata": {},
   "outputs": [
    {
     "name": "stdout",
     "output_type": "stream",
     "text": [
      "2\n",
      "4\n",
      "6\n",
      "8\n",
      "10\n",
      "12\n",
      "14\n"
     ]
    }
   ],
   "source": [
    "#  --------- TO PRINT EVEN NUMBERS ----------\n",
    "P=1\n",
    "while P<=14:\n",
    "    if (P%2 != 0):\n",
    "        P+=1\n",
    "        continue     #SKIP  \n",
    "    print(P)\n",
    "    P+=1"
   ]
  },
  {
   "cell_type": "code",
   "execution_count": null,
   "id": "fdea466a-1202-4877-9220-821e9b90322c",
   "metadata": {},
   "outputs": [],
   "source": []
  }
 ],
 "metadata": {
  "kernelspec": {
   "display_name": "Python 3 (ipykernel)",
   "language": "python",
   "name": "python3"
  },
  "language_info": {
   "codemirror_mode": {
    "name": "ipython",
    "version": 3
   },
   "file_extension": ".py",
   "mimetype": "text/x-python",
   "name": "python",
   "nbconvert_exporter": "python",
   "pygments_lexer": "ipython3",
   "version": "3.12.7"
  }
 },
 "nbformat": 4,
 "nbformat_minor": 5
}
